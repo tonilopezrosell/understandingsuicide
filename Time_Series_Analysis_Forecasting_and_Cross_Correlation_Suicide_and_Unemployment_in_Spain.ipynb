{
 "cells": [
  {
   "cell_type": "markdown",
   "metadata": {},
   "source": [
    "## REQUERIMENTS BEFORE EXECUTING THIS NOTEBOOK"
   ]
  },
  {
   "cell_type": "markdown",
   "metadata": {},
   "source": [
    "### Download the data first, if you don't...\n",
    "You must download the following repository: https://github.com/tonilopezrosell/understandingsuicide\n",
    "There you can find the Data, the notebooks and the README (with the instructions about the definition of the file structure that allows the correct functioning of the code and with the correct order of the execution of the notebooks)."
   ]
  },
  {
   "cell_type": "markdown",
   "metadata": {},
   "source": [
    "### With the data downloaded...\n",
    "You must execute 'Unemployment_Time_Series_Reading_and_Cleansing_Data' and 'Suicide_Time_Series_Reading_and_Cleansing_Data' (you can find both in the repository mentioned above) before running this one."
   ]
  },
  {
   "cell_type": "code",
   "execution_count": 3,
   "metadata": {},
   "outputs": [],
   "source": [
    "#If you want to run this code without 'warnings' you can run the following line:\n",
    "options(warn=-1)"
   ]
  },
  {
   "cell_type": "markdown",
   "metadata": {},
   "source": [
    "### Libraries needed..."
   ]
  },
  {
   "cell_type": "code",
   "execution_count": 4,
   "metadata": {},
   "outputs": [
    {
     "name": "stderr",
     "output_type": "stream",
     "text": [
      "\n",
      "Attaching package: 'lubridate'\n",
      "\n",
      "The following object is masked from 'package:base':\n",
      "\n",
      "    date\n",
      "\n"
     ]
    }
   ],
   "source": [
    "#We are going to use 'str_c' function from stringr packages to join multiple strings into a single string and build our path\n",
    "#install.packages('stringr',repos = 'http://cran.us.r-project.org')\n",
    "library(stringr)\n",
    "\n",
    "#If we want to create a date range we can use 'make_date' function from lubridate package\n",
    "#install.packages('lubridate', repos = 'http://cran.us.r-project.org')\n",
    "library(lubridate)\n",
    "\n",
    "#Sometimes we can use 'ggplot2' package if we want to create graphs with certain characteristics. \n",
    "#This time we are going to need it to use 'autoplot' function\n",
    "#install.packages('ggplot2', repos = 'http://cran.us.r-project.org', dependencies = TRUE)\n",
    "library(ggplot2)\n",
    "\n",
    "#install.packages('ggfortify', repos = 'http://cran.us.r-project.org')\n",
    "#this library lets ggplot deal with ts objects\n",
    "library(ggfortify)\n",
    "\n",
    "#install.packages('forecast', repos = 'http://cran.us.r-project.org', dependencies = TRUE)\n",
    "#forecast package has several methods for working with time series\n",
    "#some dependencies may have to be installed manually (e.g., RcppArmadillo) with the \n",
    "#'conda install r-packagesname' or 'conda install -c conda-forge r-packagesname' commands\n",
    "library(forecast)\n",
    "\n",
    "# install.packages(\"TTR\")\n",
    "#when installing many libraries can happen that some of them show upload errors, you need to \n",
    "#restart the notebook and open the libraries again (once their are installed)\n",
    "library(TTR)"
   ]
  },
  {
   "cell_type": "markdown",
   "metadata": {},
   "source": [
    "### The correct path..."
   ]
  },
  {
   "cell_type": "markdown",
   "metadata": {},
   "source": [
    "Establish as a working directory the site where you have saved the folder 'Data'. \n",
    "Normally, the desired working directory will match the one you are with. But you can change it if you want and assign the path of that working directory to the variable 'working_directory'."
   ]
  },
  {
   "cell_type": "code",
   "execution_count": 5,
   "metadata": {},
   "outputs": [
    {
     "data": {
      "text/html": [
       "'C:/Users/Toni/Desktop/understandingsuicide-master/understandingsuicide-master'"
      ],
      "text/latex": [
       "'C:/Users/Toni/Desktop/understandingsuicide-master/understandingsuicide-master'"
      ],
      "text/markdown": [
       "'C:/Users/Toni/Desktop/understandingsuicide-master/understandingsuicide-master'"
      ],
      "text/plain": [
       "[1] \"C:/Users/Toni/Desktop/understandingsuicide-master/understandingsuicide-master\""
      ]
     },
     "metadata": {},
     "output_type": "display_data"
    }
   ],
   "source": [
    "#In my case I don't need to change it\n",
    "getwd()"
   ]
  },
  {
   "cell_type": "code",
   "execution_count": 6,
   "metadata": {},
   "outputs": [],
   "source": [
    "#In my case\n",
    "working_directory = getwd()"
   ]
  },
  {
   "cell_type": "markdown",
   "metadata": {},
   "source": [
    "### In this notebook...\n",
    "\n",
    "We will analyze the time series of suicide and unemployment in Spain from 1998 to 2017, we will make some forecasts and we will study the relationship that may exist between both series:\n",
    "\n",
    "\n",
    "**Analysis of Suicide Time Series**\n",
    "1. Reading the data\n",
    "2. Creating and exploring the Time Series\n",
    "3. Time Series Components Analysis\n",
    "4. Forecasting with ARIMA\n",
    "\n",
    "**Analysis of Unemployment Time Series**\n",
    "1. Reading the data\n",
    "2. Creating and exploring the Time Series\n",
    "3. Time Series Components Analysis\n",
    "4. Forecasting with ARIMA\n",
    "\n",
    "**Relation between Unemployment and Suicide in Spain**\n",
    "1. Prewhitening method and Cross Correlation"
   ]
  },
  {
   "cell_type": "markdown",
   "metadata": {},
   "source": [
    "# Analysis of Suicide Time Series"
   ]
  },
  {
   "cell_type": "markdown",
   "metadata": {},
   "source": [
    "## 1. Reading the Data"
   ]
  },
  {
   "cell_type": "code",
   "execution_count": 7,
   "metadata": {},
   "outputs": [
    {
     "data": {
      "text/html": [
       "<table>\n",
       "<caption>A data.frame: 240 × 2</caption>\n",
       "<thead>\n",
       "\t<tr><th scope=col>Date</th><th scope=col>N_of_suicides</th></tr>\n",
       "\t<tr><th scope=col>&lt;fct&gt;</th><th scope=col>&lt;dbl&gt;</th></tr>\n",
       "</thead>\n",
       "<tbody>\n",
       "\t<tr><td>1998-01-31</td><td>218</td></tr>\n",
       "\t<tr><td>1998-02-28</td><td>238</td></tr>\n",
       "\t<tr><td>1998-03-31</td><td>281</td></tr>\n",
       "\t<tr><td>1998-04-30</td><td>195</td></tr>\n",
       "\t<tr><td>1998-05-31</td><td>267</td></tr>\n",
       "\t<tr><td>1998-06-30</td><td>222</td></tr>\n",
       "\t<tr><td>1998-07-31</td><td>226</td></tr>\n",
       "\t<tr><td>1998-08-31</td><td>207</td></tr>\n",
       "\t<tr><td>1998-09-30</td><td>193</td></tr>\n",
       "\t<tr><td>1998-10-31</td><td>176</td></tr>\n",
       "\t<tr><td>1998-11-30</td><td>168</td></tr>\n",
       "\t<tr><td>1998-12-31</td><td>207</td></tr>\n",
       "\t<tr><td>1999-01-31</td><td>191</td></tr>\n",
       "\t<tr><td>1999-02-28</td><td>212</td></tr>\n",
       "\t<tr><td>1999-03-31</td><td>245</td></tr>\n",
       "\t<tr><td>1999-04-30</td><td>196</td></tr>\n",
       "\t<tr><td>1999-05-31</td><td>228</td></tr>\n",
       "\t<tr><td>1999-06-30</td><td>227</td></tr>\n",
       "\t<tr><td>1999-07-31</td><td>223</td></tr>\n",
       "\t<tr><td>1999-08-31</td><td>201</td></tr>\n",
       "\t<tr><td>1999-09-30</td><td>216</td></tr>\n",
       "\t<tr><td>1999-10-31</td><td>167</td></tr>\n",
       "\t<tr><td>1999-11-30</td><td>163</td></tr>\n",
       "\t<tr><td>1999-12-31</td><td>187</td></tr>\n",
       "\t<tr><td>2000-01-31</td><td>218</td></tr>\n",
       "\t<tr><td>2000-02-29</td><td>165</td></tr>\n",
       "\t<tr><td>2000-03-31</td><td>224</td></tr>\n",
       "\t<tr><td>2000-04-30</td><td>204</td></tr>\n",
       "\t<tr><td>2000-05-31</td><td>231</td></tr>\n",
       "\t<tr><td>2000-06-30</td><td>232</td></tr>\n",
       "\t<tr><td>...</td><td>...</td></tr>\n",
       "\t<tr><td>2015-07-31</td><td>359</td></tr>\n",
       "\t<tr><td>2015-08-31</td><td>312</td></tr>\n",
       "\t<tr><td>2015-09-30</td><td>295</td></tr>\n",
       "\t<tr><td>2015-10-31</td><td>274</td></tr>\n",
       "\t<tr><td>2015-11-30</td><td>235</td></tr>\n",
       "\t<tr><td>2015-12-31</td><td>288</td></tr>\n",
       "\t<tr><td>2016-01-31</td><td>301</td></tr>\n",
       "\t<tr><td>2016-02-29</td><td>283</td></tr>\n",
       "\t<tr><td>2016-03-31</td><td>289</td></tr>\n",
       "\t<tr><td>2016-04-30</td><td>292</td></tr>\n",
       "\t<tr><td>2016-05-31</td><td>320</td></tr>\n",
       "\t<tr><td>2016-06-30</td><td>328</td></tr>\n",
       "\t<tr><td>2016-07-31</td><td>311</td></tr>\n",
       "\t<tr><td>2016-08-31</td><td>321</td></tr>\n",
       "\t<tr><td>2016-09-30</td><td>311</td></tr>\n",
       "\t<tr><td>2016-10-31</td><td>269</td></tr>\n",
       "\t<tr><td>2016-11-30</td><td>251</td></tr>\n",
       "\t<tr><td>2016-12-31</td><td>293</td></tr>\n",
       "\t<tr><td>2017-01-31</td><td>279</td></tr>\n",
       "\t<tr><td>2017-02-28</td><td>297</td></tr>\n",
       "\t<tr><td>2017-03-31</td><td>310</td></tr>\n",
       "\t<tr><td>2017-04-30</td><td>300</td></tr>\n",
       "\t<tr><td>2017-05-31</td><td>319</td></tr>\n",
       "\t<tr><td>2017-06-30</td><td>328</td></tr>\n",
       "\t<tr><td>2017-07-31</td><td>348</td></tr>\n",
       "\t<tr><td>2017-08-31</td><td>337</td></tr>\n",
       "\t<tr><td>2017-09-30</td><td>307</td></tr>\n",
       "\t<tr><td>2017-10-31</td><td>346</td></tr>\n",
       "\t<tr><td>2017-11-30</td><td>267</td></tr>\n",
       "\t<tr><td>2017-12-31</td><td>241</td></tr>\n",
       "</tbody>\n",
       "</table>\n"
      ],
      "text/latex": [
       "A data.frame: 240 × 2\n",
       "\\begin{tabular}{r|ll}\n",
       " Date & N\\_of\\_suicides\\\\\n",
       " <fct> & <dbl>\\\\\n",
       "\\hline\n",
       "\t 1998-01-31 & 218\\\\\n",
       "\t 1998-02-28 & 238\\\\\n",
       "\t 1998-03-31 & 281\\\\\n",
       "\t 1998-04-30 & 195\\\\\n",
       "\t 1998-05-31 & 267\\\\\n",
       "\t 1998-06-30 & 222\\\\\n",
       "\t 1998-07-31 & 226\\\\\n",
       "\t 1998-08-31 & 207\\\\\n",
       "\t 1998-09-30 & 193\\\\\n",
       "\t 1998-10-31 & 176\\\\\n",
       "\t 1998-11-30 & 168\\\\\n",
       "\t 1998-12-31 & 207\\\\\n",
       "\t 1999-01-31 & 191\\\\\n",
       "\t 1999-02-28 & 212\\\\\n",
       "\t 1999-03-31 & 245\\\\\n",
       "\t 1999-04-30 & 196\\\\\n",
       "\t 1999-05-31 & 228\\\\\n",
       "\t 1999-06-30 & 227\\\\\n",
       "\t 1999-07-31 & 223\\\\\n",
       "\t 1999-08-31 & 201\\\\\n",
       "\t 1999-09-30 & 216\\\\\n",
       "\t 1999-10-31 & 167\\\\\n",
       "\t 1999-11-30 & 163\\\\\n",
       "\t 1999-12-31 & 187\\\\\n",
       "\t 2000-01-31 & 218\\\\\n",
       "\t 2000-02-29 & 165\\\\\n",
       "\t 2000-03-31 & 224\\\\\n",
       "\t 2000-04-30 & 204\\\\\n",
       "\t 2000-05-31 & 231\\\\\n",
       "\t 2000-06-30 & 232\\\\\n",
       "\t ... & ...\\\\\n",
       "\t 2015-07-31 & 359\\\\\n",
       "\t 2015-08-31 & 312\\\\\n",
       "\t 2015-09-30 & 295\\\\\n",
       "\t 2015-10-31 & 274\\\\\n",
       "\t 2015-11-30 & 235\\\\\n",
       "\t 2015-12-31 & 288\\\\\n",
       "\t 2016-01-31 & 301\\\\\n",
       "\t 2016-02-29 & 283\\\\\n",
       "\t 2016-03-31 & 289\\\\\n",
       "\t 2016-04-30 & 292\\\\\n",
       "\t 2016-05-31 & 320\\\\\n",
       "\t 2016-06-30 & 328\\\\\n",
       "\t 2016-07-31 & 311\\\\\n",
       "\t 2016-08-31 & 321\\\\\n",
       "\t 2016-09-30 & 311\\\\\n",
       "\t 2016-10-31 & 269\\\\\n",
       "\t 2016-11-30 & 251\\\\\n",
       "\t 2016-12-31 & 293\\\\\n",
       "\t 2017-01-31 & 279\\\\\n",
       "\t 2017-02-28 & 297\\\\\n",
       "\t 2017-03-31 & 310\\\\\n",
       "\t 2017-04-30 & 300\\\\\n",
       "\t 2017-05-31 & 319\\\\\n",
       "\t 2017-06-30 & 328\\\\\n",
       "\t 2017-07-31 & 348\\\\\n",
       "\t 2017-08-31 & 337\\\\\n",
       "\t 2017-09-30 & 307\\\\\n",
       "\t 2017-10-31 & 346\\\\\n",
       "\t 2017-11-30 & 267\\\\\n",
       "\t 2017-12-31 & 241\\\\\n",
       "\\end{tabular}\n"
      ],
      "text/markdown": [
       "\n",
       "A data.frame: 240 × 2\n",
       "\n",
       "| Date &lt;fct&gt; | N_of_suicides &lt;dbl&gt; |\n",
       "|---|---|\n",
       "| 1998-01-31 | 218 |\n",
       "| 1998-02-28 | 238 |\n",
       "| 1998-03-31 | 281 |\n",
       "| 1998-04-30 | 195 |\n",
       "| 1998-05-31 | 267 |\n",
       "| 1998-06-30 | 222 |\n",
       "| 1998-07-31 | 226 |\n",
       "| 1998-08-31 | 207 |\n",
       "| 1998-09-30 | 193 |\n",
       "| 1998-10-31 | 176 |\n",
       "| 1998-11-30 | 168 |\n",
       "| 1998-12-31 | 207 |\n",
       "| 1999-01-31 | 191 |\n",
       "| 1999-02-28 | 212 |\n",
       "| 1999-03-31 | 245 |\n",
       "| 1999-04-30 | 196 |\n",
       "| 1999-05-31 | 228 |\n",
       "| 1999-06-30 | 227 |\n",
       "| 1999-07-31 | 223 |\n",
       "| 1999-08-31 | 201 |\n",
       "| 1999-09-30 | 216 |\n",
       "| 1999-10-31 | 167 |\n",
       "| 1999-11-30 | 163 |\n",
       "| 1999-12-31 | 187 |\n",
       "| 2000-01-31 | 218 |\n",
       "| 2000-02-29 | 165 |\n",
       "| 2000-03-31 | 224 |\n",
       "| 2000-04-30 | 204 |\n",
       "| 2000-05-31 | 231 |\n",
       "| 2000-06-30 | 232 |\n",
       "| ... | ... |\n",
       "| 2015-07-31 | 359 |\n",
       "| 2015-08-31 | 312 |\n",
       "| 2015-09-30 | 295 |\n",
       "| 2015-10-31 | 274 |\n",
       "| 2015-11-30 | 235 |\n",
       "| 2015-12-31 | 288 |\n",
       "| 2016-01-31 | 301 |\n",
       "| 2016-02-29 | 283 |\n",
       "| 2016-03-31 | 289 |\n",
       "| 2016-04-30 | 292 |\n",
       "| 2016-05-31 | 320 |\n",
       "| 2016-06-30 | 328 |\n",
       "| 2016-07-31 | 311 |\n",
       "| 2016-08-31 | 321 |\n",
       "| 2016-09-30 | 311 |\n",
       "| 2016-10-31 | 269 |\n",
       "| 2016-11-30 | 251 |\n",
       "| 2016-12-31 | 293 |\n",
       "| 2017-01-31 | 279 |\n",
       "| 2017-02-28 | 297 |\n",
       "| 2017-03-31 | 310 |\n",
       "| 2017-04-30 | 300 |\n",
       "| 2017-05-31 | 319 |\n",
       "| 2017-06-30 | 328 |\n",
       "| 2017-07-31 | 348 |\n",
       "| 2017-08-31 | 337 |\n",
       "| 2017-09-30 | 307 |\n",
       "| 2017-10-31 | 346 |\n",
       "| 2017-11-30 | 267 |\n",
       "| 2017-12-31 | 241 |\n",
       "\n"
      ],
      "text/plain": [
       "    Date       N_of_suicides\n",
       "1   1998-01-31 218          \n",
       "2   1998-02-28 238          \n",
       "3   1998-03-31 281          \n",
       "4   1998-04-30 195          \n",
       "5   1998-05-31 267          \n",
       "6   1998-06-30 222          \n",
       "7   1998-07-31 226          \n",
       "8   1998-08-31 207          \n",
       "9   1998-09-30 193          \n",
       "10  1998-10-31 176          \n",
       "11  1998-11-30 168          \n",
       "12  1998-12-31 207          \n",
       "13  1999-01-31 191          \n",
       "14  1999-02-28 212          \n",
       "15  1999-03-31 245          \n",
       "16  1999-04-30 196          \n",
       "17  1999-05-31 228          \n",
       "18  1999-06-30 227          \n",
       "19  1999-07-31 223          \n",
       "20  1999-08-31 201          \n",
       "21  1999-09-30 216          \n",
       "22  1999-10-31 167          \n",
       "23  1999-11-30 163          \n",
       "24  1999-12-31 187          \n",
       "25  2000-01-31 218          \n",
       "26  2000-02-29 165          \n",
       "27  2000-03-31 224          \n",
       "28  2000-04-30 204          \n",
       "29  2000-05-31 231          \n",
       "30  2000-06-30 232          \n",
       "... ...        ...          \n",
       "211 2015-07-31 359          \n",
       "212 2015-08-31 312          \n",
       "213 2015-09-30 295          \n",
       "214 2015-10-31 274          \n",
       "215 2015-11-30 235          \n",
       "216 2015-12-31 288          \n",
       "217 2016-01-31 301          \n",
       "218 2016-02-29 283          \n",
       "219 2016-03-31 289          \n",
       "220 2016-04-30 292          \n",
       "221 2016-05-31 320          \n",
       "222 2016-06-30 328          \n",
       "223 2016-07-31 311          \n",
       "224 2016-08-31 321          \n",
       "225 2016-09-30 311          \n",
       "226 2016-10-31 269          \n",
       "227 2016-11-30 251          \n",
       "228 2016-12-31 293          \n",
       "229 2017-01-31 279          \n",
       "230 2017-02-28 297          \n",
       "231 2017-03-31 310          \n",
       "232 2017-04-30 300          \n",
       "233 2017-05-31 319          \n",
       "234 2017-06-30 328          \n",
       "235 2017-07-31 348          \n",
       "236 2017-08-31 337          \n",
       "237 2017-09-30 307          \n",
       "238 2017-10-31 346          \n",
       "239 2017-11-30 267          \n",
       "240 2017-12-31 241          "
      ]
     },
     "metadata": {},
     "output_type": "display_data"
    }
   ],
   "source": [
    "wkdir_and_path_suicide <- cbind(working_directory,'Data/Monthly_suicide_Spain_1998-2017.csv') \n",
    "# in our system, forward slashes work, but maybe you have to change them\n",
    "suicide_filepath <- str_c(wkdir_and_path_suicide, collapse = \"/\")\n",
    "suicide_1998_2017 <- read.csv(suicide_filepath)\n",
    "suicide_1998_2017"
   ]
  },
  {
   "cell_type": "markdown",
   "metadata": {},
   "source": [
    "Seems that our date index is not very useful in R code. We need a 'ts' object to use many of the best R resources for time series. The function 'ts' automatically turns our list of values into a time series if you give it start date and frequency."
   ]
  },
  {
   "cell_type": "markdown",
   "metadata": {},
   "source": [
    "## 2. Creating and exploring the Time Series"
   ]
  },
  {
   "cell_type": "code",
   "execution_count": 8,
   "metadata": {},
   "outputs": [
    {
     "data": {
      "text/html": [
       "'ts'"
      ],
      "text/latex": [
       "'ts'"
      ],
      "text/markdown": [
       "'ts'"
      ],
      "text/plain": [
       "[1] \"ts\""
      ]
     },
     "metadata": {},
     "output_type": "display_data"
    }
   ],
   "source": [
    "suicide_1998_2017 <- ts (suicide_1998_2017$N_of_suicides, frequency = 12, start = c(1998,1))\n",
    "class(suicide_1998_2017)"
   ]
  },
  {
   "cell_type": "code",
   "execution_count": 9,
   "metadata": {},
   "outputs": [
    {
     "data": {
      "text/html": [
       "<ol class=list-inline>\n",
       "\t<li>1998</li>\n",
       "\t<li>1</li>\n",
       "</ol>\n"
      ],
      "text/latex": [
       "\\begin{enumerate*}\n",
       "\\item 1998\n",
       "\\item 1\n",
       "\\end{enumerate*}\n"
      ],
      "text/markdown": [
       "1. 1998\n",
       "2. 1\n",
       "\n",
       "\n"
      ],
      "text/plain": [
       "[1] 1998    1"
      ]
     },
     "metadata": {},
     "output_type": "display_data"
    }
   ],
   "source": [
    "#Here we have the start of our time series\n",
    "start(suicide_1998_2017)"
   ]
  },
  {
   "cell_type": "code",
   "execution_count": 10,
   "metadata": {},
   "outputs": [
    {
     "data": {
      "text/html": [
       "<ol class=list-inline>\n",
       "\t<li>2017</li>\n",
       "\t<li>12</li>\n",
       "</ol>\n"
      ],
      "text/latex": [
       "\\begin{enumerate*}\n",
       "\\item 2017\n",
       "\\item 12\n",
       "\\end{enumerate*}\n"
      ],
      "text/markdown": [
       "1. 2017\n",
       "2. 12\n",
       "\n",
       "\n"
      ],
      "text/plain": [
       "[1] 2017   12"
      ]
     },
     "metadata": {},
     "output_type": "display_data"
    }
   ],
   "source": [
    "#And the end\n",
    "end(suicide_1998_2017)"
   ]
  },
  {
   "cell_type": "code",
   "execution_count": 11,
   "metadata": {},
   "outputs": [
    {
     "data": {
      "text/html": [
       "12"
      ],
      "text/latex": [
       "12"
      ],
      "text/markdown": [
       "12"
      ],
      "text/plain": [
       "[1] 12"
      ]
     },
     "metadata": {},
     "output_type": "display_data"
    }
   ],
   "source": [
    "#The cycle of this time series is 12months in a year\n",
    "frequency(suicide_1998_2017)"
   ]
  },
  {
   "cell_type": "code",
   "execution_count": 12,
   "metadata": {},
   "outputs": [
    {
     "data": {
      "text/html": [
       "<table>\n",
       "<caption>A Time Series: 20 × 12</caption>\n",
       "<thead>\n",
       "\t<tr><th></th><th scope=col>Jan</th><th scope=col>Feb</th><th scope=col>Mar</th><th scope=col>Apr</th><th scope=col>May</th><th scope=col>Jun</th><th scope=col>Jul</th><th scope=col>Aug</th><th scope=col>Sep</th><th scope=col>Oct</th><th scope=col>Nov</th><th scope=col>Dec</th></tr>\n",
       "</thead>\n",
       "<tbody>\n",
       "\t<tr><th scope=row>1998</th><td> 1</td><td> 2</td><td> 3</td><td> 4</td><td> 5</td><td> 6</td><td> 7</td><td> 8</td><td> 9</td><td>10</td><td>11</td><td>12</td></tr>\n",
       "\t<tr><th scope=row>1999</th><td> 1</td><td> 2</td><td> 3</td><td> 4</td><td> 5</td><td> 6</td><td> 7</td><td> 8</td><td> 9</td><td>10</td><td>11</td><td>12</td></tr>\n",
       "\t<tr><th scope=row>2000</th><td> 1</td><td> 2</td><td> 3</td><td> 4</td><td> 5</td><td> 6</td><td> 7</td><td> 8</td><td> 9</td><td>10</td><td>11</td><td>12</td></tr>\n",
       "\t<tr><th scope=row>2001</th><td> 1</td><td> 2</td><td> 3</td><td> 4</td><td> 5</td><td> 6</td><td> 7</td><td> 8</td><td> 9</td><td>10</td><td>11</td><td>12</td></tr>\n",
       "\t<tr><th scope=row>2002</th><td> 1</td><td> 2</td><td> 3</td><td> 4</td><td> 5</td><td> 6</td><td> 7</td><td> 8</td><td> 9</td><td>10</td><td>11</td><td>12</td></tr>\n",
       "\t<tr><th scope=row>2003</th><td> 1</td><td> 2</td><td> 3</td><td> 4</td><td> 5</td><td> 6</td><td> 7</td><td> 8</td><td> 9</td><td>10</td><td>11</td><td>12</td></tr>\n",
       "\t<tr><th scope=row>2004</th><td> 1</td><td> 2</td><td> 3</td><td> 4</td><td> 5</td><td> 6</td><td> 7</td><td> 8</td><td> 9</td><td>10</td><td>11</td><td>12</td></tr>\n",
       "\t<tr><th scope=row>2005</th><td> 1</td><td> 2</td><td> 3</td><td> 4</td><td> 5</td><td> 6</td><td> 7</td><td> 8</td><td> 9</td><td>10</td><td>11</td><td>12</td></tr>\n",
       "\t<tr><th scope=row>2006</th><td> 1</td><td> 2</td><td> 3</td><td> 4</td><td> 5</td><td> 6</td><td> 7</td><td> 8</td><td> 9</td><td>10</td><td>11</td><td>12</td></tr>\n",
       "\t<tr><th scope=row>2007</th><td> 1</td><td> 2</td><td> 3</td><td> 4</td><td> 5</td><td> 6</td><td> 7</td><td> 8</td><td> 9</td><td>10</td><td>11</td><td>12</td></tr>\n",
       "\t<tr><th scope=row>2008</th><td> 1</td><td> 2</td><td> 3</td><td> 4</td><td> 5</td><td> 6</td><td> 7</td><td> 8</td><td> 9</td><td>10</td><td>11</td><td>12</td></tr>\n",
       "\t<tr><th scope=row>2009</th><td> 1</td><td> 2</td><td> 3</td><td> 4</td><td> 5</td><td> 6</td><td> 7</td><td> 8</td><td> 9</td><td>10</td><td>11</td><td>12</td></tr>\n",
       "\t<tr><th scope=row>2010</th><td> 1</td><td> 2</td><td> 3</td><td> 4</td><td> 5</td><td> 6</td><td> 7</td><td> 8</td><td> 9</td><td>10</td><td>11</td><td>12</td></tr>\n",
       "\t<tr><th scope=row>2011</th><td> 1</td><td> 2</td><td> 3</td><td> 4</td><td> 5</td><td> 6</td><td> 7</td><td> 8</td><td> 9</td><td>10</td><td>11</td><td>12</td></tr>\n",
       "\t<tr><th scope=row>2012</th><td> 1</td><td> 2</td><td> 3</td><td> 4</td><td> 5</td><td> 6</td><td> 7</td><td> 8</td><td> 9</td><td>10</td><td>11</td><td>12</td></tr>\n",
       "\t<tr><th scope=row>2013</th><td> 1</td><td> 2</td><td> 3</td><td> 4</td><td> 5</td><td> 6</td><td> 7</td><td> 8</td><td> 9</td><td>10</td><td>11</td><td>12</td></tr>\n",
       "\t<tr><th scope=row>2014</th><td> 1</td><td> 2</td><td> 3</td><td> 4</td><td> 5</td><td> 6</td><td> 7</td><td> 8</td><td> 9</td><td>10</td><td>11</td><td>12</td></tr>\n",
       "\t<tr><th scope=row>2015</th><td> 1</td><td> 2</td><td> 3</td><td> 4</td><td> 5</td><td> 6</td><td> 7</td><td> 8</td><td> 9</td><td>10</td><td>11</td><td>12</td></tr>\n",
       "\t<tr><th scope=row>2016</th><td> 1</td><td> 2</td><td> 3</td><td> 4</td><td> 5</td><td> 6</td><td> 7</td><td> 8</td><td> 9</td><td>10</td><td>11</td><td>12</td></tr>\n",
       "\t<tr><th scope=row>2017</th><td> 1</td><td> 2</td><td> 3</td><td> 4</td><td> 5</td><td> 6</td><td> 7</td><td> 8</td><td> 9</td><td>10</td><td>11</td><td>12</td></tr>\n",
       "</tbody>\n",
       "</table>\n"
      ],
      "text/latex": [
       "A Time Series: 20 × 12\n",
       "\\begin{tabular}{r|llllllllllll}\n",
       "  & Jan & Feb & Mar & Apr & May & Jun & Jul & Aug & Sep & Oct & Nov & Dec\\\\\n",
       "\\hline\n",
       "\t1998 &  1 &  2 &  3 &  4 &  5 &  6 &  7 &  8 &  9 & 10 & 11 & 12\\\\\n",
       "\t1999 &  1 &  2 &  3 &  4 &  5 &  6 &  7 &  8 &  9 & 10 & 11 & 12\\\\\n",
       "\t2000 &  1 &  2 &  3 &  4 &  5 &  6 &  7 &  8 &  9 & 10 & 11 & 12\\\\\n",
       "\t2001 &  1 &  2 &  3 &  4 &  5 &  6 &  7 &  8 &  9 & 10 & 11 & 12\\\\\n",
       "\t2002 &  1 &  2 &  3 &  4 &  5 &  6 &  7 &  8 &  9 & 10 & 11 & 12\\\\\n",
       "\t2003 &  1 &  2 &  3 &  4 &  5 &  6 &  7 &  8 &  9 & 10 & 11 & 12\\\\\n",
       "\t2004 &  1 &  2 &  3 &  4 &  5 &  6 &  7 &  8 &  9 & 10 & 11 & 12\\\\\n",
       "\t2005 &  1 &  2 &  3 &  4 &  5 &  6 &  7 &  8 &  9 & 10 & 11 & 12\\\\\n",
       "\t2006 &  1 &  2 &  3 &  4 &  5 &  6 &  7 &  8 &  9 & 10 & 11 & 12\\\\\n",
       "\t2007 &  1 &  2 &  3 &  4 &  5 &  6 &  7 &  8 &  9 & 10 & 11 & 12\\\\\n",
       "\t2008 &  1 &  2 &  3 &  4 &  5 &  6 &  7 &  8 &  9 & 10 & 11 & 12\\\\\n",
       "\t2009 &  1 &  2 &  3 &  4 &  5 &  6 &  7 &  8 &  9 & 10 & 11 & 12\\\\\n",
       "\t2010 &  1 &  2 &  3 &  4 &  5 &  6 &  7 &  8 &  9 & 10 & 11 & 12\\\\\n",
       "\t2011 &  1 &  2 &  3 &  4 &  5 &  6 &  7 &  8 &  9 & 10 & 11 & 12\\\\\n",
       "\t2012 &  1 &  2 &  3 &  4 &  5 &  6 &  7 &  8 &  9 & 10 & 11 & 12\\\\\n",
       "\t2013 &  1 &  2 &  3 &  4 &  5 &  6 &  7 &  8 &  9 & 10 & 11 & 12\\\\\n",
       "\t2014 &  1 &  2 &  3 &  4 &  5 &  6 &  7 &  8 &  9 & 10 & 11 & 12\\\\\n",
       "\t2015 &  1 &  2 &  3 &  4 &  5 &  6 &  7 &  8 &  9 & 10 & 11 & 12\\\\\n",
       "\t2016 &  1 &  2 &  3 &  4 &  5 &  6 &  7 &  8 &  9 & 10 & 11 & 12\\\\\n",
       "\t2017 &  1 &  2 &  3 &  4 &  5 &  6 &  7 &  8 &  9 & 10 & 11 & 12\\\\\n",
       "\\end{tabular}\n"
      ],
      "text/markdown": [
       "\n",
       "A Time Series: 20 × 12\n",
       "\n",
       "| <!--/--> | Jan | Feb | Mar | Apr | May | Jun | Jul | Aug | Sep | Oct | Nov | Dec |\n",
       "|---|---|---|---|---|---|---|---|---|---|---|---|---|\n",
       "| 1998 |  1 |  2 |  3 |  4 |  5 |  6 |  7 |  8 |  9 | 10 | 11 | 12 |\n",
       "| 1999 |  1 |  2 |  3 |  4 |  5 |  6 |  7 |  8 |  9 | 10 | 11 | 12 |\n",
       "| 2000 |  1 |  2 |  3 |  4 |  5 |  6 |  7 |  8 |  9 | 10 | 11 | 12 |\n",
       "| 2001 |  1 |  2 |  3 |  4 |  5 |  6 |  7 |  8 |  9 | 10 | 11 | 12 |\n",
       "| 2002 |  1 |  2 |  3 |  4 |  5 |  6 |  7 |  8 |  9 | 10 | 11 | 12 |\n",
       "| 2003 |  1 |  2 |  3 |  4 |  5 |  6 |  7 |  8 |  9 | 10 | 11 | 12 |\n",
       "| 2004 |  1 |  2 |  3 |  4 |  5 |  6 |  7 |  8 |  9 | 10 | 11 | 12 |\n",
       "| 2005 |  1 |  2 |  3 |  4 |  5 |  6 |  7 |  8 |  9 | 10 | 11 | 12 |\n",
       "| 2006 |  1 |  2 |  3 |  4 |  5 |  6 |  7 |  8 |  9 | 10 | 11 | 12 |\n",
       "| 2007 |  1 |  2 |  3 |  4 |  5 |  6 |  7 |  8 |  9 | 10 | 11 | 12 |\n",
       "| 2008 |  1 |  2 |  3 |  4 |  5 |  6 |  7 |  8 |  9 | 10 | 11 | 12 |\n",
       "| 2009 |  1 |  2 |  3 |  4 |  5 |  6 |  7 |  8 |  9 | 10 | 11 | 12 |\n",
       "| 2010 |  1 |  2 |  3 |  4 |  5 |  6 |  7 |  8 |  9 | 10 | 11 | 12 |\n",
       "| 2011 |  1 |  2 |  3 |  4 |  5 |  6 |  7 |  8 |  9 | 10 | 11 | 12 |\n",
       "| 2012 |  1 |  2 |  3 |  4 |  5 |  6 |  7 |  8 |  9 | 10 | 11 | 12 |\n",
       "| 2013 |  1 |  2 |  3 |  4 |  5 |  6 |  7 |  8 |  9 | 10 | 11 | 12 |\n",
       "| 2014 |  1 |  2 |  3 |  4 |  5 |  6 |  7 |  8 |  9 | 10 | 11 | 12 |\n",
       "| 2015 |  1 |  2 |  3 |  4 |  5 |  6 |  7 |  8 |  9 | 10 | 11 | 12 |\n",
       "| 2016 |  1 |  2 |  3 |  4 |  5 |  6 |  7 |  8 |  9 | 10 | 11 | 12 |\n",
       "| 2017 |  1 |  2 |  3 |  4 |  5 |  6 |  7 |  8 |  9 | 10 | 11 | 12 |\n",
       "\n"
      ],
      "text/plain": [
       "     Jan Feb Mar Apr May Jun Jul Aug Sep Oct Nov Dec\n",
       "1998  1   2   3   4   5   6   7   8   9  10  11  12 \n",
       "1999  1   2   3   4   5   6   7   8   9  10  11  12 \n",
       "2000  1   2   3   4   5   6   7   8   9  10  11  12 \n",
       "2001  1   2   3   4   5   6   7   8   9  10  11  12 \n",
       "2002  1   2   3   4   5   6   7   8   9  10  11  12 \n",
       "2003  1   2   3   4   5   6   7   8   9  10  11  12 \n",
       "2004  1   2   3   4   5   6   7   8   9  10  11  12 \n",
       "2005  1   2   3   4   5   6   7   8   9  10  11  12 \n",
       "2006  1   2   3   4   5   6   7   8   9  10  11  12 \n",
       "2007  1   2   3   4   5   6   7   8   9  10  11  12 \n",
       "2008  1   2   3   4   5   6   7   8   9  10  11  12 \n",
       "2009  1   2   3   4   5   6   7   8   9  10  11  12 \n",
       "2010  1   2   3   4   5   6   7   8   9  10  11  12 \n",
       "2011  1   2   3   4   5   6   7   8   9  10  11  12 \n",
       "2012  1   2   3   4   5   6   7   8   9  10  11  12 \n",
       "2013  1   2   3   4   5   6   7   8   9  10  11  12 \n",
       "2014  1   2   3   4   5   6   7   8   9  10  11  12 \n",
       "2015  1   2   3   4   5   6   7   8   9  10  11  12 \n",
       "2016  1   2   3   4   5   6   7   8   9  10  11  12 \n",
       "2017  1   2   3   4   5   6   7   8   9  10  11  12 "
      ]
     },
     "metadata": {},
     "output_type": "display_data"
    }
   ],
   "source": [
    "cycle(suicide_1998_2017)"
   ]
  },
  {
   "cell_type": "code",
   "execution_count": 13,
   "metadata": {},
   "outputs": [
    {
     "data": {
      "text/plain": [
       "   Min. 1st Qu.  Median    Mean 3rd Qu.    Max. \n",
       "  135.0   213.5   267.5   257.7   301.0   371.0 "
      ]
     },
     "metadata": {},
     "output_type": "display_data"
    }
   ],
   "source": [
    "#Some descriptive statistics\n",
    "summary(suicide_1998_2017)"
   ]
  },
  {
   "cell_type": "markdown",
   "metadata": {},
   "source": [
    "The first basic plot that we are going to use is a line graph with the values of the series in the ordinate and the temporal instants on the abscissa axis. Constructing this graph can be very useful to observe some characteristics of our time series."
   ]
  },
  {
   "cell_type": "code",
   "execution_count": 14,
   "metadata": {},
   "outputs": [
    {
     "data": {
      "image/png": "[encoded data removed]",
      "text/plain": [
       "plot without title"
      ]
     },
     "metadata": {},
     "output_type": "display_data"
    }
   ],
   "source": [
    "options(repr.plot.width=5, repr.plot.height=5)\n",
    "\n",
    "#The number of suicides in Spain\n",
    "plot(suicide_1998_2017, xlab = 'Years', ylab = 'Suicides')\n",
    "\n",
    "#this will fit in a line\n",
    "abline(reg=lm(suicide_1998_2017~time(suicide_1998_2017)))"
   ]
  },
  {
   "cell_type": "markdown",
   "metadata": {},
   "source": [
    "Based on what we see in the representation, it seems that the mean, the variance and the covariance are not constant over time, there is a increasing trend. This makes us think that we are facing a **non-stationary series**, although this is something that we will analyze in more detail later."
   ]
  },
  {
   "cell_type": "code",
   "execution_count": 15,
   "metadata": {},
   "outputs": [
    {
     "data": {
      "image/png": "[encoded data removed]",
      "text/plain": [
       "Plot with title \"Year on year trend\""
      ]
     },
     "metadata": {},
     "output_type": "display_data"
    }
   ],
   "source": [
    "#In this plot we are going to aggregate the cycles and display a year on year trend\n",
    "options(repr.plot.width=5, repr.plot.height=5)\n",
    "plot(aggregate(suicide_1998_2017,FUN=mean), xlab = \"Years\", ylab = \"Aggregated Suicide by mean\", main = 'Year on year trend', col = 'blue')"
   ]
  },
  {
   "cell_type": "markdown",
   "metadata": {},
   "source": [
    "The year on year trend clearly shows that the **number of suicides have been increasing since 2003-2004.**"
   ]
  },
  {
   "cell_type": "code",
   "execution_count": 16,
   "metadata": {},
   "outputs": [
    {
     "data": {
      "image/png": "[encoded data removed]",
      "text/plain": [
       "Plot with title \"Box Plot across Months\""
      ]
     },
     "metadata": {},
     "output_type": "display_data"
    }
   ],
   "source": [
    "#Box plot across months will give us a sense on seasonal effect\n",
    "options(repr.plot.width=5, repr.plot.height=5)\n",
    "boxplot(suicide_1998_2017~cycle(suicide_1998_2017), xlab = 'Months', ylab = 'Suicides', main = 'Box Plot across Months',col = 'purple')"
   ]
  },
  {
   "cell_type": "markdown",
   "metadata": {},
   "source": [
    "The mean value of suicides in **May, June and July is higher than rest of the months**."
   ]
  },
  {
   "cell_type": "code",
   "execution_count": 17,
   "metadata": {},
   "outputs": [
    {
     "data": {
      "image/png": "[encoded data removed]",
      "text/plain": [
       "Plot with title \"Normal Q-Q Plot\""
      ]
     },
     "metadata": {},
     "output_type": "display_data"
    }
   ],
   "source": [
    "options(repr.plot.width=5, repr.plot.height=5)\n",
    "\n",
    "date = make_date(year = 1998, month = 1)\n",
    "Date_range = seq(from = date, by = 'month', length.out = length(suicide_1998_2017))\n",
    "\n",
    "par(mfrow=c(2,1)) \n",
    "\n",
    "#histogram\n",
    "hist (suicide_1998_2017, xlab = 'Number of suicides', main = 'Histogram', col = 'brown')\n",
    "\n",
    "#Q-Q plot\n",
    "qqnorm(suicide_1998_2017)\n",
    "qqline(suicide_1998_2017)"
   ]
  },
  {
   "cell_type": "code",
   "execution_count": 115,
   "metadata": {},
   "outputs": [
    {
     "data": {
      "text/plain": [
       "\n",
       "\tOne-sample Kolmogorov-Smirnov test\n",
       "\n",
       "data:  suicide_1998_2017\n",
       "D = 0.083239, p-value = 0.07189\n",
       "alternative hypothesis: two-sided\n"
      ]
     },
     "metadata": {},
     "output_type": "display_data"
    }
   ],
   "source": [
    "ks.test(suicide_1998_2017, \"pnorm\", 257.725, 55.3225)"
   ]
  },
  {
   "cell_type": "markdown",
   "metadata": {},
   "source": [
    "The graphs and the Kolmogorov-Smirnov test show us that our series is close to a normal distribution."
   ]
  },
  {
   "cell_type": "markdown",
   "metadata": {},
   "source": [
    "## 3. Time Series Components Analysis"
   ]
  },
  {
   "cell_type": "markdown",
   "metadata": {},
   "source": [
    "Time series decomposition involves thinking of a series as a combination of level, trend, seasonality, and noise components.\n",
    "\n",
    "Decomposition provides a useful abstract model for thinking about time series generally and for better understanding problems during time series analysis and forecasting.\n",
    "\n",
    "Also the decomposition methods can help us in forecasting."
   ]
  },
  {
   "cell_type": "markdown",
   "metadata": {},
   "source": [
    "*Let's start to analyze each of its components with a little more detail, but first we are going to split our time series in a train and a test sets.*"
   ]
  },
  {
   "cell_type": "code",
   "execution_count": 19,
   "metadata": {},
   "outputs": [],
   "source": [
    "suicide_series_test  <- ts(tail(suicide_1998_2017,48), frequency = 12, start = c(2014,1)) # ts conversion\n",
    "suicide_series_train  <- ts(head(suicide_1998_2017, 192), frequency = 12, start = c(1998,1)) # ts conversion"
   ]
  },
  {
   "cell_type": "markdown",
   "metadata": {},
   "source": [
    "### 3.1. Decomposition methods"
   ]
  },
  {
   "cell_type": "markdown",
   "metadata": {},
   "source": [
    "#### 3.1.1. Moving Mean\n",
    "\n",
    "We present the methodology of moving averages because it's the first step in the classical decomposition and allows us to observe **the trend** of our time series represented in a smoothed way. It can be a good method to extract information in time series where there are no fluctuations due to trend or seasonality."
   ]
  },
  {
   "cell_type": "markdown",
   "metadata": {},
   "source": [
    "It is possible to apply a moving mean to a moving mean. One reason for doing this is to make an even-order moving average symmetric. It's recommended to use a 2x12 Moving averages to estimate the trend-cycle of monthly data:"
   ]
  },
  {
   "cell_type": "code",
   "execution_count": 20,
   "metadata": {
    "scrolled": true
   },
   "outputs": [
    {
     "data": {},
     "metadata": {},
     "output_type": "display_data"
    },
    {
     "data": {
      "image/png": "[encoded data removed]",
      "text/plain": [
       "plot without title"
      ]
     },
     "metadata": {},
     "output_type": "display_data"
    }
   ],
   "source": [
    "options(repr.plot.width=8, repr.plot.height=4)\n",
    "\n",
    "#Applying Moving Mean\n",
    "autoplot(suicide_series_train) + \n",
    "    autolayer(ma(suicide_series_train, order=2, centre=FALSE), series='2 Moving Mean')+\n",
    "    autolayer(ma(suicide_series_train,12, centre = TRUE), series='2x12 Moving Mean') +\n",
    "    xlab('Date') + ylab('Number of suicides') +\n",
    "    ggtitle('Monthly Suicides in Spain') +\n",
    "    guides(colour=guide_legend(title='series'))"
   ]
  },
  {
   "cell_type": "markdown",
   "metadata": {},
   "source": [
    "The moving mean helps us to reduce the noise or short-term volatility in the movements of the data and in this way allows us to better evaluate the quality and direction of a trend."
   ]
  },
  {
   "cell_type": "markdown",
   "metadata": {},
   "source": [
    "We can see that the estimated trend component shows an **increase from approximately 200 or less in 2004 to approximately 300 at the end of 2005, followed by a more or less constant increase from then until 2017.**"
   ]
  },
  {
   "cell_type": "markdown",
   "metadata": {},
   "source": [
    "Seasonal adjustments are a statistical procedure to eliminate seasonal effects or what is the same, eliminate the influence of seasonal patterns in the data. These seasonal effects induce changes or variations due to the seasonality, causing a distortion of their true movement. \n",
    "\n",
    "There are many methods to struggle with seasonality. But first we have to be sure that there is seasonality in our time series."
   ]
  },
  {
   "cell_type": "markdown",
   "metadata": {},
   "source": [
    "#### 3.1.2. Classic Decomposition\n",
    "\n",
    "We are going to use decompose function to see the components of our time series in a classic decomposition method, just to have a first look:"
   ]
  },
  {
   "cell_type": "code",
   "execution_count": 21,
   "metadata": {},
   "outputs": [
    {
     "data": {
      "image/png": "[encoded data removed]",
      "text/plain": [
       "plot without title"
      ]
     },
     "metadata": {},
     "output_type": "display_data"
    }
   ],
   "source": [
    "suicide_series_components  <- decompose(suicide_series_train)\n",
    "plot(suicide_series_components)"
   ]
  },
  {
   "cell_type": "markdown",
   "metadata": {},
   "source": [
    "The plot above shows the original time series (top), the estimated trend component (second from top), the estimated seasonal component (third from top), and the estimated irregular component (bottom). "
   ]
  },
  {
   "cell_type": "markdown",
   "metadata": {},
   "source": [
    "If we take a look at the suicide time series it seems that we have to deal with a trend and a seasonal component. Let's confirm this by plotting the autocorrelation function of our time series:"
   ]
  },
  {
   "cell_type": "code",
   "execution_count": 22,
   "metadata": {},
   "outputs": [
    {
     "data": {
      "image/png": "[encoded data removed]",
      "text/plain": [
       "Plot with title \"Suicide Series autocorrelation\""
      ]
     },
     "metadata": {},
     "output_type": "display_data"
    }
   ],
   "source": [
    "acf(suicide_series_train, main = 'Suicide Series autocorrelation')"
   ]
  },
  {
   "cell_type": "markdown",
   "metadata": {},
   "source": [
    "The slow decrease in the ACF as the lags increase is due to the trend, while the “scalloped” shape is due the seasonality. **We have a seasonal component**."
   ]
  },
  {
   "cell_type": "markdown",
   "metadata": {},
   "source": [
    "Classical decomposition methods assume that the seasonal component repeats from year to year and we think that it might not be our case. A more sophisticated implementation is stl decomposition."
   ]
  },
  {
   "cell_type": "markdown",
   "metadata": {},
   "source": [
    "#### 3.1.3. STL decomposition\n",
    "\n",
    "Maybe the most robust, versatile and popular method according to many sources. \n",
    "To determine the trend component this method uses a type of smoothing called loess that\n",
    "makes a linear regression in a small dot window to decompose a time series into seasonal, trend and irregular components.\n",
    "\n",
    "We are going to use mstl function which provides a convenient automated stl."
   ]
  },
  {
   "cell_type": "code",
   "execution_count": 23,
   "metadata": {},
   "outputs": [],
   "source": [
    "STL_suicide_components <- mstl(suicide_series_train) "
   ]
  },
  {
   "cell_type": "code",
   "execution_count": 24,
   "metadata": {},
   "outputs": [
    {
     "data": {},
     "metadata": {},
     "output_type": "display_data"
    },
    {
     "data": {
      "image/png": "[encoded data removed]",
      "text/plain": [
       "plot without title"
      ]
     },
     "metadata": {},
     "output_type": "display_data"
    }
   ],
   "source": [
    "options(repr.plot.width=8, repr.plot.height=4)\n",
    "autoplot(suicide_series_train, series=\"Data\") +\n",
    "    autolayer(trendcycle(STL_suicide_components), series=\"Trend\") +\n",
    "    autolayer(seasadj(STL_suicide_components), series=\"Seasonally Adjusted\") +\n",
    "    xlab(\"Year\") + ylab(\"Number of suicides\") +\n",
    "    ggtitle(\"Suicide in Spain over the years\") +\n",
    "    scale_colour_manual(values=c(\"gray\",\"blue\",\"red\"),\n",
    "             breaks=c(\"Data\",\"Seasonally Adjusted\",\"Trend\"))"
   ]
  },
  {
   "cell_type": "code",
   "execution_count": 25,
   "metadata": {},
   "outputs": [
    {
     "data": {},
     "metadata": {},
     "output_type": "display_data"
    },
    {
     "data": {
      "image/png": "[encoded data removed]",
      "text/plain": [
       "plot without title"
      ]
     },
     "metadata": {},
     "output_type": "display_data"
    }
   ],
   "source": [
    "options(repr.plot.width=8, repr.plot.height=4)\n",
    "STL_suicide_components %>% seasonal() %>% ggsubseriesplot() + ylab(\"Seasonal\")"
   ]
  },
  {
   "cell_type": "markdown",
   "metadata": {},
   "source": [
    "This form of plot enables the underlying seasonal pattern to be seen clearly, and also shows the changes in seasonality over time.  \n",
    "- February, March, September and December have a decreasing seasonality that begins to increase in recent years. \n",
    "- November has a drecreasing seasonality. \n",
    "- January and July ave a increasing seasonality. \n",
    "- April, August and October have a increasing seasonality that begins to decrease or stabilize in recent years"
   ]
  },
  {
   "cell_type": "code",
   "execution_count": 26,
   "metadata": {},
   "outputs": [
    {
     "data": {
      "image/png": "[encoded data removed]",
      "text/plain": [
       "plot without title"
      ]
     },
     "metadata": {},
     "output_type": "display_data"
    }
   ],
   "source": [
    "options(repr.plot.width=12, repr.plot.height=8)\n",
    "\n",
    "plot(STL_suicide_components)"
   ]
  },
  {
   "cell_type": "markdown",
   "metadata": {},
   "source": [
    "Here we can see a more smothed trend. But the most interesting thing that we can observe is how the seasonal component varies with time. Let's take a look at the values:"
   ]
  },
  {
   "cell_type": "code",
   "execution_count": 27,
   "metadata": {},
   "outputs": [
    {
     "data": {
      "text/html": [
       "<table>\n",
       "<caption>A Time Series: 16 × 12</caption>\n",
       "<thead>\n",
       "\t<tr><th></th><th scope=col>Jan</th><th scope=col>Feb</th><th scope=col>Mar</th><th scope=col>Apr</th><th scope=col>May</th><th scope=col>Jun</th><th scope=col>Jul</th><th scope=col>Aug</th><th scope=col>Sep</th><th scope=col>Oct</th><th scope=col>Nov</th><th scope=col>Dec</th></tr>\n",
       "</thead>\n",
       "<tbody>\n",
       "\t<tr><th scope=row>1998</th><td> -7.88926475</td><td> -9.94426966</td><td> 28.82186869</td><td>-10.79972087</td><td> 25.01057681</td><td> 28.91284501</td><td> 10.37245273</td><td>  0.25376826</td><td> 14.85832935</td><td>-24.83617765</td><td>-31.23114429</td><td>-23.94461255</td></tr>\n",
       "\t<tr><th scope=row>1999</th><td> -7.69584823</td><td>-10.29689734</td><td> 28.36713239</td><td>-10.28173861</td><td> 25.09598386</td><td> 29.50481451</td><td> 10.46035502</td><td>  0.79336162</td><td> 14.81430769</td><td>-24.58254082</td><td>-31.68034360</td><td>-24.97149539</td></tr>\n",
       "\t<tr><th scope=row>2000</th><td> -7.49621885</td><td>-10.64111991</td><td> 27.92299344</td><td> -9.75149649</td><td> 25.19531327</td><td> 30.11081747</td><td> 10.56240187</td><td>  1.34386216</td><td> 14.77795583</td><td>-24.32689931</td><td>-32.13320334</td><td>-26.00938288</td></tr>\n",
       "\t<tr><th scope=row>2001</th><td> -7.12982690</td><td>-11.59745636</td><td> 27.00517152</td><td> -8.80385537</td><td> 25.13139185</td><td> 31.12235177</td><td> 10.83629569</td><td>  2.17864151</td><td> 14.95091097</td><td>-23.70424804</td><td>-32.60618600</td><td>-27.75799183</td></tr>\n",
       "\t<tr><th scope=row>2002</th><td> -6.79321736</td><td>-12.57380165</td><td> 26.07711433</td><td> -7.85919664</td><td> 25.07174093</td><td> 32.13879043</td><td> 11.11572772</td><td>  3.01080353</td><td> 15.11309324</td><td>-23.10521764</td><td>-33.11563752</td><td>-29.55607940</td></tr>\n",
       "\t<tr><th scope=row>2003</th><td> -6.27595347</td><td>-14.41642725</td><td> 23.78404966</td><td> -5.99746784</td><td> 25.06018513</td><td> 34.87498901</td><td> 11.31607482</td><td>  5.52097863</td><td> 15.08332031</td><td>-21.38645131</td><td>-34.62005813</td><td>-34.27225229</td></tr>\n",
       "\t<tr><th scope=row>2004</th><td> -5.68876114</td><td>-16.17620274</td><td> 21.58675673</td><td> -4.03630604</td><td> 25.15172358</td><td> 37.71099726</td><td> 11.61294702</td><td>  8.11763053</td><td> 15.12997587</td><td>-19.60688615</td><td>-36.07930954</td><td>-38.96145403</td></tr>\n",
       "\t<tr><th scope=row>2005</th><td> -5.38602293</td><td>-18.33243833</td><td> 19.91200246</td><td> -2.63768074</td><td> 26.67688077</td><td> 37.55204740</td><td> 14.91641323</td><td> 10.52675105</td><td> 12.05578412</td><td>-17.07082650</td><td>-36.31186421</td><td>-42.00861410</td></tr>\n",
       "\t<tr><th scope=row>2006</th><td> -5.25433580</td><td>-20.65707077</td><td> 18.07150554</td><td> -1.39279550</td><td> 28.06030050</td><td> 37.27471092</td><td> 18.12484364</td><td> 12.87776352</td><td>  8.96041204</td><td>-14.51159995</td><td>-36.47690474</td><td>-44.94359425</td></tr>\n",
       "\t<tr><th scope=row>2007</th><td> -4.49294045</td><td>-22.90335318</td><td> 18.82189019</td><td>  0.07476307</td><td> 28.56957715</td><td> 34.23364723</td><td> 20.43414833</td><td> 12.46720248</td><td>  6.89674475</td><td>-13.60402853</td><td>-37.13232244</td><td>-42.88889527</td></tr>\n",
       "\t<tr><th scope=row>2008</th><td> -3.66488115</td><td>-25.12706881</td><td> 19.55074444</td><td>  1.48628778</td><td> 28.98831645</td><td> 31.07867530</td><td> 22.60617389</td><td> 11.90985919</td><td>  4.67679209</td><td>-12.85056387</td><td>-37.93966826</td><td>-40.97675294</td></tr>\n",
       "\t<tr><th scope=row>2009</th><td> -2.51941857</td><td>-25.52351420</td><td> 20.47960443</td><td>  1.50133316</td><td> 28.24598348</td><td> 30.26140864</td><td> 23.58692463</td><td> 10.70485475</td><td>  4.66572778</td><td>-13.46857487</td><td>-38.97999329</td><td>-39.52573720</td></tr>\n",
       "\t<tr><th scope=row>2010</th><td> -1.33126536</td><td>-25.86882381</td><td> 21.46804536</td><td>  1.58202873</td><td> 27.57536998</td><td> 29.52101278</td><td> 24.64969750</td><td>  9.58587818</td><td>  4.74469709</td><td>-13.99481818</td><td>-39.92681658</td><td>-37.98317347</td></tr>\n",
       "\t<tr><th scope=row>2011</th><td> -1.01034437</td><td>-26.01116709</td><td> 21.72727192</td><td>  1.56771664</td><td> 27.33422647</td><td> 29.10486189</td><td> 24.97177900</td><td>  9.16483559</td><td>  4.75028700</td><td>-14.10214822</td><td>-40.07955709</td><td>-37.35715507</td></tr>\n",
       "\t<tr><th scope=row>2012</th><td> -0.69876966</td><td>-26.16292621</td><td> 21.97701311</td><td>  1.54565044</td><td> 27.08706012</td><td> 28.68522755</td><td> 25.29291645</td><td>  8.74483037</td><td>  4.75889570</td><td>-14.20546416</td><td>-40.22728821</td><td>-36.72577194</td></tr>\n",
       "\t<tr><th scope=row>2013</th><td> -0.46913662</td><td>-26.22371726</td><td> 22.18372052</td><td>  1.56686623</td><td> 26.90936484</td><td> 28.31803628</td><td> 25.45085672</td><td>  8.42152749</td><td>  4.73279977</td><td>-14.38695418</td><td>-40.40930358</td><td>-36.17440788</td></tr>\n",
       "</tbody>\n",
       "</table>\n"
      ],
      "text/latex": [
       "A Time Series: 16 × 12\n",
       "\\begin{tabular}{r|llllllllllll}\n",
       "  & Jan & Feb & Mar & Apr & May & Jun & Jul & Aug & Sep & Oct & Nov & Dec\\\\\n",
       "\\hline\n",
       "\t1998 &  -7.88926475 &  -9.94426966 &  28.82186869 & -10.79972087 &  25.01057681 &  28.91284501 &  10.37245273 &   0.25376826 &  14.85832935 & -24.83617765 & -31.23114429 & -23.94461255\\\\\n",
       "\t1999 &  -7.69584823 & -10.29689734 &  28.36713239 & -10.28173861 &  25.09598386 &  29.50481451 &  10.46035502 &   0.79336162 &  14.81430769 & -24.58254082 & -31.68034360 & -24.97149539\\\\\n",
       "\t2000 &  -7.49621885 & -10.64111991 &  27.92299344 &  -9.75149649 &  25.19531327 &  30.11081747 &  10.56240187 &   1.34386216 &  14.77795583 & -24.32689931 & -32.13320334 & -26.00938288\\\\\n",
       "\t2001 &  -7.12982690 & -11.59745636 &  27.00517152 &  -8.80385537 &  25.13139185 &  31.12235177 &  10.83629569 &   2.17864151 &  14.95091097 & -23.70424804 & -32.60618600 & -27.75799183\\\\\n",
       "\t2002 &  -6.79321736 & -12.57380165 &  26.07711433 &  -7.85919664 &  25.07174093 &  32.13879043 &  11.11572772 &   3.01080353 &  15.11309324 & -23.10521764 & -33.11563752 & -29.55607940\\\\\n",
       "\t2003 &  -6.27595347 & -14.41642725 &  23.78404966 &  -5.99746784 &  25.06018513 &  34.87498901 &  11.31607482 &   5.52097863 &  15.08332031 & -21.38645131 & -34.62005813 & -34.27225229\\\\\n",
       "\t2004 &  -5.68876114 & -16.17620274 &  21.58675673 &  -4.03630604 &  25.15172358 &  37.71099726 &  11.61294702 &   8.11763053 &  15.12997587 & -19.60688615 & -36.07930954 & -38.96145403\\\\\n",
       "\t2005 &  -5.38602293 & -18.33243833 &  19.91200246 &  -2.63768074 &  26.67688077 &  37.55204740 &  14.91641323 &  10.52675105 &  12.05578412 & -17.07082650 & -36.31186421 & -42.00861410\\\\\n",
       "\t2006 &  -5.25433580 & -20.65707077 &  18.07150554 &  -1.39279550 &  28.06030050 &  37.27471092 &  18.12484364 &  12.87776352 &   8.96041204 & -14.51159995 & -36.47690474 & -44.94359425\\\\\n",
       "\t2007 &  -4.49294045 & -22.90335318 &  18.82189019 &   0.07476307 &  28.56957715 &  34.23364723 &  20.43414833 &  12.46720248 &   6.89674475 & -13.60402853 & -37.13232244 & -42.88889527\\\\\n",
       "\t2008 &  -3.66488115 & -25.12706881 &  19.55074444 &   1.48628778 &  28.98831645 &  31.07867530 &  22.60617389 &  11.90985919 &   4.67679209 & -12.85056387 & -37.93966826 & -40.97675294\\\\\n",
       "\t2009 &  -2.51941857 & -25.52351420 &  20.47960443 &   1.50133316 &  28.24598348 &  30.26140864 &  23.58692463 &  10.70485475 &   4.66572778 & -13.46857487 & -38.97999329 & -39.52573720\\\\\n",
       "\t2010 &  -1.33126536 & -25.86882381 &  21.46804536 &   1.58202873 &  27.57536998 &  29.52101278 &  24.64969750 &   9.58587818 &   4.74469709 & -13.99481818 & -39.92681658 & -37.98317347\\\\\n",
       "\t2011 &  -1.01034437 & -26.01116709 &  21.72727192 &   1.56771664 &  27.33422647 &  29.10486189 &  24.97177900 &   9.16483559 &   4.75028700 & -14.10214822 & -40.07955709 & -37.35715507\\\\\n",
       "\t2012 &  -0.69876966 & -26.16292621 &  21.97701311 &   1.54565044 &  27.08706012 &  28.68522755 &  25.29291645 &   8.74483037 &   4.75889570 & -14.20546416 & -40.22728821 & -36.72577194\\\\\n",
       "\t2013 &  -0.46913662 & -26.22371726 &  22.18372052 &   1.56686623 &  26.90936484 &  28.31803628 &  25.45085672 &   8.42152749 &   4.73279977 & -14.38695418 & -40.40930358 & -36.17440788\\\\\n",
       "\\end{tabular}\n"
      ],
      "text/markdown": [
       "\n",
       "A Time Series: 16 × 12\n",
       "\n",
       "| <!--/--> | Jan | Feb | Mar | Apr | May | Jun | Jul | Aug | Sep | Oct | Nov | Dec |\n",
       "|---|---|---|---|---|---|---|---|---|---|---|---|---|\n",
       "| 1998 |  -7.88926475 |  -9.94426966 |  28.82186869 | -10.79972087 |  25.01057681 |  28.91284501 |  10.37245273 |   0.25376826 |  14.85832935 | -24.83617765 | -31.23114429 | -23.94461255 |\n",
       "| 1999 |  -7.69584823 | -10.29689734 |  28.36713239 | -10.28173861 |  25.09598386 |  29.50481451 |  10.46035502 |   0.79336162 |  14.81430769 | -24.58254082 | -31.68034360 | -24.97149539 |\n",
       "| 2000 |  -7.49621885 | -10.64111991 |  27.92299344 |  -9.75149649 |  25.19531327 |  30.11081747 |  10.56240187 |   1.34386216 |  14.77795583 | -24.32689931 | -32.13320334 | -26.00938288 |\n",
       "| 2001 |  -7.12982690 | -11.59745636 |  27.00517152 |  -8.80385537 |  25.13139185 |  31.12235177 |  10.83629569 |   2.17864151 |  14.95091097 | -23.70424804 | -32.60618600 | -27.75799183 |\n",
       "| 2002 |  -6.79321736 | -12.57380165 |  26.07711433 |  -7.85919664 |  25.07174093 |  32.13879043 |  11.11572772 |   3.01080353 |  15.11309324 | -23.10521764 | -33.11563752 | -29.55607940 |\n",
       "| 2003 |  -6.27595347 | -14.41642725 |  23.78404966 |  -5.99746784 |  25.06018513 |  34.87498901 |  11.31607482 |   5.52097863 |  15.08332031 | -21.38645131 | -34.62005813 | -34.27225229 |\n",
       "| 2004 |  -5.68876114 | -16.17620274 |  21.58675673 |  -4.03630604 |  25.15172358 |  37.71099726 |  11.61294702 |   8.11763053 |  15.12997587 | -19.60688615 | -36.07930954 | -38.96145403 |\n",
       "| 2005 |  -5.38602293 | -18.33243833 |  19.91200246 |  -2.63768074 |  26.67688077 |  37.55204740 |  14.91641323 |  10.52675105 |  12.05578412 | -17.07082650 | -36.31186421 | -42.00861410 |\n",
       "| 2006 |  -5.25433580 | -20.65707077 |  18.07150554 |  -1.39279550 |  28.06030050 |  37.27471092 |  18.12484364 |  12.87776352 |   8.96041204 | -14.51159995 | -36.47690474 | -44.94359425 |\n",
       "| 2007 |  -4.49294045 | -22.90335318 |  18.82189019 |   0.07476307 |  28.56957715 |  34.23364723 |  20.43414833 |  12.46720248 |   6.89674475 | -13.60402853 | -37.13232244 | -42.88889527 |\n",
       "| 2008 |  -3.66488115 | -25.12706881 |  19.55074444 |   1.48628778 |  28.98831645 |  31.07867530 |  22.60617389 |  11.90985919 |   4.67679209 | -12.85056387 | -37.93966826 | -40.97675294 |\n",
       "| 2009 |  -2.51941857 | -25.52351420 |  20.47960443 |   1.50133316 |  28.24598348 |  30.26140864 |  23.58692463 |  10.70485475 |   4.66572778 | -13.46857487 | -38.97999329 | -39.52573720 |\n",
       "| 2010 |  -1.33126536 | -25.86882381 |  21.46804536 |   1.58202873 |  27.57536998 |  29.52101278 |  24.64969750 |   9.58587818 |   4.74469709 | -13.99481818 | -39.92681658 | -37.98317347 |\n",
       "| 2011 |  -1.01034437 | -26.01116709 |  21.72727192 |   1.56771664 |  27.33422647 |  29.10486189 |  24.97177900 |   9.16483559 |   4.75028700 | -14.10214822 | -40.07955709 | -37.35715507 |\n",
       "| 2012 |  -0.69876966 | -26.16292621 |  21.97701311 |   1.54565044 |  27.08706012 |  28.68522755 |  25.29291645 |   8.74483037 |   4.75889570 | -14.20546416 | -40.22728821 | -36.72577194 |\n",
       "| 2013 |  -0.46913662 | -26.22371726 |  22.18372052 |   1.56686623 |  26.90936484 |  28.31803628 |  25.45085672 |   8.42152749 |   4.73279977 | -14.38695418 | -40.40930358 | -36.17440788 |\n",
       "\n"
      ],
      "text/plain": [
       "     Jan          Feb          Mar          Apr          May         \n",
       "1998  -7.88926475  -9.94426966  28.82186869 -10.79972087  25.01057681\n",
       "1999  -7.69584823 -10.29689734  28.36713239 -10.28173861  25.09598386\n",
       "2000  -7.49621885 -10.64111991  27.92299344  -9.75149649  25.19531327\n",
       "2001  -7.12982690 -11.59745636  27.00517152  -8.80385537  25.13139185\n",
       "2002  -6.79321736 -12.57380165  26.07711433  -7.85919664  25.07174093\n",
       "2003  -6.27595347 -14.41642725  23.78404966  -5.99746784  25.06018513\n",
       "2004  -5.68876114 -16.17620274  21.58675673  -4.03630604  25.15172358\n",
       "2005  -5.38602293 -18.33243833  19.91200246  -2.63768074  26.67688077\n",
       "2006  -5.25433580 -20.65707077  18.07150554  -1.39279550  28.06030050\n",
       "2007  -4.49294045 -22.90335318  18.82189019   0.07476307  28.56957715\n",
       "2008  -3.66488115 -25.12706881  19.55074444   1.48628778  28.98831645\n",
       "2009  -2.51941857 -25.52351420  20.47960443   1.50133316  28.24598348\n",
       "2010  -1.33126536 -25.86882381  21.46804536   1.58202873  27.57536998\n",
       "2011  -1.01034437 -26.01116709  21.72727192   1.56771664  27.33422647\n",
       "2012  -0.69876966 -26.16292621  21.97701311   1.54565044  27.08706012\n",
       "2013  -0.46913662 -26.22371726  22.18372052   1.56686623  26.90936484\n",
       "     Jun          Jul          Aug          Sep          Oct         \n",
       "1998  28.91284501  10.37245273   0.25376826  14.85832935 -24.83617765\n",
       "1999  29.50481451  10.46035502   0.79336162  14.81430769 -24.58254082\n",
       "2000  30.11081747  10.56240187   1.34386216  14.77795583 -24.32689931\n",
       "2001  31.12235177  10.83629569   2.17864151  14.95091097 -23.70424804\n",
       "2002  32.13879043  11.11572772   3.01080353  15.11309324 -23.10521764\n",
       "2003  34.87498901  11.31607482   5.52097863  15.08332031 -21.38645131\n",
       "2004  37.71099726  11.61294702   8.11763053  15.12997587 -19.60688615\n",
       "2005  37.55204740  14.91641323  10.52675105  12.05578412 -17.07082650\n",
       "2006  37.27471092  18.12484364  12.87776352   8.96041204 -14.51159995\n",
       "2007  34.23364723  20.43414833  12.46720248   6.89674475 -13.60402853\n",
       "2008  31.07867530  22.60617389  11.90985919   4.67679209 -12.85056387\n",
       "2009  30.26140864  23.58692463  10.70485475   4.66572778 -13.46857487\n",
       "2010  29.52101278  24.64969750   9.58587818   4.74469709 -13.99481818\n",
       "2011  29.10486189  24.97177900   9.16483559   4.75028700 -14.10214822\n",
       "2012  28.68522755  25.29291645   8.74483037   4.75889570 -14.20546416\n",
       "2013  28.31803628  25.45085672   8.42152749   4.73279977 -14.38695418\n",
       "     Nov          Dec         \n",
       "1998 -31.23114429 -23.94461255\n",
       "1999 -31.68034360 -24.97149539\n",
       "2000 -32.13320334 -26.00938288\n",
       "2001 -32.60618600 -27.75799183\n",
       "2002 -33.11563752 -29.55607940\n",
       "2003 -34.62005813 -34.27225229\n",
       "2004 -36.07930954 -38.96145403\n",
       "2005 -36.31186421 -42.00861410\n",
       "2006 -36.47690474 -44.94359425\n",
       "2007 -37.13232244 -42.88889527\n",
       "2008 -37.93966826 -40.97675294\n",
       "2009 -38.97999329 -39.52573720\n",
       "2010 -39.92681658 -37.98317347\n",
       "2011 -40.07955709 -37.35715507\n",
       "2012 -40.22728821 -36.72577194\n",
       "2013 -40.40930358 -36.17440788"
      ]
     },
     "metadata": {},
     "output_type": "display_data"
    }
   ],
   "source": [
    "seasonal(STL_suicide_components) #get the values of the seasonal component"
   ]
  },
  {
   "cell_type": "markdown",
   "metadata": {},
   "source": [
    "June and May are the months with the highest values of suicides, followed by July that does not stop growing. November remains with the lowest values over time."
   ]
  },
  {
   "cell_type": "markdown",
   "metadata": {},
   "source": [
    "The seasonal component might not be relevant to explain the dynamics of the series. In order to see that, we can compare the variance of each component with respect to the variance of the original series."
   ]
  },
  {
   "cell_type": "code",
   "execution_count": 28,
   "metadata": {},
   "outputs": [
    {
     "data": {
      "text/html": [
       "<dl class=dl-horizontal>\n",
       "\t<dt>Data</dt>\n",
       "\t\t<dd>1</dd>\n",
       "\t<dt>Trend</dt>\n",
       "\t\t<dd>0.68989740229602</dd>\n",
       "\t<dt>Seasonal12</dt>\n",
       "\t\t<dd>0.186129557926224</dd>\n",
       "\t<dt>Remainder</dt>\n",
       "\t\t<dd>0.102262920094411</dd>\n",
       "</dl>\n"
      ],
      "text/latex": [
       "\\begin{description*}\n",
       "\\item[Data] 1\n",
       "\\item[Trend] 0.68989740229602\n",
       "\\item[Seasonal12] 0.186129557926224\n",
       "\\item[Remainder] 0.102262920094411\n",
       "\\end{description*}\n"
      ],
      "text/markdown": [
       "Data\n",
       ":   1Trend\n",
       ":   0.68989740229602Seasonal12\n",
       ":   0.186129557926224Remainder\n",
       ":   0.102262920094411\n",
       "\n"
      ],
      "text/plain": [
       "      Data      Trend Seasonal12  Remainder \n",
       " 1.0000000  0.6898974  0.1861296  0.1022629 "
      ]
     },
     "metadata": {},
     "output_type": "display_data"
    }
   ],
   "source": [
    "apply(STL_suicide_components,2, var) / var(suicide_series_train)"
   ]
  },
  {
   "cell_type": "markdown",
   "metadata": {},
   "source": [
    "*We can see that it is the trend what explains most of the variance in the data.*"
   ]
  },
  {
   "cell_type": "code",
   "execution_count": 29,
   "metadata": {},
   "outputs": [
    {
     "data": {
      "text/html": [
       "<table>\n",
       "<caption>A Time Series: 16 × 12</caption>\n",
       "<thead>\n",
       "\t<tr><th></th><th scope=col>Jan</th><th scope=col>Feb</th><th scope=col>Mar</th><th scope=col>Apr</th><th scope=col>May</th><th scope=col>Jun</th><th scope=col>Jul</th><th scope=col>Aug</th><th scope=col>Sep</th><th scope=col>Oct</th><th scope=col>Nov</th><th scope=col>Dec</th></tr>\n",
       "</thead>\n",
       "<tbody>\n",
       "\t<tr><th scope=row>1998</th><td>225.8893</td><td>247.9443</td><td>252.1781</td><td>205.7997</td><td>241.9894</td><td>193.0872</td><td>215.6275</td><td>206.7462</td><td>178.1417</td><td>200.8362</td><td>199.2311</td><td>230.9446</td></tr>\n",
       "\t<tr><th scope=row>1999</th><td>198.6958</td><td>222.2969</td><td>216.6329</td><td>206.2817</td><td>202.9040</td><td>197.4952</td><td>212.5396</td><td>200.2066</td><td>201.1857</td><td>191.5825</td><td>194.6803</td><td>211.9715</td></tr>\n",
       "\t<tr><th scope=row>2000</th><td>225.4962</td><td>175.6411</td><td>196.0770</td><td>213.7515</td><td>205.8047</td><td>201.8892</td><td>221.4376</td><td>199.6561</td><td>228.2220</td><td>202.3269</td><td>242.1332</td><td>225.0094</td></tr>\n",
       "\t<tr><th scope=row>2001</th><td>174.1298</td><td>183.5975</td><td>198.9948</td><td>177.8039</td><td>176.8686</td><td>178.8776</td><td>186.1637</td><td>174.8214</td><td>184.0491</td><td>208.7042</td><td>188.6062</td><td>184.7580</td></tr>\n",
       "\t<tr><th scope=row>2002</th><td>192.7932</td><td>201.5738</td><td>191.9229</td><td>183.8592</td><td>172.9283</td><td>184.8612</td><td>169.8843</td><td>163.9892</td><td>202.8869</td><td>195.1052</td><td>191.1156</td><td>210.5561</td></tr>\n",
       "\t<tr><th scope=row>2003</th><td>173.2760</td><td>205.4164</td><td>170.2160</td><td>157.9975</td><td>175.9398</td><td>197.1250</td><td>167.6839</td><td>217.4790</td><td>202.9167</td><td>156.3865</td><td>214.6201</td><td>172.2723</td></tr>\n",
       "\t<tr><th scope=row>2004</th><td>170.6888</td><td>188.1762</td><td>168.4132</td><td>184.0363</td><td>188.8483</td><td>209.2890</td><td>172.3871</td><td>181.8824</td><td>211.8700</td><td>191.6069</td><td>186.0793</td><td>221.9615</td></tr>\n",
       "\t<tr><th scope=row>2005</th><td>290.3860</td><td>273.3324</td><td>282.0880</td><td>309.6377</td><td>277.3231</td><td>282.4480</td><td>291.0836</td><td>281.4732</td><td>262.9442</td><td>295.0708</td><td>266.3119</td><td>287.0086</td></tr>\n",
       "\t<tr><th scope=row>2006</th><td>269.2543</td><td>241.6571</td><td>270.9285</td><td>286.3928</td><td>294.9397</td><td>267.7253</td><td>280.8752</td><td>289.1222</td><td>275.0396</td><td>281.5116</td><td>256.4769</td><td>231.9436</td></tr>\n",
       "\t<tr><th scope=row>2007</th><td>261.4929</td><td>260.9034</td><td>275.1781</td><td>256.9252</td><td>285.4304</td><td>267.7664</td><td>294.5659</td><td>282.5328</td><td>265.1033</td><td>262.6040</td><td>274.1323</td><td>275.8889</td></tr>\n",
       "\t<tr><th scope=row>2008</th><td>274.6649</td><td>282.1271</td><td>289.4493</td><td>281.5137</td><td>253.0117</td><td>294.9213</td><td>278.3938</td><td>284.0901</td><td>277.3232</td><td>316.8506</td><td>310.9397</td><td>313.9768</td></tr>\n",
       "\t<tr><th scope=row>2009</th><td>277.5194</td><td>295.5235</td><td>251.5204</td><td>256.4987</td><td>287.7540</td><td>290.7386</td><td>306.4131</td><td>287.2951</td><td>298.3343</td><td>303.4686</td><td>326.9800</td><td>247.5257</td></tr>\n",
       "\t<tr><th scope=row>2010</th><td>271.3313</td><td>252.8688</td><td>271.5320</td><td>287.4180</td><td>285.4246</td><td>238.4790</td><td>255.3503</td><td>263.4141</td><td>260.2553</td><td>253.9948</td><td>241.9268</td><td>275.9832</td></tr>\n",
       "\t<tr><th scope=row>2011</th><td>257.0103</td><td>269.0112</td><td>274.2727</td><td>266.4323</td><td>249.6658</td><td>255.8951</td><td>238.0282</td><td>259.8352</td><td>258.2497</td><td>273.1021</td><td>282.0796</td><td>296.3572</td></tr>\n",
       "\t<tr><th scope=row>2012</th><td>285.6988</td><td>291.1629</td><td>287.0230</td><td>289.4543</td><td>296.9129</td><td>281.3148</td><td>312.7071</td><td>303.2552</td><td>292.2411</td><td>281.2055</td><td>290.2273</td><td>327.7258</td></tr>\n",
       "\t<tr><th scope=row>2013</th><td>344.4691</td><td>315.2237</td><td>336.8163</td><td>322.4331</td><td>308.0906</td><td>334.6820</td><td>331.5491</td><td>299.5785</td><td>340.2672</td><td>315.3870</td><td>299.4093</td><td>322.1744</td></tr>\n",
       "</tbody>\n",
       "</table>\n"
      ],
      "text/latex": [
       "A Time Series: 16 × 12\n",
       "\\begin{tabular}{r|llllllllllll}\n",
       "  & Jan & Feb & Mar & Apr & May & Jun & Jul & Aug & Sep & Oct & Nov & Dec\\\\\n",
       "\\hline\n",
       "\t1998 & 225.8893 & 247.9443 & 252.1781 & 205.7997 & 241.9894 & 193.0872 & 215.6275 & 206.7462 & 178.1417 & 200.8362 & 199.2311 & 230.9446\\\\\n",
       "\t1999 & 198.6958 & 222.2969 & 216.6329 & 206.2817 & 202.9040 & 197.4952 & 212.5396 & 200.2066 & 201.1857 & 191.5825 & 194.6803 & 211.9715\\\\\n",
       "\t2000 & 225.4962 & 175.6411 & 196.0770 & 213.7515 & 205.8047 & 201.8892 & 221.4376 & 199.6561 & 228.2220 & 202.3269 & 242.1332 & 225.0094\\\\\n",
       "\t2001 & 174.1298 & 183.5975 & 198.9948 & 177.8039 & 176.8686 & 178.8776 & 186.1637 & 174.8214 & 184.0491 & 208.7042 & 188.6062 & 184.7580\\\\\n",
       "\t2002 & 192.7932 & 201.5738 & 191.9229 & 183.8592 & 172.9283 & 184.8612 & 169.8843 & 163.9892 & 202.8869 & 195.1052 & 191.1156 & 210.5561\\\\\n",
       "\t2003 & 173.2760 & 205.4164 & 170.2160 & 157.9975 & 175.9398 & 197.1250 & 167.6839 & 217.4790 & 202.9167 & 156.3865 & 214.6201 & 172.2723\\\\\n",
       "\t2004 & 170.6888 & 188.1762 & 168.4132 & 184.0363 & 188.8483 & 209.2890 & 172.3871 & 181.8824 & 211.8700 & 191.6069 & 186.0793 & 221.9615\\\\\n",
       "\t2005 & 290.3860 & 273.3324 & 282.0880 & 309.6377 & 277.3231 & 282.4480 & 291.0836 & 281.4732 & 262.9442 & 295.0708 & 266.3119 & 287.0086\\\\\n",
       "\t2006 & 269.2543 & 241.6571 & 270.9285 & 286.3928 & 294.9397 & 267.7253 & 280.8752 & 289.1222 & 275.0396 & 281.5116 & 256.4769 & 231.9436\\\\\n",
       "\t2007 & 261.4929 & 260.9034 & 275.1781 & 256.9252 & 285.4304 & 267.7664 & 294.5659 & 282.5328 & 265.1033 & 262.6040 & 274.1323 & 275.8889\\\\\n",
       "\t2008 & 274.6649 & 282.1271 & 289.4493 & 281.5137 & 253.0117 & 294.9213 & 278.3938 & 284.0901 & 277.3232 & 316.8506 & 310.9397 & 313.9768\\\\\n",
       "\t2009 & 277.5194 & 295.5235 & 251.5204 & 256.4987 & 287.7540 & 290.7386 & 306.4131 & 287.2951 & 298.3343 & 303.4686 & 326.9800 & 247.5257\\\\\n",
       "\t2010 & 271.3313 & 252.8688 & 271.5320 & 287.4180 & 285.4246 & 238.4790 & 255.3503 & 263.4141 & 260.2553 & 253.9948 & 241.9268 & 275.9832\\\\\n",
       "\t2011 & 257.0103 & 269.0112 & 274.2727 & 266.4323 & 249.6658 & 255.8951 & 238.0282 & 259.8352 & 258.2497 & 273.1021 & 282.0796 & 296.3572\\\\\n",
       "\t2012 & 285.6988 & 291.1629 & 287.0230 & 289.4543 & 296.9129 & 281.3148 & 312.7071 & 303.2552 & 292.2411 & 281.2055 & 290.2273 & 327.7258\\\\\n",
       "\t2013 & 344.4691 & 315.2237 & 336.8163 & 322.4331 & 308.0906 & 334.6820 & 331.5491 & 299.5785 & 340.2672 & 315.3870 & 299.4093 & 322.1744\\\\\n",
       "\\end{tabular}\n"
      ],
      "text/markdown": [
       "\n",
       "A Time Series: 16 × 12\n",
       "\n",
       "| <!--/--> | Jan | Feb | Mar | Apr | May | Jun | Jul | Aug | Sep | Oct | Nov | Dec |\n",
       "|---|---|---|---|---|---|---|---|---|---|---|---|---|\n",
       "| 1998 | 225.8893 | 247.9443 | 252.1781 | 205.7997 | 241.9894 | 193.0872 | 215.6275 | 206.7462 | 178.1417 | 200.8362 | 199.2311 | 230.9446 |\n",
       "| 1999 | 198.6958 | 222.2969 | 216.6329 | 206.2817 | 202.9040 | 197.4952 | 212.5396 | 200.2066 | 201.1857 | 191.5825 | 194.6803 | 211.9715 |\n",
       "| 2000 | 225.4962 | 175.6411 | 196.0770 | 213.7515 | 205.8047 | 201.8892 | 221.4376 | 199.6561 | 228.2220 | 202.3269 | 242.1332 | 225.0094 |\n",
       "| 2001 | 174.1298 | 183.5975 | 198.9948 | 177.8039 | 176.8686 | 178.8776 | 186.1637 | 174.8214 | 184.0491 | 208.7042 | 188.6062 | 184.7580 |\n",
       "| 2002 | 192.7932 | 201.5738 | 191.9229 | 183.8592 | 172.9283 | 184.8612 | 169.8843 | 163.9892 | 202.8869 | 195.1052 | 191.1156 | 210.5561 |\n",
       "| 2003 | 173.2760 | 205.4164 | 170.2160 | 157.9975 | 175.9398 | 197.1250 | 167.6839 | 217.4790 | 202.9167 | 156.3865 | 214.6201 | 172.2723 |\n",
       "| 2004 | 170.6888 | 188.1762 | 168.4132 | 184.0363 | 188.8483 | 209.2890 | 172.3871 | 181.8824 | 211.8700 | 191.6069 | 186.0793 | 221.9615 |\n",
       "| 2005 | 290.3860 | 273.3324 | 282.0880 | 309.6377 | 277.3231 | 282.4480 | 291.0836 | 281.4732 | 262.9442 | 295.0708 | 266.3119 | 287.0086 |\n",
       "| 2006 | 269.2543 | 241.6571 | 270.9285 | 286.3928 | 294.9397 | 267.7253 | 280.8752 | 289.1222 | 275.0396 | 281.5116 | 256.4769 | 231.9436 |\n",
       "| 2007 | 261.4929 | 260.9034 | 275.1781 | 256.9252 | 285.4304 | 267.7664 | 294.5659 | 282.5328 | 265.1033 | 262.6040 | 274.1323 | 275.8889 |\n",
       "| 2008 | 274.6649 | 282.1271 | 289.4493 | 281.5137 | 253.0117 | 294.9213 | 278.3938 | 284.0901 | 277.3232 | 316.8506 | 310.9397 | 313.9768 |\n",
       "| 2009 | 277.5194 | 295.5235 | 251.5204 | 256.4987 | 287.7540 | 290.7386 | 306.4131 | 287.2951 | 298.3343 | 303.4686 | 326.9800 | 247.5257 |\n",
       "| 2010 | 271.3313 | 252.8688 | 271.5320 | 287.4180 | 285.4246 | 238.4790 | 255.3503 | 263.4141 | 260.2553 | 253.9948 | 241.9268 | 275.9832 |\n",
       "| 2011 | 257.0103 | 269.0112 | 274.2727 | 266.4323 | 249.6658 | 255.8951 | 238.0282 | 259.8352 | 258.2497 | 273.1021 | 282.0796 | 296.3572 |\n",
       "| 2012 | 285.6988 | 291.1629 | 287.0230 | 289.4543 | 296.9129 | 281.3148 | 312.7071 | 303.2552 | 292.2411 | 281.2055 | 290.2273 | 327.7258 |\n",
       "| 2013 | 344.4691 | 315.2237 | 336.8163 | 322.4331 | 308.0906 | 334.6820 | 331.5491 | 299.5785 | 340.2672 | 315.3870 | 299.4093 | 322.1744 |\n",
       "\n"
      ],
      "text/plain": [
       "     Jan      Feb      Mar      Apr      May      Jun      Jul      Aug     \n",
       "1998 225.8893 247.9443 252.1781 205.7997 241.9894 193.0872 215.6275 206.7462\n",
       "1999 198.6958 222.2969 216.6329 206.2817 202.9040 197.4952 212.5396 200.2066\n",
       "2000 225.4962 175.6411 196.0770 213.7515 205.8047 201.8892 221.4376 199.6561\n",
       "2001 174.1298 183.5975 198.9948 177.8039 176.8686 178.8776 186.1637 174.8214\n",
       "2002 192.7932 201.5738 191.9229 183.8592 172.9283 184.8612 169.8843 163.9892\n",
       "2003 173.2760 205.4164 170.2160 157.9975 175.9398 197.1250 167.6839 217.4790\n",
       "2004 170.6888 188.1762 168.4132 184.0363 188.8483 209.2890 172.3871 181.8824\n",
       "2005 290.3860 273.3324 282.0880 309.6377 277.3231 282.4480 291.0836 281.4732\n",
       "2006 269.2543 241.6571 270.9285 286.3928 294.9397 267.7253 280.8752 289.1222\n",
       "2007 261.4929 260.9034 275.1781 256.9252 285.4304 267.7664 294.5659 282.5328\n",
       "2008 274.6649 282.1271 289.4493 281.5137 253.0117 294.9213 278.3938 284.0901\n",
       "2009 277.5194 295.5235 251.5204 256.4987 287.7540 290.7386 306.4131 287.2951\n",
       "2010 271.3313 252.8688 271.5320 287.4180 285.4246 238.4790 255.3503 263.4141\n",
       "2011 257.0103 269.0112 274.2727 266.4323 249.6658 255.8951 238.0282 259.8352\n",
       "2012 285.6988 291.1629 287.0230 289.4543 296.9129 281.3148 312.7071 303.2552\n",
       "2013 344.4691 315.2237 336.8163 322.4331 308.0906 334.6820 331.5491 299.5785\n",
       "     Sep      Oct      Nov      Dec     \n",
       "1998 178.1417 200.8362 199.2311 230.9446\n",
       "1999 201.1857 191.5825 194.6803 211.9715\n",
       "2000 228.2220 202.3269 242.1332 225.0094\n",
       "2001 184.0491 208.7042 188.6062 184.7580\n",
       "2002 202.8869 195.1052 191.1156 210.5561\n",
       "2003 202.9167 156.3865 214.6201 172.2723\n",
       "2004 211.8700 191.6069 186.0793 221.9615\n",
       "2005 262.9442 295.0708 266.3119 287.0086\n",
       "2006 275.0396 281.5116 256.4769 231.9436\n",
       "2007 265.1033 262.6040 274.1323 275.8889\n",
       "2008 277.3232 316.8506 310.9397 313.9768\n",
       "2009 298.3343 303.4686 326.9800 247.5257\n",
       "2010 260.2553 253.9948 241.9268 275.9832\n",
       "2011 258.2497 273.1021 282.0796 296.3572\n",
       "2012 292.2411 281.2055 290.2273 327.7258\n",
       "2013 340.2672 315.3870 299.4093 322.1744"
      ]
     },
     "metadata": {},
     "output_type": "display_data"
    }
   ],
   "source": [
    "seasadj(STL_suicide_components)"
   ]
  },
  {
   "cell_type": "markdown",
   "metadata": {},
   "source": [
    "Seasadj function returns seasonally adjusted data constructed by removing the seasonal component. The seasonally adjusted time series now just contains the trend and the irregular component."
   ]
  },
  {
   "cell_type": "markdown",
   "metadata": {},
   "source": [
    "##### *Forecasting with Decomposition*\n",
    "\n",
    "While decomposition is primarily useful for studying time series data, and exploring historical changes over time, it can also be used in forecasting.\n",
    "\n",
    "We will use stlf function which decompose the time series using STL, forecast the seasonally adjusted series with ARIMA, and return the reseasonalised forecasts."
   ]
  },
  {
   "cell_type": "code",
   "execution_count": 30,
   "metadata": {},
   "outputs": [
    {
     "data": {
      "image/png": "[encoded data removed]",
      "text/plain": [
       "Plot with title \"Forecasts from STL +  ARIMA(0,1,1)\""
      ]
     },
     "metadata": {},
     "output_type": "display_data"
    }
   ],
   "source": [
    "options(repr.plot.width=8, repr.plot.height=4)\n",
    "\n",
    "forecast_decomposed_suicide_series <- stlf(suicide_series_train, method='arima', h = 48)\n",
    "plot(forecast_decomposed_suicide_series)"
   ]
  },
  {
   "cell_type": "markdown",
   "metadata": {},
   "source": [
    "We can investigate whether the predictive model can be improved upon by checking whether the in-sample forecast\n",
    "errors show non-zero autocorrelations at lags 1-12, by making a correlogram and carrying out the Ljung-Box test.\n",
    "\n",
    "What is desired in time series is to build a model such that after extracting the trend and seasonality it can be certain that the waste is very similar to a white Gaussian noise. This assures us that we obtained all possible information from the data and that we can no longer know much more about the series in the errors. This also allows us to trust that the model is good and that its predictions therefore must be good."
   ]
  },
  {
   "cell_type": "code",
   "execution_count": 31,
   "metadata": {},
   "outputs": [],
   "source": [
    "check_model_residuals  <- function(model){\n",
    "    options(repr.plot.width=7, repr.plot.height=7)\n",
    "\n",
    "    #Ljung-Box test\n",
    "    model_residuals  <- residuals(model)\n",
    "    print(Box.test(model_residuals, lag= 24, type = 'Ljung-Box'))\n",
    "\n",
    "    #Graphic analysis\n",
    "    par (mfrow = c(2,2))\n",
    "    plot (model_residuals, ylab = 'Residuals')\n",
    "    abline (h=0, lty=2, col=\"2\")\n",
    "    ##Correlogram\n",
    "    acf (model_residuals, 24, na.action = na.pass, main = 'Residuals Series', ylab = 'ACF' )\n",
    "    ##Histogram\n",
    "    hist(model_residuals, prob = T, col=\"6\", main = 'Histogram of residuals', xlab = 'Residuals')\n",
    "    lines(density (na.omit(model_residuals)), col=\"4\")\n",
    "    ##Q-Q plot\n",
    "    qqnorm (model_residuals)\n",
    "    qqline (model_residuals,col=\"2\")}"
   ]
  },
  {
   "cell_type": "code",
   "execution_count": 32,
   "metadata": {},
   "outputs": [
    {
     "name": "stdout",
     "output_type": "stream",
     "text": [
      "\n",
      "\tBox-Ljung test\n",
      "\n",
      "data:  model_residuals\n",
      "X-squared = 35.437, df = 24, p-value = 0.06218\n",
      "\n"
     ]
    },
    {
     "data": {
      "image/png": "[encoded data removed]",
      "text/plain": [
       "Plot with title \"Normal Q-Q Plot\""
      ]
     },
     "metadata": {},
     "output_type": "display_data"
    }
   ],
   "source": [
    "check_model_residuals(forecast_decomposed_suicide_series)"
   ]
  },
  {
   "cell_type": "markdown",
   "metadata": {},
   "source": [
    "The graphs and the test show us that the model is relatively good since their residuals behave like white noise with non significant autocorrelations and a normal distribution."
   ]
  },
  {
   "cell_type": "markdown",
   "metadata": {},
   "source": [
    "##### *- Evaluating the forecasts.* \n",
    "Here we are going to see the accuracy of the model. Later we will evaluate the metrics of the models generated to compare them"
   ]
  },
  {
   "cell_type": "code",
   "execution_count": 33,
   "metadata": {},
   "outputs": [
    {
     "data": {
      "text/html": [
       "<table>\n",
       "<caption>A matrix: 2 × 8 of type dbl</caption>\n",
       "<thead>\n",
       "\t<tr><th></th><th scope=col>ME</th><th scope=col>RMSE</th><th scope=col>MAE</th><th scope=col>MPE</th><th scope=col>MAPE</th><th scope=col>MASE</th><th scope=col>ACF1</th><th scope=col>Theil's U</th></tr>\n",
       "</thead>\n",
       "<tbody>\n",
       "\t<tr><th scope=row>Training set</th><td> 1.024471</td><td>19.89423</td><td>15.27388</td><td>-0.2002356</td><td>6.621737</td><td>0.5675677</td><td>-0.01144965</td><td>       NA</td></tr>\n",
       "\t<tr><th scope=row>Test set</th><td>-8.864959</td><td>24.00003</td><td>20.82885</td><td>-3.4205697</td><td>6.943263</td><td>0.7739871</td><td> 0.05833164</td><td>0.7228049</td></tr>\n",
       "</tbody>\n",
       "</table>\n"
      ],
      "text/latex": [
       "A matrix: 2 × 8 of type dbl\n",
       "\\begin{tabular}{r|llllllll}\n",
       "  & ME & RMSE & MAE & MPE & MAPE & MASE & ACF1 & Theil's U\\\\\n",
       "\\hline\n",
       "\tTraining set &  1.024471 & 19.89423 & 15.27388 & -0.2002356 & 6.621737 & 0.5675677 & -0.01144965 &        NA\\\\\n",
       "\tTest set & -8.864959 & 24.00003 & 20.82885 & -3.4205697 & 6.943263 & 0.7739871 &  0.05833164 & 0.7228049\\\\\n",
       "\\end{tabular}\n"
      ],
      "text/markdown": [
       "\n",
       "A matrix: 2 × 8 of type dbl\n",
       "\n",
       "| <!--/--> | ME | RMSE | MAE | MPE | MAPE | MASE | ACF1 | Theil's U |\n",
       "|---|---|---|---|---|---|---|---|---|\n",
       "| Training set |  1.024471 | 19.89423 | 15.27388 | -0.2002356 | 6.621737 | 0.5675677 | -0.01144965 |        NA |\n",
       "| Test set | -8.864959 | 24.00003 | 20.82885 | -3.4205697 | 6.943263 | 0.7739871 |  0.05833164 | 0.7228049 |\n",
       "\n"
      ],
      "text/plain": [
       "             ME        RMSE     MAE      MPE        MAPE     MASE     \n",
       "Training set  1.024471 19.89423 15.27388 -0.2002356 6.621737 0.5675677\n",
       "Test set     -8.864959 24.00003 20.82885 -3.4205697 6.943263 0.7739871\n",
       "             ACF1        Theil's U\n",
       "Training set -0.01144965        NA\n",
       "Test set      0.05833164 0.7228049"
      ]
     },
     "metadata": {},
     "output_type": "display_data"
    },
    {
     "data": {
      "image/png": "[encoded data removed]",
      "text/plain": [
       "Plot with title \"Forecasts from STL +  ARIMA(0,1,1)\""
      ]
     },
     "metadata": {},
     "output_type": "display_data"
    }
   ],
   "source": [
    "options(repr.plot.width=8, repr.plot.height=4)\n",
    "\n",
    "#Accuracy and plot\n",
    "accuracy(forecast_decomposed_suicide_series, suicide_series_test)\n",
    "plot(forecast_decomposed_suicide_series)\n",
    "lines(suicide_1998_2017)"
   ]
  },
  {
   "cell_type": "markdown",
   "metadata": {},
   "source": [
    "##### Forecasting with Holt-Winters Exponential Smoothing"
   ]
  },
  {
   "cell_type": "markdown",
   "metadata": {},
   "source": [
    "If you have a time series that can be described using an additive model with increasing or decreasing trend and\n",
    "seasonality, you can use Holt-Winters exponential smoothing to make short-term forecasts."
   ]
  },
  {
   "cell_type": "code",
   "execution_count": 34,
   "metadata": {
    "scrolled": true
   },
   "outputs": [
    {
     "data": {
      "text/plain": [
       "Holt-Winters exponential smoothing with trend and additive seasonal component.\n",
       "\n",
       "Call:\n",
       "HoltWinters(x = suicide_series_train)\n",
       "\n",
       "Smoothing parameters:\n",
       " alpha: 0.4094368\n",
       " beta : 0.006114559\n",
       " gamma: 0.3334522\n",
       "\n",
       "Coefficients:\n",
       "           [,1]\n",
       "a   309.1665554\n",
       "b     0.1756057\n",
       "s1    5.7093781\n",
       "s2  -22.1624680\n",
       "s3   30.8767563\n",
       "s4    7.2282819\n",
       "s5   31.5845167\n",
       "s6   36.7446667\n",
       "s7   33.2842689\n",
       "s8   10.7927082\n",
       "s9   13.5906965\n",
       "s10 -12.9284466\n",
       "s11 -38.0492814\n",
       "s12 -24.9869868"
      ]
     },
     "metadata": {},
     "output_type": "display_data"
    }
   ],
   "source": [
    "suicide_series_hw_forecasts  <- HoltWinters(suicide_series_train)\n",
    "suicide_series_hw_forecasts"
   ]
  },
  {
   "cell_type": "markdown",
   "metadata": {},
   "source": [
    "The estimated values of alpha, beta and gamma are 0.40, 0.00, and 0.33, respectively. The value of alpha is relatively low, indicating that the estimate of the level at the current time point is based upon both recent observations and some observations in the more distant past. The value of beta is 0.00, indicating that the estimate of the slope b of the trend component is not updated over the time series, and instead is set equal to its initial value.\n",
    "This makes good intuitive sense, as the level changes quite a bit over the time series, but the slope b of the trend\n",
    "component remains roughly the same. The value of gamma (0.33) is low, indicating that the seasonal component don't change to much over time.\n"
   ]
  },
  {
   "cell_type": "markdown",
   "metadata": {},
   "source": [
    "The observed values are plotted with the black line and the fitted values with the red one."
   ]
  },
  {
   "cell_type": "code",
   "execution_count": 35,
   "metadata": {},
   "outputs": [
    {
     "data": {
      "image/png": "[encoded data removed]",
      "text/plain": [
       "Plot with title \"Forecasts from HoltWinters\""
      ]
     },
     "metadata": {},
     "output_type": "display_data"
    }
   ],
   "source": [
    "options(repr.plot.width=8, repr.plot.height=5)\n",
    "\n",
    "\n",
    "suicide_series_hw_future_forecasts <- forecast(suicide_series_hw_forecasts, h = 48)\n",
    "plot(suicide_series_hw_future_forecasts)"
   ]
  },
  {
   "cell_type": "markdown",
   "metadata": {},
   "source": [
    "*The forecasts are shown as a blue line, and the blue and grey shaded areas show 80% and 95% prediction\n",
    "intervals, respectively.*"
   ]
  },
  {
   "cell_type": "markdown",
   "metadata": {},
   "source": [
    "Now we are going to see how the residuals behave as we did with the previous model."
   ]
  },
  {
   "cell_type": "code",
   "execution_count": 36,
   "metadata": {},
   "outputs": [
    {
     "name": "stdout",
     "output_type": "stream",
     "text": [
      "\n",
      "\tBox-Ljung test\n",
      "\n",
      "data:  model_residuals\n",
      "X-squared = 36.558, df = 24, p-value = 0.04841\n",
      "\n"
     ]
    },
    {
     "data": {
      "image/png": "[encoded data removed]",
      "text/plain": [
       "Plot with title \"Normal Q-Q Plot\""
      ]
     },
     "metadata": {},
     "output_type": "display_data"
    }
   ],
   "source": [
    "check_model_residuals(suicide_series_hw_future_forecasts)"
   ]
  },
  {
   "cell_type": "markdown",
   "metadata": {},
   "source": [
    "The Ljung-Box test shows that we can reject the null hypothesis assuming a 5% chance of making a mistake. So we can assume that our values are showing dependence on each other at lag 24.\n",
    "\n",
    "Checking the graphical analysis and the hypothesis test, **it is concluded that the residuals of the model are lightly autocorrelated .** Therefore, it can be considered that the predictions obtained from the model won't be very generalizable."
   ]
  },
  {
   "cell_type": "markdown",
   "metadata": {},
   "source": [
    "- Evaluating the forecasts"
   ]
  },
  {
   "cell_type": "code",
   "execution_count": 37,
   "metadata": {},
   "outputs": [
    {
     "data": {
      "text/html": [
       "<table>\n",
       "<caption>A matrix: 2 × 8 of type dbl</caption>\n",
       "<thead>\n",
       "\t<tr><th></th><th scope=col>ME</th><th scope=col>RMSE</th><th scope=col>MAE</th><th scope=col>MPE</th><th scope=col>MAPE</th><th scope=col>MASE</th><th scope=col>ACF1</th><th scope=col>Theil's U</th></tr>\n",
       "</thead>\n",
       "<tbody>\n",
       "\t<tr><th scope=row>Training set</th><td>  2.022322</td><td>23.76371</td><td>17.61132</td><td> 0.0889481</td><td>7.552774</td><td>0.6544255</td><td>0.01031651</td><td>       NA</td></tr>\n",
       "\t<tr><th scope=row>Test set</th><td>-11.942568</td><td>26.37736</td><td>22.57345</td><td>-4.4423405</td><td>7.551316</td><td>0.8388151</td><td>0.09975748</td><td>0.7933364</td></tr>\n",
       "</tbody>\n",
       "</table>\n"
      ],
      "text/latex": [
       "A matrix: 2 × 8 of type dbl\n",
       "\\begin{tabular}{r|llllllll}\n",
       "  & ME & RMSE & MAE & MPE & MAPE & MASE & ACF1 & Theil's U\\\\\n",
       "\\hline\n",
       "\tTraining set &   2.022322 & 23.76371 & 17.61132 &  0.0889481 & 7.552774 & 0.6544255 & 0.01031651 &        NA\\\\\n",
       "\tTest set & -11.942568 & 26.37736 & 22.57345 & -4.4423405 & 7.551316 & 0.8388151 & 0.09975748 & 0.7933364\\\\\n",
       "\\end{tabular}\n"
      ],
      "text/markdown": [
       "\n",
       "A matrix: 2 × 8 of type dbl\n",
       "\n",
       "| <!--/--> | ME | RMSE | MAE | MPE | MAPE | MASE | ACF1 | Theil's U |\n",
       "|---|---|---|---|---|---|---|---|---|\n",
       "| Training set |   2.022322 | 23.76371 | 17.61132 |  0.0889481 | 7.552774 | 0.6544255 | 0.01031651 |        NA |\n",
       "| Test set | -11.942568 | 26.37736 | 22.57345 | -4.4423405 | 7.551316 | 0.8388151 | 0.09975748 | 0.7933364 |\n",
       "\n"
      ],
      "text/plain": [
       "             ME         RMSE     MAE      MPE        MAPE     MASE     \n",
       "Training set   2.022322 23.76371 17.61132  0.0889481 7.552774 0.6544255\n",
       "Test set     -11.942568 26.37736 22.57345 -4.4423405 7.551316 0.8388151\n",
       "             ACF1       Theil's U\n",
       "Training set 0.01031651        NA\n",
       "Test set     0.09975748 0.7933364"
      ]
     },
     "metadata": {},
     "output_type": "display_data"
    },
    {
     "data": {
      "image/png": "[encoded data removed]",
      "text/plain": [
       "Plot with title \"Forecasts from HoltWinters\""
      ]
     },
     "metadata": {},
     "output_type": "display_data"
    }
   ],
   "source": [
    "options(repr.plot.width=8, repr.plot.height=5)\n",
    "\n",
    "#Accuracy and plot\n",
    "accuracy(suicide_series_hw_future_forecasts, suicide_series_test)\n",
    "plot(suicide_series_hw_future_forecasts)\n",
    "#lines(suicide_1998_2017)\n",
    "lines(suicide_series_test)"
   ]
  },
  {
   "cell_type": "markdown",
   "metadata": {},
   "source": [
    "If we want to apply other models like Arima we have to have in mind that most of the time series models work on the assumption that the time series is stationary.  Also, the theories related to stationary series are more mature and easier to implement as compared to non-stationary series."
   ]
  },
  {
   "cell_type": "markdown",
   "metadata": {},
   "source": [
    "### 3.2. Stationarity Testing"
   ]
  },
  {
   "cell_type": "markdown",
   "metadata": {},
   "source": [
    "We can assume the series to be stationary if it has these following statistical properties over time:\n",
    "\n",
    "- Constant mean\n",
    "- Constant variance\n",
    "- An autocovariance that does not depend on time.\n",
    "\n",
    "To test these conditions we will use the following methods:\n",
    "- In the first one we'll see how their 'moving' statistics behave.\n",
    "- In the second one we are going to observe the summary statistics.\n",
    "- And in the last one we're going to use statistical tests."
   ]
  },
  {
   "cell_type": "markdown",
   "metadata": {},
   "source": [
    "#### 3.2.1. Moving statistics"
   ]
  },
  {
   "cell_type": "markdown",
   "metadata": {},
   "source": [
    "We can plot the moving average and see if it varies with time, this is a smoothing method. By moving average We mean that at any instant ‘t’, we’ll take the average of the last year (in our case). We are going to plot it against the original time series and take a look at it."
   ]
  },
  {
   "cell_type": "code",
   "execution_count": 38,
   "metadata": {},
   "outputs": [
    {
     "data": {},
     "metadata": {},
     "output_type": "display_data"
    },
    {
     "data": {
      "image/png": "[encoded data removed]",
      "text/plain": [
       "plot without title"
      ]
     },
     "metadata": {},
     "output_type": "display_data"
    }
   ],
   "source": [
    "moving_mean_vs_OG <- function (OriginalTimeSeries, ylabel){\n",
    "    MovingMean  <- SMA (OriginalTimeSeries, 12)\n",
    "    Moving_mean_vs_OG  <- cbind(OriginalTimeSeries, MovingMean)\n",
    "    options(repr.plot.width=8, repr.plot.height=3)\n",
    "    autoplot(Moving_mean_vs_OG, ylab = ylabel)}\n",
    "\n",
    "moving_mean_vs_OG(suicide_series_train, 'Number of Suicides')\n",
    "\n"
   ]
  },
  {
   "cell_type": "markdown",
   "metadata": {},
   "source": [
    "The data smoothed with a simple moving average of order 12 gives a clearer picture of the trend component, and\n",
    "we can see that **the number of suicides in Spain seems to have increased from about less than 200 cases to about almost 300\n",
    "cases during 2005, and and since then the number of suicides has not diminished much, in fact, it has grown to exceed 300 in 2013.**\n"
   ]
  },
  {
   "cell_type": "markdown",
   "metadata": {},
   "source": [
    "The mean is clearly non constant over time. It seems that the series is **non stationary** but we are going to keep checking."
   ]
  },
  {
   "cell_type": "markdown",
   "metadata": {},
   "source": [
    "#### 3.2.2. Summary Statistics"
   ]
  },
  {
   "cell_type": "markdown",
   "metadata": {},
   "source": [
    "We are going to split suicide time series into two partitions and compare the mean and variance of each group. If they differ and the difference is statistically significant, the time series is likely non-stationary."
   ]
  },
  {
   "cell_type": "code",
   "execution_count": 39,
   "metadata": {},
   "outputs": [
    {
     "name": "stdout",
     "output_type": "stream",
     "text": [
      "[1] \"Mean of the first partition = 207.833333333333\"\n",
      "[1] \"Mean of the second partition = 282.340206185567\"\n",
      "[1] \"Variance of the first partition = 1626.47719298246\"\n",
      "[1] \"Variance of the second partition = 1170.24763745704\"\n"
     ]
    }
   ],
   "source": [
    "Stationarity_descriptive_test <- function (timeseries){\n",
    "    split  <-  length(timeseries) / 2\n",
    "    X1 <-  timeseries[0:split]\n",
    "    X2  <- timeseries[split: length(timeseries)]\n",
    "    print (paste('Mean of the first partition =', mean(X1)))\n",
    "    print (paste('Mean of the second partition =', mean(X2)))\n",
    "    print (paste('Variance of the first partition =', var(X1)))\n",
    "    print (paste('Variance of the second partition =', var(X2)))}\n",
    "\n",
    "Stationarity_descriptive_test (suicide_series_train)"
   ]
  },
  {
   "cell_type": "markdown",
   "metadata": {},
   "source": [
    "Running the code above, we can see the mean and variance look very different over time. It seems that we have a **non-stationary** time series."
   ]
  },
  {
   "cell_type": "markdown",
   "metadata": {},
   "source": [
    "#### 3.2.3. Statistical Tests"
   ]
  },
  {
   "cell_type": "markdown",
   "metadata": {},
   "source": [
    "The ADF test has an alternate hypothesis of linear or difference stationary, while the KPSS test identifies trend-stationarity in a series.\n",
    "\n",
    "ADF:\n",
    "- Null Hypothesis (H0): If failed to be rejected, it suggests the time series has a unit root, meaning it is non-stationary. It has some time dependent structure. Alternate Hypothesis (H1): The null hypothesis is rejected; it suggests the time series does not have a unit root, meaning it is stationary. It does not have time-dependent structure.\n",
    "\n",
    "KPSS"
   ]
  },
  {
   "cell_type": "code",
   "execution_count": 40,
   "metadata": {
    "scrolled": true
   },
   "outputs": [],
   "source": [
    "#package 'tseries' contains functions to test the stationarity of a time series \n",
    "#install.packages(\"tseries\")\n",
    "library(tseries)"
   ]
  },
  {
   "cell_type": "code",
   "execution_count": 41,
   "metadata": {},
   "outputs": [
    {
     "name": "stdout",
     "output_type": "stream",
     "text": [
      "\n",
      "\tAugmented Dickey-Fuller Test\n",
      "\n",
      "data:  timeseries\n",
      "Dickey-Fuller = -4.4033, Lag order = 5, p-value = 0.01\n",
      "alternative hypothesis: stationary\n",
      "\n",
      "\n",
      "\tKPSS Test for Level Stationarity\n",
      "\n",
      "data:  timeseries\n",
      "KPSS Level = 2.558, Truncation lag parameter = 4, p-value = 0.01\n",
      "\n"
     ]
    }
   ],
   "source": [
    "Stationarity_statistical_tests <- function(timeseries){\n",
    "    print(adf.test (timeseries))\n",
    "    print(kpss.test (timeseries))}\n",
    "    \n",
    "Stationarity_statistical_tests(suicide_series_train)"
   ]
  },
  {
   "cell_type": "markdown",
   "metadata": {},
   "source": [
    "In the Dickey Fuller test the p-value is lower than 0.05 so we don't have enough statistical evidence to reject that our time sseries it's stationary.\n",
    "\n",
    "However, in the Kpss test the p-value is lower than 0.05 so the null hypothesis of stationarity is rejected (5% error)."
   ]
  },
  {
   "cell_type": "markdown",
   "metadata": {},
   "source": [
    "We aren't very sure about the stationarity of our series although it seems a non stationary one."
   ]
  },
  {
   "cell_type": "markdown",
   "metadata": {},
   "source": [
    "## 4. Forecasting with ARIMA"
   ]
  },
  {
   "cell_type": "markdown",
   "metadata": {},
   "source": [
    "ARIMA stands for AutoRegressive Integrated Moving Average. Automatic Regression (AR) is the term that refers to the delays of the differentiated series, Moving Average (MA) refers to the delays of the errors and the integration (I) is the number of differences used to make the series of times is stationary.\n",
    "\n",
    "As we said before, there are some necessary conditions for the ARIMA Model:\n",
    "\n",
    "- The data must be stationary, this means that the properties of the series do not depend on the moment in which they are captured. A series of white noise and series with cyclic behavior can also be considered as stationary series.\n",
    "\n",
    "- The data must be univariate, ARIMA works in a single variable. Automatic regression has to do with the regression of past values.\n"
   ]
  },
  {
   "cell_type": "markdown",
   "metadata": {},
   "source": [
    "The first thing we are going to do is eliminate the non-stationary part of our series. To facilitate the analysis here, we will also eliminate the seasonal part of the data. The seasonal part can be removed from the analysis and added later, or it can be treated in the ARIMA model itself."
   ]
  },
  {
   "cell_type": "markdown",
   "metadata": {},
   "source": [
    "### 4.1.  Conversion to Stationary"
   ]
  },
  {
   "cell_type": "markdown",
   "metadata": {},
   "source": [
    "This consists of modeling or estimating the trend and seasonality in the series and eliminating them from the series to obtain a stationary series. Then statistical forecasting techniques can be implemented in this series."
   ]
  },
  {
   "cell_type": "markdown",
   "metadata": {},
   "source": [
    "#### 4.1.1.  Smoothing\n",
    "\n",
    "First of all, we are going to reduce trend by applying Box Cox transformation."
   ]
  },
  {
   "cell_type": "code",
   "execution_count": 42,
   "metadata": {},
   "outputs": [
    {
     "data": {
      "image/png": "[encoded data removed]",
      "text/plain": [
       "Plot with title \"Suicide Series Box Cox\""
      ]
     },
     "metadata": {},
     "output_type": "display_data"
    }
   ],
   "source": [
    "suicide_series_BoxCox <- forecast::BoxCox(suicide_series_train, lambda = 0)\n",
    "\n",
    "options(repr.plot.width=8, repr.plot.height=3)\n",
    "plot(suicide_series_BoxCox, ylab = 'Suicide', main = 'Suicide Series Box Cox')"
   ]
  },
  {
   "cell_type": "markdown",
   "metadata": {},
   "source": [
    "#### 4.1.2. Differencing\n",
    "Transformations such as logarithms or Box Cox can help to stabilise the variance of a time series. Differencing can help stabilise the mean of a time series by removing changes in the level of a time series, and therefore eliminating (or reducing) trend and seasonality."
   ]
  },
  {
   "cell_type": "code",
   "execution_count": 43,
   "metadata": {},
   "outputs": [
    {
     "data": {
      "image/png": "[encoded data removed]",
      "text/plain": [
       "Plot with title \"Suicide Series after Differencing\""
      ]
     },
     "metadata": {},
     "output_type": "display_data"
    },
    {
     "data": {
      "image/png": "[encoded data removed]",
      "text/plain": [
       "Plot with title \"Suicide Series Box Cox transformed after Differencing\""
      ]
     },
     "metadata": {},
     "output_type": "display_data"
    }
   ],
   "source": [
    "suicide_series_diff <- diff(suicide_series_train)\n",
    "suicide_series_diff_BoxCox <- diff(suicide_series_BoxCox)\n",
    "\n",
    "options(repr.plot.width=8, repr.plot.height=3)\n",
    "plot(suicide_series_diff, ylab = 'Values', main = 'Suicide Series after Differencing')\n",
    "plot(suicide_series_diff_BoxCox, ylab = 'Values', main = 'Suicide Series Box Cox transformed after Differencing')"
   ]
  },
  {
   "cell_type": "markdown",
   "metadata": {},
   "source": [
    "The Box Cox transformed series looks better to me, we are going to choose it to keep working with."
   ]
  },
  {
   "cell_type": "markdown",
   "metadata": {},
   "source": [
    "Now we are going to test the resulting series **after the transformation.**\n",
    "We are going to use the sationarity tests that we did before."
   ]
  },
  {
   "cell_type": "code",
   "execution_count": 44,
   "metadata": {},
   "outputs": [
    {
     "data": {},
     "metadata": {},
     "output_type": "display_data"
    },
    {
     "data": {
      "image/png": "[encoded data removed]",
      "text/plain": [
       "plot without title"
      ]
     },
     "metadata": {},
     "output_type": "display_data"
    }
   ],
   "source": [
    "#Visual test with moving mean\n",
    "moving_mean_vs_OG(suicide_series_diff_BoxCox, 'Suicides')"
   ]
  },
  {
   "cell_type": "markdown",
   "metadata": {},
   "source": [
    "The mean keeps constant over time. Seems that now we have a stationary series."
   ]
  },
  {
   "cell_type": "code",
   "execution_count": 45,
   "metadata": {},
   "outputs": [
    {
     "name": "stdout",
     "output_type": "stream",
     "text": [
      "[1] \"Mean of the first partition = 0.00122908576584883\"\n",
      "[1] \"Mean of the second partition = 0.00123696617475356\"\n",
      "[1] \"Variance of the first partition = 0.0308838033766116\"\n",
      "[1] \"Variance of the second partition = 0.0143837443879929\"\n"
     ]
    }
   ],
   "source": [
    "#Numerical test contrasting mean and variance at different time points\n",
    "Stationarity_descriptive_test(suicide_series_diff_BoxCox)"
   ]
  },
  {
   "cell_type": "markdown",
   "metadata": {},
   "source": [
    "Both mean and variance don't change almost anything over time."
   ]
  },
  {
   "cell_type": "code",
   "execution_count": 46,
   "metadata": {},
   "outputs": [
    {
     "name": "stdout",
     "output_type": "stream",
     "text": [
      "\n",
      "\tAugmented Dickey-Fuller Test\n",
      "\n",
      "data:  timeseries\n",
      "Dickey-Fuller = -7.767, Lag order = 5, p-value = 0.01\n",
      "alternative hypothesis: stationary\n",
      "\n",
      "\n",
      "\tKPSS Test for Level Stationarity\n",
      "\n",
      "data:  timeseries\n",
      "KPSS Level = 0.019277, Truncation lag parameter = 4, p-value = 0.1\n",
      "\n"
     ]
    }
   ],
   "source": [
    "#KPSS and ADF hypothesis tests for stationarity\n",
    "Stationarity_statistical_tests(suicide_series_diff_BoxCox)"
   ]
  },
  {
   "cell_type": "markdown",
   "metadata": {},
   "source": [
    "Our new time series passed the tests with 1 difference. We have a **stationary time series**"
   ]
  },
  {
   "cell_type": "markdown",
   "metadata": {},
   "source": [
    "Also we can use 'ndiffs' function to see the number of differences required for our time series to pass the stationarity statistical tests. We are going to check this out for the 'kpss', 'adf' and 'pp' tests."
   ]
  },
  {
   "cell_type": "code",
   "execution_count": 47,
   "metadata": {
    "scrolled": true
   },
   "outputs": [
    {
     "data": {
      "text/html": [
       "1"
      ],
      "text/latex": [
       "1"
      ],
      "text/markdown": [
       "1"
      ],
      "text/plain": [
       "[1] 1"
      ]
     },
     "metadata": {},
     "output_type": "display_data"
    }
   ],
   "source": [
    "ndiffs(suicide_series_train, test= 'kpss')"
   ]
  },
  {
   "cell_type": "code",
   "execution_count": 48,
   "metadata": {},
   "outputs": [
    {
     "data": {
      "text/html": [
       "1"
      ],
      "text/latex": [
       "1"
      ],
      "text/markdown": [
       "1"
      ],
      "text/plain": [
       "[1] 1"
      ]
     },
     "metadata": {},
     "output_type": "display_data"
    }
   ],
   "source": [
    "ndiffs(suicide_series_train, test= 'adf')"
   ]
  },
  {
   "cell_type": "code",
   "execution_count": 49,
   "metadata": {},
   "outputs": [
    {
     "data": {
      "text/html": [
       "0"
      ],
      "text/latex": [
       "0"
      ],
      "text/markdown": [
       "0"
      ],
      "text/plain": [
       "[1] 0"
      ]
     },
     "metadata": {},
     "output_type": "display_data"
    }
   ],
   "source": [
    "ndiffs(suicide_series_train, test='pp')"
   ]
  },
  {
   "cell_type": "markdown",
   "metadata": {},
   "source": [
    "##### *We can assume that our time series needs a differentiation of order 1 to become stationary*"
   ]
  },
  {
   "cell_type": "markdown",
   "metadata": {},
   "source": [
    "We have converted the data into stationary but we have seen that there is a seasonal component in our time series.\n",
    "\n",
    "We are going to take a look at the seasonal component to see if one order differencing is enough to get rid of it:"
   ]
  },
  {
   "cell_type": "code",
   "execution_count": 50,
   "metadata": {},
   "outputs": [
    {
     "data": {
      "text/html": [
       "<table>\n",
       "<caption>A Time Series: 16 × 12</caption>\n",
       "<thead>\n",
       "\t<tr><th></th><th scope=col>Jan</th><th scope=col>Feb</th><th scope=col>Mar</th><th scope=col>Apr</th><th scope=col>May</th><th scope=col>Jun</th><th scope=col>Jul</th><th scope=col>Aug</th><th scope=col>Sep</th><th scope=col>Oct</th><th scope=col>Nov</th><th scope=col>Dec</th></tr>\n",
       "</thead>\n",
       "<tbody>\n",
       "\t<tr><th scope=row>1998</th><td>            </td><td>-0.005710004</td><td> 0.176525928</td><td>-0.189598257</td><td> 0.171724265</td><td> 0.020369928</td><td>-0.088311602</td><td>-0.046780289</td><td> 0.075788995</td><td>-0.206870084</td><td>-0.026725508</td><td> 0.040189853</td></tr>\n",
       "\t<tr><th scope=row>1999</th><td> 0.080264248</td><td>-0.007633069</td><td> 0.175318017</td><td>-0.185159892</td><td> 0.169387705</td><td> 0.022439892</td><td>-0.090498901</td><td>-0.044325222</td><td> 0.073469241</td><td>-0.205254783</td><td>-0.029379785</td><td> 0.037093520</td></tr>\n",
       "\t<tr><th scope=row>2000</th><td> 0.085565483</td><td>-0.009554451</td><td> 0.174116543</td><td>-0.180710335</td><td> 0.167067168</td><td> 0.024530712</td><td>-0.092663402</td><td>-0.041845415</td><td> 0.071175096</td><td>-0.203613006</td><td>-0.032008730</td><td> 0.034021373</td></tr>\n",
       "\t<tr><th scope=row>2001</th><td> 0.090886353</td><td>-0.014762500</td><td> 0.173485422</td><td>-0.172303929</td><td> 0.161896579</td><td> 0.028959731</td><td>-0.095769754</td><td>-0.038674213</td><td> 0.068905728</td><td>-0.200873954</td><td>-0.036108102</td><td> 0.027316917</td></tr>\n",
       "\t<tr><th scope=row>2002</th><td> 0.099314489</td><td>-0.019939237</td><td> 0.172892254</td><td>-0.163852929</td><td> 0.156773620</td><td> 0.033439417</td><td>-0.098829687</td><td>-0.035460838</td><td> 0.066675428</td><td>-0.198098939</td><td>-0.040171576</td><td> 0.020648293</td></tr>\n",
       "\t<tr><th scope=row>2003</th><td> 0.107775808</td><td>-0.027899549</td><td> 0.167640801</td><td>-0.145130164</td><td> 0.146877917</td><td> 0.044923366</td><td>-0.110122708</td><td>-0.023132453</td><td> 0.057165220</td><td>-0.188918127</td><td>-0.052359819</td><td> 0.003472719</td></tr>\n",
       "\t<tr><th scope=row>2004</th><td> 0.130273207</td><td>-0.035904560</td><td> 0.162340317</td><td>-0.126460762</td><td> 0.136941466</td><td> 0.056379181</td><td>-0.121425762</td><td>-0.010795999</td><td> 0.047675883</td><td>-0.179703645</td><td>-0.064508924</td><td>-0.013658251</td></tr>\n",
       "\t<tr><th scope=row>2005</th><td> 0.152810414</td><td>-0.045591427</td><td> 0.157099507</td><td>-0.106147851</td><td> 0.128986416</td><td> 0.047685842</td><td>-0.103989545</td><td>-0.011264715</td><td> 0.021741487</td><td>-0.149047421</td><td>-0.075139500</td><td>-0.025114173</td></tr>\n",
       "\t<tr><th scope=row>2006</th><td> 0.164675289</td><td>-0.055425652</td><td> 0.151747195</td><td>-0.085910584</td><td> 0.120997207</td><td> 0.038999832</td><td>-0.086497974</td><td>-0.011630050</td><td>-0.004055421</td><td>-0.118219600</td><td>-0.085591537</td><td>-0.036384615</td></tr>\n",
       "\t<tr><th scope=row>2007</th><td> 0.176714163</td><td>-0.068408093</td><td> 0.159787342</td><td>-0.077342846</td><td> 0.111020176</td><td> 0.024005469</td><td>-0.062356033</td><td>-0.021800135</td><td>-0.013491009</td><td>-0.097216662</td><td>-0.093110882</td><td>-0.024942361</td></tr>\n",
       "\t<tr><th scope=row>2008</th><td> 0.168640876</td><td>-0.081543605</td><td> 0.167692295</td><td>-0.068892424</td><td> 0.100940549</td><td> 0.008923231</td><td>-0.038283182</td><td>-0.032020527</td><td>-0.022955720</td><td>-0.076221665</td><td>-0.100620524</td><td>-0.013472762</td></tr>\n",
       "\t<tr><th scope=row>2009</th><td> 0.160607958</td><td>-0.086431854</td><td> 0.170231692</td><td>-0.070156401</td><td> 0.096495402</td><td> 0.007505412</td><td>-0.030637639</td><td>-0.039220269</td><td>-0.020053776</td><td>-0.075070701</td><td>-0.101858879</td><td>-0.004038909</td></tr>\n",
       "\t<tr><th scope=row>2010</th><td> 0.157764611</td><td>-0.091311437</td><td> 0.172742082</td><td>-0.071487060</td><td> 0.091947421</td><td> 0.005948608</td><td>-0.023165202</td><td>-0.046627240</td><td>-0.017384686</td><td>-0.074178218</td><td>-0.103363671</td><td> 0.005120553</td></tr>\n",
       "\t<tr><th scope=row>2011</th><td> 0.154660602</td><td>-0.093058590</td><td> 0.173202717</td><td>-0.071978326</td><td> 0.090285629</td><td> 0.004742759</td><td>-0.020181369</td><td>-0.049226149</td><td>-0.016460248</td><td>-0.073414634</td><td>-0.103501906</td><td> 0.008133146</td></tr>\n",
       "\t<tr><th scope=row>2012</th><td> 0.152676107</td><td>-0.094561133</td><td> 0.173897255</td><td>-0.072246399</td><td> 0.088821048</td><td> 0.003708140</td><td>-0.017058022</td><td>-0.051717261</td><td>-0.015457694</td><td>-0.072602618</td><td>-0.103612426</td><td> 0.011152740</td></tr>\n",
       "\t<tr><th scope=row>2013</th><td> 0.150688993</td><td>-0.095491242</td><td> 0.174329421</td><td>-0.072465632</td><td> 0.087677580</td><td> 0.002777118</td><td>-0.014928138</td><td>-0.053307111</td><td>-0.014733706</td><td>-0.072365525</td><td>-0.103559612</td><td> 0.014055280</td></tr>\n",
       "</tbody>\n",
       "</table>\n"
      ],
      "text/latex": [
       "A Time Series: 16 × 12\n",
       "\\begin{tabular}{r|llllllllllll}\n",
       "  & Jan & Feb & Mar & Apr & May & Jun & Jul & Aug & Sep & Oct & Nov & Dec\\\\\n",
       "\\hline\n",
       "\t1998 &              & -0.005710004 &  0.176525928 & -0.189598257 &  0.171724265 &  0.020369928 & -0.088311602 & -0.046780289 &  0.075788995 & -0.206870084 & -0.026725508 &  0.040189853\\\\\n",
       "\t1999 &  0.080264248 & -0.007633069 &  0.175318017 & -0.185159892 &  0.169387705 &  0.022439892 & -0.090498901 & -0.044325222 &  0.073469241 & -0.205254783 & -0.029379785 &  0.037093520\\\\\n",
       "\t2000 &  0.085565483 & -0.009554451 &  0.174116543 & -0.180710335 &  0.167067168 &  0.024530712 & -0.092663402 & -0.041845415 &  0.071175096 & -0.203613006 & -0.032008730 &  0.034021373\\\\\n",
       "\t2001 &  0.090886353 & -0.014762500 &  0.173485422 & -0.172303929 &  0.161896579 &  0.028959731 & -0.095769754 & -0.038674213 &  0.068905728 & -0.200873954 & -0.036108102 &  0.027316917\\\\\n",
       "\t2002 &  0.099314489 & -0.019939237 &  0.172892254 & -0.163852929 &  0.156773620 &  0.033439417 & -0.098829687 & -0.035460838 &  0.066675428 & -0.198098939 & -0.040171576 &  0.020648293\\\\\n",
       "\t2003 &  0.107775808 & -0.027899549 &  0.167640801 & -0.145130164 &  0.146877917 &  0.044923366 & -0.110122708 & -0.023132453 &  0.057165220 & -0.188918127 & -0.052359819 &  0.003472719\\\\\n",
       "\t2004 &  0.130273207 & -0.035904560 &  0.162340317 & -0.126460762 &  0.136941466 &  0.056379181 & -0.121425762 & -0.010795999 &  0.047675883 & -0.179703645 & -0.064508924 & -0.013658251\\\\\n",
       "\t2005 &  0.152810414 & -0.045591427 &  0.157099507 & -0.106147851 &  0.128986416 &  0.047685842 & -0.103989545 & -0.011264715 &  0.021741487 & -0.149047421 & -0.075139500 & -0.025114173\\\\\n",
       "\t2006 &  0.164675289 & -0.055425652 &  0.151747195 & -0.085910584 &  0.120997207 &  0.038999832 & -0.086497974 & -0.011630050 & -0.004055421 & -0.118219600 & -0.085591537 & -0.036384615\\\\\n",
       "\t2007 &  0.176714163 & -0.068408093 &  0.159787342 & -0.077342846 &  0.111020176 &  0.024005469 & -0.062356033 & -0.021800135 & -0.013491009 & -0.097216662 & -0.093110882 & -0.024942361\\\\\n",
       "\t2008 &  0.168640876 & -0.081543605 &  0.167692295 & -0.068892424 &  0.100940549 &  0.008923231 & -0.038283182 & -0.032020527 & -0.022955720 & -0.076221665 & -0.100620524 & -0.013472762\\\\\n",
       "\t2009 &  0.160607958 & -0.086431854 &  0.170231692 & -0.070156401 &  0.096495402 &  0.007505412 & -0.030637639 & -0.039220269 & -0.020053776 & -0.075070701 & -0.101858879 & -0.004038909\\\\\n",
       "\t2010 &  0.157764611 & -0.091311437 &  0.172742082 & -0.071487060 &  0.091947421 &  0.005948608 & -0.023165202 & -0.046627240 & -0.017384686 & -0.074178218 & -0.103363671 &  0.005120553\\\\\n",
       "\t2011 &  0.154660602 & -0.093058590 &  0.173202717 & -0.071978326 &  0.090285629 &  0.004742759 & -0.020181369 & -0.049226149 & -0.016460248 & -0.073414634 & -0.103501906 &  0.008133146\\\\\n",
       "\t2012 &  0.152676107 & -0.094561133 &  0.173897255 & -0.072246399 &  0.088821048 &  0.003708140 & -0.017058022 & -0.051717261 & -0.015457694 & -0.072602618 & -0.103612426 &  0.011152740\\\\\n",
       "\t2013 &  0.150688993 & -0.095491242 &  0.174329421 & -0.072465632 &  0.087677580 &  0.002777118 & -0.014928138 & -0.053307111 & -0.014733706 & -0.072365525 & -0.103559612 &  0.014055280\\\\\n",
       "\\end{tabular}\n"
      ],
      "text/markdown": [
       "\n",
       "A Time Series: 16 × 12\n",
       "\n",
       "| <!--/--> | Jan | Feb | Mar | Apr | May | Jun | Jul | Aug | Sep | Oct | Nov | Dec |\n",
       "|---|---|---|---|---|---|---|---|---|---|---|---|---|\n",
       "| 1998 | <!----> | -0.005710004 |  0.176525928 | -0.189598257 |  0.171724265 |  0.020369928 | -0.088311602 | -0.046780289 |  0.075788995 | -0.206870084 | -0.026725508 |  0.040189853 |\n",
       "| 1999 |  0.080264248 | -0.007633069 |  0.175318017 | -0.185159892 |  0.169387705 |  0.022439892 | -0.090498901 | -0.044325222 |  0.073469241 | -0.205254783 | -0.029379785 |  0.037093520 |\n",
       "| 2000 |  0.085565483 | -0.009554451 |  0.174116543 | -0.180710335 |  0.167067168 |  0.024530712 | -0.092663402 | -0.041845415 |  0.071175096 | -0.203613006 | -0.032008730 |  0.034021373 |\n",
       "| 2001 |  0.090886353 | -0.014762500 |  0.173485422 | -0.172303929 |  0.161896579 |  0.028959731 | -0.095769754 | -0.038674213 |  0.068905728 | -0.200873954 | -0.036108102 |  0.027316917 |\n",
       "| 2002 |  0.099314489 | -0.019939237 |  0.172892254 | -0.163852929 |  0.156773620 |  0.033439417 | -0.098829687 | -0.035460838 |  0.066675428 | -0.198098939 | -0.040171576 |  0.020648293 |\n",
       "| 2003 |  0.107775808 | -0.027899549 |  0.167640801 | -0.145130164 |  0.146877917 |  0.044923366 | -0.110122708 | -0.023132453 |  0.057165220 | -0.188918127 | -0.052359819 |  0.003472719 |\n",
       "| 2004 |  0.130273207 | -0.035904560 |  0.162340317 | -0.126460762 |  0.136941466 |  0.056379181 | -0.121425762 | -0.010795999 |  0.047675883 | -0.179703645 | -0.064508924 | -0.013658251 |\n",
       "| 2005 |  0.152810414 | -0.045591427 |  0.157099507 | -0.106147851 |  0.128986416 |  0.047685842 | -0.103989545 | -0.011264715 |  0.021741487 | -0.149047421 | -0.075139500 | -0.025114173 |\n",
       "| 2006 |  0.164675289 | -0.055425652 |  0.151747195 | -0.085910584 |  0.120997207 |  0.038999832 | -0.086497974 | -0.011630050 | -0.004055421 | -0.118219600 | -0.085591537 | -0.036384615 |\n",
       "| 2007 |  0.176714163 | -0.068408093 |  0.159787342 | -0.077342846 |  0.111020176 |  0.024005469 | -0.062356033 | -0.021800135 | -0.013491009 | -0.097216662 | -0.093110882 | -0.024942361 |\n",
       "| 2008 |  0.168640876 | -0.081543605 |  0.167692295 | -0.068892424 |  0.100940549 |  0.008923231 | -0.038283182 | -0.032020527 | -0.022955720 | -0.076221665 | -0.100620524 | -0.013472762 |\n",
       "| 2009 |  0.160607958 | -0.086431854 |  0.170231692 | -0.070156401 |  0.096495402 |  0.007505412 | -0.030637639 | -0.039220269 | -0.020053776 | -0.075070701 | -0.101858879 | -0.004038909 |\n",
       "| 2010 |  0.157764611 | -0.091311437 |  0.172742082 | -0.071487060 |  0.091947421 |  0.005948608 | -0.023165202 | -0.046627240 | -0.017384686 | -0.074178218 | -0.103363671 |  0.005120553 |\n",
       "| 2011 |  0.154660602 | -0.093058590 |  0.173202717 | -0.071978326 |  0.090285629 |  0.004742759 | -0.020181369 | -0.049226149 | -0.016460248 | -0.073414634 | -0.103501906 |  0.008133146 |\n",
       "| 2012 |  0.152676107 | -0.094561133 |  0.173897255 | -0.072246399 |  0.088821048 |  0.003708140 | -0.017058022 | -0.051717261 | -0.015457694 | -0.072602618 | -0.103612426 |  0.011152740 |\n",
       "| 2013 |  0.150688993 | -0.095491242 |  0.174329421 | -0.072465632 |  0.087677580 |  0.002777118 | -0.014928138 | -0.053307111 | -0.014733706 | -0.072365525 | -0.103559612 |  0.014055280 |\n",
       "\n"
      ],
      "text/plain": [
       "     Jan          Feb          Mar          Apr          May         \n",
       "1998              -0.005710004  0.176525928 -0.189598257  0.171724265\n",
       "1999  0.080264248 -0.007633069  0.175318017 -0.185159892  0.169387705\n",
       "2000  0.085565483 -0.009554451  0.174116543 -0.180710335  0.167067168\n",
       "2001  0.090886353 -0.014762500  0.173485422 -0.172303929  0.161896579\n",
       "2002  0.099314489 -0.019939237  0.172892254 -0.163852929  0.156773620\n",
       "2003  0.107775808 -0.027899549  0.167640801 -0.145130164  0.146877917\n",
       "2004  0.130273207 -0.035904560  0.162340317 -0.126460762  0.136941466\n",
       "2005  0.152810414 -0.045591427  0.157099507 -0.106147851  0.128986416\n",
       "2006  0.164675289 -0.055425652  0.151747195 -0.085910584  0.120997207\n",
       "2007  0.176714163 -0.068408093  0.159787342 -0.077342846  0.111020176\n",
       "2008  0.168640876 -0.081543605  0.167692295 -0.068892424  0.100940549\n",
       "2009  0.160607958 -0.086431854  0.170231692 -0.070156401  0.096495402\n",
       "2010  0.157764611 -0.091311437  0.172742082 -0.071487060  0.091947421\n",
       "2011  0.154660602 -0.093058590  0.173202717 -0.071978326  0.090285629\n",
       "2012  0.152676107 -0.094561133  0.173897255 -0.072246399  0.088821048\n",
       "2013  0.150688993 -0.095491242  0.174329421 -0.072465632  0.087677580\n",
       "     Jun          Jul          Aug          Sep          Oct         \n",
       "1998  0.020369928 -0.088311602 -0.046780289  0.075788995 -0.206870084\n",
       "1999  0.022439892 -0.090498901 -0.044325222  0.073469241 -0.205254783\n",
       "2000  0.024530712 -0.092663402 -0.041845415  0.071175096 -0.203613006\n",
       "2001  0.028959731 -0.095769754 -0.038674213  0.068905728 -0.200873954\n",
       "2002  0.033439417 -0.098829687 -0.035460838  0.066675428 -0.198098939\n",
       "2003  0.044923366 -0.110122708 -0.023132453  0.057165220 -0.188918127\n",
       "2004  0.056379181 -0.121425762 -0.010795999  0.047675883 -0.179703645\n",
       "2005  0.047685842 -0.103989545 -0.011264715  0.021741487 -0.149047421\n",
       "2006  0.038999832 -0.086497974 -0.011630050 -0.004055421 -0.118219600\n",
       "2007  0.024005469 -0.062356033 -0.021800135 -0.013491009 -0.097216662\n",
       "2008  0.008923231 -0.038283182 -0.032020527 -0.022955720 -0.076221665\n",
       "2009  0.007505412 -0.030637639 -0.039220269 -0.020053776 -0.075070701\n",
       "2010  0.005948608 -0.023165202 -0.046627240 -0.017384686 -0.074178218\n",
       "2011  0.004742759 -0.020181369 -0.049226149 -0.016460248 -0.073414634\n",
       "2012  0.003708140 -0.017058022 -0.051717261 -0.015457694 -0.072602618\n",
       "2013  0.002777118 -0.014928138 -0.053307111 -0.014733706 -0.072365525\n",
       "     Nov          Dec         \n",
       "1998 -0.026725508  0.040189853\n",
       "1999 -0.029379785  0.037093520\n",
       "2000 -0.032008730  0.034021373\n",
       "2001 -0.036108102  0.027316917\n",
       "2002 -0.040171576  0.020648293\n",
       "2003 -0.052359819  0.003472719\n",
       "2004 -0.064508924 -0.013658251\n",
       "2005 -0.075139500 -0.025114173\n",
       "2006 -0.085591537 -0.036384615\n",
       "2007 -0.093110882 -0.024942361\n",
       "2008 -0.100620524 -0.013472762\n",
       "2009 -0.101858879 -0.004038909\n",
       "2010 -0.103363671  0.005120553\n",
       "2011 -0.103501906  0.008133146\n",
       "2012 -0.103612426  0.011152740\n",
       "2013 -0.103559612  0.014055280"
      ]
     },
     "metadata": {},
     "output_type": "display_data"
    }
   ],
   "source": [
    "STL_suicide_diff_BoxCox_components <- mstl(suicide_series_diff_BoxCox)\n",
    "seasonal(STL_suicide_diff_BoxCox_components)"
   ]
  },
  {
   "cell_type": "markdown",
   "metadata": {},
   "source": [
    "First order differencing seems enough to get what we need. The values are close to zero and have clearly changed since the original series seasonal component."
   ]
  },
  {
   "cell_type": "markdown",
   "metadata": {},
   "source": [
    "### 4.2. Best ARIMA model"
   ]
  },
  {
   "cell_type": "markdown",
   "metadata": {},
   "source": [
    "We already have the data that meet the conditions Arima asks us for. With this data we would pass on to calculate the appropriate parameters (p, d, q and P, D, Q) to choose the model that best fits with the values of acf and pcf function applied to our transformed and differenced time series.\n",
    "\n",
    "However, we have chosen to use the 'auto.arima' function that facilitates our work choosing the best parameters.\n",
    "\n",
    "The 'auto.arima' function returns the best ARIMA model according to either AIC, AICc or BIC value. The function conducts a search over possible model within the order constraints provided."
   ]
  },
  {
   "cell_type": "markdown",
   "metadata": {},
   "source": [
    "#### 4.2.1. Estimating"
   ]
  },
  {
   "cell_type": "markdown",
   "metadata": {},
   "source": [
    "Throughout the analysis we have arrived at a series of conclusions that we are going to include in the model parameters:\n",
    "\n",
    "- We know that our original time series is non stationary.\n",
    "- We know that our original time series has a seasonal component.\n",
    "- Also, we know that we only need a differencing of first order to make the data stationary (d=1) and we don't need another differencing to deal with seasonality (D=0) so we will be more efficient and we will introduce the parameters d and D in the function."
   ]
  },
  {
   "cell_type": "code",
   "execution_count": 51,
   "metadata": {},
   "outputs": [
    {
     "name": "stdout",
     "output_type": "stream",
     "text": [
      "\n",
      " ARIMA(0,1,0)                               : -181.617\n",
      " ARIMA(0,1,0)            with drift         : -179.5916\n",
      " ARIMA(0,1,0)(0,0,1)[12]                    : -206.6677\n",
      " ARIMA(0,1,0)(0,0,1)[12] with drift         : -204.6078\n",
      " ARIMA(0,1,0)(0,0,2)[12]                    : -211.3685\n",
      " ARIMA(0,1,0)(0,0,2)[12] with drift         : -209.288\n",
      " ARIMA(0,1,0)(1,0,0)[12]                    : -219.4756\n",
      " ARIMA(0,1,0)(1,0,0)[12] with drift         : -217.4129\n",
      " ARIMA(0,1,0)(1,0,1)[12]                    : Inf\n",
      " ARIMA(0,1,0)(1,0,1)[12] with drift         : Inf\n",
      " ARIMA(0,1,0)(1,0,2)[12]                    : Inf\n",
      " ARIMA(0,1,0)(1,0,2)[12] with drift         : Inf\n",
      " ARIMA(0,1,0)(2,0,0)[12]                    : -229.2038\n",
      " ARIMA(0,1,0)(2,0,0)[12] with drift         : -227.1188\n",
      " ARIMA(0,1,0)(2,0,1)[12]                    : Inf\n",
      " ARIMA(0,1,0)(2,0,1)[12] with drift         : Inf\n",
      " ARIMA(0,1,0)(2,0,2)[12]                    : Inf\n",
      " ARIMA(0,1,0)(2,0,2)[12] with drift         : Inf\n",
      " ARIMA(0,1,1)                               : -225.2231\n",
      " ARIMA(0,1,1)            with drift         : -223.2195\n",
      " ARIMA(0,1,1)(0,0,1)[12]                    : -256.6021\n",
      " ARIMA(0,1,1)(0,0,1)[12] with drift         : -254.5506\n",
      " ARIMA(0,1,1)(0,0,2)[12]                    : -261.2881\n",
      " ARIMA(0,1,1)(0,0,2)[12] with drift         : -259.2087\n",
      " ARIMA(0,1,1)(1,0,0)[12]                    : -273.7058\n",
      " ARIMA(0,1,1)(1,0,0)[12] with drift         : -271.6348\n",
      " ARIMA(0,1,1)(1,0,1)[12]                    : Inf\n",
      " ARIMA(0,1,1)(1,0,1)[12] with drift         : Inf\n",
      " ARIMA(0,1,1)(1,0,2)[12]                    : Inf\n",
      " ARIMA(0,1,1)(1,0,2)[12] with drift         : Inf\n",
      " ARIMA(0,1,1)(2,0,0)[12]                    : -285.0498\n",
      " ARIMA(0,1,1)(2,0,0)[12] with drift         : -282.9486\n",
      " ARIMA(0,1,1)(2,0,1)[12]                    : Inf\n",
      " ARIMA(0,1,1)(2,0,1)[12] with drift         : Inf\n",
      " ARIMA(0,1,1)(2,0,2)[12]                    : Inf\n",
      " ARIMA(0,1,1)(2,0,2)[12] with drift         : Inf\n",
      " ARIMA(0,1,2)                               : -224.2748\n",
      " ARIMA(0,1,2)            with drift         : -222.2134\n",
      " ARIMA(0,1,2)(0,0,1)[12]                    : -254.838\n",
      " ARIMA(0,1,2)(0,0,1)[12] with drift         : -252.7973\n",
      " ARIMA(0,1,2)(0,0,2)[12]                    : -259.2833\n",
      " ARIMA(0,1,2)(0,0,2)[12] with drift         : -257.1955\n",
      " ARIMA(0,1,2)(1,0,0)[12]                    : -271.8552\n",
      " ARIMA(0,1,2)(1,0,0)[12] with drift         : -269.771\n",
      " ARIMA(0,1,2)(1,0,1)[12]                    : Inf\n",
      " ARIMA(0,1,2)(1,0,1)[12] with drift         : Inf\n",
      " ARIMA(0,1,2)(1,0,2)[12]                    : Inf\n",
      " ARIMA(0,1,2)(1,0,2)[12] with drift         : Inf\n",
      " ARIMA(0,1,2)(2,0,0)[12]                    : -282.9958\n",
      " ARIMA(0,1,2)(2,0,0)[12] with drift         : -280.874\n",
      " ARIMA(0,1,2)(2,0,1)[12]                    : Inf\n",
      " ARIMA(0,1,2)(2,0,1)[12] with drift         : Inf\n",
      " ARIMA(0,1,3)                               : -225.8474\n",
      " ARIMA(0,1,3)            with drift         : -224.1727\n",
      " ARIMA(0,1,3)(0,0,1)[12]                    : -255.1442\n",
      " ARIMA(0,1,3)(0,0,1)[12] with drift         : -253.1987\n",
      " ARIMA(0,1,3)(0,0,2)[12]                    : -259.4718\n",
      " ARIMA(0,1,3)(0,0,2)[12] with drift         : -257.4405\n",
      " ARIMA(0,1,3)(1,0,0)[12]                    : -270.5051\n",
      " ARIMA(0,1,3)(1,0,0)[12] with drift         : -268.4209\n",
      " ARIMA(0,1,3)(1,0,1)[12]                    : Inf\n",
      " ARIMA(0,1,3)(1,0,1)[12] with drift         : Inf\n",
      " ARIMA(0,1,3)(2,0,0)[12]                    : -281.0682\n",
      " ARIMA(0,1,3)(2,0,0)[12] with drift         : -278.9279\n",
      " ARIMA(0,1,4)                               : -238.5531\n",
      " ARIMA(0,1,4)            with drift         : -237.0966\n",
      " ARIMA(0,1,4)(0,0,1)[12]                    : -262.9322\n",
      " ARIMA(0,1,4)(0,0,1)[12] with drift         : -261.2074\n",
      " ARIMA(0,1,4)(1,0,0)[12]                    : -276.1718\n",
      " ARIMA(0,1,4)(1,0,0)[12] with drift         : -274.1937\n",
      " ARIMA(0,1,5)                               : -240.8854\n",
      " ARIMA(0,1,5)            with drift         : -239.634\n",
      " ARIMA(1,1,0)                               : -221.2558\n",
      " ARIMA(1,1,0)            with drift         : -219.2192\n",
      " ARIMA(1,1,0)(0,0,1)[12]                    : -246.306\n",
      " ARIMA(1,1,0)(0,0,1)[12] with drift         : -244.2284\n",
      " ARIMA(1,1,0)(0,0,2)[12]                    : -251.888\n",
      " ARIMA(1,1,0)(0,0,2)[12] with drift         : -249.7864\n",
      " ARIMA(1,1,0)(1,0,0)[12]                    : -259.2487\n",
      " ARIMA(1,1,0)(1,0,0)[12] with drift         : -257.1646\n",
      " ARIMA(1,1,0)(1,0,1)[12]                    : Inf\n",
      " ARIMA(1,1,0)(1,0,1)[12] with drift         : Inf\n",
      " ARIMA(1,1,0)(1,0,2)[12]                    : Inf\n",
      " ARIMA(1,1,0)(1,0,2)[12] with drift         : Inf\n",
      " ARIMA(1,1,0)(2,0,0)[12]                    : -269.1303\n",
      " ARIMA(1,1,0)(2,0,0)[12] with drift         : -267.022\n",
      " ARIMA(1,1,0)(2,0,1)[12]                    : Inf\n",
      " ARIMA(1,1,0)(2,0,1)[12] with drift         : Inf\n",
      " ARIMA(1,1,0)(2,0,2)[12]                    : Inf\n",
      " ARIMA(1,1,0)(2,0,2)[12] with drift         : Inf\n",
      " ARIMA(1,1,1)                               : -223.9883\n",
      " ARIMA(1,1,1)            with drift         : -221.9411\n",
      " ARIMA(1,1,1)(0,0,1)[12]                    : -256.034\n",
      " ARIMA(1,1,1)(0,0,1)[12] with drift         : -254.1669\n",
      " ARIMA(1,1,1)(0,0,2)[12]                    : -259.8992\n",
      " ARIMA(1,1,1)(0,0,2)[12] with drift         : -257.913\n",
      " ARIMA(1,1,1)(1,0,0)[12]                    : -272.0038\n",
      " ARIMA(1,1,1)(1,0,0)[12] with drift         : -269.9307\n",
      " ARIMA(1,1,1)(1,0,1)[12]                    : Inf\n",
      " ARIMA(1,1,1)(1,0,1)[12] with drift         : Inf\n",
      " ARIMA(1,1,1)(1,0,2)[12]                    : Inf\n",
      " ARIMA(1,1,1)(1,0,2)[12] with drift         : Inf\n",
      " ARIMA(1,1,1)(2,0,0)[12]                    : -282.6833\n",
      " ARIMA(1,1,1)(2,0,0)[12] with drift         : Inf\n",
      " ARIMA(1,1,1)(2,0,1)[12]                    : Inf\n",
      " ARIMA(1,1,1)(2,0,1)[12] with drift         : Inf\n",
      " ARIMA(1,1,2)                               : -222.1996\n",
      " ARIMA(1,1,2)            with drift         : -220.1169\n",
      " ARIMA(1,1,2)(0,0,1)[12]                    : -259.6591\n",
      " ARIMA(1,1,2)(0,0,1)[12] with drift         : Inf\n",
      " ARIMA(1,1,2)(0,0,2)[12]                    : -263.7997\n",
      " ARIMA(1,1,2)(0,0,2)[12] with drift         : Inf\n",
      " ARIMA(1,1,2)(1,0,0)[12]                    : -275.4051\n",
      " ARIMA(1,1,2)(1,0,0)[12] with drift         : Inf\n",
      " ARIMA(1,1,2)(1,0,1)[12]                    : Inf\n",
      " ARIMA(1,1,2)(1,0,1)[12] with drift         : Inf\n",
      " ARIMA(1,1,2)(2,0,0)[12]                    : -281.0037\n",
      " ARIMA(1,1,2)(2,0,0)[12] with drift         : -278.8578\n",
      " ARIMA(1,1,3)                               : -220.7152\n",
      " ARIMA(1,1,3)            with drift         : -218.5995\n",
      " ARIMA(1,1,3)(0,0,1)[12]                    : -261.2939\n",
      " ARIMA(1,1,3)(0,0,1)[12] with drift         : Inf\n",
      " ARIMA(1,1,3)(1,0,0)[12]                    : -274.9017\n",
      " ARIMA(1,1,3)(1,0,0)[12] with drift         : Inf\n",
      " ARIMA(1,1,4)                               : -239.9895\n",
      " ARIMA(1,1,4)            with drift         : -238.813\n",
      " ARIMA(2,1,0)                               : -225.4566\n",
      " ARIMA(2,1,0)            with drift         : -223.4025\n",
      " ARIMA(2,1,0)(0,0,1)[12]                    : -254.7318\n",
      " ARIMA(2,1,0)(0,0,1)[12] with drift         : -252.6333\n",
      " ARIMA(2,1,0)(0,0,2)[12]                    : -259.6571\n",
      " ARIMA(2,1,0)(0,0,2)[12] with drift         : -257.5333\n",
      " ARIMA(2,1,0)(1,0,0)[12]                    : -270.8812\n",
      " ARIMA(2,1,0)(1,0,0)[12] with drift         : -268.7739\n",
      " ARIMA(2,1,0)(1,0,1)[12]                    : Inf\n",
      " ARIMA(2,1,0)(1,0,1)[12] with drift         : Inf\n",
      " ARIMA(2,1,0)(1,0,2)[12]                    : Inf\n",
      " ARIMA(2,1,0)(1,0,2)[12] with drift         : Inf\n",
      " ARIMA(2,1,0)(2,0,0)[12]                    : -282.9765\n",
      " ARIMA(2,1,0)(2,0,0)[12] with drift         : -280.8445\n",
      " ARIMA(2,1,0)(2,0,1)[12]                    : Inf\n",
      " ARIMA(2,1,0)(2,0,1)[12] with drift         : Inf\n",
      " ARIMA(2,1,1)                               : -223.6573\n",
      " ARIMA(2,1,1)            with drift         : -221.5779\n",
      " ARIMA(2,1,1)(0,0,1)[12]                    : -252.6406\n",
      " ARIMA(2,1,1)(0,0,1)[12] with drift         : -250.5187\n",
      " ARIMA(2,1,1)(0,0,2)[12]                    : -257.5763\n",
      " ARIMA(2,1,1)(0,0,2)[12] with drift         : -255.4285\n",
      " ARIMA(2,1,1)(1,0,0)[12]                    : -273.8751\n",
      " ARIMA(2,1,1)(1,0,0)[12] with drift         : Inf\n",
      " ARIMA(2,1,1)(1,0,1)[12]                    : Inf\n",
      " ARIMA(2,1,1)(1,0,1)[12] with drift         : Inf\n",
      " ARIMA(2,1,1)(2,0,0)[12]                    : -282.091\n",
      " ARIMA(2,1,1)(2,0,0)[12] with drift         : -280.0081\n",
      " ARIMA(2,1,2)                               : -224.6017\n",
      " ARIMA(2,1,2)            with drift         : -222.4883\n",
      " ARIMA(2,1,2)(0,0,1)[12]                    : Inf\n",
      " ARIMA(2,1,2)(0,0,1)[12] with drift         : Inf\n",
      " ARIMA(2,1,2)(1,0,0)[12]                    : -274.0582\n",
      " ARIMA(2,1,2)(1,0,0)[12] with drift         : Inf\n",
      " ARIMA(2,1,3)                               : Inf\n",
      " ARIMA(2,1,3)            with drift         : Inf\n",
      " ARIMA(3,1,0)                               : -223.9816\n",
      " ARIMA(3,1,0)            with drift         : -221.8983\n",
      " ARIMA(3,1,0)(0,0,1)[12]                    : -252.6444\n",
      " ARIMA(3,1,0)(0,0,1)[12] with drift         : -250.5224\n",
      " ARIMA(3,1,0)(0,0,2)[12]                    : -257.5918\n",
      " ARIMA(3,1,0)(0,0,2)[12] with drift         : -255.4438\n",
      " ARIMA(3,1,0)(1,0,0)[12]                    : -268.8038\n",
      " ARIMA(3,1,0)(1,0,0)[12] with drift         : -266.6738\n",
      " ARIMA(3,1,0)(1,0,1)[12]                    : Inf\n",
      " ARIMA(3,1,0)(1,0,1)[12] with drift         : Inf\n",
      " ARIMA(3,1,0)(2,0,0)[12]                    : Inf\n",
      " ARIMA(3,1,0)(2,0,0)[12] with drift         : Inf\n",
      " ARIMA(3,1,1)                               : Inf\n",
      " ARIMA(3,1,1)            with drift         : Inf\n",
      " ARIMA(3,1,1)(0,0,1)[12]                    : Inf\n",
      " ARIMA(3,1,1)(0,0,1)[12] with drift         : Inf\n",
      " ARIMA(3,1,1)(1,0,0)[12]                    : -276.3826\n",
      " ARIMA(3,1,1)(1,0,0)[12] with drift         : Inf\n",
      " ARIMA(3,1,2)                               : -229.3621\n",
      " ARIMA(3,1,2)            with drift         : Inf\n",
      " ARIMA(4,1,0)                               : -222.6441\n",
      " ARIMA(4,1,0)            with drift         : -220.5332\n",
      " ARIMA(4,1,0)(0,0,1)[12]                    : -250.5695\n",
      " ARIMA(4,1,0)(0,0,1)[12] with drift         : -248.4237\n",
      " ARIMA(4,1,0)(1,0,0)[12]                    : -266.6867\n",
      " ARIMA(4,1,0)(1,0,0)[12] with drift         : -264.5335\n",
      " ARIMA(4,1,1)                               : Inf\n",
      " ARIMA(4,1,1)            with drift         : Inf\n",
      " ARIMA(5,1,0)                               : -233.8467\n",
      " ARIMA(5,1,0)            with drift         : -231.7515\n",
      "\n",
      "\n",
      "\n",
      " Best model: ARIMA(0,1,1)(2,0,0)[12]                    \n",
      "\n"
     ]
    }
   ],
   "source": [
    "#This may take a while!\n",
    "suicide_series_best_arima <- auto.arima(suicide_series_train, d = 1, D = 0,\n",
    "                                        trace = TRUE, stationary = FALSE, seasonal = TRUE,\n",
    "                                        lambda = 0, stepwise = FALSE, approximation =  FALSE)\n"
   ]
  },
  {
   "cell_type": "markdown",
   "metadata": {},
   "source": [
    "The arima model that best fits is this: ARIMA(0,1,1)(2,0,0)[12].\n",
    "\n",
    "We will observe how its residuals behave as we did in the previous models."
   ]
  },
  {
   "cell_type": "code",
   "execution_count": 52,
   "metadata": {},
   "outputs": [
    {
     "name": "stdout",
     "output_type": "stream",
     "text": [
      "\n",
      "\tBox-Ljung test\n",
      "\n",
      "data:  model_residuals\n",
      "X-squared = 36.396, df = 24, p-value = 0.05022\n",
      "\n"
     ]
    },
    {
     "data": {
      "image/png": "[encoded data removed]",
      "text/plain": [
       "Plot with title \"Normal Q-Q Plot\""
      ]
     },
     "metadata": {},
     "output_type": "display_data"
    }
   ],
   "source": [
    "check_model_residuals(suicide_series_best_arima)"
   ]
  },
  {
   "cell_type": "markdown",
   "metadata": {},
   "source": [
    "*The ACF of the residuals shows non-significant autocorrelations.*\n",
    "*Also, all the values of p for the Ljung-Box Q test are above 0.05, which indicates that the data is not dependent.*"
   ]
  },
  {
   "cell_type": "markdown",
   "metadata": {},
   "source": [
    "*The values are normal since they rest on a line and aren't everywhere.*"
   ]
  },
  {
   "cell_type": "markdown",
   "metadata": {},
   "source": [
    "As the graphs support the assumption that there is no pattern in the residuals, we can go ahead and calculate the forecast."
   ]
  },
  {
   "cell_type": "markdown",
   "metadata": {},
   "source": [
    "#### 4.2.2.  Forecasting"
   ]
  },
  {
   "cell_type": "markdown",
   "metadata": {},
   "source": [
    "The following is the plot of the next two years forectasts (blue line). The shadowed blue is the 80% of confidence and the shadowed grey is the 95%."
   ]
  },
  {
   "cell_type": "code",
   "execution_count": 53,
   "metadata": {},
   "outputs": [
    {
     "data": {
      "image/png": "[encoded data removed]",
      "text/plain": [
       "Plot with title \"Suicide Forecasts from ARIMA\""
      ]
     },
     "metadata": {},
     "output_type": "display_data"
    }
   ],
   "source": [
    "options(repr.plot.width=8, repr.plot.height=4)\n",
    "suicide_series_best_arima_forecast <- forecast::forecast(suicide_series_best_arima, h = 48)\n",
    "plot(suicide_series_best_arima_forecast, main= 'Suicide Forecasts from ARIMA')"
   ]
  },
  {
   "cell_type": "code",
   "execution_count": 54,
   "metadata": {},
   "outputs": [
    {
     "data": {
      "text/plain": [
       "         Point Forecast    Lo 80    Hi 80    Lo 95    Hi 95\n",
       "Jan 2014       323.8300 280.7217 373.5581 260.2756 402.9032\n",
       "Feb 2014       297.5695 255.2313 346.9308 235.3148 376.2943\n",
       "Mar 2014       336.1978 285.5133 395.8798 261.8531 431.6501\n",
       "Apr 2014       318.4086 267.8859 378.4599 244.4718 414.7066\n",
       "May 2014       331.7571 276.6483 397.8436 251.2841 438.0012\n",
       "Jun 2014       337.8855 279.3832 408.6381 252.6334 451.9063\n",
       "Jul 2014       343.5955 281.8110 418.9257 253.7376 465.2753\n",
       "Aug 2014       318.2724 259.0166 391.0842 232.2546 436.1477\n",
       "Sep 2014       327.7575 264.7419 405.7724 236.4473 454.3294\n",
       "Oct 2014       302.7411 242.7692 377.5281 215.9926 424.3302\n",
       "Nov 2014       281.2154 223.9307 353.1545 198.4931 398.4124\n",
       "Dec 2014       303.8799 240.3365 384.2238 212.2690 435.0282\n",
       "Jan 2015       332.8319 256.9063 431.1963 223.9996 494.5413\n",
       "Feb 2015       307.8598 234.9753 403.3515 203.6625 465.3662\n",
       "Mar 2015       341.3881 257.7699 452.1314 222.1471 524.6337\n",
       "Apr 2015       325.5080 243.2390 435.6022 208.4746 508.2415\n",
       "May 2015       333.4993 246.7231 450.7959 210.3408 528.7694\n",
       "Jun 2015       343.0381 251.3281 468.2132 213.1683 552.0291\n",
       "Jul 2015       343.6702 249.4319 473.5129 210.5083 561.0667\n",
       "Aug 2015       321.1018 230.9303 446.4825 193.9526 531.6059\n",
       "Sep 2015       334.5956 238.5030 469.4038 199.3713 561.5361\n",
       "Oct 2015       313.2228 221.3407 443.2465 184.1776 532.6842\n",
       "Nov 2015       292.7546 205.1341 417.8011 169.9294 504.3579\n",
       "Dec 2015       309.4279 215.0331 445.2601 177.3521 539.8619\n",
       "Jan 2016       330.9054 224.4435 487.8662 182.7500 599.1706\n",
       "Feb 2016       314.2356 210.4584 469.1853 170.2194 580.0984\n",
       "Mar 2016       337.4115 223.2269 510.0035 179.3787 634.6712\n",
       "Apr 2016       326.6903 213.5759 499.7126 170.5452 625.7966\n",
       "May 2016       333.2905 215.3819 515.7470 170.9360 649.8486\n",
       "Jun 2016       338.4715 216.2761 529.7069 170.6237 671.4364\n",
       "Jul 2016       340.2178 215.0127 538.3316 168.6417 686.3555\n",
       "Aug 2016       324.9907 203.1939 519.7939 158.4677 666.5016\n",
       "Sep 2016       332.6255 205.7939 537.6241 159.6052 693.2090\n",
       "Oct 2016       317.7264 194.5651 518.8498 150.0776 672.6527\n",
       "Nov 2016       303.7714 184.1556 501.0818 141.2930 653.0900\n",
       "Dec 2016       316.5958 190.0449 527.4170 145.0515 691.0159\n",
       "Jan 2017       332.6036 196.1380 564.0171 148.3007 745.9520\n",
       "Feb 2017       319.5323 186.1513 548.4834 139.8461 730.0945\n",
       "Mar 2017       337.3062 194.1818 585.9226 144.9631 784.8580\n",
       "Apr 2017       329.0582 187.2400 578.2915 138.9217 779.4267\n",
       "May 2017       333.6768 187.7138 593.1381 138.4345 804.2808\n",
       "Jun 2017       338.1358 188.1058 607.8275 137.9043 829.0956\n",
       "Jul 2017       338.9538 186.5018 616.0245 135.9360 845.1747\n",
       "Aug 2017       327.2281 178.1192 601.1603 129.0873 829.5019\n",
       "Sep 2017       333.7186 179.7380 619.6135 129.5321 859.7723\n",
       "Oct 2017       322.3337 171.8074 604.7410 123.1360 843.7747\n",
       "Nov 2017       311.3132 164.2420 590.0800 117.0770 827.7962\n",
       "Dec 2017       320.8619 167.5813 614.3431 118.8214 866.4466"
      ]
     },
     "metadata": {},
     "output_type": "display_data"
    }
   ],
   "source": [
    "suicide_series_best_arima_forecast"
   ]
  },
  {
   "cell_type": "markdown",
   "metadata": {},
   "source": [
    "- Evaluating the forecasts"
   ]
  },
  {
   "cell_type": "code",
   "execution_count": 55,
   "metadata": {},
   "outputs": [
    {
     "data": {
      "text/html": [
       "<table>\n",
       "<caption>A matrix: 2 × 8 of type dbl</caption>\n",
       "<thead>\n",
       "\t<tr><th></th><th scope=col>ME</th><th scope=col>RMSE</th><th scope=col>MAE</th><th scope=col>MPE</th><th scope=col>MAPE</th><th scope=col>MASE</th><th scope=col>ACF1</th><th scope=col>Theil's U</th></tr>\n",
       "</thead>\n",
       "<tbody>\n",
       "\t<tr><th scope=row>Training set</th><td>  1.306054</td><td>25.29259</td><td>19.86062</td><td>-0.3617114</td><td>8.557237</td><td>0.738008</td><td>0.02964682</td><td>       NA</td></tr>\n",
       "\t<tr><th scope=row>Test set</th><td>-17.159646</td><td>31.67801</td><td>26.50613</td><td>-6.4641213</td><td>9.138704</td><td>0.984951</td><td>0.29829645</td><td>0.9825845</td></tr>\n",
       "</tbody>\n",
       "</table>\n"
      ],
      "text/latex": [
       "A matrix: 2 × 8 of type dbl\n",
       "\\begin{tabular}{r|llllllll}\n",
       "  & ME & RMSE & MAE & MPE & MAPE & MASE & ACF1 & Theil's U\\\\\n",
       "\\hline\n",
       "\tTraining set &   1.306054 & 25.29259 & 19.86062 & -0.3617114 & 8.557237 & 0.738008 & 0.02964682 &        NA\\\\\n",
       "\tTest set & -17.159646 & 31.67801 & 26.50613 & -6.4641213 & 9.138704 & 0.984951 & 0.29829645 & 0.9825845\\\\\n",
       "\\end{tabular}\n"
      ],
      "text/markdown": [
       "\n",
       "A matrix: 2 × 8 of type dbl\n",
       "\n",
       "| <!--/--> | ME | RMSE | MAE | MPE | MAPE | MASE | ACF1 | Theil's U |\n",
       "|---|---|---|---|---|---|---|---|---|\n",
       "| Training set |   1.306054 | 25.29259 | 19.86062 | -0.3617114 | 8.557237 | 0.738008 | 0.02964682 |        NA |\n",
       "| Test set | -17.159646 | 31.67801 | 26.50613 | -6.4641213 | 9.138704 | 0.984951 | 0.29829645 | 0.9825845 |\n",
       "\n"
      ],
      "text/plain": [
       "             ME         RMSE     MAE      MPE        MAPE     MASE    \n",
       "Training set   1.306054 25.29259 19.86062 -0.3617114 8.557237 0.738008\n",
       "Test set     -17.159646 31.67801 26.50613 -6.4641213 9.138704 0.984951\n",
       "             ACF1       Theil's U\n",
       "Training set 0.02964682        NA\n",
       "Test set     0.29829645 0.9825845"
      ]
     },
     "metadata": {},
     "output_type": "display_data"
    },
    {
     "data": {
      "image/png": "[encoded data removed]",
      "text/plain": [
       "Plot with title \"Forecasts from ARIMA(0,1,1)(2,0,0)[12]\""
      ]
     },
     "metadata": {},
     "output_type": "display_data"
    }
   ],
   "source": [
    "#Accuracy and plot\n",
    "accuracy(suicide_series_best_arima_forecast, suicide_series_test)\n",
    "plot(suicide_series_best_arima_forecast)\n",
    "lines(suicide_1998_2017)"
   ]
  },
  {
   "cell_type": "markdown",
   "metadata": {},
   "source": [
    "#### *Comparison of predictive models carried out throughout the project on suicide in Spain.*"
   ]
  },
  {
   "cell_type": "code",
   "execution_count": 56,
   "metadata": {},
   "outputs": [
    {
     "data": {
      "text/html": [
       "<table>\n",
       "<caption>A matrix: 2 × 8 of type dbl</caption>\n",
       "<thead>\n",
       "\t<tr><th></th><th scope=col>ME</th><th scope=col>RMSE</th><th scope=col>MAE</th><th scope=col>MPE</th><th scope=col>MAPE</th><th scope=col>MASE</th><th scope=col>ACF1</th><th scope=col>Theil's U</th></tr>\n",
       "</thead>\n",
       "<tbody>\n",
       "\t<tr><th scope=row>Training set</th><td> 1.024471</td><td>19.89423</td><td>15.27388</td><td>-0.2002356</td><td>6.621737</td><td>0.5675677</td><td>-0.01144965</td><td>       NA</td></tr>\n",
       "\t<tr><th scope=row>Test set</th><td>-8.864959</td><td>24.00003</td><td>20.82885</td><td>-3.4205697</td><td>6.943263</td><td>0.7739871</td><td> 0.05833164</td><td>0.7228049</td></tr>\n",
       "</tbody>\n",
       "</table>\n"
      ],
      "text/latex": [
       "A matrix: 2 × 8 of type dbl\n",
       "\\begin{tabular}{r|llllllll}\n",
       "  & ME & RMSE & MAE & MPE & MAPE & MASE & ACF1 & Theil's U\\\\\n",
       "\\hline\n",
       "\tTraining set &  1.024471 & 19.89423 & 15.27388 & -0.2002356 & 6.621737 & 0.5675677 & -0.01144965 &        NA\\\\\n",
       "\tTest set & -8.864959 & 24.00003 & 20.82885 & -3.4205697 & 6.943263 & 0.7739871 &  0.05833164 & 0.7228049\\\\\n",
       "\\end{tabular}\n"
      ],
      "text/markdown": [
       "\n",
       "A matrix: 2 × 8 of type dbl\n",
       "\n",
       "| <!--/--> | ME | RMSE | MAE | MPE | MAPE | MASE | ACF1 | Theil's U |\n",
       "|---|---|---|---|---|---|---|---|---|\n",
       "| Training set |  1.024471 | 19.89423 | 15.27388 | -0.2002356 | 6.621737 | 0.5675677 | -0.01144965 |        NA |\n",
       "| Test set | -8.864959 | 24.00003 | 20.82885 | -3.4205697 | 6.943263 | 0.7739871 |  0.05833164 | 0.7228049 |\n",
       "\n"
      ],
      "text/plain": [
       "             ME        RMSE     MAE      MPE        MAPE     MASE     \n",
       "Training set  1.024471 19.89423 15.27388 -0.2002356 6.621737 0.5675677\n",
       "Test set     -8.864959 24.00003 20.82885 -3.4205697 6.943263 0.7739871\n",
       "             ACF1        Theil's U\n",
       "Training set -0.01144965        NA\n",
       "Test set      0.05833164 0.7228049"
      ]
     },
     "metadata": {},
     "output_type": "display_data"
    },
    {
     "data": {
      "text/html": [
       "<table>\n",
       "<caption>A matrix: 2 × 8 of type dbl</caption>\n",
       "<thead>\n",
       "\t<tr><th></th><th scope=col>ME</th><th scope=col>RMSE</th><th scope=col>MAE</th><th scope=col>MPE</th><th scope=col>MAPE</th><th scope=col>MASE</th><th scope=col>ACF1</th><th scope=col>Theil's U</th></tr>\n",
       "</thead>\n",
       "<tbody>\n",
       "\t<tr><th scope=row>Training set</th><td>  2.022322</td><td>23.76371</td><td>17.61132</td><td> 0.0889481</td><td>7.552774</td><td>0.6544255</td><td>0.01031651</td><td>       NA</td></tr>\n",
       "\t<tr><th scope=row>Test set</th><td>-11.942568</td><td>26.37736</td><td>22.57345</td><td>-4.4423405</td><td>7.551316</td><td>0.8388151</td><td>0.09975748</td><td>0.7933364</td></tr>\n",
       "</tbody>\n",
       "</table>\n"
      ],
      "text/latex": [
       "A matrix: 2 × 8 of type dbl\n",
       "\\begin{tabular}{r|llllllll}\n",
       "  & ME & RMSE & MAE & MPE & MAPE & MASE & ACF1 & Theil's U\\\\\n",
       "\\hline\n",
       "\tTraining set &   2.022322 & 23.76371 & 17.61132 &  0.0889481 & 7.552774 & 0.6544255 & 0.01031651 &        NA\\\\\n",
       "\tTest set & -11.942568 & 26.37736 & 22.57345 & -4.4423405 & 7.551316 & 0.8388151 & 0.09975748 & 0.7933364\\\\\n",
       "\\end{tabular}\n"
      ],
      "text/markdown": [
       "\n",
       "A matrix: 2 × 8 of type dbl\n",
       "\n",
       "| <!--/--> | ME | RMSE | MAE | MPE | MAPE | MASE | ACF1 | Theil's U |\n",
       "|---|---|---|---|---|---|---|---|---|\n",
       "| Training set |   2.022322 | 23.76371 | 17.61132 |  0.0889481 | 7.552774 | 0.6544255 | 0.01031651 |        NA |\n",
       "| Test set | -11.942568 | 26.37736 | 22.57345 | -4.4423405 | 7.551316 | 0.8388151 | 0.09975748 | 0.7933364 |\n",
       "\n"
      ],
      "text/plain": [
       "             ME         RMSE     MAE      MPE        MAPE     MASE     \n",
       "Training set   2.022322 23.76371 17.61132  0.0889481 7.552774 0.6544255\n",
       "Test set     -11.942568 26.37736 22.57345 -4.4423405 7.551316 0.8388151\n",
       "             ACF1       Theil's U\n",
       "Training set 0.01031651        NA\n",
       "Test set     0.09975748 0.7933364"
      ]
     },
     "metadata": {},
     "output_type": "display_data"
    },
    {
     "data": {
      "text/html": [
       "<table>\n",
       "<caption>A matrix: 2 × 8 of type dbl</caption>\n",
       "<thead>\n",
       "\t<tr><th></th><th scope=col>ME</th><th scope=col>RMSE</th><th scope=col>MAE</th><th scope=col>MPE</th><th scope=col>MAPE</th><th scope=col>MASE</th><th scope=col>ACF1</th><th scope=col>Theil's U</th></tr>\n",
       "</thead>\n",
       "<tbody>\n",
       "\t<tr><th scope=row>Training set</th><td>  1.306054</td><td>25.29259</td><td>19.86062</td><td>-0.3617114</td><td>8.557237</td><td>0.738008</td><td>0.02964682</td><td>       NA</td></tr>\n",
       "\t<tr><th scope=row>Test set</th><td>-17.159646</td><td>31.67801</td><td>26.50613</td><td>-6.4641213</td><td>9.138704</td><td>0.984951</td><td>0.29829645</td><td>0.9825845</td></tr>\n",
       "</tbody>\n",
       "</table>\n"
      ],
      "text/latex": [
       "A matrix: 2 × 8 of type dbl\n",
       "\\begin{tabular}{r|llllllll}\n",
       "  & ME & RMSE & MAE & MPE & MAPE & MASE & ACF1 & Theil's U\\\\\n",
       "\\hline\n",
       "\tTraining set &   1.306054 & 25.29259 & 19.86062 & -0.3617114 & 8.557237 & 0.738008 & 0.02964682 &        NA\\\\\n",
       "\tTest set & -17.159646 & 31.67801 & 26.50613 & -6.4641213 & 9.138704 & 0.984951 & 0.29829645 & 0.9825845\\\\\n",
       "\\end{tabular}\n"
      ],
      "text/markdown": [
       "\n",
       "A matrix: 2 × 8 of type dbl\n",
       "\n",
       "| <!--/--> | ME | RMSE | MAE | MPE | MAPE | MASE | ACF1 | Theil's U |\n",
       "|---|---|---|---|---|---|---|---|---|\n",
       "| Training set |   1.306054 | 25.29259 | 19.86062 | -0.3617114 | 8.557237 | 0.738008 | 0.02964682 |        NA |\n",
       "| Test set | -17.159646 | 31.67801 | 26.50613 | -6.4641213 | 9.138704 | 0.984951 | 0.29829645 | 0.9825845 |\n",
       "\n"
      ],
      "text/plain": [
       "             ME         RMSE     MAE      MPE        MAPE     MASE    \n",
       "Training set   1.306054 25.29259 19.86062 -0.3617114 8.557237 0.738008\n",
       "Test set     -17.159646 31.67801 26.50613 -6.4641213 9.138704 0.984951\n",
       "             ACF1       Theil's U\n",
       "Training set 0.02964682        NA\n",
       "Test set     0.29829645 0.9825845"
      ]
     },
     "metadata": {},
     "output_type": "display_data"
    }
   ],
   "source": [
    "accuracy(forecast_decomposed_suicide_series, suicide_series_test)\n",
    "accuracy(suicide_series_hw_future_forecasts, suicide_series_test)\n",
    "accuracy(suicide_series_best_arima_forecast, suicide_series_test)"
   ]
  },
  {
   "cell_type": "markdown",
   "metadata": {},
   "source": [
    "The most accuracy and generalizable model is the ARIMA calculated at the begining with the stl decomposition. There doesn't seem to be overfitting (ARIMA models deal with it). Their residuals behave better than in the other models and if we look at the MASE and MAPE metrics is not a bad model and will work better than a naive one."
   ]
  },
  {
   "cell_type": "markdown",
   "metadata": {},
   "source": [
    "We face a stochastic process and the characteristics of the object of study require much more information for more accurate predictions.\n",
    "\n",
    "Suicide is a complex social fact and this small analysis just wanted to get a little closer to this problem that needs much more dedication."
   ]
  },
  {
   "cell_type": "markdown",
   "metadata": {},
   "source": [
    "# Analysis of Unemployment Series"
   ]
  },
  {
   "cell_type": "markdown",
   "metadata": {},
   "source": [
    "## 1. Reading the Data"
   ]
  },
  {
   "cell_type": "code",
   "execution_count": 57,
   "metadata": {},
   "outputs": [
    {
     "data": {
      "text/html": [
       "<table>\n",
       "<caption>A data.frame: 240 × 2</caption>\n",
       "<thead>\n",
       "\t<tr><th scope=col>Date</th><th scope=col>N_of_unemployed</th></tr>\n",
       "\t<tr><th scope=col>&lt;fct&gt;</th><th scope=col>&lt;dbl&gt;</th></tr>\n",
       "</thead>\n",
       "<tbody>\n",
       "\t<tr><td>1998-01-31</td><td>2577189</td></tr>\n",
       "\t<tr><td>1998-02-28</td><td>2553346</td></tr>\n",
       "\t<tr><td>1998-03-31</td><td>2524004</td></tr>\n",
       "\t<tr><td>1998-04-30</td><td>2442803</td></tr>\n",
       "\t<tr><td>1998-05-31</td><td>2369889</td></tr>\n",
       "\t<tr><td>1998-06-30</td><td>2332016</td></tr>\n",
       "\t<tr><td>1998-07-31</td><td>2250015</td></tr>\n",
       "\t<tr><td>1998-08-31</td><td>2235296</td></tr>\n",
       "\t<tr><td>1998-09-30</td><td>2256328</td></tr>\n",
       "\t<tr><td>1998-10-31</td><td>2267925</td></tr>\n",
       "\t<tr><td>1998-11-30</td><td>2270240</td></tr>\n",
       "\t<tr><td>1998-12-31</td><td>2233259</td></tr>\n",
       "\t<tr><td>1999-01-31</td><td>2251728</td></tr>\n",
       "\t<tr><td>1999-02-28</td><td>2233082</td></tr>\n",
       "\t<tr><td>1999-03-31</td><td>2202337</td></tr>\n",
       "\t<tr><td>1999-04-30</td><td>2144375</td></tr>\n",
       "\t<tr><td>1999-05-31</td><td>2076942</td></tr>\n",
       "\t<tr><td>1999-06-30</td><td>2045950</td></tr>\n",
       "\t<tr><td>1999-07-31</td><td>1980957</td></tr>\n",
       "\t<tr><td>1999-08-31</td><td>1980966</td></tr>\n",
       "\t<tr><td>1999-09-30</td><td>2002552</td></tr>\n",
       "\t<tr><td>1999-10-31</td><td>2019968</td></tr>\n",
       "\t<tr><td>1999-11-30</td><td>2055809</td></tr>\n",
       "\t<tr><td>1999-12-31</td><td>2027982</td></tr>\n",
       "\t<tr><td>2000-01-31</td><td>2090035</td></tr>\n",
       "\t<tr><td>2000-02-29</td><td>2079752</td></tr>\n",
       "\t<tr><td>2000-03-31</td><td>2042332</td></tr>\n",
       "\t<tr><td>2000-04-30</td><td>1983994</td></tr>\n",
       "\t<tr><td>2000-05-31</td><td>1929028</td></tr>\n",
       "\t<tr><td>2000-06-30</td><td>1903053</td></tr>\n",
       "\t<tr><td>...</td><td>...</td></tr>\n",
       "\t<tr><td>2015-07-31</td><td>4046276</td></tr>\n",
       "\t<tr><td>2015-08-31</td><td>4067955</td></tr>\n",
       "\t<tr><td>2015-09-30</td><td>4094042</td></tr>\n",
       "\t<tr><td>2015-10-31</td><td>4176369</td></tr>\n",
       "\t<tr><td>2015-11-30</td><td>4149298</td></tr>\n",
       "\t<tr><td>2015-12-31</td><td>4093508</td></tr>\n",
       "\t<tr><td>2016-01-31</td><td>4150755</td></tr>\n",
       "\t<tr><td>2016-02-29</td><td>4152986</td></tr>\n",
       "\t<tr><td>2016-03-31</td><td>4094770</td></tr>\n",
       "\t<tr><td>2016-04-30</td><td>4011171</td></tr>\n",
       "\t<tr><td>2016-05-31</td><td>3891403</td></tr>\n",
       "\t<tr><td>2016-06-30</td><td>3767054</td></tr>\n",
       "\t<tr><td>2016-07-31</td><td>3683061</td></tr>\n",
       "\t<tr><td>2016-08-31</td><td>3697496</td></tr>\n",
       "\t<tr><td>2016-09-30</td><td>3720297</td></tr>\n",
       "\t<tr><td>2016-10-31</td><td>3764982</td></tr>\n",
       "\t<tr><td>2016-11-30</td><td>3789823</td></tr>\n",
       "\t<tr><td>2016-12-31</td><td>3702974</td></tr>\n",
       "\t<tr><td>2017-01-31</td><td>3760231</td></tr>\n",
       "\t<tr><td>2017-02-28</td><td>3750876</td></tr>\n",
       "\t<tr><td>2017-03-31</td><td>3702317</td></tr>\n",
       "\t<tr><td>2017-04-30</td><td>3573036</td></tr>\n",
       "\t<tr><td>2017-05-31</td><td>3461128</td></tr>\n",
       "\t<tr><td>2017-06-30</td><td>3362811</td></tr>\n",
       "\t<tr><td>2017-07-31</td><td>3335924</td></tr>\n",
       "\t<tr><td>2017-08-31</td><td>3382324</td></tr>\n",
       "\t<tr><td>2017-09-30</td><td>3410182</td></tr>\n",
       "\t<tr><td>2017-10-31</td><td>3467026</td></tr>\n",
       "\t<tr><td>2017-11-30</td><td>3474281</td></tr>\n",
       "\t<tr><td>2017-12-31</td><td>3412781</td></tr>\n",
       "</tbody>\n",
       "</table>\n"
      ],
      "text/latex": [
       "A data.frame: 240 × 2\n",
       "\\begin{tabular}{r|ll}\n",
       " Date & N\\_of\\_unemployed\\\\\n",
       " <fct> & <dbl>\\\\\n",
       "\\hline\n",
       "\t 1998-01-31 & 2577189\\\\\n",
       "\t 1998-02-28 & 2553346\\\\\n",
       "\t 1998-03-31 & 2524004\\\\\n",
       "\t 1998-04-30 & 2442803\\\\\n",
       "\t 1998-05-31 & 2369889\\\\\n",
       "\t 1998-06-30 & 2332016\\\\\n",
       "\t 1998-07-31 & 2250015\\\\\n",
       "\t 1998-08-31 & 2235296\\\\\n",
       "\t 1998-09-30 & 2256328\\\\\n",
       "\t 1998-10-31 & 2267925\\\\\n",
       "\t 1998-11-30 & 2270240\\\\\n",
       "\t 1998-12-31 & 2233259\\\\\n",
       "\t 1999-01-31 & 2251728\\\\\n",
       "\t 1999-02-28 & 2233082\\\\\n",
       "\t 1999-03-31 & 2202337\\\\\n",
       "\t 1999-04-30 & 2144375\\\\\n",
       "\t 1999-05-31 & 2076942\\\\\n",
       "\t 1999-06-30 & 2045950\\\\\n",
       "\t 1999-07-31 & 1980957\\\\\n",
       "\t 1999-08-31 & 1980966\\\\\n",
       "\t 1999-09-30 & 2002552\\\\\n",
       "\t 1999-10-31 & 2019968\\\\\n",
       "\t 1999-11-30 & 2055809\\\\\n",
       "\t 1999-12-31 & 2027982\\\\\n",
       "\t 2000-01-31 & 2090035\\\\\n",
       "\t 2000-02-29 & 2079752\\\\\n",
       "\t 2000-03-31 & 2042332\\\\\n",
       "\t 2000-04-30 & 1983994\\\\\n",
       "\t 2000-05-31 & 1929028\\\\\n",
       "\t 2000-06-30 & 1903053\\\\\n",
       "\t ... & ...\\\\\n",
       "\t 2015-07-31 & 4046276\\\\\n",
       "\t 2015-08-31 & 4067955\\\\\n",
       "\t 2015-09-30 & 4094042\\\\\n",
       "\t 2015-10-31 & 4176369\\\\\n",
       "\t 2015-11-30 & 4149298\\\\\n",
       "\t 2015-12-31 & 4093508\\\\\n",
       "\t 2016-01-31 & 4150755\\\\\n",
       "\t 2016-02-29 & 4152986\\\\\n",
       "\t 2016-03-31 & 4094770\\\\\n",
       "\t 2016-04-30 & 4011171\\\\\n",
       "\t 2016-05-31 & 3891403\\\\\n",
       "\t 2016-06-30 & 3767054\\\\\n",
       "\t 2016-07-31 & 3683061\\\\\n",
       "\t 2016-08-31 & 3697496\\\\\n",
       "\t 2016-09-30 & 3720297\\\\\n",
       "\t 2016-10-31 & 3764982\\\\\n",
       "\t 2016-11-30 & 3789823\\\\\n",
       "\t 2016-12-31 & 3702974\\\\\n",
       "\t 2017-01-31 & 3760231\\\\\n",
       "\t 2017-02-28 & 3750876\\\\\n",
       "\t 2017-03-31 & 3702317\\\\\n",
       "\t 2017-04-30 & 3573036\\\\\n",
       "\t 2017-05-31 & 3461128\\\\\n",
       "\t 2017-06-30 & 3362811\\\\\n",
       "\t 2017-07-31 & 3335924\\\\\n",
       "\t 2017-08-31 & 3382324\\\\\n",
       "\t 2017-09-30 & 3410182\\\\\n",
       "\t 2017-10-31 & 3467026\\\\\n",
       "\t 2017-11-30 & 3474281\\\\\n",
       "\t 2017-12-31 & 3412781\\\\\n",
       "\\end{tabular}\n"
      ],
      "text/markdown": [
       "\n",
       "A data.frame: 240 × 2\n",
       "\n",
       "| Date &lt;fct&gt; | N_of_unemployed &lt;dbl&gt; |\n",
       "|---|---|\n",
       "| 1998-01-31 | 2577189 |\n",
       "| 1998-02-28 | 2553346 |\n",
       "| 1998-03-31 | 2524004 |\n",
       "| 1998-04-30 | 2442803 |\n",
       "| 1998-05-31 | 2369889 |\n",
       "| 1998-06-30 | 2332016 |\n",
       "| 1998-07-31 | 2250015 |\n",
       "| 1998-08-31 | 2235296 |\n",
       "| 1998-09-30 | 2256328 |\n",
       "| 1998-10-31 | 2267925 |\n",
       "| 1998-11-30 | 2270240 |\n",
       "| 1998-12-31 | 2233259 |\n",
       "| 1999-01-31 | 2251728 |\n",
       "| 1999-02-28 | 2233082 |\n",
       "| 1999-03-31 | 2202337 |\n",
       "| 1999-04-30 | 2144375 |\n",
       "| 1999-05-31 | 2076942 |\n",
       "| 1999-06-30 | 2045950 |\n",
       "| 1999-07-31 | 1980957 |\n",
       "| 1999-08-31 | 1980966 |\n",
       "| 1999-09-30 | 2002552 |\n",
       "| 1999-10-31 | 2019968 |\n",
       "| 1999-11-30 | 2055809 |\n",
       "| 1999-12-31 | 2027982 |\n",
       "| 2000-01-31 | 2090035 |\n",
       "| 2000-02-29 | 2079752 |\n",
       "| 2000-03-31 | 2042332 |\n",
       "| 2000-04-30 | 1983994 |\n",
       "| 2000-05-31 | 1929028 |\n",
       "| 2000-06-30 | 1903053 |\n",
       "| ... | ... |\n",
       "| 2015-07-31 | 4046276 |\n",
       "| 2015-08-31 | 4067955 |\n",
       "| 2015-09-30 | 4094042 |\n",
       "| 2015-10-31 | 4176369 |\n",
       "| 2015-11-30 | 4149298 |\n",
       "| 2015-12-31 | 4093508 |\n",
       "| 2016-01-31 | 4150755 |\n",
       "| 2016-02-29 | 4152986 |\n",
       "| 2016-03-31 | 4094770 |\n",
       "| 2016-04-30 | 4011171 |\n",
       "| 2016-05-31 | 3891403 |\n",
       "| 2016-06-30 | 3767054 |\n",
       "| 2016-07-31 | 3683061 |\n",
       "| 2016-08-31 | 3697496 |\n",
       "| 2016-09-30 | 3720297 |\n",
       "| 2016-10-31 | 3764982 |\n",
       "| 2016-11-30 | 3789823 |\n",
       "| 2016-12-31 | 3702974 |\n",
       "| 2017-01-31 | 3760231 |\n",
       "| 2017-02-28 | 3750876 |\n",
       "| 2017-03-31 | 3702317 |\n",
       "| 2017-04-30 | 3573036 |\n",
       "| 2017-05-31 | 3461128 |\n",
       "| 2017-06-30 | 3362811 |\n",
       "| 2017-07-31 | 3335924 |\n",
       "| 2017-08-31 | 3382324 |\n",
       "| 2017-09-30 | 3410182 |\n",
       "| 2017-10-31 | 3467026 |\n",
       "| 2017-11-30 | 3474281 |\n",
       "| 2017-12-31 | 3412781 |\n",
       "\n"
      ],
      "text/plain": [
       "    Date       N_of_unemployed\n",
       "1   1998-01-31 2577189        \n",
       "2   1998-02-28 2553346        \n",
       "3   1998-03-31 2524004        \n",
       "4   1998-04-30 2442803        \n",
       "5   1998-05-31 2369889        \n",
       "6   1998-06-30 2332016        \n",
       "7   1998-07-31 2250015        \n",
       "8   1998-08-31 2235296        \n",
       "9   1998-09-30 2256328        \n",
       "10  1998-10-31 2267925        \n",
       "11  1998-11-30 2270240        \n",
       "12  1998-12-31 2233259        \n",
       "13  1999-01-31 2251728        \n",
       "14  1999-02-28 2233082        \n",
       "15  1999-03-31 2202337        \n",
       "16  1999-04-30 2144375        \n",
       "17  1999-05-31 2076942        \n",
       "18  1999-06-30 2045950        \n",
       "19  1999-07-31 1980957        \n",
       "20  1999-08-31 1980966        \n",
       "21  1999-09-30 2002552        \n",
       "22  1999-10-31 2019968        \n",
       "23  1999-11-30 2055809        \n",
       "24  1999-12-31 2027982        \n",
       "25  2000-01-31 2090035        \n",
       "26  2000-02-29 2079752        \n",
       "27  2000-03-31 2042332        \n",
       "28  2000-04-30 1983994        \n",
       "29  2000-05-31 1929028        \n",
       "30  2000-06-30 1903053        \n",
       "... ...        ...            \n",
       "211 2015-07-31 4046276        \n",
       "212 2015-08-31 4067955        \n",
       "213 2015-09-30 4094042        \n",
       "214 2015-10-31 4176369        \n",
       "215 2015-11-30 4149298        \n",
       "216 2015-12-31 4093508        \n",
       "217 2016-01-31 4150755        \n",
       "218 2016-02-29 4152986        \n",
       "219 2016-03-31 4094770        \n",
       "220 2016-04-30 4011171        \n",
       "221 2016-05-31 3891403        \n",
       "222 2016-06-30 3767054        \n",
       "223 2016-07-31 3683061        \n",
       "224 2016-08-31 3697496        \n",
       "225 2016-09-30 3720297        \n",
       "226 2016-10-31 3764982        \n",
       "227 2016-11-30 3789823        \n",
       "228 2016-12-31 3702974        \n",
       "229 2017-01-31 3760231        \n",
       "230 2017-02-28 3750876        \n",
       "231 2017-03-31 3702317        \n",
       "232 2017-04-30 3573036        \n",
       "233 2017-05-31 3461128        \n",
       "234 2017-06-30 3362811        \n",
       "235 2017-07-31 3335924        \n",
       "236 2017-08-31 3382324        \n",
       "237 2017-09-30 3410182        \n",
       "238 2017-10-31 3467026        \n",
       "239 2017-11-30 3474281        \n",
       "240 2017-12-31 3412781        "
      ]
     },
     "metadata": {},
     "output_type": "display_data"
    }
   ],
   "source": [
    "wkdir_and_path_unemployment <- cbind(working_directory,'Data/Monthly_unemployment_Spain_1998-2017.csv') # change slash\n",
    "unemployment_filepath <- str_c(wkdir_and_path_unemployment, collapse = \"/\") # change slash\n",
    "unemployment_1998_2017 <- read.csv(unemployment_filepath)\n",
    "unemployment_1998_2017"
   ]
  },
  {
   "cell_type": "markdown",
   "metadata": {},
   "source": [
    "Seems that our date index is not very useful in R code. It automatically converts our list of values into a time series if you give it start date and frequency."
   ]
  },
  {
   "cell_type": "markdown",
   "metadata": {},
   "source": [
    "## 2. Creating and exploring the Time Series"
   ]
  },
  {
   "cell_type": "code",
   "execution_count": 58,
   "metadata": {},
   "outputs": [
    {
     "data": {
      "text/html": [
       "'ts'"
      ],
      "text/latex": [
       "'ts'"
      ],
      "text/markdown": [
       "'ts'"
      ],
      "text/plain": [
       "[1] \"ts\""
      ]
     },
     "metadata": {},
     "output_type": "display_data"
    }
   ],
   "source": [
    "unemployment_1998_2017 <- ts (unemployment_1998_2017$N_of_unemployed, frequency = 12, start = c(1998,1))\n",
    "class(unemployment_1998_2017)"
   ]
  },
  {
   "cell_type": "code",
   "execution_count": 59,
   "metadata": {},
   "outputs": [
    {
     "data": {
      "text/html": [
       "<ol class=list-inline>\n",
       "\t<li>1998</li>\n",
       "\t<li>1</li>\n",
       "</ol>\n"
      ],
      "text/latex": [
       "\\begin{enumerate*}\n",
       "\\item 1998\n",
       "\\item 1\n",
       "\\end{enumerate*}\n"
      ],
      "text/markdown": [
       "1. 1998\n",
       "2. 1\n",
       "\n",
       "\n"
      ],
      "text/plain": [
       "[1] 1998    1"
      ]
     },
     "metadata": {},
     "output_type": "display_data"
    }
   ],
   "source": [
    "#Here we have the start of our time series\n",
    "start(unemployment_1998_2017)"
   ]
  },
  {
   "cell_type": "code",
   "execution_count": 60,
   "metadata": {},
   "outputs": [
    {
     "data": {
      "text/html": [
       "<ol class=list-inline>\n",
       "\t<li>2017</li>\n",
       "\t<li>12</li>\n",
       "</ol>\n"
      ],
      "text/latex": [
       "\\begin{enumerate*}\n",
       "\\item 2017\n",
       "\\item 12\n",
       "\\end{enumerate*}\n"
      ],
      "text/markdown": [
       "1. 2017\n",
       "2. 12\n",
       "\n",
       "\n"
      ],
      "text/plain": [
       "[1] 2017   12"
      ]
     },
     "metadata": {},
     "output_type": "display_data"
    }
   ],
   "source": [
    "#And the end\n",
    "end(unemployment_1998_2017)"
   ]
  },
  {
   "cell_type": "code",
   "execution_count": 61,
   "metadata": {},
   "outputs": [
    {
     "data": {
      "text/html": [
       "12"
      ],
      "text/latex": [
       "12"
      ],
      "text/markdown": [
       "12"
      ],
      "text/plain": [
       "[1] 12"
      ]
     },
     "metadata": {},
     "output_type": "display_data"
    }
   ],
   "source": [
    "#The cycle of this time series is 12 months in a year\n",
    "frequency(unemployment_1998_2017)"
   ]
  },
  {
   "cell_type": "code",
   "execution_count": 62,
   "metadata": {},
   "outputs": [
    {
     "data": {
      "text/html": [
       "<table>\n",
       "<caption>A Time Series: 20 × 12</caption>\n",
       "<thead>\n",
       "\t<tr><th></th><th scope=col>Jan</th><th scope=col>Feb</th><th scope=col>Mar</th><th scope=col>Apr</th><th scope=col>May</th><th scope=col>Jun</th><th scope=col>Jul</th><th scope=col>Aug</th><th scope=col>Sep</th><th scope=col>Oct</th><th scope=col>Nov</th><th scope=col>Dec</th></tr>\n",
       "</thead>\n",
       "<tbody>\n",
       "\t<tr><th scope=row>1998</th><td> 1</td><td> 2</td><td> 3</td><td> 4</td><td> 5</td><td> 6</td><td> 7</td><td> 8</td><td> 9</td><td>10</td><td>11</td><td>12</td></tr>\n",
       "\t<tr><th scope=row>1999</th><td> 1</td><td> 2</td><td> 3</td><td> 4</td><td> 5</td><td> 6</td><td> 7</td><td> 8</td><td> 9</td><td>10</td><td>11</td><td>12</td></tr>\n",
       "\t<tr><th scope=row>2000</th><td> 1</td><td> 2</td><td> 3</td><td> 4</td><td> 5</td><td> 6</td><td> 7</td><td> 8</td><td> 9</td><td>10</td><td>11</td><td>12</td></tr>\n",
       "\t<tr><th scope=row>2001</th><td> 1</td><td> 2</td><td> 3</td><td> 4</td><td> 5</td><td> 6</td><td> 7</td><td> 8</td><td> 9</td><td>10</td><td>11</td><td>12</td></tr>\n",
       "\t<tr><th scope=row>2002</th><td> 1</td><td> 2</td><td> 3</td><td> 4</td><td> 5</td><td> 6</td><td> 7</td><td> 8</td><td> 9</td><td>10</td><td>11</td><td>12</td></tr>\n",
       "\t<tr><th scope=row>2003</th><td> 1</td><td> 2</td><td> 3</td><td> 4</td><td> 5</td><td> 6</td><td> 7</td><td> 8</td><td> 9</td><td>10</td><td>11</td><td>12</td></tr>\n",
       "\t<tr><th scope=row>2004</th><td> 1</td><td> 2</td><td> 3</td><td> 4</td><td> 5</td><td> 6</td><td> 7</td><td> 8</td><td> 9</td><td>10</td><td>11</td><td>12</td></tr>\n",
       "\t<tr><th scope=row>2005</th><td> 1</td><td> 2</td><td> 3</td><td> 4</td><td> 5</td><td> 6</td><td> 7</td><td> 8</td><td> 9</td><td>10</td><td>11</td><td>12</td></tr>\n",
       "\t<tr><th scope=row>2006</th><td> 1</td><td> 2</td><td> 3</td><td> 4</td><td> 5</td><td> 6</td><td> 7</td><td> 8</td><td> 9</td><td>10</td><td>11</td><td>12</td></tr>\n",
       "\t<tr><th scope=row>2007</th><td> 1</td><td> 2</td><td> 3</td><td> 4</td><td> 5</td><td> 6</td><td> 7</td><td> 8</td><td> 9</td><td>10</td><td>11</td><td>12</td></tr>\n",
       "\t<tr><th scope=row>2008</th><td> 1</td><td> 2</td><td> 3</td><td> 4</td><td> 5</td><td> 6</td><td> 7</td><td> 8</td><td> 9</td><td>10</td><td>11</td><td>12</td></tr>\n",
       "\t<tr><th scope=row>2009</th><td> 1</td><td> 2</td><td> 3</td><td> 4</td><td> 5</td><td> 6</td><td> 7</td><td> 8</td><td> 9</td><td>10</td><td>11</td><td>12</td></tr>\n",
       "\t<tr><th scope=row>2010</th><td> 1</td><td> 2</td><td> 3</td><td> 4</td><td> 5</td><td> 6</td><td> 7</td><td> 8</td><td> 9</td><td>10</td><td>11</td><td>12</td></tr>\n",
       "\t<tr><th scope=row>2011</th><td> 1</td><td> 2</td><td> 3</td><td> 4</td><td> 5</td><td> 6</td><td> 7</td><td> 8</td><td> 9</td><td>10</td><td>11</td><td>12</td></tr>\n",
       "\t<tr><th scope=row>2012</th><td> 1</td><td> 2</td><td> 3</td><td> 4</td><td> 5</td><td> 6</td><td> 7</td><td> 8</td><td> 9</td><td>10</td><td>11</td><td>12</td></tr>\n",
       "\t<tr><th scope=row>2013</th><td> 1</td><td> 2</td><td> 3</td><td> 4</td><td> 5</td><td> 6</td><td> 7</td><td> 8</td><td> 9</td><td>10</td><td>11</td><td>12</td></tr>\n",
       "\t<tr><th scope=row>2014</th><td> 1</td><td> 2</td><td> 3</td><td> 4</td><td> 5</td><td> 6</td><td> 7</td><td> 8</td><td> 9</td><td>10</td><td>11</td><td>12</td></tr>\n",
       "\t<tr><th scope=row>2015</th><td> 1</td><td> 2</td><td> 3</td><td> 4</td><td> 5</td><td> 6</td><td> 7</td><td> 8</td><td> 9</td><td>10</td><td>11</td><td>12</td></tr>\n",
       "\t<tr><th scope=row>2016</th><td> 1</td><td> 2</td><td> 3</td><td> 4</td><td> 5</td><td> 6</td><td> 7</td><td> 8</td><td> 9</td><td>10</td><td>11</td><td>12</td></tr>\n",
       "\t<tr><th scope=row>2017</th><td> 1</td><td> 2</td><td> 3</td><td> 4</td><td> 5</td><td> 6</td><td> 7</td><td> 8</td><td> 9</td><td>10</td><td>11</td><td>12</td></tr>\n",
       "</tbody>\n",
       "</table>\n"
      ],
      "text/latex": [
       "A Time Series: 20 × 12\n",
       "\\begin{tabular}{r|llllllllllll}\n",
       "  & Jan & Feb & Mar & Apr & May & Jun & Jul & Aug & Sep & Oct & Nov & Dec\\\\\n",
       "\\hline\n",
       "\t1998 &  1 &  2 &  3 &  4 &  5 &  6 &  7 &  8 &  9 & 10 & 11 & 12\\\\\n",
       "\t1999 &  1 &  2 &  3 &  4 &  5 &  6 &  7 &  8 &  9 & 10 & 11 & 12\\\\\n",
       "\t2000 &  1 &  2 &  3 &  4 &  5 &  6 &  7 &  8 &  9 & 10 & 11 & 12\\\\\n",
       "\t2001 &  1 &  2 &  3 &  4 &  5 &  6 &  7 &  8 &  9 & 10 & 11 & 12\\\\\n",
       "\t2002 &  1 &  2 &  3 &  4 &  5 &  6 &  7 &  8 &  9 & 10 & 11 & 12\\\\\n",
       "\t2003 &  1 &  2 &  3 &  4 &  5 &  6 &  7 &  8 &  9 & 10 & 11 & 12\\\\\n",
       "\t2004 &  1 &  2 &  3 &  4 &  5 &  6 &  7 &  8 &  9 & 10 & 11 & 12\\\\\n",
       "\t2005 &  1 &  2 &  3 &  4 &  5 &  6 &  7 &  8 &  9 & 10 & 11 & 12\\\\\n",
       "\t2006 &  1 &  2 &  3 &  4 &  5 &  6 &  7 &  8 &  9 & 10 & 11 & 12\\\\\n",
       "\t2007 &  1 &  2 &  3 &  4 &  5 &  6 &  7 &  8 &  9 & 10 & 11 & 12\\\\\n",
       "\t2008 &  1 &  2 &  3 &  4 &  5 &  6 &  7 &  8 &  9 & 10 & 11 & 12\\\\\n",
       "\t2009 &  1 &  2 &  3 &  4 &  5 &  6 &  7 &  8 &  9 & 10 & 11 & 12\\\\\n",
       "\t2010 &  1 &  2 &  3 &  4 &  5 &  6 &  7 &  8 &  9 & 10 & 11 & 12\\\\\n",
       "\t2011 &  1 &  2 &  3 &  4 &  5 &  6 &  7 &  8 &  9 & 10 & 11 & 12\\\\\n",
       "\t2012 &  1 &  2 &  3 &  4 &  5 &  6 &  7 &  8 &  9 & 10 & 11 & 12\\\\\n",
       "\t2013 &  1 &  2 &  3 &  4 &  5 &  6 &  7 &  8 &  9 & 10 & 11 & 12\\\\\n",
       "\t2014 &  1 &  2 &  3 &  4 &  5 &  6 &  7 &  8 &  9 & 10 & 11 & 12\\\\\n",
       "\t2015 &  1 &  2 &  3 &  4 &  5 &  6 &  7 &  8 &  9 & 10 & 11 & 12\\\\\n",
       "\t2016 &  1 &  2 &  3 &  4 &  5 &  6 &  7 &  8 &  9 & 10 & 11 & 12\\\\\n",
       "\t2017 &  1 &  2 &  3 &  4 &  5 &  6 &  7 &  8 &  9 & 10 & 11 & 12\\\\\n",
       "\\end{tabular}\n"
      ],
      "text/markdown": [
       "\n",
       "A Time Series: 20 × 12\n",
       "\n",
       "| <!--/--> | Jan | Feb | Mar | Apr | May | Jun | Jul | Aug | Sep | Oct | Nov | Dec |\n",
       "|---|---|---|---|---|---|---|---|---|---|---|---|---|\n",
       "| 1998 |  1 |  2 |  3 |  4 |  5 |  6 |  7 |  8 |  9 | 10 | 11 | 12 |\n",
       "| 1999 |  1 |  2 |  3 |  4 |  5 |  6 |  7 |  8 |  9 | 10 | 11 | 12 |\n",
       "| 2000 |  1 |  2 |  3 |  4 |  5 |  6 |  7 |  8 |  9 | 10 | 11 | 12 |\n",
       "| 2001 |  1 |  2 |  3 |  4 |  5 |  6 |  7 |  8 |  9 | 10 | 11 | 12 |\n",
       "| 2002 |  1 |  2 |  3 |  4 |  5 |  6 |  7 |  8 |  9 | 10 | 11 | 12 |\n",
       "| 2003 |  1 |  2 |  3 |  4 |  5 |  6 |  7 |  8 |  9 | 10 | 11 | 12 |\n",
       "| 2004 |  1 |  2 |  3 |  4 |  5 |  6 |  7 |  8 |  9 | 10 | 11 | 12 |\n",
       "| 2005 |  1 |  2 |  3 |  4 |  5 |  6 |  7 |  8 |  9 | 10 | 11 | 12 |\n",
       "| 2006 |  1 |  2 |  3 |  4 |  5 |  6 |  7 |  8 |  9 | 10 | 11 | 12 |\n",
       "| 2007 |  1 |  2 |  3 |  4 |  5 |  6 |  7 |  8 |  9 | 10 | 11 | 12 |\n",
       "| 2008 |  1 |  2 |  3 |  4 |  5 |  6 |  7 |  8 |  9 | 10 | 11 | 12 |\n",
       "| 2009 |  1 |  2 |  3 |  4 |  5 |  6 |  7 |  8 |  9 | 10 | 11 | 12 |\n",
       "| 2010 |  1 |  2 |  3 |  4 |  5 |  6 |  7 |  8 |  9 | 10 | 11 | 12 |\n",
       "| 2011 |  1 |  2 |  3 |  4 |  5 |  6 |  7 |  8 |  9 | 10 | 11 | 12 |\n",
       "| 2012 |  1 |  2 |  3 |  4 |  5 |  6 |  7 |  8 |  9 | 10 | 11 | 12 |\n",
       "| 2013 |  1 |  2 |  3 |  4 |  5 |  6 |  7 |  8 |  9 | 10 | 11 | 12 |\n",
       "| 2014 |  1 |  2 |  3 |  4 |  5 |  6 |  7 |  8 |  9 | 10 | 11 | 12 |\n",
       "| 2015 |  1 |  2 |  3 |  4 |  5 |  6 |  7 |  8 |  9 | 10 | 11 | 12 |\n",
       "| 2016 |  1 |  2 |  3 |  4 |  5 |  6 |  7 |  8 |  9 | 10 | 11 | 12 |\n",
       "| 2017 |  1 |  2 |  3 |  4 |  5 |  6 |  7 |  8 |  9 | 10 | 11 | 12 |\n",
       "\n"
      ],
      "text/plain": [
       "     Jan Feb Mar Apr May Jun Jul Aug Sep Oct Nov Dec\n",
       "1998  1   2   3   4   5   6   7   8   9  10  11  12 \n",
       "1999  1   2   3   4   5   6   7   8   9  10  11  12 \n",
       "2000  1   2   3   4   5   6   7   8   9  10  11  12 \n",
       "2001  1   2   3   4   5   6   7   8   9  10  11  12 \n",
       "2002  1   2   3   4   5   6   7   8   9  10  11  12 \n",
       "2003  1   2   3   4   5   6   7   8   9  10  11  12 \n",
       "2004  1   2   3   4   5   6   7   8   9  10  11  12 \n",
       "2005  1   2   3   4   5   6   7   8   9  10  11  12 \n",
       "2006  1   2   3   4   5   6   7   8   9  10  11  12 \n",
       "2007  1   2   3   4   5   6   7   8   9  10  11  12 \n",
       "2008  1   2   3   4   5   6   7   8   9  10  11  12 \n",
       "2009  1   2   3   4   5   6   7   8   9  10  11  12 \n",
       "2010  1   2   3   4   5   6   7   8   9  10  11  12 \n",
       "2011  1   2   3   4   5   6   7   8   9  10  11  12 \n",
       "2012  1   2   3   4   5   6   7   8   9  10  11  12 \n",
       "2013  1   2   3   4   5   6   7   8   9  10  11  12 \n",
       "2014  1   2   3   4   5   6   7   8   9  10  11  12 \n",
       "2015  1   2   3   4   5   6   7   8   9  10  11  12 \n",
       "2016  1   2   3   4   5   6   7   8   9  10  11  12 \n",
       "2017  1   2   3   4   5   6   7   8   9  10  11  12 "
      ]
     },
     "metadata": {},
     "output_type": "display_data"
    }
   ],
   "source": [
    "cycle(unemployment_1998_2017)"
   ]
  },
  {
   "cell_type": "code",
   "execution_count": 63,
   "metadata": {},
   "outputs": [
    {
     "data": {
      "text/plain": [
       "   Min. 1st Qu.  Median    Mean 3rd Qu.    Max. \n",
       "1835738 2050295 2361732 3049950 4112796 5040222 "
      ]
     },
     "metadata": {},
     "output_type": "display_data"
    }
   ],
   "source": [
    "#Here we have some descriptive statistics\n",
    "summary(unemployment_1998_2017)"
   ]
  },
  {
   "cell_type": "markdown",
   "metadata": {},
   "source": [
    "The first basic plot that we are going to use is a line graph with the values of the series in the ordinate and the temporal instants on the abscissa axis. Constructing this graph can be very useful to observe some characteristics of our time series."
   ]
  },
  {
   "cell_type": "code",
   "execution_count": 64,
   "metadata": {},
   "outputs": [
    {
     "data": {
      "image/png": "[encoded data removed]",
      "text/plain": [
       "plot without title"
      ]
     },
     "metadata": {},
     "output_type": "display_data"
    }
   ],
   "source": [
    "options(repr.plot.width=7, repr.plot.height=5)\n",
    "#The number of unemployed in Spain\n",
    "plot(unemployment_1998_2017, xlab = 'Years', ylab = 'Number of unemployed')\n",
    "\n",
    "#this will fit in a line\n",
    "abline(reg=lm(unemployment_1998_2017~time(unemployment_1998_2017)))"
   ]
  },
  {
   "cell_type": "markdown",
   "metadata": {},
   "source": [
    "It seems that the mean, the variance and the covariance are not constant over time. This makes us think that we are facing a **non-stationary series**, although this is something that we will analyze in more detail later."
   ]
  },
  {
   "cell_type": "code",
   "execution_count": 65,
   "metadata": {},
   "outputs": [
    {
     "data": {
      "image/png": "[encoded data removed]",
      "text/plain": [
       "Plot with title \"Year on year trend\""
      ]
     },
     "metadata": {},
     "output_type": "display_data"
    }
   ],
   "source": [
    "#In this plot we are going to aggregate the cycles and display a year on year trend\n",
    "options(repr.plot.width=5, repr.plot.height=5)\n",
    "plot(aggregate(unemployment_1998_2017,FUN=mean), xlab = \"Years\", ylab = \"Aggregated Unemployment by mean\", main = 'Year on year trend', col = 'blue')"
   ]
  },
  {
   "cell_type": "code",
   "execution_count": 66,
   "metadata": {},
   "outputs": [
    {
     "data": {
      "text/html": [
       "A Time Series:<br><ol class=list-inline>\n",
       "\t<li>2359359.2875</li>\n",
       "\t<li>2085220.68</li>\n",
       "\t<li>1963462.31</li>\n",
       "\t<li>1930156.73916667</li>\n",
       "\t<li>2049606.91083333</li>\n",
       "\t<li>2096886.94916667</li>\n",
       "\t<li>2113717.59083333</li>\n",
       "\t<li>2046205.33333333</li>\n",
       "\t<li>2063062.25</li>\n",
       "\t<li>2039004.33333333</li>\n",
       "\t<li>2539940.83333333</li>\n",
       "\t<li>3644041.16666667</li>\n",
       "\t<li>4060755.91666667</li>\n",
       "\t<li>4257159.58333333</li>\n",
       "\t<li>4720404.08333333</li>\n",
       "\t<li>4845302.08333333</li>\n",
       "\t<li>4575937.08333333</li>\n",
       "\t<li>4232131.83333333</li>\n",
       "\t<li>3868897.66666667</li>\n",
       "\t<li>3507743.08333333</li>\n",
       "</ol>\n"
      ],
      "text/latex": [
       "A Time Series:\\\\\\begin{enumerate*}\n",
       "\\item 2359359.2875\n",
       "\\item 2085220.68\n",
       "\\item 1963462.31\n",
       "\\item 1930156.73916667\n",
       "\\item 2049606.91083333\n",
       "\\item 2096886.94916667\n",
       "\\item 2113717.59083333\n",
       "\\item 2046205.33333333\n",
       "\\item 2063062.25\n",
       "\\item 2039004.33333333\n",
       "\\item 2539940.83333333\n",
       "\\item 3644041.16666667\n",
       "\\item 4060755.91666667\n",
       "\\item 4257159.58333333\n",
       "\\item 4720404.08333333\n",
       "\\item 4845302.08333333\n",
       "\\item 4575937.08333333\n",
       "\\item 4232131.83333333\n",
       "\\item 3868897.66666667\n",
       "\\item 3507743.08333333\n",
       "\\end{enumerate*}\n"
      ],
      "text/markdown": [
       "A Time Series:  \n",
       "1. 2359359.2875\n",
       "2. 2085220.68\n",
       "3. 1963462.31\n",
       "4. 1930156.73916667\n",
       "5. 2049606.91083333\n",
       "6. 2096886.94916667\n",
       "7. 2113717.59083333\n",
       "8. 2046205.33333333\n",
       "9. 2063062.25\n",
       "10. 2039004.33333333\n",
       "11. 2539940.83333333\n",
       "12. 3644041.16666667\n",
       "13. 4060755.91666667\n",
       "14. 4257159.58333333\n",
       "15. 4720404.08333333\n",
       "16. 4845302.08333333\n",
       "17. 4575937.08333333\n",
       "18. 4232131.83333333\n",
       "19. 3868897.66666667\n",
       "20. 3507743.08333333\n",
       "\n",
       "\n"
      ],
      "text/plain": [
       "A Time Series:\n",
       " [1] 2359359 2085221 1963462 1930157 2049607 2096887 2113718 2046205 2063062\n",
       "[10] 2039004 2539941 3644041 4060756 4257160 4720404 4845302 4575937 4232132\n",
       "[19] 3868898 3507743"
      ]
     },
     "metadata": {},
     "output_type": "display_data"
    }
   ],
   "source": [
    "aggregate(unemployment_1998_2017,FUN=mean)"
   ]
  },
  {
   "cell_type": "markdown",
   "metadata": {},
   "source": [
    "The year on year trend clearly shows that the **number of unemployed in Spain increased from 2007 to 2013 and decreased from 2013 to 2017 significantly.**"
   ]
  },
  {
   "cell_type": "code",
   "execution_count": 67,
   "metadata": {},
   "outputs": [
    {
     "data": {
      "image/png": "[encoded data removed]",
      "text/plain": [
       "Plot with title \"Box Plot across Months\""
      ]
     },
     "metadata": {},
     "output_type": "display_data"
    }
   ],
   "source": [
    "#Box plot across months will give us a sense on seasonal effect\n",
    "options(repr.plot.width=5, repr.plot.height=5)\n",
    "boxplot(unemployment_1998_2017~cycle(unemployment_1998_2017), xlab = 'Months', ylab = 'Number of unemployed', main = 'Box Plot across Months',col = 'purple')"
   ]
  },
  {
   "cell_type": "markdown",
   "metadata": {},
   "source": [
    "The mean value of unemployed in **the last months of the year is higher than rest of the months.** \n",
    "Also it shows a great variance due to the large peaks that make our distribution not behave in a very normal way."
   ]
  },
  {
   "cell_type": "code",
   "execution_count": 68,
   "metadata": {},
   "outputs": [
    {
     "data": {
      "image/png": "[encoded data removed]",
      "text/plain": [
       "Plot with title \"Normal Q-Q Plot\""
      ]
     },
     "metadata": {},
     "output_type": "display_data"
    }
   ],
   "source": [
    "date = make_date(year = 1998, month = 1)\n",
    "Date_range = seq(from = date, by = 'month', length.out = length(unemployment_1998_2017))\n",
    "\n",
    "options(repr.plot.width=10, repr.plot.height=8)\n",
    "\n",
    "par(mfrow=c(2,1)) \n",
    "\n",
    "#histogram\n",
    "hist (unemployment_1998_2017, xlab = 'Number of unemployed', main = 'Histogram', col = 'brown')\n",
    "\n",
    "#Q-Q plot\n",
    "qqnorm(unemployment_1998_2017)\n",
    "qqline(unemployment_1998_2017)"
   ]
  },
  {
   "cell_type": "code",
   "execution_count": 114,
   "metadata": {},
   "outputs": [
    {
     "data": {
      "text/plain": [
       "\n",
       "\tOne-sample Kolmogorov-Smirnov test\n",
       "\n",
       "data:  unemployment_1998_2017\n",
       "D = 0.34527, p-value < 2.2e-16\n",
       "alternative hypothesis: two-sided\n"
      ]
     },
     "metadata": {},
     "output_type": "display_data"
    }
   ],
   "source": [
    "ks.test(unemployment_1998_2017, \"pnorm\", 3049949.785875, 3049949.785875)"
   ]
  },
  {
   "cell_type": "markdown",
   "metadata": {},
   "source": [
    "The graphs and the test show us that it seems that our distribution it's NOT close to a Gaussian distribution."
   ]
  },
  {
   "cell_type": "markdown",
   "metadata": {},
   "source": [
    "## 3. Time Series Components Analysis"
   ]
  },
  {
   "cell_type": "markdown",
   "metadata": {},
   "source": [
    "We are going to use the same methodology that we used for the suicide series. *So I will not repair so much in explaining the usefulness of each step*."
   ]
  },
  {
   "cell_type": "markdown",
   "metadata": {},
   "source": [
    "*Let's start to analyze each of its components with a little more detail, but first we are going to split our time series in a train and a test sets.*"
   ]
  },
  {
   "cell_type": "code",
   "execution_count": 70,
   "metadata": {},
   "outputs": [],
   "source": [
    "unemployment_series_test  <- ts(tail(unemployment_1998_2017,48), frequency = 12, start = c(2014,1))\n",
    "unemployment_series_train  <- ts(head(unemployment_1998_2017, 192), frequency = 12, start = c(1998,1))"
   ]
  },
  {
   "cell_type": "markdown",
   "metadata": {},
   "source": [
    "### 3.1. Decomposition methods"
   ]
  },
  {
   "cell_type": "markdown",
   "metadata": {},
   "source": [
    "#### 3.1.1. Moving Averages\n",
    "\n",
    "We present the methodology of moving averages because it's the first step in the classical decomposition and allows us to observe **the trend** of our time series represented in a smoothed way. It can be a good method to extract information in temporary series where there are no fluctuations due to trend or seasonality."
   ]
  },
  {
   "cell_type": "markdown",
   "metadata": {},
   "source": [
    "It is possible to apply a moving average to a moving average. One reason for doing this is to make an even-order moving average symmetric. It's recommended to use a 2x12 Moving averages to estimate the trend-cycle of monthly data:"
   ]
  },
  {
   "cell_type": "code",
   "execution_count": 71,
   "metadata": {
    "scrolled": true
   },
   "outputs": [
    {
     "data": {},
     "metadata": {},
     "output_type": "display_data"
    },
    {
     "data": {
      "image/png": "[encoded data removed]",
      "text/plain": [
       "plot without title"
      ]
     },
     "metadata": {},
     "output_type": "display_data"
    }
   ],
   "source": [
    "options(repr.plot.width=8, repr.plot.height=4)\n",
    "\n",
    "#Applying Moving Averages\n",
    "autoplot(unemployment_series_train) +\n",
    "    autolayer(ma(unemployment_series_train, order=2, centre=FALSE), series='2 MovingAverage')+\n",
    "    autolayer(ma(unemployment_series_train,12, centre = TRUE), series='2x12 Moving Average') +\n",
    "    xlab('Date') + ylab('Number of unemployed') +\n",
    "    ggtitle('Monthly Unemployment in Spain') +\n",
    "    guides(colour=guide_legend(title='series'))"
   ]
  },
  {
   "cell_type": "markdown",
   "metadata": {},
   "source": [
    "The moving average helps us to reduce the noise or short-term volatility in the movements of the data and in this way allows us to better evaluate the quality and direction of a trend."
   ]
  },
  {
   "cell_type": "markdown",
   "metadata": {},
   "source": [
    "Let's start with decomposition and seasonal adjustments"
   ]
  },
  {
   "cell_type": "markdown",
   "metadata": {},
   "source": [
    "#### 3.1.2. Classic Decomposition\n",
    "\n",
    "We are going to use decompose function to see the components of our time series in a classic decomposition method, jut to have a first look:"
   ]
  },
  {
   "cell_type": "code",
   "execution_count": 72,
   "metadata": {},
   "outputs": [
    {
     "data": {
      "image/png": "[encoded data removed]",
      "text/plain": [
       "plot without title"
      ]
     },
     "metadata": {},
     "output_type": "display_data"
    }
   ],
   "source": [
    "options(repr.plot.width=8, repr.plot.height=7)\n",
    "\n",
    "unemployment_series_components  <- decompose(unemployment_series_train)\n",
    "plot(unemployment_series_components)"
   ]
  },
  {
   "cell_type": "markdown",
   "metadata": {},
   "source": [
    "The plot above shows the original time series (top), the estimated trend component (second from top), the estimated seasonal component (third from top), and the estimated irregular component (bottom). "
   ]
  },
  {
   "cell_type": "markdown",
   "metadata": {},
   "source": [
    "Just like with suicide series, it seems that we have to deal with a trend and a seasonal component. Let's confirm this plotting the autocorrelation function of our time series:"
   ]
  },
  {
   "cell_type": "code",
   "execution_count": 73,
   "metadata": {},
   "outputs": [
    {
     "data": {
      "image/png": "[encoded data removed]",
      "text/plain": [
       "Plot with title \"Unemployment Series\""
      ]
     },
     "metadata": {},
     "output_type": "display_data"
    }
   ],
   "source": [
    "options(repr.plot.width=6, repr.plot.height=4)\n",
    "\n",
    "acf(unemployment_series_train, main = 'Unemployment Series')"
   ]
  },
  {
   "cell_type": "markdown",
   "metadata": {},
   "source": [
    "The decrease in the ACF as the lags increase is due to the trend, and it seems that we have a **light seasonal component**. We are not very sure about that so we are going to keep checking."
   ]
  },
  {
   "cell_type": "markdown",
   "metadata": {},
   "source": [
    "Classical decomposition methods are good but we want to see the variation of the seasonal component over the time. We are going to use STL method:"
   ]
  },
  {
   "cell_type": "markdown",
   "metadata": {},
   "source": [
    "#### 3.1.3. STL decomposition"
   ]
  },
  {
   "cell_type": "code",
   "execution_count": 74,
   "metadata": {},
   "outputs": [
    {
     "data": {
      "image/png": "[encoded data removed]",
      "text/plain": [
       "plot without title"
      ]
     },
     "metadata": {},
     "output_type": "display_data"
    }
   ],
   "source": [
    "STL_unemployment_components <- mstl(unemployment_series_train)\n",
    "options(repr.plot.width=12, repr.plot.height=6)\n",
    "plot(STL_unemployment_components, main = 'Unemployment Components STL')"
   ]
  },
  {
   "cell_type": "code",
   "execution_count": 75,
   "metadata": {},
   "outputs": [
    {
     "data": {},
     "metadata": {},
     "output_type": "display_data"
    },
    {
     "data": {
      "image/png": "[encoded data removed]",
      "text/plain": [
       "plot without title"
      ]
     },
     "metadata": {},
     "output_type": "display_data"
    }
   ],
   "source": [
    "options(repr.plot.width=8, repr.plot.height=4)\n",
    "autoplot(unemployment_series_train, series=\"Data\") +\n",
    "    autolayer(trendcycle(STL_unemployment_components), series=\"Trend\") +\n",
    "    autolayer(seasadj(STL_unemployment_components), series=\"Seasonally Adjusted\") +\n",
    "    xlab(\"Year\") + ylab(\"Number of unemployed\") +\n",
    "    ggtitle(\"Monthly Unemployment in Spain\") +\n",
    "    scale_colour_manual(values=c(\"black\",\"blue\",\"red\"),\n",
    "             breaks=c(\"Data\",\"Seasonally Adjusted\",\"Trend\"))"
   ]
  },
  {
   "cell_type": "code",
   "execution_count": 76,
   "metadata": {},
   "outputs": [
    {
     "data": {},
     "metadata": {},
     "output_type": "display_data"
    },
    {
     "data": {
      "image/png": "[encoded data removed]",
      "text/plain": [
       "plot without title"
      ]
     },
     "metadata": {},
     "output_type": "display_data"
    }
   ],
   "source": [
    "options(repr.plot.width=8, repr.plot.height=4)\n",
    "STL_unemployment_components %>% seasonal() %>% ggsubseriesplot() + ylab(\"Seasonal\")"
   ]
  },
  {
   "cell_type": "markdown",
   "metadata": {},
   "source": [
    "Here we can see a more smothed trend. But the most interesting thing that we can observe is that the seasonality component varies with time. \n",
    "Over time:\n",
    "- The values have been growing until May\n",
    "- The values have been growing since the month of June"
   ]
  },
  {
   "cell_type": "markdown",
   "metadata": {},
   "source": [
    "The seasonal component might not be relevant to explain the dynamics of the series. In order to see that, we can compare the variance of each component with respect to the variance of the original series."
   ]
  },
  {
   "cell_type": "code",
   "execution_count": 77,
   "metadata": {},
   "outputs": [
    {
     "data": {
      "text/html": [
       "<dl class=dl-horizontal>\n",
       "\t<dt>Data</dt>\n",
       "\t\t<dd>1</dd>\n",
       "\t<dt>Trend</dt>\n",
       "\t\t<dd>0.981464266224207</dd>\n",
       "\t<dt>Seasonal12</dt>\n",
       "\t\t<dd>0.00456616883596513</dd>\n",
       "\t<dt>Remainder</dt>\n",
       "\t\t<dd>0.0011686430482312</dd>\n",
       "</dl>\n"
      ],
      "text/latex": [
       "\\begin{description*}\n",
       "\\item[Data] 1\n",
       "\\item[Trend] 0.981464266224207\n",
       "\\item[Seasonal12] 0.00456616883596513\n",
       "\\item[Remainder] 0.0011686430482312\n",
       "\\end{description*}\n"
      ],
      "text/markdown": [
       "Data\n",
       ":   1Trend\n",
       ":   0.981464266224207Seasonal12\n",
       ":   0.00456616883596513Remainder\n",
       ":   0.0011686430482312\n",
       "\n"
      ],
      "text/plain": [
       "       Data       Trend  Seasonal12   Remainder \n",
       "1.000000000 0.981464266 0.004566169 0.001168643 "
      ]
     },
     "metadata": {},
     "output_type": "display_data"
    }
   ],
   "source": [
    "apply(STL_unemployment_components,2, var) / var(c(unemployment_series_train))"
   ]
  },
  {
   "cell_type": "markdown",
   "metadata": {},
   "source": [
    "*We can see that it is the trend what explains most of the variance in the data.*"
   ]
  },
  {
   "cell_type": "code",
   "execution_count": 78,
   "metadata": {},
   "outputs": [
    {
     "data": {
      "text/html": [
       "<table>\n",
       "<caption>A Time Series: 16 × 12</caption>\n",
       "<thead>\n",
       "\t<tr><th></th><th scope=col>Jan</th><th scope=col>Feb</th><th scope=col>Mar</th><th scope=col>Apr</th><th scope=col>May</th><th scope=col>Jun</th><th scope=col>Jul</th><th scope=col>Aug</th><th scope=col>Sep</th><th scope=col>Oct</th><th scope=col>Nov</th><th scope=col>Dec</th></tr>\n",
       "</thead>\n",
       "<tbody>\n",
       "\t<tr><th scope=row>1998</th><td>2490026</td><td>2463528</td><td>2455174</td><td>2418851</td><td>2401775</td><td>2392986</td><td>2334447</td><td>2306481</td><td>2308747</td><td>2282057</td><td>2248452</td><td>2210398</td></tr>\n",
       "\t<tr><th scope=row>1999</th><td>2164528</td><td>2143292</td><td>2133265</td><td>2119607</td><td>2108664</td><td>2106981</td><td>2065019</td><td>2051955</td><td>2055560</td><td>2034681</td><td>2034793</td><td>2005177</td></tr>\n",
       "\t<tr><th scope=row>2000</th><td>2002751</td><td>1989944</td><td>1972972</td><td>1958364</td><td>1960538</td><td>1964095</td><td>1976320</td><td>1959117</td><td>1961652</td><td>1949347</td><td>1942461</td><td>1924389</td></tr>\n",
       "\t<tr><th scope=row>2001</th><td>1930186</td><td>1903639</td><td>1911459</td><td>1883664</td><td>1929460</td><td>1903871</td><td>1918625</td><td>1948723</td><td>1943750</td><td>1957113</td><td>1966756</td><td>1965938</td></tr>\n",
       "\t<tr><th scope=row>2002</th><td>1987735</td><td>2060303</td><td>2013251</td><td>2032031</td><td>2033698</td><td>2024506</td><td>2043969</td><td>2053660</td><td>2062384</td><td>2081691</td><td>2099250</td><td>2104259</td></tr>\n",
       "\t<tr><th scope=row>2003</th><td>2097820</td><td>2090195</td><td>2092722</td><td>2073003</td><td>2065508</td><td>2082953</td><td>2077038</td><td>2085592</td><td>2098667</td><td>2116582</td><td>2128705</td><td>2158190</td></tr>\n",
       "\t<tr><th scope=row>2004</th><td>2144718</td><td>2128515</td><td>2109608</td><td>2127433</td><td>2119847</td><td>2118061</td><td>2094782</td><td>2118554</td><td>2113973</td><td>2099766</td><td>2111358</td><td>2090875</td></tr>\n",
       "\t<tr><th scope=row>2005</th><td>2088473</td><td>2071174</td><td>2065038</td><td>2051008</td><td>1982904</td><td>2018097</td><td>2093740</td><td>2048801</td><td>2058429</td><td>2046758</td><td>2008397</td><td>2034649</td></tr>\n",
       "\t<tr><th scope=row>2006</th><td>2007454</td><td>2005466</td><td>2084033</td><td>2114602</td><td>2165948</td><td>2138323</td><td>2097131</td><td>2063256</td><td>2041481</td><td>2025071</td><td>2024155</td><td>2009445</td></tr>\n",
       "\t<tr><th scope=row>2007</th><td>1993435</td><td>1969175</td><td>1958780</td><td>1958317</td><td>1983146</td><td>2032143</td><td>2074563</td><td>2118001</td><td>2097359</td><td>2079275</td><td>2095113</td><td>2124072</td></tr>\n",
       "\t<tr><th scope=row>2008</th><td>2172705</td><td>2201235</td><td>2187568</td><td>2263860</td><td>2356084</td><td>2460239</td><td>2542492</td><td>2629399</td><td>2709450</td><td>2846476</td><td>2988733</td><td>3130577</td></tr>\n",
       "\t<tr><th scope=row>2009</th><td>3238155</td><td>3362927</td><td>3486607</td><td>3566261</td><td>3619396</td><td>3637319</td><td>3665086</td><td>3733455</td><td>3795390</td><td>3834259</td><td>3865818</td><td>3929140</td></tr>\n",
       "\t<tr><th scope=row>2010</th><td>3958995</td><td>4007387</td><td>4042917</td><td>4060210</td><td>4062453</td><td>4057493</td><td>4034899</td><td>4078753</td><td>4105132</td><td>4108750</td><td>4103834</td><td>4108680</td></tr>\n",
       "\t<tr><th scope=row>2011</th><td>4141911</td><td>4174413</td><td>4207971</td><td>4185772</td><td>4184927</td><td>4198369</td><td>4208943</td><td>4242428</td><td>4315120</td><td>4382985</td><td>4413293</td><td>4432529</td></tr>\n",
       "\t<tr><th scope=row>2012</th><td>4510619</td><td>4585193</td><td>4622803</td><td>4658964</td><td>4708152</td><td>4693052</td><td>4719337</td><td>4739352</td><td>4794482</td><td>4854683</td><td>4899756</td><td>4860266</td></tr>\n",
       "\t<tr><th scope=row>2013</th><td>4891518</td><td>4911725</td><td>4905315</td><td>4902688</td><td>4884121</td><td>4842558</td><td>4832921</td><td>4814391</td><td>4814233</td><td>4831845</td><td>4800142</td><td>4714029</td></tr>\n",
       "</tbody>\n",
       "</table>\n"
      ],
      "text/latex": [
       "A Time Series: 16 × 12\n",
       "\\begin{tabular}{r|llllllllllll}\n",
       "  & Jan & Feb & Mar & Apr & May & Jun & Jul & Aug & Sep & Oct & Nov & Dec\\\\\n",
       "\\hline\n",
       "\t1998 & 2490026 & 2463528 & 2455174 & 2418851 & 2401775 & 2392986 & 2334447 & 2306481 & 2308747 & 2282057 & 2248452 & 2210398\\\\\n",
       "\t1999 & 2164528 & 2143292 & 2133265 & 2119607 & 2108664 & 2106981 & 2065019 & 2051955 & 2055560 & 2034681 & 2034793 & 2005177\\\\\n",
       "\t2000 & 2002751 & 1989944 & 1972972 & 1958364 & 1960538 & 1964095 & 1976320 & 1959117 & 1961652 & 1949347 & 1942461 & 1924389\\\\\n",
       "\t2001 & 1930186 & 1903639 & 1911459 & 1883664 & 1929460 & 1903871 & 1918625 & 1948723 & 1943750 & 1957113 & 1966756 & 1965938\\\\\n",
       "\t2002 & 1987735 & 2060303 & 2013251 & 2032031 & 2033698 & 2024506 & 2043969 & 2053660 & 2062384 & 2081691 & 2099250 & 2104259\\\\\n",
       "\t2003 & 2097820 & 2090195 & 2092722 & 2073003 & 2065508 & 2082953 & 2077038 & 2085592 & 2098667 & 2116582 & 2128705 & 2158190\\\\\n",
       "\t2004 & 2144718 & 2128515 & 2109608 & 2127433 & 2119847 & 2118061 & 2094782 & 2118554 & 2113973 & 2099766 & 2111358 & 2090875\\\\\n",
       "\t2005 & 2088473 & 2071174 & 2065038 & 2051008 & 1982904 & 2018097 & 2093740 & 2048801 & 2058429 & 2046758 & 2008397 & 2034649\\\\\n",
       "\t2006 & 2007454 & 2005466 & 2084033 & 2114602 & 2165948 & 2138323 & 2097131 & 2063256 & 2041481 & 2025071 & 2024155 & 2009445\\\\\n",
       "\t2007 & 1993435 & 1969175 & 1958780 & 1958317 & 1983146 & 2032143 & 2074563 & 2118001 & 2097359 & 2079275 & 2095113 & 2124072\\\\\n",
       "\t2008 & 2172705 & 2201235 & 2187568 & 2263860 & 2356084 & 2460239 & 2542492 & 2629399 & 2709450 & 2846476 & 2988733 & 3130577\\\\\n",
       "\t2009 & 3238155 & 3362927 & 3486607 & 3566261 & 3619396 & 3637319 & 3665086 & 3733455 & 3795390 & 3834259 & 3865818 & 3929140\\\\\n",
       "\t2010 & 3958995 & 4007387 & 4042917 & 4060210 & 4062453 & 4057493 & 4034899 & 4078753 & 4105132 & 4108750 & 4103834 & 4108680\\\\\n",
       "\t2011 & 4141911 & 4174413 & 4207971 & 4185772 & 4184927 & 4198369 & 4208943 & 4242428 & 4315120 & 4382985 & 4413293 & 4432529\\\\\n",
       "\t2012 & 4510619 & 4585193 & 4622803 & 4658964 & 4708152 & 4693052 & 4719337 & 4739352 & 4794482 & 4854683 & 4899756 & 4860266\\\\\n",
       "\t2013 & 4891518 & 4911725 & 4905315 & 4902688 & 4884121 & 4842558 & 4832921 & 4814391 & 4814233 & 4831845 & 4800142 & 4714029\\\\\n",
       "\\end{tabular}\n"
      ],
      "text/markdown": [
       "\n",
       "A Time Series: 16 × 12\n",
       "\n",
       "| <!--/--> | Jan | Feb | Mar | Apr | May | Jun | Jul | Aug | Sep | Oct | Nov | Dec |\n",
       "|---|---|---|---|---|---|---|---|---|---|---|---|---|\n",
       "| 1998 | 2490026 | 2463528 | 2455174 | 2418851 | 2401775 | 2392986 | 2334447 | 2306481 | 2308747 | 2282057 | 2248452 | 2210398 |\n",
       "| 1999 | 2164528 | 2143292 | 2133265 | 2119607 | 2108664 | 2106981 | 2065019 | 2051955 | 2055560 | 2034681 | 2034793 | 2005177 |\n",
       "| 2000 | 2002751 | 1989944 | 1972972 | 1958364 | 1960538 | 1964095 | 1976320 | 1959117 | 1961652 | 1949347 | 1942461 | 1924389 |\n",
       "| 2001 | 1930186 | 1903639 | 1911459 | 1883664 | 1929460 | 1903871 | 1918625 | 1948723 | 1943750 | 1957113 | 1966756 | 1965938 |\n",
       "| 2002 | 1987735 | 2060303 | 2013251 | 2032031 | 2033698 | 2024506 | 2043969 | 2053660 | 2062384 | 2081691 | 2099250 | 2104259 |\n",
       "| 2003 | 2097820 | 2090195 | 2092722 | 2073003 | 2065508 | 2082953 | 2077038 | 2085592 | 2098667 | 2116582 | 2128705 | 2158190 |\n",
       "| 2004 | 2144718 | 2128515 | 2109608 | 2127433 | 2119847 | 2118061 | 2094782 | 2118554 | 2113973 | 2099766 | 2111358 | 2090875 |\n",
       "| 2005 | 2088473 | 2071174 | 2065038 | 2051008 | 1982904 | 2018097 | 2093740 | 2048801 | 2058429 | 2046758 | 2008397 | 2034649 |\n",
       "| 2006 | 2007454 | 2005466 | 2084033 | 2114602 | 2165948 | 2138323 | 2097131 | 2063256 | 2041481 | 2025071 | 2024155 | 2009445 |\n",
       "| 2007 | 1993435 | 1969175 | 1958780 | 1958317 | 1983146 | 2032143 | 2074563 | 2118001 | 2097359 | 2079275 | 2095113 | 2124072 |\n",
       "| 2008 | 2172705 | 2201235 | 2187568 | 2263860 | 2356084 | 2460239 | 2542492 | 2629399 | 2709450 | 2846476 | 2988733 | 3130577 |\n",
       "| 2009 | 3238155 | 3362927 | 3486607 | 3566261 | 3619396 | 3637319 | 3665086 | 3733455 | 3795390 | 3834259 | 3865818 | 3929140 |\n",
       "| 2010 | 3958995 | 4007387 | 4042917 | 4060210 | 4062453 | 4057493 | 4034899 | 4078753 | 4105132 | 4108750 | 4103834 | 4108680 |\n",
       "| 2011 | 4141911 | 4174413 | 4207971 | 4185772 | 4184927 | 4198369 | 4208943 | 4242428 | 4315120 | 4382985 | 4413293 | 4432529 |\n",
       "| 2012 | 4510619 | 4585193 | 4622803 | 4658964 | 4708152 | 4693052 | 4719337 | 4739352 | 4794482 | 4854683 | 4899756 | 4860266 |\n",
       "| 2013 | 4891518 | 4911725 | 4905315 | 4902688 | 4884121 | 4842558 | 4832921 | 4814391 | 4814233 | 4831845 | 4800142 | 4714029 |\n",
       "\n"
      ],
      "text/plain": [
       "     Jan     Feb     Mar     Apr     May     Jun     Jul     Aug     Sep    \n",
       "1998 2490026 2463528 2455174 2418851 2401775 2392986 2334447 2306481 2308747\n",
       "1999 2164528 2143292 2133265 2119607 2108664 2106981 2065019 2051955 2055560\n",
       "2000 2002751 1989944 1972972 1958364 1960538 1964095 1976320 1959117 1961652\n",
       "2001 1930186 1903639 1911459 1883664 1929460 1903871 1918625 1948723 1943750\n",
       "2002 1987735 2060303 2013251 2032031 2033698 2024506 2043969 2053660 2062384\n",
       "2003 2097820 2090195 2092722 2073003 2065508 2082953 2077038 2085592 2098667\n",
       "2004 2144718 2128515 2109608 2127433 2119847 2118061 2094782 2118554 2113973\n",
       "2005 2088473 2071174 2065038 2051008 1982904 2018097 2093740 2048801 2058429\n",
       "2006 2007454 2005466 2084033 2114602 2165948 2138323 2097131 2063256 2041481\n",
       "2007 1993435 1969175 1958780 1958317 1983146 2032143 2074563 2118001 2097359\n",
       "2008 2172705 2201235 2187568 2263860 2356084 2460239 2542492 2629399 2709450\n",
       "2009 3238155 3362927 3486607 3566261 3619396 3637319 3665086 3733455 3795390\n",
       "2010 3958995 4007387 4042917 4060210 4062453 4057493 4034899 4078753 4105132\n",
       "2011 4141911 4174413 4207971 4185772 4184927 4198369 4208943 4242428 4315120\n",
       "2012 4510619 4585193 4622803 4658964 4708152 4693052 4719337 4739352 4794482\n",
       "2013 4891518 4911725 4905315 4902688 4884121 4842558 4832921 4814391 4814233\n",
       "     Oct     Nov     Dec    \n",
       "1998 2282057 2248452 2210398\n",
       "1999 2034681 2034793 2005177\n",
       "2000 1949347 1942461 1924389\n",
       "2001 1957113 1966756 1965938\n",
       "2002 2081691 2099250 2104259\n",
       "2003 2116582 2128705 2158190\n",
       "2004 2099766 2111358 2090875\n",
       "2005 2046758 2008397 2034649\n",
       "2006 2025071 2024155 2009445\n",
       "2007 2079275 2095113 2124072\n",
       "2008 2846476 2988733 3130577\n",
       "2009 3834259 3865818 3929140\n",
       "2010 4108750 4103834 4108680\n",
       "2011 4382985 4413293 4432529\n",
       "2012 4854683 4899756 4860266\n",
       "2013 4831845 4800142 4714029"
      ]
     },
     "metadata": {},
     "output_type": "display_data"
    }
   ],
   "source": [
    "seasadj(STL_unemployment_components)"
   ]
  },
  {
   "cell_type": "markdown",
   "metadata": {},
   "source": [
    "Seasadj function returns seasonally adjusted data constructed by removing the seasonal component. The seasonally adjusted time series now just contains the trend and the irregular component."
   ]
  },
  {
   "cell_type": "markdown",
   "metadata": {},
   "source": [
    "##### *Forecasting with Decomposition*\n",
    "\n",
    "While decomposition is primarily useful for studying time series data, and exploring historical changes over time, it can also be used in forecasting.\n",
    "\n",
    "We will use stlf function which decompose the time series using STL, forecast the seasonally adjusted series with arima, and return the reseasonalised forecasts."
   ]
  },
  {
   "cell_type": "code",
   "execution_count": 79,
   "metadata": {},
   "outputs": [
    {
     "data": {
      "image/png": "[encoded data removed]",
      "text/plain": [
       "Plot with title \"Forecasts from STL +  ARIMA(0,2,1)\""
      ]
     },
     "metadata": {},
     "output_type": "display_data"
    }
   ],
   "source": [
    "options(repr.plot.width=8, repr.plot.height=5)\n",
    "\n",
    "forecast_decomposed_unemployment_series <- stlf(unemployment_series_train, method='arima', h = 48)\n",
    "plot(forecast_decomposed_unemployment_series)"
   ]
  },
  {
   "cell_type": "code",
   "execution_count": 80,
   "metadata": {},
   "outputs": [
    {
     "name": "stdout",
     "output_type": "stream",
     "text": [
      "\n",
      "\tBox-Ljung test\n",
      "\n",
      "data:  model_residuals\n",
      "X-squared = 21.966, df = 24, p-value = 0.5813\n",
      "\n"
     ]
    },
    {
     "data": {
      "image/png": "[encoded data removed]",
      "text/plain": [
       "Plot with title \"Normal Q-Q Plot\""
      ]
     },
     "metadata": {},
     "output_type": "display_data"
    }
   ],
   "source": [
    "check_model_residuals(forecast_decomposed_unemployment_series)"
   ]
  },
  {
   "cell_type": "markdown",
   "metadata": {},
   "source": [
    "The residuals behave like a white noise, which is good signal and tells us that it is a generalizable model"
   ]
  },
  {
   "cell_type": "markdown",
   "metadata": {},
   "source": [
    "- Evaluating the forecasts"
   ]
  },
  {
   "cell_type": "code",
   "execution_count": 81,
   "metadata": {},
   "outputs": [
    {
     "data": {
      "text/html": [
       "<table>\n",
       "<caption>A matrix: 2 × 8 of type dbl</caption>\n",
       "<thead>\n",
       "\t<tr><th></th><th scope=col>ME</th><th scope=col>RMSE</th><th scope=col>MAE</th><th scope=col>MPE</th><th scope=col>MAPE</th><th scope=col>MASE</th><th scope=col>ACF1</th><th scope=col>Theil's U</th></tr>\n",
       "</thead>\n",
       "<tbody>\n",
       "\t<tr><th scope=row>Training set</th><td>  -227.8724</td><td> 28649.17</td><td> 21616.26</td><td>0.03068031</td><td>0.8484542</td><td>0.08774597</td><td>0.05970994</td><td>      NA</td></tr>\n",
       "\t<tr><th scope=row>Test set</th><td>279023.7516</td><td>311481.62</td><td>279023.75</td><td>7.30119508</td><td>7.3011951</td><td>1.13262926</td><td>0.90518944</td><td>4.869687</td></tr>\n",
       "</tbody>\n",
       "</table>\n"
      ],
      "text/latex": [
       "A matrix: 2 × 8 of type dbl\n",
       "\\begin{tabular}{r|llllllll}\n",
       "  & ME & RMSE & MAE & MPE & MAPE & MASE & ACF1 & Theil's U\\\\\n",
       "\\hline\n",
       "\tTraining set &   -227.8724 &  28649.17 &  21616.26 & 0.03068031 & 0.8484542 & 0.08774597 & 0.05970994 &       NA\\\\\n",
       "\tTest set & 279023.7516 & 311481.62 & 279023.75 & 7.30119508 & 7.3011951 & 1.13262926 & 0.90518944 & 4.869687\\\\\n",
       "\\end{tabular}\n"
      ],
      "text/markdown": [
       "\n",
       "A matrix: 2 × 8 of type dbl\n",
       "\n",
       "| <!--/--> | ME | RMSE | MAE | MPE | MAPE | MASE | ACF1 | Theil's U |\n",
       "|---|---|---|---|---|---|---|---|---|\n",
       "| Training set |   -227.8724 |  28649.17 |  21616.26 | 0.03068031 | 0.8484542 | 0.08774597 | 0.05970994 |       NA |\n",
       "| Test set | 279023.7516 | 311481.62 | 279023.75 | 7.30119508 | 7.3011951 | 1.13262926 | 0.90518944 | 4.869687 |\n",
       "\n"
      ],
      "text/plain": [
       "             ME          RMSE      MAE       MPE        MAPE      MASE      \n",
       "Training set   -227.8724  28649.17  21616.26 0.03068031 0.8484542 0.08774597\n",
       "Test set     279023.7516 311481.62 279023.75 7.30119508 7.3011951 1.13262926\n",
       "             ACF1       Theil's U\n",
       "Training set 0.05970994       NA \n",
       "Test set     0.90518944 4.869687 "
      ]
     },
     "metadata": {},
     "output_type": "display_data"
    },
    {
     "data": {
      "image/png": "[encoded data removed]",
      "text/plain": [
       "Plot with title \"Forecasts from STL +  ARIMA(0,2,1)\""
      ]
     },
     "metadata": {},
     "output_type": "display_data"
    }
   ],
   "source": [
    "options(repr.plot.width=8, repr.plot.height=5)\n",
    "\n",
    "#Accuracy and plot\n",
    "accuracy(forecast_decomposed_unemployment_series, unemployment_series_test)\n",
    "plot(forecast_decomposed_unemployment_series)\n",
    "lines(unemployment_1998_2017)"
   ]
  },
  {
   "cell_type": "markdown",
   "metadata": {},
   "source": [
    "##### Forecasting with Holt-Winters Exponential Smoothing"
   ]
  },
  {
   "cell_type": "markdown",
   "metadata": {},
   "source": [
    "We are not sure if our series behave in a multiplicative way so we will use its logarithmic transformation to convert it into an additive and that can be used in this model."
   ]
  },
  {
   "cell_type": "code",
   "execution_count": 82,
   "metadata": {},
   "outputs": [],
   "source": [
    "unemployment_series_log <-  log(unemployment_series_train)"
   ]
  },
  {
   "cell_type": "code",
   "execution_count": 83,
   "metadata": {},
   "outputs": [
    {
     "data": {
      "text/plain": [
       "Holt-Winters exponential smoothing with trend and additive seasonal component.\n",
       "\n",
       "Call:\n",
       "HoltWinters(x = unemployment_series_log)\n",
       "\n",
       "Smoothing parameters:\n",
       " alpha: 0.9795982\n",
       " beta : 0.2311625\n",
       " gamma: 1\n",
       "\n",
       "Coefficients:\n",
       "            [,1]\n",
       "a   15.352251289\n",
       "b   -0.008192338\n",
       "s1   0.030158174\n",
       "s2   0.030799705\n",
       "s3   0.025307352\n",
       "s4   0.009031449\n",
       "s5  -0.014700555\n",
       "s6  -0.024099957\n",
       "s7  -0.036917214\n",
       "s8  -0.032895028\n",
       "s9  -0.017016093\n",
       "s10  0.003721677\n",
       "s11  0.015706048\n",
       "s12  0.011106418"
      ]
     },
     "metadata": {},
     "output_type": "display_data"
    }
   ],
   "source": [
    "unemployment_series_hw_forecasts  <- HoltWinters(unemployment_series_log)\n",
    "unemployment_series_hw_forecasts"
   ]
  },
  {
   "cell_type": "markdown",
   "metadata": {},
   "source": [
    "The estimated values of alpha, beta and gamma are 0.97, 0.25 and 1, respectively. The value of alpha (0.97)\n",
    "is high, indicating that the estimate of the level at the current time point is based upon both recent\n",
    "observations and some observations in the more distant past. The value of beta is 0.25, indicating that the estimate\n",
    "of the slope b of the trend component remains roughly the same. The value of gamma (1) is very high, indicating that the seasonal change to much over time.\n"
   ]
  },
  {
   "cell_type": "code",
   "execution_count": 84,
   "metadata": {
    "scrolled": true
   },
   "outputs": [
    {
     "data": {
      "image/png": "[encoded data removed]",
      "text/plain": [
       "Plot with title \"Holt-Winters filtering\""
      ]
     },
     "metadata": {},
     "output_type": "display_data"
    }
   ],
   "source": [
    "options(repr.plot.width=8, repr.plot.height=5)\n",
    "\n",
    "plot(unemployment_series_hw_forecasts)"
   ]
  },
  {
   "cell_type": "markdown",
   "metadata": {},
   "source": [
    "The observed values are plotted with the black line and the fitted values with the red one."
   ]
  },
  {
   "cell_type": "code",
   "execution_count": 85,
   "metadata": {},
   "outputs": [
    {
     "data": {
      "image/png": "[encoded data removed]",
      "text/plain": [
       "Plot with title \"Forecasts from HoltWinters\""
      ]
     },
     "metadata": {},
     "output_type": "display_data"
    }
   ],
   "source": [
    "options(repr.plot.width=8, repr.plot.height=5)\n",
    "\n",
    "unemployment_series_hw_future_forecasts <- forecast::forecast(unemployment_series_hw_forecasts, h = 48)\n",
    "plot(unemployment_series_hw_future_forecasts)"
   ]
  },
  {
   "cell_type": "markdown",
   "metadata": {},
   "source": [
    "*The forecasts are shown as a blue line, and the blue and grey shaded areas show 80% and 95% prediction\n",
    "intervals, respectively.*"
   ]
  },
  {
   "cell_type": "markdown",
   "metadata": {},
   "source": [
    "Now we are going to check the residuals"
   ]
  },
  {
   "cell_type": "code",
   "execution_count": 86,
   "metadata": {},
   "outputs": [
    {
     "name": "stdout",
     "output_type": "stream",
     "text": [
      "\n",
      "\tBox-Ljung test\n",
      "\n",
      "data:  model_residuals\n",
      "X-squared = 37.005, df = 24, p-value = 0.04371\n",
      "\n"
     ]
    },
    {
     "data": {
      "image/png": "[encoded data removed]",
      "text/plain": [
       "Plot with title \"Normal Q-Q Plot\""
      ]
     },
     "metadata": {},
     "output_type": "display_data"
    }
   ],
   "source": [
    "check_model_residuals(unemployment_series_hw_future_forecasts)"
   ]
  },
  {
   "cell_type": "markdown",
   "metadata": {},
   "source": [
    "The p-value of Ljung-Box test shows that we can reject the null hypothesis. So we can assume that our values are showing dependence on each other with 95% of confidence.\n",
    "\n",
    "Therefore, there is evidence of autocorrelation for forecast errors, although forecast errors appear to be normally distributed with zero mean and constant variance over time. This suggests that the exponential adjustment of Holt-Winters does not provide an adequate predictive model. In addition, the assumptions on which the prediction intervals were based they probably aren't valid."
   ]
  },
  {
   "cell_type": "markdown",
   "metadata": {},
   "source": [
    "If we want to apply other models like Arima we have to have in mind that most of the time series models work on the assumption that the time series is stationary.  Also, the theories related to stationary series are more mature and easier to implement as compared to non-stationary series."
   ]
  },
  {
   "cell_type": "markdown",
   "metadata": {},
   "source": [
    "### 3.2. Stationarity Testing"
   ]
  },
  {
   "cell_type": "markdown",
   "metadata": {},
   "source": [
    "To test these conditions of the Unemployment series we will use the same methods that we used in the Suicide time series section."
   ]
  },
  {
   "cell_type": "markdown",
   "metadata": {},
   "source": [
    "#### 3.2.1. Moving statistics"
   ]
  },
  {
   "cell_type": "markdown",
   "metadata": {},
   "source": [
    "We can plot the moving average and see if it varies with time, this is a smoothing method. By moving average We mean that at any instant ‘t’, we’ll take the average of the last year (in our case). We are going to plot it against the original time series and take a look at it."
   ]
  },
  {
   "cell_type": "code",
   "execution_count": 87,
   "metadata": {},
   "outputs": [
    {
     "data": {},
     "metadata": {},
     "output_type": "display_data"
    },
    {
     "data": {
      "image/png": "[encoded data removed]",
      "text/plain": [
       "plot without title"
      ]
     },
     "metadata": {},
     "output_type": "display_data"
    }
   ],
   "source": [
    "options(repr.plot.width=8, repr.plot.height=5)\n",
    "\n",
    "moving_mean_vs_OG(unemployment_series_train, 'Number of Unemployed')"
   ]
  },
  {
   "cell_type": "markdown",
   "metadata": {},
   "source": [
    "The mean is clearly non constant over time. It seems that the series is **non stationary** but we are going to keep checking."
   ]
  },
  {
   "cell_type": "markdown",
   "metadata": {},
   "source": [
    "#### 3.2.2. Summary Statistics"
   ]
  },
  {
   "cell_type": "markdown",
   "metadata": {},
   "source": [
    "As we did with the Suicide time series we are going to split Unemployment time series into two partitions and compare the mean and variance of each group. If they differ and the difference is statistically significant, the time series is likely non-stationary."
   ]
  },
  {
   "cell_type": "code",
   "execution_count": 88,
   "metadata": {},
   "outputs": [
    {
     "name": "stdout",
     "output_type": "stream",
     "text": [
      "[1] \"Mean of the first partition = 2080576.97510417\"\n",
      "[1] \"Mean of the second partition = 3506071.17525773\"\n",
      "[1] \"Variance of the first partition = 21437848610.8782\"\n",
      "[1] \"Variance of the second partition = 1207209979241.38\"\n"
     ]
    }
   ],
   "source": [
    "Stationarity_descriptive_test (unemployment_series_train)"
   ]
  },
  {
   "cell_type": "markdown",
   "metadata": {},
   "source": [
    "Running the code above, we can see the mean and variance look very different over time. It seems that we have a **non-stationary** time series."
   ]
  },
  {
   "cell_type": "markdown",
   "metadata": {},
   "source": [
    "#### 3.2.3. Statistical Tests"
   ]
  },
  {
   "cell_type": "code",
   "execution_count": 89,
   "metadata": {},
   "outputs": [
    {
     "name": "stdout",
     "output_type": "stream",
     "text": [
      "\n",
      "\tAugmented Dickey-Fuller Test\n",
      "\n",
      "data:  timeseries\n",
      "Dickey-Fuller = -1.898, Lag order = 5, p-value = 0.6188\n",
      "alternative hypothesis: stationary\n",
      "\n",
      "\n",
      "\tKPSS Test for Level Stationarity\n",
      "\n",
      "data:  timeseries\n",
      "KPSS Level = 2.9608, Truncation lag parameter = 4, p-value = 0.01\n",
      "\n"
     ]
    }
   ],
   "source": [
    "Stationarity_statistical_tests(unemployment_series_train)"
   ]
  },
  {
   "cell_type": "markdown",
   "metadata": {},
   "source": [
    "According to the test our Unemployment time series it's clearly **non stationary**."
   ]
  },
  {
   "cell_type": "markdown",
   "metadata": {},
   "source": [
    "## 4. Forecasting with ARIMA"
   ]
  },
  {
   "cell_type": "markdown",
   "metadata": {},
   "source": [
    "### 4.1.  Conversion to Stationary"
   ]
  },
  {
   "cell_type": "markdown",
   "metadata": {},
   "source": [
    "#### 4.1.1  Smoothing\n",
    "\n",
    "We are going to keep working with the Box Cox transformed series."
   ]
  },
  {
   "cell_type": "code",
   "execution_count": 90,
   "metadata": {},
   "outputs": [
    {
     "data": {
      "image/png": "[encoded data removed]",
      "text/plain": [
       "Plot with title \"Unemployment Series Box Cox\""
      ]
     },
     "metadata": {},
     "output_type": "display_data"
    }
   ],
   "source": [
    "options(repr.plot.width=8, repr.plot.height=3)\n",
    "\n",
    "unemployment_series_BoxCox  <- forecast::BoxCox(unemployment_series_train, lambda = 0)\n",
    "plot(unemployment_series_BoxCox, ylab = 'Unemployment', main = 'Unemployment Series Box Cox')"
   ]
  },
  {
   "cell_type": "markdown",
   "metadata": {},
   "source": [
    "#### 4.1.2. Differencing\n",
    "Differencing can help stabilise the mean of a time series by removing changes in the level of a time series, and therefore eliminating (or reducing) trend and seasonality."
   ]
  },
  {
   "cell_type": "code",
   "execution_count": 91,
   "metadata": {},
   "outputs": [
    {
     "data": {
      "image/png": "[encoded data removed]",
      "text/plain": [
       "Plot with title \"Unemployment Series Box Cox after Differencing\""
      ]
     },
     "metadata": {},
     "output_type": "display_data"
    }
   ],
   "source": [
    "options(repr.plot.width=8, repr.plot.height=3)\n",
    "\n",
    "unemployment_series_diff_BoxCox <- diff(unemployment_series_BoxCox)\n",
    "plot(unemployment_series_diff_BoxCox, ylab = 'Values', main = 'Unemployment Series Box Cox after Differencing')"
   ]
  },
  {
   "cell_type": "markdown",
   "metadata": {},
   "source": [
    "Now we are going to test the resulting series **after the transformation.**\n",
    "We are going to use the sationarity tests that we did before."
   ]
  },
  {
   "cell_type": "code",
   "execution_count": 92,
   "metadata": {},
   "outputs": [
    {
     "data": {},
     "metadata": {},
     "output_type": "display_data"
    },
    {
     "data": {
      "image/png": "[encoded data removed]",
      "text/plain": [
       "plot without title"
      ]
     },
     "metadata": {},
     "output_type": "display_data"
    }
   ],
   "source": [
    "options(repr.plot.width=8, repr.plot.height=3)\n",
    "\n",
    "#Visual test with moving mean\n",
    "moving_mean_vs_OG(unemployment_series_diff_BoxCox, 'Unemployment')"
   ]
  },
  {
   "cell_type": "markdown",
   "metadata": {},
   "source": [
    "The mean doesn't keep constant over time. But it's pretty much stabilized than the original. "
   ]
  },
  {
   "cell_type": "code",
   "execution_count": 93,
   "metadata": {},
   "outputs": [
    {
     "name": "stdout",
     "output_type": "stream",
     "text": [
      "[1] \"Mean of the first partition = -0.00239436706493168\"\n",
      "[1] \"Mean of the second partition = 0.00906981060674615\"\n",
      "[1] \"Variance of the first partition = 0.00042546131285285\"\n",
      "[1] \"Variance of the second partition = 0.000456339026645394\"\n"
     ]
    }
   ],
   "source": [
    "#Numerical test contrasting mean and variance at different time points\n",
    "Stationarity_descriptive_test(unemployment_series_diff_BoxCox)"
   ]
  },
  {
   "cell_type": "markdown",
   "metadata": {},
   "source": [
    "Both mean and variance don't change almost anything over time because of the transformation."
   ]
  },
  {
   "cell_type": "code",
   "execution_count": 94,
   "metadata": {},
   "outputs": [
    {
     "name": "stdout",
     "output_type": "stream",
     "text": [
      "\n",
      "\tAugmented Dickey-Fuller Test\n",
      "\n",
      "data:  timeseries\n",
      "Dickey-Fuller = -5.9337, Lag order = 5, p-value = 0.01\n",
      "alternative hypothesis: stationary\n",
      "\n",
      "\n",
      "\tKPSS Test for Level Stationarity\n",
      "\n",
      "data:  timeseries\n",
      "KPSS Level = 0.57957, Truncation lag parameter = 4, p-value = 0.02449\n",
      "\n"
     ]
    }
   ],
   "source": [
    "#KPSS and ADF hypothesis tests for stationarity\n",
    "Stationarity_statistical_tests(unemployment_series_diff_BoxCox)"
   ]
  },
  {
   "cell_type": "markdown",
   "metadata": {},
   "source": [
    "Our new time series didn't pass both tests with 1 difference. There might be stationarity for Level. "
   ]
  },
  {
   "cell_type": "code",
   "execution_count": 95,
   "metadata": {},
   "outputs": [
    {
     "data": {
      "text/plain": [
       "\n",
       "\tKPSS Test for Trend Stationarity\n",
       "\n",
       "data:  unemployment_series_diff_BoxCox\n",
       "KPSS Trend = 0.12222, Truncation lag parameter = 4, p-value = 0.09404\n"
      ]
     },
     "metadata": {},
     "output_type": "display_data"
    }
   ],
   "source": [
    "kpss.test(unemployment_series_diff_BoxCox, null = 'Trend')"
   ]
  },
  {
   "cell_type": "markdown",
   "metadata": {},
   "source": [
    "We need a differencing of second order. We assume that we need seasonal differencing because our series pass the test KPSS for Trend Stationarity."
   ]
  },
  {
   "cell_type": "code",
   "execution_count": 96,
   "metadata": {},
   "outputs": [],
   "source": [
    "unemployment_series_diff_BoxCox <- diff(unemployment_series_diff_BoxCox)"
   ]
  },
  {
   "cell_type": "markdown",
   "metadata": {},
   "source": [
    "We can use 'ndiffs' function to see the number of differences required for our time series to pass all the stationarity statistical tests. "
   ]
  },
  {
   "cell_type": "code",
   "execution_count": 97,
   "metadata": {
    "scrolled": true
   },
   "outputs": [
    {
     "data": {
      "text/html": [
       "0"
      ],
      "text/latex": [
       "0"
      ],
      "text/markdown": [
       "0"
      ],
      "text/plain": [
       "[1] 0"
      ]
     },
     "metadata": {},
     "output_type": "display_data"
    }
   ],
   "source": [
    "ndiffs(unemployment_series_diff_BoxCox, test= 'kpss')"
   ]
  },
  {
   "cell_type": "code",
   "execution_count": 98,
   "metadata": {},
   "outputs": [
    {
     "data": {
      "text/html": [
       "0"
      ],
      "text/latex": [
       "0"
      ],
      "text/markdown": [
       "0"
      ],
      "text/plain": [
       "[1] 0"
      ]
     },
     "metadata": {},
     "output_type": "display_data"
    }
   ],
   "source": [
    "ndiffs(unemployment_series_diff_BoxCox, test= 'adf')"
   ]
  },
  {
   "cell_type": "code",
   "execution_count": 99,
   "metadata": {},
   "outputs": [
    {
     "data": {
      "text/html": [
       "0"
      ],
      "text/latex": [
       "0"
      ],
      "text/markdown": [
       "0"
      ],
      "text/plain": [
       "[1] 0"
      ]
     },
     "metadata": {},
     "output_type": "display_data"
    }
   ],
   "source": [
    "ndiffs(unemployment_series_diff_BoxCox, test='pp')"
   ]
  },
  {
   "cell_type": "markdown",
   "metadata": {},
   "source": [
    "We have converted our data in stationary with differencing of second order"
   ]
  },
  {
   "cell_type": "markdown",
   "metadata": {},
   "source": [
    "We have converted the data into stationary but we have seen that there is a seasonal component in our time series. We are going to take a look at the seasonal component to see if second order differencing is enough to get rid of it:"
   ]
  },
  {
   "cell_type": "code",
   "execution_count": 100,
   "metadata": {},
   "outputs": [
    {
     "data": {
      "text/html": [
       "<table>\n",
       "<caption>A Time Series: 16 × 12</caption>\n",
       "<thead>\n",
       "\t<tr><th></th><th scope=col>Jan</th><th scope=col>Feb</th><th scope=col>Mar</th><th scope=col>Apr</th><th scope=col>May</th><th scope=col>Jun</th><th scope=col>Jul</th><th scope=col>Aug</th><th scope=col>Sep</th><th scope=col>Oct</th><th scope=col>Nov</th><th scope=col>Dec</th></tr>\n",
       "</thead>\n",
       "<tbody>\n",
       "\t<tr><th scope=row>1998</th><td>             </td><td>             </td><td>-1.123246e-02</td><td>-1.152378e-02</td><td>-5.284197e-03</td><td> 1.200652e-02</td><td> 3.091993e-03</td><td> 1.828167e-02</td><td> 2.257796e-03</td><td> 9.420683e-03</td><td>-1.127074e-03</td><td>-1.711025e-02</td></tr>\n",
       "\t<tr><th scope=row>1999</th><td> 2.911234e-02</td><td>-2.792236e-02</td><td>-1.106694e-02</td><td>-1.139117e-02</td><td>-5.864069e-03</td><td> 1.225369e-02</td><td> 3.384937e-03</td><td> 1.798038e-02</td><td> 1.963571e-03</td><td> 9.771662e-03</td><td>-1.212246e-03</td><td>-1.667180e-02</td></tr>\n",
       "\t<tr><th scope=row>2000</th><td> 2.876121e-02</td><td>-2.793899e-02</td><td>-1.090167e-02</td><td>-1.125900e-02</td><td>-6.444540e-03</td><td> 1.250012e-02</td><td> 3.676994e-03</td><td> 1.767813e-02</td><td> 1.668296e-03</td><td> 1.012144e-02</td><td>-1.298775e-03</td><td>-1.623500e-02</td></tr>\n",
       "\t<tr><th scope=row>2001</th><td> 2.840813e-02</td><td>-2.795806e-02</td><td>-1.068876e-02</td><td>-1.103266e-02</td><td>-7.254357e-03</td><td> 1.267558e-02</td><td> 4.410007e-03</td><td> 1.709729e-02</td><td> 1.024830e-03</td><td> 1.082423e-02</td><td>-1.428447e-03</td><td>-1.558381e-02</td></tr>\n",
       "\t<tr><th scope=row>2002</th><td> 2.800738e-02</td><td>-2.807489e-02</td><td>-1.048018e-02</td><td>-1.080909e-02</td><td>-8.065371e-03</td><td> 1.285201e-02</td><td> 5.146169e-03</td><td> 1.652217e-02</td><td> 3.896488e-04</td><td> 1.153718e-02</td><td>-1.546106e-03</td><td>-1.491966e-02</td></tr>\n",
       "\t<tr><th scope=row>2003</th><td> 2.762055e-02</td><td>-2.817837e-02</td><td>-1.037035e-02</td><td>-9.928579e-03</td><td>-1.035184e-02</td><td> 1.334865e-02</td><td> 6.978022e-03</td><td> 1.535359e-02</td><td>-1.525913e-03</td><td> 1.368087e-02</td><td>-2.117861e-03</td><td>-1.282125e-02</td></tr>\n",
       "\t<tr><th scope=row>2004</th><td> 2.582771e-02</td><td>-2.793770e-02</td><td>-1.027814e-02</td><td>-9.064745e-03</td><td>-1.265402e-02</td><td> 1.383279e-02</td><td> 8.800565e-03</td><td> 1.418166e-02</td><td>-3.438845e-03</td><td> 1.583451e-02</td><td>-2.672377e-03</td><td>-1.069885e-02</td></tr>\n",
       "\t<tr><th scope=row>2005</th><td> 2.406561e-02</td><td>-2.766095e-02</td><td>-9.090904e-03</td><td>-8.914582e-03</td><td>-1.459191e-02</td><td> 1.365971e-02</td><td> 7.595392e-03</td><td> 1.564944e-02</td><td>-3.992806e-03</td><td> 1.608603e-02</td><td>-3.478891e-03</td><td>-9.035219e-03</td></tr>\n",
       "\t<tr><th scope=row>2006</th><td> 2.339390e-02</td><td>-2.655861e-02</td><td>-7.946485e-03</td><td>-8.805578e-03</td><td>-1.656930e-02</td><td> 1.345470e-02</td><td> 6.365855e-03</td><td> 1.710359e-02</td><td>-4.549662e-03</td><td> 1.634758e-02</td><td>-4.262486e-03</td><td>-7.338432e-03</td></tr>\n",
       "\t<tr><th scope=row>2007</th><td> 2.276558e-02</td><td>-2.540820e-02</td><td>-7.702861e-03</td><td>-1.002883e-02</td><td>-1.525798e-02</td><td> 1.019614e-02</td><td> 6.597423e-03</td><td> 1.845907e-02</td><td>-3.360093e-03</td><td> 1.545864e-02</td><td>-5.760935e-03</td><td>-8.050552e-03</td></tr>\n",
       "\t<tr><th scope=row>2008</th><td> 2.464470e-02</td><td>-2.370524e-02</td><td>-7.493254e-03</td><td>-1.128991e-02</td><td>-1.398831e-02</td><td> 6.893849e-03</td><td> 6.783164e-03</td><td> 1.976485e-02</td><td>-2.224082e-03</td><td> 1.451183e-02</td><td>-7.321567e-03</td><td>-8.827526e-03</td></tr>\n",
       "\t<tr><th scope=row>2009</th><td> 2.645629e-02</td><td>-2.206872e-02</td><td>-8.222575e-03</td><td>-1.133345e-02</td><td>-1.315157e-02</td><td> 5.087558e-03</td><td> 7.216487e-03</td><td> 2.008018e-02</td><td>-1.413601e-03</td><td> 1.432149e-02</td><td>-8.048199e-03</td><td>-9.782906e-03</td></tr>\n",
       "\t<tr><th scope=row>2010</th><td> 2.716559e-02</td><td>-2.148827e-02</td><td>-8.856547e-03</td><td>-1.128292e-02</td><td>-1.222205e-02</td><td> 3.365319e-03</td><td> 7.725132e-03</td><td> 2.045828e-02</td><td>-5.528846e-04</td><td> 1.416740e-02</td><td>-8.752581e-03</td><td>-1.072805e-02</td></tr>\n",
       "\t<tr><th scope=row>2011</th><td> 2.787311e-02</td><td>-2.091802e-02</td><td>-9.172490e-03</td><td>-1.129065e-02</td><td>-1.184932e-02</td><td> 2.646143e-03</td><td> 7.861615e-03</td><td> 2.077125e-02</td><td>-2.477686e-04</td><td> 1.403297e-02</td><td>-9.067117e-03</td><td>-1.104882e-02</td></tr>\n",
       "\t<tr><th scope=row>2012</th><td> 2.822453e-02</td><td>-2.055055e-02</td><td>-9.500397e-03</td><td>-1.130816e-02</td><td>-1.148421e-02</td><td> 1.920545e-03</td><td> 7.992857e-03</td><td> 2.107975e-02</td><td> 5.368192e-05</td><td> 1.389520e-02</td><td>-9.384683e-03</td><td>-1.137261e-02</td></tr>\n",
       "\t<tr><th scope=row>2013</th><td> 2.857293e-02</td><td>-2.018643e-02</td><td>-9.751490e-03</td><td>-1.135767e-02</td><td>-1.120469e-02</td><td> 1.375529e-03</td><td> 8.100143e-03</td><td> 2.128298e-02</td><td> 3.372147e-04</td><td> 1.374308e-02</td><td>-9.643281e-03</td><td>-1.164733e-02</td></tr>\n",
       "</tbody>\n",
       "</table>\n"
      ],
      "text/latex": [
       "A Time Series: 16 × 12\n",
       "\\begin{tabular}{r|llllllllllll}\n",
       "  & Jan & Feb & Mar & Apr & May & Jun & Jul & Aug & Sep & Oct & Nov & Dec\\\\\n",
       "\\hline\n",
       "\t1998 &               &               & -1.123246e-02 & -1.152378e-02 & -5.284197e-03 &  1.200652e-02 &  3.091993e-03 &  1.828167e-02 &  2.257796e-03 &  9.420683e-03 & -1.127074e-03 & -1.711025e-02\\\\\n",
       "\t1999 &  2.911234e-02 & -2.792236e-02 & -1.106694e-02 & -1.139117e-02 & -5.864069e-03 &  1.225369e-02 &  3.384937e-03 &  1.798038e-02 &  1.963571e-03 &  9.771662e-03 & -1.212246e-03 & -1.667180e-02\\\\\n",
       "\t2000 &  2.876121e-02 & -2.793899e-02 & -1.090167e-02 & -1.125900e-02 & -6.444540e-03 &  1.250012e-02 &  3.676994e-03 &  1.767813e-02 &  1.668296e-03 &  1.012144e-02 & -1.298775e-03 & -1.623500e-02\\\\\n",
       "\t2001 &  2.840813e-02 & -2.795806e-02 & -1.068876e-02 & -1.103266e-02 & -7.254357e-03 &  1.267558e-02 &  4.410007e-03 &  1.709729e-02 &  1.024830e-03 &  1.082423e-02 & -1.428447e-03 & -1.558381e-02\\\\\n",
       "\t2002 &  2.800738e-02 & -2.807489e-02 & -1.048018e-02 & -1.080909e-02 & -8.065371e-03 &  1.285201e-02 &  5.146169e-03 &  1.652217e-02 &  3.896488e-04 &  1.153718e-02 & -1.546106e-03 & -1.491966e-02\\\\\n",
       "\t2003 &  2.762055e-02 & -2.817837e-02 & -1.037035e-02 & -9.928579e-03 & -1.035184e-02 &  1.334865e-02 &  6.978022e-03 &  1.535359e-02 & -1.525913e-03 &  1.368087e-02 & -2.117861e-03 & -1.282125e-02\\\\\n",
       "\t2004 &  2.582771e-02 & -2.793770e-02 & -1.027814e-02 & -9.064745e-03 & -1.265402e-02 &  1.383279e-02 &  8.800565e-03 &  1.418166e-02 & -3.438845e-03 &  1.583451e-02 & -2.672377e-03 & -1.069885e-02\\\\\n",
       "\t2005 &  2.406561e-02 & -2.766095e-02 & -9.090904e-03 & -8.914582e-03 & -1.459191e-02 &  1.365971e-02 &  7.595392e-03 &  1.564944e-02 & -3.992806e-03 &  1.608603e-02 & -3.478891e-03 & -9.035219e-03\\\\\n",
       "\t2006 &  2.339390e-02 & -2.655861e-02 & -7.946485e-03 & -8.805578e-03 & -1.656930e-02 &  1.345470e-02 &  6.365855e-03 &  1.710359e-02 & -4.549662e-03 &  1.634758e-02 & -4.262486e-03 & -7.338432e-03\\\\\n",
       "\t2007 &  2.276558e-02 & -2.540820e-02 & -7.702861e-03 & -1.002883e-02 & -1.525798e-02 &  1.019614e-02 &  6.597423e-03 &  1.845907e-02 & -3.360093e-03 &  1.545864e-02 & -5.760935e-03 & -8.050552e-03\\\\\n",
       "\t2008 &  2.464470e-02 & -2.370524e-02 & -7.493254e-03 & -1.128991e-02 & -1.398831e-02 &  6.893849e-03 &  6.783164e-03 &  1.976485e-02 & -2.224082e-03 &  1.451183e-02 & -7.321567e-03 & -8.827526e-03\\\\\n",
       "\t2009 &  2.645629e-02 & -2.206872e-02 & -8.222575e-03 & -1.133345e-02 & -1.315157e-02 &  5.087558e-03 &  7.216487e-03 &  2.008018e-02 & -1.413601e-03 &  1.432149e-02 & -8.048199e-03 & -9.782906e-03\\\\\n",
       "\t2010 &  2.716559e-02 & -2.148827e-02 & -8.856547e-03 & -1.128292e-02 & -1.222205e-02 &  3.365319e-03 &  7.725132e-03 &  2.045828e-02 & -5.528846e-04 &  1.416740e-02 & -8.752581e-03 & -1.072805e-02\\\\\n",
       "\t2011 &  2.787311e-02 & -2.091802e-02 & -9.172490e-03 & -1.129065e-02 & -1.184932e-02 &  2.646143e-03 &  7.861615e-03 &  2.077125e-02 & -2.477686e-04 &  1.403297e-02 & -9.067117e-03 & -1.104882e-02\\\\\n",
       "\t2012 &  2.822453e-02 & -2.055055e-02 & -9.500397e-03 & -1.130816e-02 & -1.148421e-02 &  1.920545e-03 &  7.992857e-03 &  2.107975e-02 &  5.368192e-05 &  1.389520e-02 & -9.384683e-03 & -1.137261e-02\\\\\n",
       "\t2013 &  2.857293e-02 & -2.018643e-02 & -9.751490e-03 & -1.135767e-02 & -1.120469e-02 &  1.375529e-03 &  8.100143e-03 &  2.128298e-02 &  3.372147e-04 &  1.374308e-02 & -9.643281e-03 & -1.164733e-02\\\\\n",
       "\\end{tabular}\n"
      ],
      "text/markdown": [
       "\n",
       "A Time Series: 16 × 12\n",
       "\n",
       "| <!--/--> | Jan | Feb | Mar | Apr | May | Jun | Jul | Aug | Sep | Oct | Nov | Dec |\n",
       "|---|---|---|---|---|---|---|---|---|---|---|---|---|\n",
       "| 1998 | <!----> | <!----> | -1.123246e-02 | -1.152378e-02 | -5.284197e-03 |  1.200652e-02 |  3.091993e-03 |  1.828167e-02 |  2.257796e-03 |  9.420683e-03 | -1.127074e-03 | -1.711025e-02 |\n",
       "| 1999 |  2.911234e-02 | -2.792236e-02 | -1.106694e-02 | -1.139117e-02 | -5.864069e-03 |  1.225369e-02 |  3.384937e-03 |  1.798038e-02 |  1.963571e-03 |  9.771662e-03 | -1.212246e-03 | -1.667180e-02 |\n",
       "| 2000 |  2.876121e-02 | -2.793899e-02 | -1.090167e-02 | -1.125900e-02 | -6.444540e-03 |  1.250012e-02 |  3.676994e-03 |  1.767813e-02 |  1.668296e-03 |  1.012144e-02 | -1.298775e-03 | -1.623500e-02 |\n",
       "| 2001 |  2.840813e-02 | -2.795806e-02 | -1.068876e-02 | -1.103266e-02 | -7.254357e-03 |  1.267558e-02 |  4.410007e-03 |  1.709729e-02 |  1.024830e-03 |  1.082423e-02 | -1.428447e-03 | -1.558381e-02 |\n",
       "| 2002 |  2.800738e-02 | -2.807489e-02 | -1.048018e-02 | -1.080909e-02 | -8.065371e-03 |  1.285201e-02 |  5.146169e-03 |  1.652217e-02 |  3.896488e-04 |  1.153718e-02 | -1.546106e-03 | -1.491966e-02 |\n",
       "| 2003 |  2.762055e-02 | -2.817837e-02 | -1.037035e-02 | -9.928579e-03 | -1.035184e-02 |  1.334865e-02 |  6.978022e-03 |  1.535359e-02 | -1.525913e-03 |  1.368087e-02 | -2.117861e-03 | -1.282125e-02 |\n",
       "| 2004 |  2.582771e-02 | -2.793770e-02 | -1.027814e-02 | -9.064745e-03 | -1.265402e-02 |  1.383279e-02 |  8.800565e-03 |  1.418166e-02 | -3.438845e-03 |  1.583451e-02 | -2.672377e-03 | -1.069885e-02 |\n",
       "| 2005 |  2.406561e-02 | -2.766095e-02 | -9.090904e-03 | -8.914582e-03 | -1.459191e-02 |  1.365971e-02 |  7.595392e-03 |  1.564944e-02 | -3.992806e-03 |  1.608603e-02 | -3.478891e-03 | -9.035219e-03 |\n",
       "| 2006 |  2.339390e-02 | -2.655861e-02 | -7.946485e-03 | -8.805578e-03 | -1.656930e-02 |  1.345470e-02 |  6.365855e-03 |  1.710359e-02 | -4.549662e-03 |  1.634758e-02 | -4.262486e-03 | -7.338432e-03 |\n",
       "| 2007 |  2.276558e-02 | -2.540820e-02 | -7.702861e-03 | -1.002883e-02 | -1.525798e-02 |  1.019614e-02 |  6.597423e-03 |  1.845907e-02 | -3.360093e-03 |  1.545864e-02 | -5.760935e-03 | -8.050552e-03 |\n",
       "| 2008 |  2.464470e-02 | -2.370524e-02 | -7.493254e-03 | -1.128991e-02 | -1.398831e-02 |  6.893849e-03 |  6.783164e-03 |  1.976485e-02 | -2.224082e-03 |  1.451183e-02 | -7.321567e-03 | -8.827526e-03 |\n",
       "| 2009 |  2.645629e-02 | -2.206872e-02 | -8.222575e-03 | -1.133345e-02 | -1.315157e-02 |  5.087558e-03 |  7.216487e-03 |  2.008018e-02 | -1.413601e-03 |  1.432149e-02 | -8.048199e-03 | -9.782906e-03 |\n",
       "| 2010 |  2.716559e-02 | -2.148827e-02 | -8.856547e-03 | -1.128292e-02 | -1.222205e-02 |  3.365319e-03 |  7.725132e-03 |  2.045828e-02 | -5.528846e-04 |  1.416740e-02 | -8.752581e-03 | -1.072805e-02 |\n",
       "| 2011 |  2.787311e-02 | -2.091802e-02 | -9.172490e-03 | -1.129065e-02 | -1.184932e-02 |  2.646143e-03 |  7.861615e-03 |  2.077125e-02 | -2.477686e-04 |  1.403297e-02 | -9.067117e-03 | -1.104882e-02 |\n",
       "| 2012 |  2.822453e-02 | -2.055055e-02 | -9.500397e-03 | -1.130816e-02 | -1.148421e-02 |  1.920545e-03 |  7.992857e-03 |  2.107975e-02 |  5.368192e-05 |  1.389520e-02 | -9.384683e-03 | -1.137261e-02 |\n",
       "| 2013 |  2.857293e-02 | -2.018643e-02 | -9.751490e-03 | -1.135767e-02 | -1.120469e-02 |  1.375529e-03 |  8.100143e-03 |  2.128298e-02 |  3.372147e-04 |  1.374308e-02 | -9.643281e-03 | -1.164733e-02 |\n",
       "\n"
      ],
      "text/plain": [
       "     Jan           Feb           Mar           Apr           May          \n",
       "1998                             -1.123246e-02 -1.152378e-02 -5.284197e-03\n",
       "1999  2.911234e-02 -2.792236e-02 -1.106694e-02 -1.139117e-02 -5.864069e-03\n",
       "2000  2.876121e-02 -2.793899e-02 -1.090167e-02 -1.125900e-02 -6.444540e-03\n",
       "2001  2.840813e-02 -2.795806e-02 -1.068876e-02 -1.103266e-02 -7.254357e-03\n",
       "2002  2.800738e-02 -2.807489e-02 -1.048018e-02 -1.080909e-02 -8.065371e-03\n",
       "2003  2.762055e-02 -2.817837e-02 -1.037035e-02 -9.928579e-03 -1.035184e-02\n",
       "2004  2.582771e-02 -2.793770e-02 -1.027814e-02 -9.064745e-03 -1.265402e-02\n",
       "2005  2.406561e-02 -2.766095e-02 -9.090904e-03 -8.914582e-03 -1.459191e-02\n",
       "2006  2.339390e-02 -2.655861e-02 -7.946485e-03 -8.805578e-03 -1.656930e-02\n",
       "2007  2.276558e-02 -2.540820e-02 -7.702861e-03 -1.002883e-02 -1.525798e-02\n",
       "2008  2.464470e-02 -2.370524e-02 -7.493254e-03 -1.128991e-02 -1.398831e-02\n",
       "2009  2.645629e-02 -2.206872e-02 -8.222575e-03 -1.133345e-02 -1.315157e-02\n",
       "2010  2.716559e-02 -2.148827e-02 -8.856547e-03 -1.128292e-02 -1.222205e-02\n",
       "2011  2.787311e-02 -2.091802e-02 -9.172490e-03 -1.129065e-02 -1.184932e-02\n",
       "2012  2.822453e-02 -2.055055e-02 -9.500397e-03 -1.130816e-02 -1.148421e-02\n",
       "2013  2.857293e-02 -2.018643e-02 -9.751490e-03 -1.135767e-02 -1.120469e-02\n",
       "     Jun           Jul           Aug           Sep           Oct          \n",
       "1998  1.200652e-02  3.091993e-03  1.828167e-02  2.257796e-03  9.420683e-03\n",
       "1999  1.225369e-02  3.384937e-03  1.798038e-02  1.963571e-03  9.771662e-03\n",
       "2000  1.250012e-02  3.676994e-03  1.767813e-02  1.668296e-03  1.012144e-02\n",
       "2001  1.267558e-02  4.410007e-03  1.709729e-02  1.024830e-03  1.082423e-02\n",
       "2002  1.285201e-02  5.146169e-03  1.652217e-02  3.896488e-04  1.153718e-02\n",
       "2003  1.334865e-02  6.978022e-03  1.535359e-02 -1.525913e-03  1.368087e-02\n",
       "2004  1.383279e-02  8.800565e-03  1.418166e-02 -3.438845e-03  1.583451e-02\n",
       "2005  1.365971e-02  7.595392e-03  1.564944e-02 -3.992806e-03  1.608603e-02\n",
       "2006  1.345470e-02  6.365855e-03  1.710359e-02 -4.549662e-03  1.634758e-02\n",
       "2007  1.019614e-02  6.597423e-03  1.845907e-02 -3.360093e-03  1.545864e-02\n",
       "2008  6.893849e-03  6.783164e-03  1.976485e-02 -2.224082e-03  1.451183e-02\n",
       "2009  5.087558e-03  7.216487e-03  2.008018e-02 -1.413601e-03  1.432149e-02\n",
       "2010  3.365319e-03  7.725132e-03  2.045828e-02 -5.528846e-04  1.416740e-02\n",
       "2011  2.646143e-03  7.861615e-03  2.077125e-02 -2.477686e-04  1.403297e-02\n",
       "2012  1.920545e-03  7.992857e-03  2.107975e-02  5.368192e-05  1.389520e-02\n",
       "2013  1.375529e-03  8.100143e-03  2.128298e-02  3.372147e-04  1.374308e-02\n",
       "     Nov           Dec          \n",
       "1998 -1.127074e-03 -1.711025e-02\n",
       "1999 -1.212246e-03 -1.667180e-02\n",
       "2000 -1.298775e-03 -1.623500e-02\n",
       "2001 -1.428447e-03 -1.558381e-02\n",
       "2002 -1.546106e-03 -1.491966e-02\n",
       "2003 -2.117861e-03 -1.282125e-02\n",
       "2004 -2.672377e-03 -1.069885e-02\n",
       "2005 -3.478891e-03 -9.035219e-03\n",
       "2006 -4.262486e-03 -7.338432e-03\n",
       "2007 -5.760935e-03 -8.050552e-03\n",
       "2008 -7.321567e-03 -8.827526e-03\n",
       "2009 -8.048199e-03 -9.782906e-03\n",
       "2010 -8.752581e-03 -1.072805e-02\n",
       "2011 -9.067117e-03 -1.104882e-02\n",
       "2012 -9.384683e-03 -1.137261e-02\n",
       "2013 -9.643281e-03 -1.164733e-02"
      ]
     },
     "metadata": {},
     "output_type": "display_data"
    }
   ],
   "source": [
    "STL_unemployment_diff_BoxCox_components <- mstl(unemployment_series_diff_BoxCox)\n",
    "seasonal(STL_unemployment_diff_BoxCox_components)"
   ]
  },
  {
   "cell_type": "markdown",
   "metadata": {},
   "source": [
    "Second order differencing seems enough to get what we need. The values are close to zero and have clearly changed since the original series seasonal component."
   ]
  },
  {
   "cell_type": "markdown",
   "metadata": {},
   "source": [
    "### 4.2. Best ARIMA model"
   ]
  },
  {
   "cell_type": "markdown",
   "metadata": {},
   "source": [
    "We already have the data that meet the conditions Arima asks us for. With this data we would pass on to calculate the appropriate parameters (p, d, q and P, D, Q) to choose the model that best fits with the values of acf and pcf function applied to our transformed and differenced time series.\n",
    "\n",
    "However, we have chosen to use the 'auto.arima' function that facilitates our work choosing the best parameters.\n",
    "\n",
    "The 'auto.arima' function returns the best ARIMA model according to either AIC, AICc or BIC value. The function conducts a search over possible model within the order constraints provided."
   ]
  },
  {
   "cell_type": "markdown",
   "metadata": {},
   "source": [
    "#### 4.2.1. Estimating"
   ]
  },
  {
   "cell_type": "markdown",
   "metadata": {},
   "source": [
    "Throughout the analysis we have arrived at a series of conclusions that we are going to include in the model parameters:\n",
    "\n",
    "- We know that our original time series is non stationary.\n",
    "- We know that our original time series has a seasonal component.\n",
    "- We know that our series works better with a transformation; lambda = 0 will perform a BoxCox transformation.\n",
    "- We know that our time series needs 2 differences, 1 differencing and 1 seassonal differencing (d=1 and D=1)."
   ]
  },
  {
   "cell_type": "code",
   "execution_count": 101,
   "metadata": {},
   "outputs": [
    {
     "name": "stdout",
     "output_type": "stream",
     "text": [
      "\n",
      " ARIMA(0,1,0)(0,1,0)[12]                    : -911.7633\n",
      " ARIMA(0,1,0)(0,1,1)[12]                    : -962.0931\n",
      " ARIMA(0,1,0)(0,1,2)[12]                    : -962.9034\n",
      " ARIMA(0,1,0)(1,1,0)[12]                    : -937.4909\n",
      " ARIMA(0,1,0)(1,1,1)[12]                    : -962.7798\n",
      " ARIMA(0,1,0)(1,1,2)[12]                    : -961.086\n",
      " ARIMA(0,1,0)(2,1,0)[12]                    : -952.014\n",
      " ARIMA(0,1,0)(2,1,1)[12]                    : -960.7154\n",
      " ARIMA(0,1,0)(2,1,2)[12]                    : -959.1459\n",
      " ARIMA(0,1,1)(0,1,0)[12]                    : -924.2035\n",
      " ARIMA(0,1,1)(0,1,1)[12]                    : -987.5726\n",
      " ARIMA(0,1,1)(0,1,2)[12]                    : -986.6058\n",
      " ARIMA(0,1,1)(1,1,0)[12]                    : -957.4031\n",
      " ARIMA(0,1,1)(1,1,1)[12]                    : -986.6031\n",
      " ARIMA(0,1,1)(1,1,2)[12]                    : -985.0821\n",
      " ARIMA(0,1,1)(2,1,0)[12]                    : -973.4397\n",
      " ARIMA(0,1,1)(2,1,1)[12]                    : -984.4882\n",
      " ARIMA(0,1,1)(2,1,2)[12]                    : -983.0004\n",
      " ARIMA(0,1,2)(0,1,0)[12]                    : -929.5677\n",
      " ARIMA(0,1,2)(0,1,1)[12]                    : -994.2811\n",
      " ARIMA(0,1,2)(0,1,2)[12]                    : -993.2104\n",
      " ARIMA(0,1,2)(1,1,0)[12]                    : -967.6319\n",
      " ARIMA(0,1,2)(1,1,1)[12]                    : -993.3468\n",
      " ARIMA(0,1,2)(1,1,2)[12]                    : Inf\n",
      " ARIMA(0,1,2)(2,1,0)[12]                    : -979.9667\n",
      " ARIMA(0,1,2)(2,1,1)[12]                    : Inf\n",
      " ARIMA(0,1,3)(0,1,0)[12]                    : -933.4857\n",
      " ARIMA(0,1,3)(0,1,1)[12]                    : -1005.718\n",
      " ARIMA(0,1,3)(0,1,2)[12]                    : -1003.818\n",
      " ARIMA(0,1,3)(1,1,0)[12]                    : -978.2408\n",
      " ARIMA(0,1,3)(1,1,1)[12]                    : -1003.87\n",
      " ARIMA(0,1,3)(2,1,0)[12]                    : -992.0953\n",
      " ARIMA(0,1,4)(0,1,0)[12]                    : -933.9689\n",
      " ARIMA(0,1,4)(0,1,1)[12]                    : -1004.072\n",
      " ARIMA(0,1,4)(1,1,0)[12]                    : -976.2277\n",
      " ARIMA(0,1,5)(0,1,0)[12]                    : -938.6078\n",
      " ARIMA(1,1,0)(0,1,0)[12]                    : -929.7023\n",
      " ARIMA(1,1,0)(0,1,1)[12]                    : -1002.358\n",
      " ARIMA(1,1,0)(0,1,2)[12]                    : -1000.606\n",
      " ARIMA(1,1,0)(1,1,0)[12]                    : -969.3974\n",
      " ARIMA(1,1,0)(1,1,1)[12]                    : -1000.635\n",
      " ARIMA(1,1,0)(1,1,2)[12]                    : -998.4606\n",
      " ARIMA(1,1,0)(2,1,0)[12]                    : -986.0522\n",
      " ARIMA(1,1,0)(2,1,1)[12]                    : Inf\n",
      " ARIMA(1,1,0)(2,1,2)[12]                    : -996.8989\n",
      " ARIMA(1,1,1)(0,1,0)[12]                    : -940.26\n",
      " ARIMA(1,1,1)(0,1,1)[12]                    : -1026.062\n",
      " ARIMA(1,1,1)(0,1,2)[12]                    : -1023.952\n",
      " ARIMA(1,1,1)(1,1,0)[12]                    : -990.7338\n",
      " ARIMA(1,1,1)(1,1,1)[12]                    : -1023.953\n",
      " ARIMA(1,1,1)(1,1,2)[12]                    : -1021.823\n",
      " ARIMA(1,1,1)(2,1,0)[12]                    : -1009.904\n",
      " ARIMA(1,1,1)(2,1,1)[12]                    : Inf\n",
      " ARIMA(1,1,2)(0,1,0)[12]                    : -938.2242\n",
      " ARIMA(1,1,2)(0,1,1)[12]                    : -1023.984\n",
      " ARIMA(1,1,2)(0,1,2)[12]                    : -1021.846\n",
      " ARIMA(1,1,2)(1,1,0)[12]                    : -989.3229\n",
      " ARIMA(1,1,2)(1,1,1)[12]                    : -1021.847\n",
      " ARIMA(1,1,2)(2,1,0)[12]                    : -1007.987\n",
      " ARIMA(1,1,3)(0,1,0)[12]                    : Inf\n",
      " ARIMA(1,1,3)(0,1,1)[12]                    : -1022.392\n",
      " ARIMA(1,1,3)(1,1,0)[12]                    : -987.3462\n",
      " ARIMA(1,1,4)(0,1,0)[12]                    : -933.3906\n",
      " ARIMA(2,1,0)(0,1,0)[12]                    : -934.8476\n",
      " ARIMA(2,1,0)(0,1,1)[12]                    : -1012.424\n",
      " ARIMA(2,1,0)(0,1,2)[12]                    : -1010.378\n",
      " ARIMA(2,1,0)(1,1,0)[12]                    : -982.2137\n",
      " ARIMA(2,1,0)(1,1,1)[12]                    : -1010.394\n",
      " ARIMA(2,1,0)(1,1,2)[12]                    : Inf\n",
      " ARIMA(2,1,0)(2,1,0)[12]                    : -997.6141\n",
      " ARIMA(2,1,0)(2,1,1)[12]                    : Inf\n",
      " ARIMA(2,1,1)(0,1,0)[12]                    : -938.2199\n",
      " ARIMA(2,1,1)(0,1,1)[12]                    : -1023.979\n",
      " ARIMA(2,1,1)(0,1,2)[12]                    : -1021.841\n",
      " ARIMA(2,1,1)(1,1,0)[12]                    : -989.2556\n",
      " ARIMA(2,1,1)(1,1,1)[12]                    : -1021.842\n",
      " ARIMA(2,1,1)(2,1,0)[12]                    : -1008.223\n",
      " ARIMA(2,1,2)(0,1,0)[12]                    : Inf\n",
      " ARIMA(2,1,2)(0,1,1)[12]                    : -1022.538\n",
      " ARIMA(2,1,2)(1,1,0)[12]                    : -992.065\n",
      " ARIMA(2,1,3)(0,1,0)[12]                    : Inf\n",
      " ARIMA(3,1,0)(0,1,0)[12]                    : -937.4804\n",
      " ARIMA(3,1,0)(0,1,1)[12]                    : -1020.609\n",
      " ARIMA(3,1,0)(0,1,2)[12]                    : -1018.558\n",
      " ARIMA(3,1,0)(1,1,0)[12]                    : -989.9132\n",
      " ARIMA(3,1,0)(1,1,1)[12]                    : -1018.576\n",
      " ARIMA(3,1,0)(2,1,0)[12]                    : -1007.525\n",
      " ARIMA(3,1,1)(0,1,0)[12]                    : -937.9432\n",
      " ARIMA(3,1,1)(0,1,1)[12]                    : -1022.171\n",
      " ARIMA(3,1,1)(1,1,0)[12]                    : -988.9984\n",
      " ARIMA(3,1,2)(0,1,0)[12]                    : Inf\n",
      " ARIMA(4,1,0)(0,1,0)[12]                    : -935.9251\n",
      " ARIMA(4,1,0)(0,1,1)[12]                    : -1018.533\n",
      " ARIMA(4,1,0)(1,1,0)[12]                    : -988.1667\n",
      " ARIMA(4,1,1)(0,1,0)[12]                    : -935.9545\n",
      " ARIMA(5,1,0)(0,1,0)[12]                    : -945.4316\n",
      "\n",
      "\n",
      "\n",
      " Best model: ARIMA(1,1,1)(0,1,1)[12]                    \n",
      "\n"
     ]
    }
   ],
   "source": [
    "#This may take a while!\n",
    "unemployment_series_best_arima <- auto.arima(unemployment_series_train, \n",
    "                                             d = 1, D = 1, trace = TRUE, stationary = FALSE,\n",
    "                                             seasonal = TRUE, lambda = 0, stepwise = FALSE, approximation = FALSE)"
   ]
  },
  {
   "cell_type": "markdown",
   "metadata": {},
   "source": [
    "The arima model that best fits is this: ARIMA(1,1,1)(0,1,1)[12]\n",
    "\n",
    "To check if it is valid we will observe how its residuals behave as we did in the Holt-Winters model."
   ]
  },
  {
   "cell_type": "code",
   "execution_count": 102,
   "metadata": {},
   "outputs": [
    {
     "name": "stdout",
     "output_type": "stream",
     "text": [
      "\n",
      "\tBox-Ljung test\n",
      "\n",
      "data:  model_residuals\n",
      "X-squared = 19.822, df = 24, p-value = 0.7068\n",
      "\n"
     ]
    },
    {
     "data": {
      "image/png": "[encoded data removed]",
      "text/plain": [
       "Plot with title \"Normal Q-Q Plot\""
      ]
     },
     "metadata": {},
     "output_type": "display_data"
    }
   ],
   "source": [
    "check_model_residuals(unemployment_series_best_arima)"
   ]
  },
  {
   "cell_type": "markdown",
   "metadata": {},
   "source": [
    "*The ACF of the residuals shows non-significant autocorrelations.*\n",
    "*Also, all the value of p for the Ljung-Box Q test is above 0.05, which indicates that the data is not dependent.*\n",
    "Residuals behave like white noise"
   ]
  },
  {
   "cell_type": "markdown",
   "metadata": {},
   "source": [
    "As the graphs support the assumption that there is no pattern in the residuals, we can go ahead and calculate the forecast."
   ]
  },
  {
   "cell_type": "markdown",
   "metadata": {},
   "source": [
    "#### 4.2.2  Forecasting"
   ]
  },
  {
   "cell_type": "markdown",
   "metadata": {},
   "source": [
    "The following is the plot of the next two years forectasts (blue line). The shadowed blue is the 80% of confidence and the shadowed grey is the 95%."
   ]
  },
  {
   "cell_type": "code",
   "execution_count": 103,
   "metadata": {},
   "outputs": [
    {
     "data": {
      "image/png": "[encoded data removed]",
      "text/plain": [
       "Plot with title \"Unemployment Forecasts from ARIMA\""
      ]
     },
     "metadata": {},
     "output_type": "display_data"
    }
   ],
   "source": [
    "options(repr.plot.width=8, repr.plot.height=4)\n",
    "unemployment_series_best_arima_forecast <- forecast::forecast(unemployment_series_best_arima, h = 48)\n",
    "plot(unemployment_series_best_arima_forecast, main= 'Unemployment Forecasts from ARIMA')"
   ]
  },
  {
   "cell_type": "code",
   "execution_count": 104,
   "metadata": {},
   "outputs": [
    {
     "data": {
      "text/plain": [
       "         Point Forecast   Lo 80   Hi 80   Lo 95    Hi 95\n",
       "Jan 2014        4802443 4719464 4886880 4676120  4932178\n",
       "Feb 2014        4803752 4671381 4939875 4602791  5013488\n",
       "Mar 2014        4756483 4578299 4941601 4486693  5042496\n",
       "Apr 2014        4659385 4438623 4891126 4326025  5018432\n",
       "May 2014        4523113 4263560 4798468 4132245  4950954\n",
       "Jun 2014        4407040 4109699 4725893 3960505  4903920\n",
       "Jul 2014        4327127 3991290 4691222 3824192  4896205\n",
       "Aug 2014        4335428 3954859 4752618 3767114  4989479\n",
       "Sep 2014        4350585 3924458 4822982 3716045  5093477\n",
       "Oct 2014        4420660 3942863 4956356 3711207  5265735\n",
       "Nov 2014        4455540 3929056 5052573 3676023  5400358\n",
       "Dec 2014        4428299 3860721 5079318 3590334  5461840\n",
       "Jan 2015        4544004 3912983 5276787 3615228  5711390\n",
       "Feb 2015        4564703 3882074 5367365 3563063  5847921\n",
       "Mar 2015        4538090 3811241 5403558 3474855  5926652\n",
       "Apr 2015        4462480 3700714 5381050 3351605  5941550\n",
       "May 2015        4347666 3560141 5309396 3202757  5901853\n",
       "Jun 2015        4250616 3436851 5257063 3071175  5883004\n",
       "Jul 2015        4187074 3342885 5244448 2967256  5908351\n",
       "Aug 2015        4207976 3317399 5337634 2925007  6053682\n",
       "Sep 2015        4234941 3296880 5439908 2887603  6210939\n",
       "Oct 2015        4314966 3317321 5612640 2886284  6450831\n",
       "Nov 2015        4360306 3310617 5742817 2861491  6644184\n",
       "Dec 2015        4344293 3257799 5793138 2797409  6746556\n",
       "Jan 2016        4468163 3307439 6036236 2820569  7078175\n",
       "Feb 2016        4498384 3286713 6156746 2783631  7269447\n",
       "Mar 2016        4481459 3231915 6214109 2718386  7388013\n",
       "Apr 2016        4415462 3143066 6202959 2625468  7425841\n",
       "May 2016        4309865 3028213 6133957 2512155  7394023\n",
       "Jun 2016        4221078 2927568 6086109 2412024  7386947\n",
       "Jul 2016        4164903 2851477 6083309 2333298  7434290\n",
       "Aug 2016        4192289 2833497 6202684 2302832  7632032\n",
       "Sep 2016        4225443 2819550 6332349 2276008  7844600\n",
       "Oct 2016        4311360 2840471 6543924 2277488  8161546\n",
       "Nov 2016        4362475 2838004 6705834 2260318  8419694\n",
       "Dec 2016        4351939 2795794 6774238 2211935  8562354\n",
       "Jan 2017        4481371 2841699 7067143 2232809  8994360\n",
       "Feb 2017        4516777 2827059 7216433 2206031  9247955\n",
       "Mar 2017        4504591 2782914 7291399 2156650  9408731\n",
       "Apr 2017        4442740 2709190 7285550 2085092  9466222\n",
       "May 2017        4340637 2612747 7211235 1997077  9434353\n",
       "Jun 2017        4255063 2528256 7161282 1919283  9433501\n",
       "Jul 2017        4202029 2464710 7163944 1858296  9501741\n",
       "Aug 2017        4233084 2451203 7310286 1835575  9762061\n",
       "Sep 2017        4269829 2441046 7468700 1815629 10041391\n",
       "Oct 2017        4359805 2460965 7723757 1818155 10454500\n",
       "Nov 2017        4414518 2460522 7920258 1805693 10792514\n",
       "Dec 2017        4406713 2425486 8006278 1768175 10982576"
      ]
     },
     "metadata": {},
     "output_type": "display_data"
    }
   ],
   "source": [
    "unemployment_series_best_arima_forecast"
   ]
  },
  {
   "cell_type": "markdown",
   "metadata": {},
   "source": [
    "- Evaluating forecasts"
   ]
  },
  {
   "cell_type": "code",
   "execution_count": 105,
   "metadata": {},
   "outputs": [
    {
     "data": {
      "text/html": [
       "<table>\n",
       "<caption>A matrix: 2 × 8 of type dbl</caption>\n",
       "<thead>\n",
       "\t<tr><th></th><th scope=col>ME</th><th scope=col>RMSE</th><th scope=col>MAE</th><th scope=col>MPE</th><th scope=col>MAPE</th><th scope=col>MASE</th><th scope=col>ACF1</th><th scope=col>Theil's U</th></tr>\n",
       "</thead>\n",
       "<tbody>\n",
       "\t<tr><th scope=row>Training set</th><td>    -76.9938</td><td> 33391.18</td><td> 24289.22</td><td> 0.04500979</td><td> 0.9205342</td><td>0.0985962</td><td>0.1385532</td><td>     NA</td></tr>\n",
       "\t<tr><th scope=row>Test set</th><td>-350842.2602</td><td>498918.13</td><td>377566.86</td><td>-9.68263843</td><td>10.2753326</td><td>1.5326411</td><td>0.9499524</td><td>8.06648</td></tr>\n",
       "</tbody>\n",
       "</table>\n"
      ],
      "text/latex": [
       "A matrix: 2 × 8 of type dbl\n",
       "\\begin{tabular}{r|llllllll}\n",
       "  & ME & RMSE & MAE & MPE & MAPE & MASE & ACF1 & Theil's U\\\\\n",
       "\\hline\n",
       "\tTraining set &     -76.9938 &  33391.18 &  24289.22 &  0.04500979 &  0.9205342 & 0.0985962 & 0.1385532 &      NA\\\\\n",
       "\tTest set & -350842.2602 & 498918.13 & 377566.86 & -9.68263843 & 10.2753326 & 1.5326411 & 0.9499524 & 8.06648\\\\\n",
       "\\end{tabular}\n"
      ],
      "text/markdown": [
       "\n",
       "A matrix: 2 × 8 of type dbl\n",
       "\n",
       "| <!--/--> | ME | RMSE | MAE | MPE | MAPE | MASE | ACF1 | Theil's U |\n",
       "|---|---|---|---|---|---|---|---|---|\n",
       "| Training set |     -76.9938 |  33391.18 |  24289.22 |  0.04500979 |  0.9205342 | 0.0985962 | 0.1385532 |      NA |\n",
       "| Test set | -350842.2602 | 498918.13 | 377566.86 | -9.68263843 | 10.2753326 | 1.5326411 | 0.9499524 | 8.06648 |\n",
       "\n"
      ],
      "text/plain": [
       "             ME           RMSE      MAE       MPE         MAPE       MASE     \n",
       "Training set     -76.9938  33391.18  24289.22  0.04500979  0.9205342 0.0985962\n",
       "Test set     -350842.2602 498918.13 377566.86 -9.68263843 10.2753326 1.5326411\n",
       "             ACF1      Theil's U\n",
       "Training set 0.1385532      NA  \n",
       "Test set     0.9499524 8.06648  "
      ]
     },
     "metadata": {},
     "output_type": "display_data"
    },
    {
     "data": {
      "image/png": "[encoded data removed]",
      "text/plain": [
       "Plot with title \"Forecasts from ARIMA(1,1,1)(0,1,1)[12]\""
      ]
     },
     "metadata": {},
     "output_type": "display_data"
    }
   ],
   "source": [
    "options(repr.plot.width=8, repr.plot.height=4)\n",
    "\n",
    "#Accuracy and plot\n",
    "accuracy(unemployment_series_best_arima_forecast, unemployment_series_test)\n",
    "plot(unemployment_series_best_arima_forecast)\n",
    "lines(unemployment_1998_2017)"
   ]
  },
  {
   "cell_type": "markdown",
   "metadata": {},
   "source": [
    "#### *Comparison of predictive models carried out throughout the project on unemployment in Spain.*"
   ]
  },
  {
   "cell_type": "code",
   "execution_count": 106,
   "metadata": {},
   "outputs": [
    {
     "data": {
      "text/html": [
       "<table>\n",
       "<caption>A matrix: 2 × 8 of type dbl</caption>\n",
       "<thead>\n",
       "\t<tr><th></th><th scope=col>ME</th><th scope=col>RMSE</th><th scope=col>MAE</th><th scope=col>MPE</th><th scope=col>MAPE</th><th scope=col>MASE</th><th scope=col>ACF1</th><th scope=col>Theil's U</th></tr>\n",
       "</thead>\n",
       "<tbody>\n",
       "\t<tr><th scope=row>Training set</th><td>  -227.8724</td><td> 28649.17</td><td> 21616.26</td><td>0.03068031</td><td>0.8484542</td><td>0.08774597</td><td>0.05970994</td><td>      NA</td></tr>\n",
       "\t<tr><th scope=row>Test set</th><td>279023.7516</td><td>311481.62</td><td>279023.75</td><td>7.30119508</td><td>7.3011951</td><td>1.13262926</td><td>0.90518944</td><td>4.869687</td></tr>\n",
       "</tbody>\n",
       "</table>\n"
      ],
      "text/latex": [
       "A matrix: 2 × 8 of type dbl\n",
       "\\begin{tabular}{r|llllllll}\n",
       "  & ME & RMSE & MAE & MPE & MAPE & MASE & ACF1 & Theil's U\\\\\n",
       "\\hline\n",
       "\tTraining set &   -227.8724 &  28649.17 &  21616.26 & 0.03068031 & 0.8484542 & 0.08774597 & 0.05970994 &       NA\\\\\n",
       "\tTest set & 279023.7516 & 311481.62 & 279023.75 & 7.30119508 & 7.3011951 & 1.13262926 & 0.90518944 & 4.869687\\\\\n",
       "\\end{tabular}\n"
      ],
      "text/markdown": [
       "\n",
       "A matrix: 2 × 8 of type dbl\n",
       "\n",
       "| <!--/--> | ME | RMSE | MAE | MPE | MAPE | MASE | ACF1 | Theil's U |\n",
       "|---|---|---|---|---|---|---|---|---|\n",
       "| Training set |   -227.8724 |  28649.17 |  21616.26 | 0.03068031 | 0.8484542 | 0.08774597 | 0.05970994 |       NA |\n",
       "| Test set | 279023.7516 | 311481.62 | 279023.75 | 7.30119508 | 7.3011951 | 1.13262926 | 0.90518944 | 4.869687 |\n",
       "\n"
      ],
      "text/plain": [
       "             ME          RMSE      MAE       MPE        MAPE      MASE      \n",
       "Training set   -227.8724  28649.17  21616.26 0.03068031 0.8484542 0.08774597\n",
       "Test set     279023.7516 311481.62 279023.75 7.30119508 7.3011951 1.13262926\n",
       "             ACF1       Theil's U\n",
       "Training set 0.05970994       NA \n",
       "Test set     0.90518944 4.869687 "
      ]
     },
     "metadata": {},
     "output_type": "display_data"
    },
    {
     "data": {
      "text/html": [
       "<table>\n",
       "<caption>A matrix: 2 × 8 of type dbl</caption>\n",
       "<thead>\n",
       "\t<tr><th></th><th scope=col>ME</th><th scope=col>RMSE</th><th scope=col>MAE</th><th scope=col>MPE</th><th scope=col>MAPE</th><th scope=col>MASE</th><th scope=col>ACF1</th><th scope=col>Theil's U</th></tr>\n",
       "</thead>\n",
       "<tbody>\n",
       "\t<tr><th scope=row>Training set</th><td>5.499963e-05</td><td>1.517327e-02</td><td>1.121055e-02</td><td>6.377795e-04</td><td> 0.07617761</td><td>1.316201e-01</td><td>0.08178933</td><td>      NA</td></tr>\n",
       "\t<tr><th scope=row>Test set</th><td>4.046162e+06</td><td>4.068976e+06</td><td>4.046162e+06</td><td>9.999962e+01</td><td>99.99962153</td><td>4.750490e+07</td><td>0.93109698</td><td>57.03858</td></tr>\n",
       "</tbody>\n",
       "</table>\n"
      ],
      "text/latex": [
       "A matrix: 2 × 8 of type dbl\n",
       "\\begin{tabular}{r|llllllll}\n",
       "  & ME & RMSE & MAE & MPE & MAPE & MASE & ACF1 & Theil's U\\\\\n",
       "\\hline\n",
       "\tTraining set & 5.499963e-05 & 1.517327e-02 & 1.121055e-02 & 6.377795e-04 &  0.07617761 & 1.316201e-01 & 0.08178933 &       NA\\\\\n",
       "\tTest set & 4.046162e+06 & 4.068976e+06 & 4.046162e+06 & 9.999962e+01 & 99.99962153 & 4.750490e+07 & 0.93109698 & 57.03858\\\\\n",
       "\\end{tabular}\n"
      ],
      "text/markdown": [
       "\n",
       "A matrix: 2 × 8 of type dbl\n",
       "\n",
       "| <!--/--> | ME | RMSE | MAE | MPE | MAPE | MASE | ACF1 | Theil's U |\n",
       "|---|---|---|---|---|---|---|---|---|\n",
       "| Training set | 5.499963e-05 | 1.517327e-02 | 1.121055e-02 | 6.377795e-04 |  0.07617761 | 1.316201e-01 | 0.08178933 |       NA |\n",
       "| Test set | 4.046162e+06 | 4.068976e+06 | 4.046162e+06 | 9.999962e+01 | 99.99962153 | 4.750490e+07 | 0.93109698 | 57.03858 |\n",
       "\n"
      ],
      "text/plain": [
       "             ME           RMSE         MAE          MPE          MAPE       \n",
       "Training set 5.499963e-05 1.517327e-02 1.121055e-02 6.377795e-04  0.07617761\n",
       "Test set     4.046162e+06 4.068976e+06 4.046162e+06 9.999962e+01 99.99962153\n",
       "             MASE         ACF1       Theil's U\n",
       "Training set 1.316201e-01 0.08178933       NA \n",
       "Test set     4.750490e+07 0.93109698 57.03858 "
      ]
     },
     "metadata": {},
     "output_type": "display_data"
    },
    {
     "data": {
      "text/html": [
       "<table>\n",
       "<caption>A matrix: 2 × 8 of type dbl</caption>\n",
       "<thead>\n",
       "\t<tr><th></th><th scope=col>ME</th><th scope=col>RMSE</th><th scope=col>MAE</th><th scope=col>MPE</th><th scope=col>MAPE</th><th scope=col>MASE</th><th scope=col>ACF1</th><th scope=col>Theil's U</th></tr>\n",
       "</thead>\n",
       "<tbody>\n",
       "\t<tr><th scope=row>Training set</th><td>    -76.9938</td><td> 33391.18</td><td> 24289.22</td><td> 0.04500979</td><td> 0.9205342</td><td>0.0985962</td><td>0.1385532</td><td>     NA</td></tr>\n",
       "\t<tr><th scope=row>Test set</th><td>-350842.2602</td><td>498918.13</td><td>377566.86</td><td>-9.68263843</td><td>10.2753326</td><td>1.5326411</td><td>0.9499524</td><td>8.06648</td></tr>\n",
       "</tbody>\n",
       "</table>\n"
      ],
      "text/latex": [
       "A matrix: 2 × 8 of type dbl\n",
       "\\begin{tabular}{r|llllllll}\n",
       "  & ME & RMSE & MAE & MPE & MAPE & MASE & ACF1 & Theil's U\\\\\n",
       "\\hline\n",
       "\tTraining set &     -76.9938 &  33391.18 &  24289.22 &  0.04500979 &  0.9205342 & 0.0985962 & 0.1385532 &      NA\\\\\n",
       "\tTest set & -350842.2602 & 498918.13 & 377566.86 & -9.68263843 & 10.2753326 & 1.5326411 & 0.9499524 & 8.06648\\\\\n",
       "\\end{tabular}\n"
      ],
      "text/markdown": [
       "\n",
       "A matrix: 2 × 8 of type dbl\n",
       "\n",
       "| <!--/--> | ME | RMSE | MAE | MPE | MAPE | MASE | ACF1 | Theil's U |\n",
       "|---|---|---|---|---|---|---|---|---|\n",
       "| Training set |     -76.9938 |  33391.18 |  24289.22 |  0.04500979 |  0.9205342 | 0.0985962 | 0.1385532 |      NA |\n",
       "| Test set | -350842.2602 | 498918.13 | 377566.86 | -9.68263843 | 10.2753326 | 1.5326411 | 0.9499524 | 8.06648 |\n",
       "\n"
      ],
      "text/plain": [
       "             ME           RMSE      MAE       MPE         MAPE       MASE     \n",
       "Training set     -76.9938  33391.18  24289.22  0.04500979  0.9205342 0.0985962\n",
       "Test set     -350842.2602 498918.13 377566.86 -9.68263843 10.2753326 1.5326411\n",
       "             ACF1      Theil's U\n",
       "Training set 0.1385532      NA  \n",
       "Test set     0.9499524 8.06648  "
      ]
     },
     "metadata": {},
     "output_type": "display_data"
    }
   ],
   "source": [
    "accuracy (forecast_decomposed_unemployment_series, unemployment_series_test)\n",
    "accuracy(unemployment_series_hw_future_forecasts, unemployment_series_test)\n",
    "accuracy (unemployment_series_best_arima_forecast, unemployment_series_test)"
   ]
  },
  {
   "cell_type": "markdown",
   "metadata": {},
   "source": [
    "The last ARIMA offers the best results. However, none of our models are good. As we can see, after 2015 our time series suffers another change of trend that we couldn't predict in our model. We would have to study how to include the cycles in our project and see if we need more data to estimate them."
   ]
  },
  {
   "cell_type": "markdown",
   "metadata": {},
   "source": [
    "Like suicide, unemployment is a stochastic process that has undergone many changes in Spain in recent years, difficult to predict with the information we had."
   ]
  },
  {
   "cell_type": "markdown",
   "metadata": {},
   "source": [
    "# Relation between Unemployment and Suicide in Spain"
   ]
  },
  {
   "cell_type": "markdown",
   "metadata": {},
   "source": [
    "In this section, we are going to analyze the statistical relationship of the time series of Suicide and Unemployment in Spain (1998-2017).\n",
    "\n",
    "\n",
    "For this we are going to use the proposals of Box and Jenkins (1970) for the calculation of the cross-correlation function and the subsequent identification of the potential transfer between two systems (two time series).\n",
    "\n",
    "\n",
    "In this approach the relationship between two time series is studied; relationship that does not pretend to be explanatory, but informs us about the strength and direction of the possible impact of a series 'input' to another series 'output'."
   ]
  },
  {
   "cell_type": "markdown",
   "metadata": {},
   "source": [
    "The point of this methodology and not calculate the cross correlation between the original time series is that when an input series is autocorrelated, the direct cross-correlation function between the input and response series gives a misleading indication of the relation between the input and response series.\n",
    "\n",
    "Is usually called prewhitening. You first fit an ARIMA model for the input series sufficient to reduce the residuals to white noise; then, filter the input series with this model to get the white noise residual series. You then filter the output series with the same model and cross-correlate the filtered response with the filtered input series."
   ]
  },
  {
   "cell_type": "markdown",
   "metadata": {},
   "source": [
    "## 1. Prewhitening Method and Cross Correlation"
   ]
  },
  {
   "cell_type": "markdown",
   "metadata": {},
   "source": [
    "## 1.1. Input series Arima\n",
    "\n",
    "The model must be valid and return residuals that behave like a white noise."
   ]
  },
  {
   "cell_type": "code",
   "execution_count": 107,
   "metadata": {},
   "outputs": [
    {
     "data": {
      "text/plain": [
       "Series: unemployment_series_train \n",
       "ARIMA(1,1,1)(0,1,1)[12] \n",
       "Box Cox transformation: lambda= 0 \n",
       "\n",
       "Coefficients:\n",
       "         ar1      ma1     sma1\n",
       "      0.9461  -0.6924  -0.8698\n",
       "s.e.  0.0367   0.0699   0.0869\n",
       "\n",
       "sigma^2 estimated as 0.0001843:  log likelihood=517.15\n",
       "AIC=-1026.29   AICc=-1026.06   BIC=-1013.54"
      ]
     },
     "metadata": {},
     "output_type": "display_data"
    }
   ],
   "source": [
    "#We can take the model that we have calculated in the Unemployment series section\n",
    "unemployment_series_best_arima"
   ]
  },
  {
   "cell_type": "code",
   "execution_count": 108,
   "metadata": {},
   "outputs": [
    {
     "name": "stdout",
     "output_type": "stream",
     "text": [
      "\n",
      "\tBox-Ljung test\n",
      "\n",
      "data:  model_residuals\n",
      "X-squared = 19.822, df = 24, p-value = 0.7068\n",
      "\n"
     ]
    },
    {
     "data": {
      "image/png": "[encoded data removed]",
      "text/plain": [
       "Plot with title \"Normal Q-Q Plot\""
      ]
     },
     "metadata": {},
     "output_type": "display_data"
    }
   ],
   "source": [
    "#As we saw before, the residuals of this model pass the Lunj Box test and don't have autocorrelation between them\n",
    "check_model_residuals(unemployment_series_best_arima)"
   ]
  },
  {
   "cell_type": "markdown",
   "metadata": {},
   "source": [
    "## 1.2. Filtering the output series\n",
    "Pre-whiten the output series by applying the model of the input series to the output series. The same parameters must serve to make both models valid.\n",
    "\n"
   ]
  },
  {
   "cell_type": "code",
   "execution_count": 109,
   "metadata": {},
   "outputs": [],
   "source": [
    "#Applying the model\n",
    "prewhitening_filtered_suicide_series <-  arima(suicide_1998_2017,\n",
    "                                               order = c(1,1,1), \n",
    "                                               seasonal = list(order = c(0,1,1), period = 12))"
   ]
  },
  {
   "cell_type": "code",
   "execution_count": 110,
   "metadata": {},
   "outputs": [
    {
     "name": "stdout",
     "output_type": "stream",
     "text": [
      "\n",
      "\tBox-Ljung test\n",
      "\n",
      "data:  model_residuals\n",
      "X-squared = 27.894, df = 24, p-value = 0.2645\n",
      "\n"
     ]
    },
    {
     "data": {
      "image/png": "[encoded data removed]",
      "text/plain": [
       "Plot with title \"Normal Q-Q Plot\""
      ]
     },
     "metadata": {},
     "output_type": "display_data"
    }
   ],
   "source": [
    "check_model_residuals(prewhitening_filtered_suicide_series)"
   ]
  },
  {
   "cell_type": "markdown",
   "metadata": {},
   "source": [
    "They behave like white noise, we can go ahead and calculate the cross correlaion function."
   ]
  },
  {
   "cell_type": "markdown",
   "metadata": {},
   "source": [
    "## 1.3. Cross Correlation function\n",
    "Calculate the cross-correlation function between the residuals of both models and diagnose the transfer."
   ]
  },
  {
   "cell_type": "code",
   "execution_count": 111,
   "metadata": {},
   "outputs": [
    {
     "data": {
      "image/png": "[encoded data removed]",
      "text/plain": [
       "Plot with title \" Cross Correlation\""
      ]
     },
     "metadata": {},
     "output_type": "display_data"
    }
   ],
   "source": [
    "unemployment_series_best_arima_residuals <- residuals(unemployment_series_best_arima)\n",
    "prewhitening_filtered_suicide_series_residuals <- residuals(prewhitening_filtered_suicide_series)\n",
    "options(repr.plot.width=8, repr.plot.height=4)\n",
    "\n",
    "cross_correlation_after_prewhitening  <- ccf(unemployment_series_best_arima_residuals,\n",
    "                                             prewhitening_filtered_suicide_series_residuals,\n",
    "                                             lag = 24, xlab = 'k', ylab = '', main = ' Cross Correlation' )"
   ]
  },
  {
   "cell_type": "code",
   "execution_count": 112,
   "metadata": {},
   "outputs": [
    {
     "data": {
      "text/plain": [
       "\n",
       "Autocorrelations of series 'X', by lag\n",
       "\n",
       "-2.0000 -1.9167 -1.8333 -1.7500 -1.6667 -1.5833 -1.5000 -1.4167 -1.3333 -1.2500 \n",
       "  0.000  -0.017  -0.013  -0.023  -0.219   0.055   0.006  -0.093   0.115  -0.041 \n",
       "-1.1667 -1.0833 -1.0000 -0.9167 -0.8333 -0.7500 -0.6667 -0.5833 -0.5000 -0.4167 \n",
       " -0.008   0.071  -0.079  -0.044   0.104  -0.039   0.002  -0.069   0.000   0.061 \n",
       "-0.3333 -0.2500 -0.1667 -0.0833  0.0000  0.0833  0.1667  0.2500  0.3333  0.4167 \n",
       " -0.015  -0.027   0.106  -0.038   0.047  -0.049  -0.005   0.010  -0.011   0.035 \n",
       " 0.5000  0.5833  0.6667  0.7500  0.8333  0.9167  1.0000  1.0833  1.1667  1.2500 \n",
       "  0.103  -0.120  -0.098   0.068   0.097  -0.013  -0.037   0.011   0.075   0.011 \n",
       " 1.3333  1.4167  1.5000  1.5833  1.6667  1.7500  1.8333  1.9167  2.0000 \n",
       " -0.066  -0.156  -0.116   0.003  -0.003  -0.056   0.092  -0.063  -0.137 "
      ]
     },
     "metadata": {},
     "output_type": "display_data"
    }
   ],
   "source": [
    "cross_correlation_after_prewhitening"
   ]
  },
  {
   "cell_type": "markdown",
   "metadata": {},
   "source": [
    "#### *Diagnosis*\n",
    "\n",
    "The cross correlation function measures not only the strength of the relationship, but also its direction. This last property is useful to identify causal variables. \n",
    "\n",
    "For this reason, it is important to examine the cross correlation function for both the positive values of k and for the negatives. For negative values of k, the cross correlation function describes the linear influence of the past values of Y(time) over X(time). For positive values of k, the cross correlation function indicates the linear influence of the past values of X(time) on Y(time).\n",
    "\n",
    "Surprise!\n",
    "In our case the cross correlation function shows a significant correlation in a negative value of k, so it could be said that there is an impact from one series to another but in the opposite direction to what we thought. Suicide 'would explain', in some aspect, unemployment in Spain.\n",
    "\n",
    "A priori this does not make much sense, but it does lead us to other conclusions that bring us closer to understanding the phenomenon of suicide in Spain.\n",
    "- We are right and there is no relationship between unemployment and suicide in Spain\n",
    "- There is a problem with the data collection or we need a bigger sample\n",
    "- We haven't found a good fit for the unemployment series and that makes it difficult for us to study the cross-correlation\n",
    "- There are one or several exogenous variables that explain the behavior of both time series\n",
    "- Random events explain the trend changes in our time series. We will investigate what could have been\n",
    "- This methodology does not fit the problem we want to solve\n",
    "\n",
    "So suicide and unemployment are difficult to forecast and they aren't correlated.\n",
    "\n",
    "In the next steps we will use the same methodology to find correlations between suicide data and other macro variables (such as GDP) to get a little closer to understanding the high number of suicides in Spain."
   ]
  },
  {
   "cell_type": "markdown",
   "metadata": {},
   "source": [
    "## TABLEAU CONNECTION\n",
    "If we want to perform some interactive graphs in Tableau we have to create a connection between R and Tableau running the code below.\n",
    "Also if you want to get deeper into the graphs showned in the visual report I have created for this project, you'll have to run the code below. The report and the graphs are in the 'Report_and_Graphs' folder of the repository you have downloaded: https://github.com/tonilopezrosell/understandingsuicide\n",
    "\n",
    "More details about this in the README.md of this project."
   ]
  },
  {
   "cell_type": "code",
   "execution_count": 113,
   "metadata": {},
   "outputs": [
    {
     "name": "stdout",
     "output_type": "stream",
     "text": [
      "Starting Rserve...\n",
      " \"C:\\Users\\Toni\\DOCUME~1\\R\\WIN-LI~1\\3.5\\Rserve\\libs\\x64\\Rserve.exe\"  \n"
     ]
    }
   ],
   "source": [
    "#install.packages(\"Rserve\")\n",
    "library(Rserve)\n",
    "\n",
    "Rserve()"
   ]
  }
 ],
 "metadata": {
  "kernelspec": {
   "display_name": "R",
   "language": "R",
   "name": "ir"
  },
  "language_info": {
   "codemirror_mode": "r",
   "file_extension": ".r",
   "mimetype": "text/x-r-source",
   "name": "R",
   "pygments_lexer": "r",
   "version": "3.5.1"
  }
 },
 "nbformat": 4,
 "nbformat_minor": 2
}
