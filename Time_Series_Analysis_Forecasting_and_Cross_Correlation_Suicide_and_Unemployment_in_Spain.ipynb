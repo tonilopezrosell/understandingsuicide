{
 "cells": [
  {
   "cell_type": "markdown",
   "metadata": {},
   "source": [
    "## REQUERIMENTS BEFORE EXECUTING THIS NOTEBOOK"
   ]
  },
  {
   "cell_type": "code",
   "execution_count": null,
   "metadata": {},
   "outputs": [],
   "source": []
  },
  {
   "cell_type": "code",
   "execution_count": null,
   "metadata": {},
   "outputs": [],
   "source": []
  },
  {
   "cell_type": "code",
   "execution_count": null,
   "metadata": {},
   "outputs": [],
   "source": []
  },
  {
   "cell_type": "code",
   "execution_count": null,
   "metadata": {},
   "outputs": [],
   "source": []
  },
  {
   "cell_type": "code",
   "execution_count": null,
   "metadata": {},
   "outputs": [],
   "source": []
  },
  {
   "cell_type": "code",
   "execution_count": null,
   "metadata": {},
   "outputs": [],
   "source": []
  },
  {
   "cell_type": "code",
   "execution_count": 479,
   "metadata": {},
   "outputs": [],
   "source": [
    "#ASSIGN YOUR WORKING DIRECTORY\n",
    "working_directory  <-  'C:\\\\Users\\\\Toni\\\\Desktop\\\\TFM'"
   ]
  },
  {
   "cell_type": "code",
   "execution_count": 480,
   "metadata": {},
   "outputs": [
    {
     "name": "stderr",
     "output_type": "stream",
     "text": [
      "Installing package into 'C:/Users/Toni/Documents/R/win-library/3.5'\n",
      "(as 'lib' is unspecified)\n",
      "Warning message:\n",
      "\"unable to access index for repository http://www.stats.ox.ac.uk/pub/RWin/bin/windows/contrib/3.5:\n",
      "  no fue posible abrir la URL 'http://www.stats.ox.ac.uk/pub/RWin/bin/windows/contrib/3.5/PACKAGES'\"Warning message:\n",
      "\"package 'FitAR' is in use and will not be installed\"Installing package into 'C:/Users/Toni/Documents/R/win-library/3.5'\n",
      "(as 'lib' is unspecified)\n",
      "Warning message:\n",
      "\"unable to access index for repository http://www.stats.ox.ac.uk/pub/RWin/bin/windows/contrib/3.5:\n",
      "  no fue posible abrir la URL 'http://www.stats.ox.ac.uk/pub/RWin/bin/windows/contrib/3.5/PACKAGES'\"Warning message:\n",
      "\"package 'roll' is in use and will not be installed\"Installing package into 'C:/Users/Toni/Documents/R/win-library/3.5'\n",
      "(as 'lib' is unspecified)\n",
      "Warning message:\n",
      "\"unable to access index for repository http://www.stats.ox.ac.uk/pub/RWin/bin/windows/contrib/3.5:\n",
      "  no fue posible abrir la URL 'http://www.stats.ox.ac.uk/pub/RWin/bin/windows/contrib/3.5/PACKAGES'\"Warning message:\n",
      "\"package 'pracma' is in use and will not be installed\"Installing package into 'C:/Users/Toni/Documents/R/win-library/3.5'\n",
      "(as 'lib' is unspecified)\n",
      "Warning message:\n",
      "\"unable to access index for repository http://www.stats.ox.ac.uk/pub/RWin/bin/windows/contrib/3.5:\n",
      "  no fue posible abrir la URL 'http://www.stats.ox.ac.uk/pub/RWin/bin/windows/contrib/3.5/PACKAGES'\"Warning message:\n",
      "\"package 'pdftools' is in use and will not be installed\"Installing package into 'C:/Users/Toni/Documents/R/win-library/3.5'\n",
      "(as 'lib' is unspecified)\n",
      "Warning message:\n",
      "\"unable to access index for repository http://www.stats.ox.ac.uk/pub/RWin/bin/windows/contrib/3.5:\n",
      "  no fue posible abrir la URL 'http://www.stats.ox.ac.uk/pub/RWin/bin/windows/contrib/3.5/PACKAGES'\"Warning message:\n",
      "\"package 'WDI' is in use and will not be installed\"Installing package into 'C:/Users/Toni/Documents/R/win-library/3.5'\n",
      "(as 'lib' is unspecified)\n",
      "Warning message:\n",
      "\"unable to access index for repository http://www.stats.ox.ac.uk/pub/RWin/bin/windows/contrib/3.5:\n",
      "  no fue posible abrir la URL 'http://www.stats.ox.ac.uk/pub/RWin/bin/windows/contrib/3.5/PACKAGES'\"Warning message:\n",
      "\"package 'fpp2' is in use and will not be installed\"Installing package into 'C:/Users/Toni/Documents/R/win-library/3.5'\n",
      "(as 'lib' is unspecified)\n",
      "Warning message:\n",
      "\"unable to access index for repository http://www.stats.ox.ac.uk/pub/RWin/bin/windows/contrib/3.5:\n",
      "  no fue posible abrir la URL 'http://www.stats.ox.ac.uk/pub/RWin/bin/windows/contrib/3.5/PACKAGES'\"Warning message:\n",
      "\"package 'forecast' is in use and will not be installed\"Installing package into 'C:/Users/Toni/Documents/R/win-library/3.5'\n",
      "(as 'lib' is unspecified)\n",
      "Warning message:\n",
      "\"unable to access index for repository http://www.stats.ox.ac.uk/pub/RWin/bin/windows/contrib/3.5:\n",
      "  no fue posible abrir la URL 'http://www.stats.ox.ac.uk/pub/RWin/bin/windows/contrib/3.5/PACKAGES'\"Warning message:\n",
      "\"package 'fma' is in use and will not be installed\"Installing package into 'C:/Users/Toni/Documents/R/win-library/3.5'\n",
      "(as 'lib' is unspecified)\n",
      "Warning message:\n",
      "\"unable to access index for repository http://www.stats.ox.ac.uk/pub/RWin/bin/windows/contrib/3.5:\n",
      "  no fue posible abrir la URL 'http://www.stats.ox.ac.uk/pub/RWin/bin/windows/contrib/3.5/PACKAGES'\"Warning message:\n",
      "\"package 'expsmooth' is in use and will not be installed\"Installing package into 'C:/Users/Toni/Documents/R/win-library/3.5'\n",
      "(as 'lib' is unspecified)\n",
      "Warning message:\n",
      "\"unable to access index for repository http://www.stats.ox.ac.uk/pub/RWin/bin/windows/contrib/3.5:\n",
      "  no fue posible abrir la URL 'http://www.stats.ox.ac.uk/pub/RWin/bin/windows/contrib/3.5/PACKAGES'\"Warning message:\n",
      "\"package 'seasonal' is in use and will not be installed\""
     ]
    }
   ],
   "source": [
    "#Packages and libraries needed\n",
    "install.packages(\"FitAR\")\n",
    "library(FitAR)\n",
    "library(tidyverse)\n",
    "library(purrr)\n",
    "install.packages('roll')\n",
    "library(roll)\n",
    "library(scales)\n",
    "install.packages('pracma')\n",
    "library(pracma)\n",
    "library(TTR)\n",
    "library(stringr)\n",
    "install.packages('pdftools')\n",
    "library(pdftools)\n",
    "library(dslabs)\n",
    "library(lubridate)\n",
    "install.packages('WDI')\n",
    "library(WDI)\n",
    "library(seasonal)\n",
    "library(ggplot2)\n",
    "install.packages('fpp2')\n",
    "library(fpp2)\n",
    "install.packages('forecast')\n",
    "library(forecast)\n",
    "install.packages('fma')\n",
    "library(fma)\n",
    "install.packages('expsmooth')\n",
    "library(expsmooth)\n",
    "install.packages('seasonal')\n",
    "library(seasonal)\n",
    "library(tseries)"
   ]
  },
  {
   "cell_type": "markdown",
   "metadata": {},
   "source": [
    "# Analysis of Suicide Time Series"
   ]
  },
  {
   "cell_type": "markdown",
   "metadata": {},
   "source": [
    "## 1. Reading the Data"
   ]
  },
  {
   "cell_type": "code",
   "execution_count": 481,
   "metadata": {},
   "outputs": [
    {
     "data": {
      "text/html": [
       "<table>\n",
       "<thead><tr><th scope=col>Date</th><th scope=col>N_of_suicides</th></tr></thead>\n",
       "<tbody>\n",
       "\t<tr><td>1998-01-31</td><td>218       </td></tr>\n",
       "\t<tr><td>1998-02-28</td><td>238       </td></tr>\n",
       "\t<tr><td>1998-03-31</td><td>281       </td></tr>\n",
       "\t<tr><td>1998-04-30</td><td>195       </td></tr>\n",
       "\t<tr><td>1998-05-31</td><td>267       </td></tr>\n",
       "\t<tr><td>1998-06-30</td><td>222       </td></tr>\n",
       "\t<tr><td>1998-07-31</td><td>226       </td></tr>\n",
       "\t<tr><td>1998-08-31</td><td>207       </td></tr>\n",
       "\t<tr><td>1998-09-30</td><td>193       </td></tr>\n",
       "\t<tr><td>1998-10-31</td><td>176       </td></tr>\n",
       "\t<tr><td>1998-11-30</td><td>168       </td></tr>\n",
       "\t<tr><td>1998-12-31</td><td>207       </td></tr>\n",
       "\t<tr><td>1999-01-31</td><td>191       </td></tr>\n",
       "\t<tr><td>1999-02-28</td><td>212       </td></tr>\n",
       "\t<tr><td>1999-03-31</td><td>245       </td></tr>\n",
       "\t<tr><td>1999-04-30</td><td>196       </td></tr>\n",
       "\t<tr><td>1999-05-31</td><td>228       </td></tr>\n",
       "\t<tr><td>1999-06-30</td><td>227       </td></tr>\n",
       "\t<tr><td>1999-07-31</td><td>223       </td></tr>\n",
       "\t<tr><td>1999-08-31</td><td>201       </td></tr>\n",
       "\t<tr><td>1999-09-30</td><td>216       </td></tr>\n",
       "\t<tr><td>1999-10-31</td><td>167       </td></tr>\n",
       "\t<tr><td>1999-11-30</td><td>163       </td></tr>\n",
       "\t<tr><td>1999-12-31</td><td>187       </td></tr>\n",
       "\t<tr><td>2000-01-31</td><td>218       </td></tr>\n",
       "\t<tr><td>2000-02-29</td><td>165       </td></tr>\n",
       "\t<tr><td>2000-03-31</td><td>224       </td></tr>\n",
       "\t<tr><td>2000-04-30</td><td>204       </td></tr>\n",
       "\t<tr><td>2000-05-31</td><td>231       </td></tr>\n",
       "\t<tr><td>2000-06-30</td><td>232       </td></tr>\n",
       "\t<tr><td>...</td><td>...</td></tr>\n",
       "\t<tr><td>2015-07-31</td><td>359       </td></tr>\n",
       "\t<tr><td>2015-08-31</td><td>312       </td></tr>\n",
       "\t<tr><td>2015-09-30</td><td>295       </td></tr>\n",
       "\t<tr><td>2015-10-31</td><td>274       </td></tr>\n",
       "\t<tr><td>2015-11-30</td><td>235       </td></tr>\n",
       "\t<tr><td>2015-12-31</td><td>288       </td></tr>\n",
       "\t<tr><td>2016-01-31</td><td>301       </td></tr>\n",
       "\t<tr><td>2016-02-29</td><td>283       </td></tr>\n",
       "\t<tr><td>2016-03-31</td><td>289       </td></tr>\n",
       "\t<tr><td>2016-04-30</td><td>292       </td></tr>\n",
       "\t<tr><td>2016-05-31</td><td>320       </td></tr>\n",
       "\t<tr><td>2016-06-30</td><td>328       </td></tr>\n",
       "\t<tr><td>2016-07-31</td><td>311       </td></tr>\n",
       "\t<tr><td>2016-08-31</td><td>321       </td></tr>\n",
       "\t<tr><td>2016-09-30</td><td>311       </td></tr>\n",
       "\t<tr><td>2016-10-31</td><td>269       </td></tr>\n",
       "\t<tr><td>2016-11-30</td><td>251       </td></tr>\n",
       "\t<tr><td>2016-12-31</td><td>293       </td></tr>\n",
       "\t<tr><td>2017-01-31</td><td>279       </td></tr>\n",
       "\t<tr><td>2017-02-28</td><td>297       </td></tr>\n",
       "\t<tr><td>2017-03-31</td><td>310       </td></tr>\n",
       "\t<tr><td>2017-04-30</td><td>300       </td></tr>\n",
       "\t<tr><td>2017-05-31</td><td>319       </td></tr>\n",
       "\t<tr><td>2017-06-30</td><td>328       </td></tr>\n",
       "\t<tr><td>2017-07-31</td><td>348       </td></tr>\n",
       "\t<tr><td>2017-08-31</td><td>337       </td></tr>\n",
       "\t<tr><td>2017-09-30</td><td>307       </td></tr>\n",
       "\t<tr><td>2017-10-31</td><td>346       </td></tr>\n",
       "\t<tr><td>2017-11-30</td><td>267       </td></tr>\n",
       "\t<tr><td>2017-12-31</td><td>241       </td></tr>\n",
       "</tbody>\n",
       "</table>\n"
      ],
      "text/latex": [
       "\\begin{tabular}{r|ll}\n",
       " Date & N\\_of\\_suicides\\\\\n",
       "\\hline\n",
       "\t 1998-01-31 & 218       \\\\\n",
       "\t 1998-02-28 & 238       \\\\\n",
       "\t 1998-03-31 & 281       \\\\\n",
       "\t 1998-04-30 & 195       \\\\\n",
       "\t 1998-05-31 & 267       \\\\\n",
       "\t 1998-06-30 & 222       \\\\\n",
       "\t 1998-07-31 & 226       \\\\\n",
       "\t 1998-08-31 & 207       \\\\\n",
       "\t 1998-09-30 & 193       \\\\\n",
       "\t 1998-10-31 & 176       \\\\\n",
       "\t 1998-11-30 & 168       \\\\\n",
       "\t 1998-12-31 & 207       \\\\\n",
       "\t 1999-01-31 & 191       \\\\\n",
       "\t 1999-02-28 & 212       \\\\\n",
       "\t 1999-03-31 & 245       \\\\\n",
       "\t 1999-04-30 & 196       \\\\\n",
       "\t 1999-05-31 & 228       \\\\\n",
       "\t 1999-06-30 & 227       \\\\\n",
       "\t 1999-07-31 & 223       \\\\\n",
       "\t 1999-08-31 & 201       \\\\\n",
       "\t 1999-09-30 & 216       \\\\\n",
       "\t 1999-10-31 & 167       \\\\\n",
       "\t 1999-11-30 & 163       \\\\\n",
       "\t 1999-12-31 & 187       \\\\\n",
       "\t 2000-01-31 & 218       \\\\\n",
       "\t 2000-02-29 & 165       \\\\\n",
       "\t 2000-03-31 & 224       \\\\\n",
       "\t 2000-04-30 & 204       \\\\\n",
       "\t 2000-05-31 & 231       \\\\\n",
       "\t 2000-06-30 & 232       \\\\\n",
       "\t ... & ...\\\\\n",
       "\t 2015-07-31 & 359       \\\\\n",
       "\t 2015-08-31 & 312       \\\\\n",
       "\t 2015-09-30 & 295       \\\\\n",
       "\t 2015-10-31 & 274       \\\\\n",
       "\t 2015-11-30 & 235       \\\\\n",
       "\t 2015-12-31 & 288       \\\\\n",
       "\t 2016-01-31 & 301       \\\\\n",
       "\t 2016-02-29 & 283       \\\\\n",
       "\t 2016-03-31 & 289       \\\\\n",
       "\t 2016-04-30 & 292       \\\\\n",
       "\t 2016-05-31 & 320       \\\\\n",
       "\t 2016-06-30 & 328       \\\\\n",
       "\t 2016-07-31 & 311       \\\\\n",
       "\t 2016-08-31 & 321       \\\\\n",
       "\t 2016-09-30 & 311       \\\\\n",
       "\t 2016-10-31 & 269       \\\\\n",
       "\t 2016-11-30 & 251       \\\\\n",
       "\t 2016-12-31 & 293       \\\\\n",
       "\t 2017-01-31 & 279       \\\\\n",
       "\t 2017-02-28 & 297       \\\\\n",
       "\t 2017-03-31 & 310       \\\\\n",
       "\t 2017-04-30 & 300       \\\\\n",
       "\t 2017-05-31 & 319       \\\\\n",
       "\t 2017-06-30 & 328       \\\\\n",
       "\t 2017-07-31 & 348       \\\\\n",
       "\t 2017-08-31 & 337       \\\\\n",
       "\t 2017-09-30 & 307       \\\\\n",
       "\t 2017-10-31 & 346       \\\\\n",
       "\t 2017-11-30 & 267       \\\\\n",
       "\t 2017-12-31 & 241       \\\\\n",
       "\\end{tabular}\n"
      ],
      "text/markdown": [
       "\n",
       "Date | N_of_suicides | \n",
       "|---|---|---|---|---|---|---|---|---|---|---|---|---|---|---|---|---|---|---|---|---|---|---|---|---|---|---|---|---|---|---|---|---|---|---|---|---|---|---|---|---|---|---|---|---|---|---|---|---|---|---|---|---|---|---|---|---|---|---|---|---|\n",
       "| 1998-01-31 | 218        | \n",
       "| 1998-02-28 | 238        | \n",
       "| 1998-03-31 | 281        | \n",
       "| 1998-04-30 | 195        | \n",
       "| 1998-05-31 | 267        | \n",
       "| 1998-06-30 | 222        | \n",
       "| 1998-07-31 | 226        | \n",
       "| 1998-08-31 | 207        | \n",
       "| 1998-09-30 | 193        | \n",
       "| 1998-10-31 | 176        | \n",
       "| 1998-11-30 | 168        | \n",
       "| 1998-12-31 | 207        | \n",
       "| 1999-01-31 | 191        | \n",
       "| 1999-02-28 | 212        | \n",
       "| 1999-03-31 | 245        | \n",
       "| 1999-04-30 | 196        | \n",
       "| 1999-05-31 | 228        | \n",
       "| 1999-06-30 | 227        | \n",
       "| 1999-07-31 | 223        | \n",
       "| 1999-08-31 | 201        | \n",
       "| 1999-09-30 | 216        | \n",
       "| 1999-10-31 | 167        | \n",
       "| 1999-11-30 | 163        | \n",
       "| 1999-12-31 | 187        | \n",
       "| 2000-01-31 | 218        | \n",
       "| 2000-02-29 | 165        | \n",
       "| 2000-03-31 | 224        | \n",
       "| 2000-04-30 | 204        | \n",
       "| 2000-05-31 | 231        | \n",
       "| 2000-06-30 | 232        | \n",
       "| ... | ... | \n",
       "| 2015-07-31 | 359        | \n",
       "| 2015-08-31 | 312        | \n",
       "| 2015-09-30 | 295        | \n",
       "| 2015-10-31 | 274        | \n",
       "| 2015-11-30 | 235        | \n",
       "| 2015-12-31 | 288        | \n",
       "| 2016-01-31 | 301        | \n",
       "| 2016-02-29 | 283        | \n",
       "| 2016-03-31 | 289        | \n",
       "| 2016-04-30 | 292        | \n",
       "| 2016-05-31 | 320        | \n",
       "| 2016-06-30 | 328        | \n",
       "| 2016-07-31 | 311        | \n",
       "| 2016-08-31 | 321        | \n",
       "| 2016-09-30 | 311        | \n",
       "| 2016-10-31 | 269        | \n",
       "| 2016-11-30 | 251        | \n",
       "| 2016-12-31 | 293        | \n",
       "| 2017-01-31 | 279        | \n",
       "| 2017-02-28 | 297        | \n",
       "| 2017-03-31 | 310        | \n",
       "| 2017-04-30 | 300        | \n",
       "| 2017-05-31 | 319        | \n",
       "| 2017-06-30 | 328        | \n",
       "| 2017-07-31 | 348        | \n",
       "| 2017-08-31 | 337        | \n",
       "| 2017-09-30 | 307        | \n",
       "| 2017-10-31 | 346        | \n",
       "| 2017-11-30 | 267        | \n",
       "| 2017-12-31 | 241        | \n",
       "\n",
       "\n"
      ],
      "text/plain": [
       "    Date       N_of_suicides\n",
       "1   1998-01-31 218          \n",
       "2   1998-02-28 238          \n",
       "3   1998-03-31 281          \n",
       "4   1998-04-30 195          \n",
       "5   1998-05-31 267          \n",
       "6   1998-06-30 222          \n",
       "7   1998-07-31 226          \n",
       "8   1998-08-31 207          \n",
       "9   1998-09-30 193          \n",
       "10  1998-10-31 176          \n",
       "11  1998-11-30 168          \n",
       "12  1998-12-31 207          \n",
       "13  1999-01-31 191          \n",
       "14  1999-02-28 212          \n",
       "15  1999-03-31 245          \n",
       "16  1999-04-30 196          \n",
       "17  1999-05-31 228          \n",
       "18  1999-06-30 227          \n",
       "19  1999-07-31 223          \n",
       "20  1999-08-31 201          \n",
       "21  1999-09-30 216          \n",
       "22  1999-10-31 167          \n",
       "23  1999-11-30 163          \n",
       "24  1999-12-31 187          \n",
       "25  2000-01-31 218          \n",
       "26  2000-02-29 165          \n",
       "27  2000-03-31 224          \n",
       "28  2000-04-30 204          \n",
       "29  2000-05-31 231          \n",
       "30  2000-06-30 232          \n",
       "... ...        ...          \n",
       "211 2015-07-31 359          \n",
       "212 2015-08-31 312          \n",
       "213 2015-09-30 295          \n",
       "214 2015-10-31 274          \n",
       "215 2015-11-30 235          \n",
       "216 2015-12-31 288          \n",
       "217 2016-01-31 301          \n",
       "218 2016-02-29 283          \n",
       "219 2016-03-31 289          \n",
       "220 2016-04-30 292          \n",
       "221 2016-05-31 320          \n",
       "222 2016-06-30 328          \n",
       "223 2016-07-31 311          \n",
       "224 2016-08-31 321          \n",
       "225 2016-09-30 311          \n",
       "226 2016-10-31 269          \n",
       "227 2016-11-30 251          \n",
       "228 2016-12-31 293          \n",
       "229 2017-01-31 279          \n",
       "230 2017-02-28 297          \n",
       "231 2017-03-31 310          \n",
       "232 2017-04-30 300          \n",
       "233 2017-05-31 319          \n",
       "234 2017-06-30 328          \n",
       "235 2017-07-31 348          \n",
       "236 2017-08-31 337          \n",
       "237 2017-09-30 307          \n",
       "238 2017-10-31 346          \n",
       "239 2017-11-30 267          \n",
       "240 2017-12-31 241          "
      ]
     },
     "metadata": {},
     "output_type": "display_data"
    }
   ],
   "source": [
    "wkdir_and_path <- cbind(working_directory,'Data\\\\Monthly_suicide_Spain_1998-2017.csv')\n",
    "suicide_filepath <- str_c(wkdir_and_path, collapse = \"\\\\\")\n",
    "suicide_1998_2017 <- read.csv(suicide_filepath)\n",
    "suicide_1998_2017"
   ]
  },
  {
   "cell_type": "markdown",
   "metadata": {},
   "source": [
    "Seems that our date index is not very useful in R code. We need a 'ts' object to use many of the best R resources for time series. The function 'ts' automatically turns our list of values into a time series if you give it start date and frequency."
   ]
  },
  {
   "cell_type": "markdown",
   "metadata": {},
   "source": [
    "## 2. Creating and exploring the Time Series"
   ]
  },
  {
   "cell_type": "code",
   "execution_count": 482,
   "metadata": {},
   "outputs": [
    {
     "data": {
      "text/html": [
       "'ts'"
      ],
      "text/latex": [
       "'ts'"
      ],
      "text/markdown": [
       "'ts'"
      ],
      "text/plain": [
       "[1] \"ts\""
      ]
     },
     "metadata": {},
     "output_type": "display_data"
    }
   ],
   "source": [
    "suicide_1998_2017 <- ts (suicide_1998_2017$N_of_suicides, frequency = 12, start = c(1998,1))\n",
    "class(suicide_1998_2017)"
   ]
  },
  {
   "cell_type": "code",
   "execution_count": 483,
   "metadata": {},
   "outputs": [
    {
     "data": {
      "text/html": [
       "<ol class=list-inline>\n",
       "\t<li>1998</li>\n",
       "\t<li>1</li>\n",
       "</ol>\n"
      ],
      "text/latex": [
       "\\begin{enumerate*}\n",
       "\\item 1998\n",
       "\\item 1\n",
       "\\end{enumerate*}\n"
      ],
      "text/markdown": [
       "1. 1998\n",
       "2. 1\n",
       "\n",
       "\n"
      ],
      "text/plain": [
       "[1] 1998    1"
      ]
     },
     "metadata": {},
     "output_type": "display_data"
    }
   ],
   "source": [
    "#Here we have the start of our time series\n",
    "start(suicide_1998_2017)"
   ]
  },
  {
   "cell_type": "code",
   "execution_count": 484,
   "metadata": {},
   "outputs": [
    {
     "data": {
      "text/html": [
       "<ol class=list-inline>\n",
       "\t<li>2017</li>\n",
       "\t<li>12</li>\n",
       "</ol>\n"
      ],
      "text/latex": [
       "\\begin{enumerate*}\n",
       "\\item 2017\n",
       "\\item 12\n",
       "\\end{enumerate*}\n"
      ],
      "text/markdown": [
       "1. 2017\n",
       "2. 12\n",
       "\n",
       "\n"
      ],
      "text/plain": [
       "[1] 2017   12"
      ]
     },
     "metadata": {},
     "output_type": "display_data"
    }
   ],
   "source": [
    "#And the end\n",
    "end(suicide_1998_2017)"
   ]
  },
  {
   "cell_type": "code",
   "execution_count": 485,
   "metadata": {},
   "outputs": [
    {
     "data": {
      "text/html": [
       "12"
      ],
      "text/latex": [
       "12"
      ],
      "text/markdown": [
       "12"
      ],
      "text/plain": [
       "[1] 12"
      ]
     },
     "metadata": {},
     "output_type": "display_data"
    }
   ],
   "source": [
    "#The cycle of this time series is 12months in a year\n",
    "frequency(suicide_1998_2017)"
   ]
  },
  {
   "cell_type": "code",
   "execution_count": 486,
   "metadata": {},
   "outputs": [
    {
     "data": {
      "text/plain": [
       "     Jan Feb Mar Apr May Jun Jul Aug Sep Oct Nov Dec\n",
       "1998   1   2   3   4   5   6   7   8   9  10  11  12\n",
       "1999   1   2   3   4   5   6   7   8   9  10  11  12\n",
       "2000   1   2   3   4   5   6   7   8   9  10  11  12\n",
       "2001   1   2   3   4   5   6   7   8   9  10  11  12\n",
       "2002   1   2   3   4   5   6   7   8   9  10  11  12\n",
       "2003   1   2   3   4   5   6   7   8   9  10  11  12\n",
       "2004   1   2   3   4   5   6   7   8   9  10  11  12\n",
       "2005   1   2   3   4   5   6   7   8   9  10  11  12\n",
       "2006   1   2   3   4   5   6   7   8   9  10  11  12\n",
       "2007   1   2   3   4   5   6   7   8   9  10  11  12\n",
       "2008   1   2   3   4   5   6   7   8   9  10  11  12\n",
       "2009   1   2   3   4   5   6   7   8   9  10  11  12\n",
       "2010   1   2   3   4   5   6   7   8   9  10  11  12\n",
       "2011   1   2   3   4   5   6   7   8   9  10  11  12\n",
       "2012   1   2   3   4   5   6   7   8   9  10  11  12\n",
       "2013   1   2   3   4   5   6   7   8   9  10  11  12\n",
       "2014   1   2   3   4   5   6   7   8   9  10  11  12\n",
       "2015   1   2   3   4   5   6   7   8   9  10  11  12\n",
       "2016   1   2   3   4   5   6   7   8   9  10  11  12\n",
       "2017   1   2   3   4   5   6   7   8   9  10  11  12"
      ]
     },
     "metadata": {},
     "output_type": "display_data"
    }
   ],
   "source": [
    "cycle(suicide_1998_2017)"
   ]
  },
  {
   "cell_type": "code",
   "execution_count": 487,
   "metadata": {},
   "outputs": [
    {
     "data": {
      "text/plain": [
       "   Min. 1st Qu.  Median    Mean 3rd Qu.    Max. \n",
       "  135.0   213.5   267.5   257.7   301.0   371.0 "
      ]
     },
     "metadata": {},
     "output_type": "display_data"
    }
   ],
   "source": [
    "#Some descriptive statistics\n",
    "summary(suicide_1998_2017)"
   ]
  },
  {
   "cell_type": "markdown",
   "metadata": {},
   "source": [
    "The first basic plot that we are going to use is a line graph with the values of the series in the ordinate and the temporal instants on the abscissa axis. Constructing this graph can be very useful to observe some characteristics of our time series."
   ]
  },
  {
   "cell_type": "code",
   "execution_count": 488,
   "metadata": {},
   "outputs": [
    {
     "data": {
      "image/png": "[encoded data removed]",
      "text/plain": [
       "plot without title"
      ]
     },
     "metadata": {},
     "output_type": "display_data"
    }
   ],
   "source": [
    "#The number of suicides in Spain\n",
    "plot(suicide_1998_2017, xlab = 'Years', ylab = 'Suicides')\n",
    "\n",
    "#this will fit in a line\n",
    "abline(reg=lm(suicide_1998_2017~time(suicide_1998_2017)))"
   ]
  },
  {
   "cell_type": "markdown",
   "metadata": {},
   "source": [
    "Based on what we see in the representation, it seems that the mean, the variance and the covariance are not constant over time. This makes us think that we are facing a **non-stationary series**, although this is something that we will analyze in more detail later."
   ]
  },
  {
   "cell_type": "code",
   "execution_count": 489,
   "metadata": {},
   "outputs": [
    {
     "data": {
      "image/png": "[encoded data removed]",
      "text/plain": [
       "Plot with title \"Year on year trend\""
      ]
     },
     "metadata": {},
     "output_type": "display_data"
    }
   ],
   "source": [
    "#In this plot we are going to aggregate the cycles and display a year on year trend\n",
    "options(repr.plot.width=5, repr.plot.height=5)\n",
    "plot(aggregate(suicide_1998_2017,FUN=mean), xlab = \"Years\", ylab = \"Aggregated Suicide by mean\", main = 'Year on year trend', col = 'blue')"
   ]
  },
  {
   "cell_type": "markdown",
   "metadata": {},
   "source": [
    "The year on year trend clearly shows that the **number of suicides have been increasing since 2003-2004.**"
   ]
  },
  {
   "cell_type": "code",
   "execution_count": 490,
   "metadata": {},
   "outputs": [
    {
     "data": {
      "image/png": "[encoded data removed]",
      "text/plain": [
       "Plot with title \"Box Plot across Months\""
      ]
     },
     "metadata": {},
     "output_type": "display_data"
    }
   ],
   "source": [
    "#Box plot across months will give us a sense on seasonal effect\n",
    "options(repr.plot.width=5, repr.plot.height=5)\n",
    "boxplot(suicide_1998_2017~cycle(suicide_1998_2017), xlab = 'Months', ylab = 'Suicides', main = 'Box Plot across Months',col = 'purple')"
   ]
  },
  {
   "cell_type": "markdown",
   "metadata": {},
   "source": [
    "The mean value of suicides in **May and June is higher than rest of the months, but July has more variance and reachs higher values**."
   ]
  },
  {
   "cell_type": "code",
   "execution_count": 491,
   "metadata": {},
   "outputs": [
    {
     "data": {
      "image/png": "[encoded data removed]",
      "text/plain": [
       "Plot with title \"Normal Q-Q Plot\""
      ]
     },
     "metadata": {},
     "output_type": "display_data"
    }
   ],
   "source": [
    "date = make_date(year = 1998, month = 1)\n",
    "Date_range = seq(from = date, by = 'month', length.out = length(suicide_1998_2017))\n",
    "\n",
    "par(mfrow=c(3,1)) \n",
    "\n",
    "#Scatter plot\n",
    "plot(suicide_1998_2017, x = Date_range, xlab = 'Years', ylab = 'Number of suicides', pch=20, cex=0.7, col = 'green')\n",
    "\n",
    "#histogram\n",
    "hist (suicide_1998_2017, xlab = 'Number of suicides', main = 'Histogram', col = 'brown')\n",
    "\n",
    "#Q-Q plot\n",
    "qqnorm(suicide_1998_2017)\n",
    "qqline(suicide_1998_2017)"
   ]
  },
  {
   "cell_type": "code",
   "execution_count": 492,
   "metadata": {},
   "outputs": [
    {
     "name": "stderr",
     "output_type": "stream",
     "text": [
      "Warning message in ks.test(suicide_1998_2017, \"pnorm\", 257.725, 55.3225):\n",
      "\"ties should not be present for the Kolmogorov-Smirnov test\""
     ]
    },
    {
     "data": {
      "text/plain": [
       "\n",
       "\tOne-sample Kolmogorov-Smirnov test\n",
       "\n",
       "data:  suicide_1998_2017\n",
       "D = 0.083239, p-value = 0.07189\n",
       "alternative hypothesis: two-sided\n"
      ]
     },
     "metadata": {},
     "output_type": "display_data"
    }
   ],
   "source": [
    "ks.test(suicide_1998_2017, \"pnorm\", 257.725, 55.3225)"
   ]
  },
  {
   "cell_type": "markdown",
   "metadata": {},
   "source": [
    "The scatter plot and the histogram show us that it seems that in our distribution there are not very anomalous values but seems that there is a pretty big amount of dispersion.\n",
    "\n",
    "The graphs and the Kolmogorov-Smirnov test show us that our series is close to a normal distribution."
   ]
  },
  {
   "cell_type": "markdown",
   "metadata": {},
   "source": [
    "## 3. Time Series Components Analysis"
   ]
  },
  {
   "cell_type": "markdown",
   "metadata": {},
   "source": [
    "Time series decomposition involves thinking of a series as a combination of level, trend, seasonality, and noise components.\n",
    "\n",
    "Decomposition provides a useful abstract model for thinking about time series generally and for better understanding problems during time series analysis and forecasting.\n",
    "\n",
    "Also the decomposition methods can help us in forecasting."
   ]
  },
  {
   "cell_type": "markdown",
   "metadata": {},
   "source": [
    "*Let's start to analyze each of its components with a little more detail, but first we are going to split our time series in a train and a test sets.*"
   ]
  },
  {
   "cell_type": "code",
   "execution_count": 493,
   "metadata": {},
   "outputs": [],
   "source": [
    "suicide_series_test  <- tail(suicide_1998_2017,48)\n",
    "suicide_series_train  <- head(suicide_1998_2017, 192)"
   ]
  },
  {
   "cell_type": "markdown",
   "metadata": {},
   "source": [
    "### 3.1. Decomposition methods"
   ]
  },
  {
   "cell_type": "markdown",
   "metadata": {},
   "source": [
    "#### 3.1.1. Moving Mean\n",
    "\n",
    "We present the methodology of moving averages because it's the first step in the classical decomposition and allows us to observe **the trend** of our time series represented in a smoothed way. It can be a good method to extract information in time series where there are no fluctuations due to trend or seasonality."
   ]
  },
  {
   "cell_type": "markdown",
   "metadata": {},
   "source": [
    "It is possible to apply a moving mean to a moving mean. One reason for doing this is to make an even-order moving average symmetric. It's recommended to use a 2x12 Moving averages to estimate the trend-cycle of monthly data:"
   ]
  },
  {
   "cell_type": "code",
   "execution_count": 494,
   "metadata": {
    "scrolled": true
   },
   "outputs": [
    {
     "name": "stderr",
     "output_type": "stream",
     "text": [
      "Warning message:\n",
      "\"Removed 1 rows containing missing values (geom_path).\"Warning message:\n",
      "\"Removed 12 rows containing missing values (geom_path).\""
     ]
    },
    {
     "data": {},
     "metadata": {},
     "output_type": "display_data"
    },
    {
     "data": {
      "image/png": "[encoded data removed]",
      "text/plain": [
       "plot without title"
      ]
     },
     "metadata": {},
     "output_type": "display_data"
    }
   ],
   "source": [
    "options(repr.plot.width=8, repr.plot.height=4)\n",
    "\n",
    "#Applying Moving Mean\n",
    "autoplot(suicide_series_train) +\n",
    "    autolayer(ma(suicide_series_train, order=2, centre=FALSE), series='2 Moving Mean')+\n",
    "    autolayer(ma(suicide_series_train,12, centre = TRUE), series='2x12 Moving Mean') +\n",
    "    xlab('Date') + ylab('Number of suicides') +\n",
    "    ggtitle('Monthly Suicides in Spain') +\n",
    "    guides(colour=guide_legend(title='series'))"
   ]
  },
  {
   "cell_type": "markdown",
   "metadata": {},
   "source": [
    "The moving mean helps us to reduce the noise or short-term volatility in the movements of the data and in this way allows us to better evaluate the quality and direction of a trend."
   ]
  },
  {
   "cell_type": "markdown",
   "metadata": {},
   "source": [
    "We can see that the estimated trend component shows an **increase from approximately 200 or less in 2004 to approximately 300 at the end of 2005, followed by a more or less constant increase from then until 2017.**"
   ]
  },
  {
   "cell_type": "markdown",
   "metadata": {},
   "source": [
    "Seasonal adjustments are a statistical procedure to eliminate seasonal effects or what is the same, eliminate the influence of seasonal patterns in the data. These seasonal effects induce changes or variations due to the seasonality, causing a distortion of their true movement. \n",
    "\n",
    "There are many methods to struggle with seasonality. But first we have to be sure that there is seasonality in our time series."
   ]
  },
  {
   "cell_type": "markdown",
   "metadata": {},
   "source": [
    "#### 3.1.2. Classic Decomposition\n",
    "\n",
    "We are going to use decompose function to see the components of our time series in a classic decomposition method, just to have a first look:"
   ]
  },
  {
   "cell_type": "code",
   "execution_count": 495,
   "metadata": {},
   "outputs": [
    {
     "data": {
      "image/png": "[encoded data removed]",
      "text/plain": [
       "plot without title"
      ]
     },
     "metadata": {},
     "output_type": "display_data"
    }
   ],
   "source": [
    "suicide_series_components  <- decompose(suicide_series_train)\n",
    "plot(suicide_series_components)"
   ]
  },
  {
   "cell_type": "markdown",
   "metadata": {},
   "source": [
    "The plot above shows the original time series (top), the estimated trend component (second from top), the estimated seasonal component (third from top), and the estimated irregular component (bottom). "
   ]
  },
  {
   "cell_type": "markdown",
   "metadata": {},
   "source": [
    "If we take a look at the suicide time series it seems that we have to deal with a trend and a seasonal component. Let's confirm this by plotting the autocorrelation function of our time series:"
   ]
  },
  {
   "cell_type": "code",
   "execution_count": 496,
   "metadata": {},
   "outputs": [
    {
     "data": {
      "image/png": "[encoded data removed]",
      "text/plain": [
       "Plot with title \"Suicide Series autocorrelation\""
      ]
     },
     "metadata": {},
     "output_type": "display_data"
    }
   ],
   "source": [
    "acf(suicide_series_train, main = 'Suicide Series autocorrelation')"
   ]
  },
  {
   "cell_type": "markdown",
   "metadata": {},
   "source": [
    "As we see, clearly, **we have a seasonal component**."
   ]
  },
  {
   "cell_type": "markdown",
   "metadata": {},
   "source": [
    "Classical decomposition methods assume that the seasonal component repeats from year to year and we think that it might not be our case. A more sophisticated implementation is stl decomposition."
   ]
  },
  {
   "cell_type": "markdown",
   "metadata": {},
   "source": [
    "#### 3.1.3. STL decomposition\n",
    "\n",
    "Maybe the most robust, versatile and popular method according to many sources. \n",
    "To determine the trend component this method uses a type of smoothing called loess that\n",
    "makes a linear regression in a small dot window to decompose a time series into seasonal, trend and irregular components.\n",
    "\n",
    "We are going to use mstl function which provides a convenient automated stl."
   ]
  },
  {
   "cell_type": "code",
   "execution_count": 497,
   "metadata": {},
   "outputs": [],
   "source": [
    "STL_suicide_components <- mstl(suicide_series_train)"
   ]
  },
  {
   "cell_type": "code",
   "execution_count": 498,
   "metadata": {},
   "outputs": [
    {
     "data": {},
     "metadata": {},
     "output_type": "display_data"
    },
    {
     "data": {
      "image/png": "[encoded data removed]",
      "text/plain": [
       "plot without title"
      ]
     },
     "metadata": {},
     "output_type": "display_data"
    }
   ],
   "source": [
    "options(repr.plot.width=8, repr.plot.height=4)\n",
    "autoplot(suicide_series_train, series=\"Data\") +\n",
    "    autolayer(trendcycle(STL_suicide_components), series=\"Trend\") +\n",
    "    autolayer(seasadj(STL_suicide_components), series=\"Seasonally Adjusted\") +\n",
    "    xlab(\"Year\") + ylab(\"Number of suicides\") +\n",
    "    ggtitle(\"Suicide in Spain over the years\") +\n",
    "    scale_colour_manual(values=c(\"gray\",\"blue\",\"red\"),\n",
    "             breaks=c(\"Data\",\"Seasonally Adjusted\",\"Trend\"))"
   ]
  },
  {
   "cell_type": "code",
   "execution_count": 499,
   "metadata": {},
   "outputs": [
    {
     "data": {},
     "metadata": {},
     "output_type": "display_data"
    },
    {
     "data": {
      "image/png": "[encoded data removed]",
      "text/plain": [
       "plot without title"
      ]
     },
     "metadata": {},
     "output_type": "display_data"
    }
   ],
   "source": [
    "options(repr.plot.width=8, repr.plot.height=4)\n",
    "STL_suicide_components %>% seasonal() %>% ggsubseriesplot() + ylab(\"Seasonal\")"
   ]
  },
  {
   "cell_type": "code",
   "execution_count": 500,
   "metadata": {},
   "outputs": [
    {
     "data": {
      "image/png": "[encoded data removed]",
      "text/plain": [
       "plot without title"
      ]
     },
     "metadata": {},
     "output_type": "display_data"
    }
   ],
   "source": [
    "options(repr.plot.width=12, repr.plot.height=8)\n",
    "\n",
    "plot(STL_suicide_components)"
   ]
  },
  {
   "cell_type": "markdown",
   "metadata": {},
   "source": [
    "Here we can see a more smothed trend. But the most interesting thing that we can observe is that the seasonality component varies with time. Let's take a look at the values:"
   ]
  },
  {
   "cell_type": "code",
   "execution_count": 501,
   "metadata": {},
   "outputs": [
    {
     "data": {
      "text/plain": [
       "              Jan          Feb          Mar          Apr          May\n",
       "1998  -7.88926475  -9.94426966  28.82186869 -10.79972087  25.01057681\n",
       "1999  -7.69584823 -10.29689734  28.36713239 -10.28173861  25.09598386\n",
       "2000  -7.49621885 -10.64111991  27.92299344  -9.75149649  25.19531327\n",
       "2001  -7.12982690 -11.59745636  27.00517152  -8.80385537  25.13139185\n",
       "2002  -6.79321736 -12.57380165  26.07711433  -7.85919664  25.07174093\n",
       "2003  -6.27595347 -14.41642725  23.78404966  -5.99746784  25.06018513\n",
       "2004  -5.68876114 -16.17620274  21.58675673  -4.03630604  25.15172358\n",
       "2005  -5.38602293 -18.33243833  19.91200246  -2.63768074  26.67688077\n",
       "2006  -5.25433580 -20.65707077  18.07150554  -1.39279550  28.06030050\n",
       "2007  -4.49294045 -22.90335318  18.82189019   0.07476307  28.56957715\n",
       "2008  -3.66488115 -25.12706881  19.55074444   1.48628778  28.98831645\n",
       "2009  -2.51941857 -25.52351420  20.47960443   1.50133316  28.24598348\n",
       "2010  -1.33126536 -25.86882381  21.46804536   1.58202873  27.57536998\n",
       "2011  -1.01034437 -26.01116709  21.72727192   1.56771664  27.33422647\n",
       "2012  -0.69876966 -26.16292621  21.97701311   1.54565044  27.08706012\n",
       "2013  -0.46913662 -26.22371726  22.18372052   1.56686623  26.90936484\n",
       "              Jun          Jul          Aug          Sep          Oct\n",
       "1998  28.91284501  10.37245273   0.25376826  14.85832935 -24.83617765\n",
       "1999  29.50481451  10.46035502   0.79336162  14.81430769 -24.58254082\n",
       "2000  30.11081747  10.56240187   1.34386216  14.77795583 -24.32689931\n",
       "2001  31.12235177  10.83629569   2.17864151  14.95091097 -23.70424804\n",
       "2002  32.13879043  11.11572772   3.01080353  15.11309324 -23.10521764\n",
       "2003  34.87498901  11.31607482   5.52097863  15.08332031 -21.38645131\n",
       "2004  37.71099726  11.61294702   8.11763053  15.12997587 -19.60688615\n",
       "2005  37.55204740  14.91641323  10.52675105  12.05578412 -17.07082650\n",
       "2006  37.27471092  18.12484364  12.87776352   8.96041204 -14.51159995\n",
       "2007  34.23364723  20.43414833  12.46720248   6.89674475 -13.60402853\n",
       "2008  31.07867530  22.60617389  11.90985919   4.67679209 -12.85056387\n",
       "2009  30.26140864  23.58692463  10.70485475   4.66572778 -13.46857487\n",
       "2010  29.52101278  24.64969750   9.58587818   4.74469709 -13.99481818\n",
       "2011  29.10486189  24.97177900   9.16483559   4.75028700 -14.10214822\n",
       "2012  28.68522755  25.29291645   8.74483037   4.75889570 -14.20546416\n",
       "2013  28.31803628  25.45085672   8.42152749   4.73279977 -14.38695418\n",
       "              Nov          Dec\n",
       "1998 -31.23114429 -23.94461255\n",
       "1999 -31.68034360 -24.97149539\n",
       "2000 -32.13320334 -26.00938288\n",
       "2001 -32.60618600 -27.75799183\n",
       "2002 -33.11563752 -29.55607940\n",
       "2003 -34.62005813 -34.27225229\n",
       "2004 -36.07930954 -38.96145403\n",
       "2005 -36.31186421 -42.00861410\n",
       "2006 -36.47690474 -44.94359425\n",
       "2007 -37.13232244 -42.88889527\n",
       "2008 -37.93966826 -40.97675294\n",
       "2009 -38.97999329 -39.52573720\n",
       "2010 -39.92681658 -37.98317347\n",
       "2011 -40.07955709 -37.35715507\n",
       "2012 -40.22728821 -36.72577194\n",
       "2013 -40.40930358 -36.17440788"
      ]
     },
     "metadata": {},
     "output_type": "display_data"
    }
   ],
   "source": [
    "seasonal(STL_suicide_components) #get the values of the seasonal component"
   ]
  },
  {
   "cell_type": "markdown",
   "metadata": {},
   "source": [
    "The largest seasonal factor was for June until 2010, after 2010 it changes and July turns into the largest seasonal factor. The lowest is always for November."
   ]
  },
  {
   "cell_type": "markdown",
   "metadata": {},
   "source": [
    "However, Loess decomposition is intended to smooth the series by applying averages to the data so that it collapses into components and that is interesting for the analysis of the data. But this methodology is not intended to do a formal test for the presence of seasonality.\n",
    "\n",
    "The seasonal component might not be relevant to explain the dynamics of the series. In order to see that, we can compare the variance of each component with respect to the variance of the original series."
   ]
  },
  {
   "cell_type": "code",
   "execution_count": 502,
   "metadata": {},
   "outputs": [
    {
     "data": {
      "text/html": [
       "<dl class=dl-horizontal>\n",
       "\t<dt>Data</dt>\n",
       "\t\t<dd>1</dd>\n",
       "\t<dt>Trend</dt>\n",
       "\t\t<dd>0.68989740229602</dd>\n",
       "\t<dt>Seasonal12</dt>\n",
       "\t\t<dd>0.186129557926224</dd>\n",
       "\t<dt>Remainder</dt>\n",
       "\t\t<dd>0.102262920094411</dd>\n",
       "</dl>\n"
      ],
      "text/latex": [
       "\\begin{description*}\n",
       "\\item[Data] 1\n",
       "\\item[Trend] 0.68989740229602\n",
       "\\item[Seasonal12] 0.186129557926224\n",
       "\\item[Remainder] 0.102262920094411\n",
       "\\end{description*}\n"
      ],
      "text/markdown": [
       "Data\n",
       ":   1Trend\n",
       ":   0.68989740229602Seasonal12\n",
       ":   0.186129557926224Remainder\n",
       ":   0.102262920094411\n",
       "\n"
      ],
      "text/plain": [
       "      Data      Trend Seasonal12  Remainder \n",
       " 1.0000000  0.6898974  0.1861296  0.1022629 "
      ]
     },
     "metadata": {},
     "output_type": "display_data"
    }
   ],
   "source": [
    "apply(STL_suicide_components,2, var) / var(suicide_series_train)"
   ]
  },
  {
   "cell_type": "markdown",
   "metadata": {},
   "source": [
    "*We can see that it is the trend what explains most of the variance in the data.*"
   ]
  },
  {
   "cell_type": "code",
   "execution_count": 503,
   "metadata": {},
   "outputs": [
    {
     "data": {
      "text/plain": [
       "          Jan      Feb      Mar      Apr      May      Jun      Jul      Aug\n",
       "1998 225.8893 247.9443 252.1781 205.7997 241.9894 193.0872 215.6275 206.7462\n",
       "1999 198.6958 222.2969 216.6329 206.2817 202.9040 197.4952 212.5396 200.2066\n",
       "2000 225.4962 175.6411 196.0770 213.7515 205.8047 201.8892 221.4376 199.6561\n",
       "2001 174.1298 183.5975 198.9948 177.8039 176.8686 178.8776 186.1637 174.8214\n",
       "2002 192.7932 201.5738 191.9229 183.8592 172.9283 184.8612 169.8843 163.9892\n",
       "2003 173.2760 205.4164 170.2160 157.9975 175.9398 197.1250 167.6839 217.4790\n",
       "2004 170.6888 188.1762 168.4132 184.0363 188.8483 209.2890 172.3871 181.8824\n",
       "2005 290.3860 273.3324 282.0880 309.6377 277.3231 282.4480 291.0836 281.4732\n",
       "2006 269.2543 241.6571 270.9285 286.3928 294.9397 267.7253 280.8752 289.1222\n",
       "2007 261.4929 260.9034 275.1781 256.9252 285.4304 267.7664 294.5659 282.5328\n",
       "2008 274.6649 282.1271 289.4493 281.5137 253.0117 294.9213 278.3938 284.0901\n",
       "2009 277.5194 295.5235 251.5204 256.4987 287.7540 290.7386 306.4131 287.2951\n",
       "2010 271.3313 252.8688 271.5320 287.4180 285.4246 238.4790 255.3503 263.4141\n",
       "2011 257.0103 269.0112 274.2727 266.4323 249.6658 255.8951 238.0282 259.8352\n",
       "2012 285.6988 291.1629 287.0230 289.4543 296.9129 281.3148 312.7071 303.2552\n",
       "2013 344.4691 315.2237 336.8163 322.4331 308.0906 334.6820 331.5491 299.5785\n",
       "          Sep      Oct      Nov      Dec\n",
       "1998 178.1417 200.8362 199.2311 230.9446\n",
       "1999 201.1857 191.5825 194.6803 211.9715\n",
       "2000 228.2220 202.3269 242.1332 225.0094\n",
       "2001 184.0491 208.7042 188.6062 184.7580\n",
       "2002 202.8869 195.1052 191.1156 210.5561\n",
       "2003 202.9167 156.3865 214.6201 172.2723\n",
       "2004 211.8700 191.6069 186.0793 221.9615\n",
       "2005 262.9442 295.0708 266.3119 287.0086\n",
       "2006 275.0396 281.5116 256.4769 231.9436\n",
       "2007 265.1033 262.6040 274.1323 275.8889\n",
       "2008 277.3232 316.8506 310.9397 313.9768\n",
       "2009 298.3343 303.4686 326.9800 247.5257\n",
       "2010 260.2553 253.9948 241.9268 275.9832\n",
       "2011 258.2497 273.1021 282.0796 296.3572\n",
       "2012 292.2411 281.2055 290.2273 327.7258\n",
       "2013 340.2672 315.3870 299.4093 322.1744"
      ]
     },
     "metadata": {},
     "output_type": "display_data"
    }
   ],
   "source": [
    "seasadj(STL_suicide_components)"
   ]
  },
  {
   "cell_type": "markdown",
   "metadata": {},
   "source": [
    "Seasadj function returns seasonally adjusted data constructed by removing the seasonal component. The seasonally adjusted time series now just contains the trend and the irregular component."
   ]
  },
  {
   "cell_type": "markdown",
   "metadata": {},
   "source": [
    "##### *Forecasting with Decomposition*\n",
    "\n",
    "While decomposition is primarily useful for studying time series data, and exploring historical changes over time, it can also be used in forecasting.\n",
    "\n",
    "We will use stlf function which decompose the time series using STL, forecast the seasonally adjusted series with arima, and return the reseasonalised forecasts."
   ]
  },
  {
   "cell_type": "code",
   "execution_count": 504,
   "metadata": {},
   "outputs": [
    {
     "data": {
      "image/png": "[encoded data removed]",
      "text/plain": [
       "Plot with title \"Forecasts from STL +  ARIMA(0,1,1)\""
      ]
     },
     "metadata": {},
     "output_type": "display_data"
    }
   ],
   "source": [
    "forecast_decomposed_suicide_series <- stlf(suicide_series_train, method='arima', h = 48)\n",
    "plot(forecast_decomposed_suicide_series)"
   ]
  },
  {
   "cell_type": "markdown",
   "metadata": {},
   "source": [
    "- Evaluating the forecasts"
   ]
  },
  {
   "cell_type": "code",
   "execution_count": 505,
   "metadata": {},
   "outputs": [
    {
     "data": {
      "text/html": [
       "<table>\n",
       "<thead><tr><th></th><th scope=col>ME</th><th scope=col>RMSE</th><th scope=col>MAE</th><th scope=col>MPE</th><th scope=col>MAPE</th><th scope=col>MASE</th><th scope=col>ACF1</th><th scope=col>Theil's U</th></tr></thead>\n",
       "<tbody>\n",
       "\t<tr><th scope=row>Training set</th><td> 1.024471  </td><td>19.89423   </td><td>15.27388   </td><td>-0.2002356 </td><td>6.621737   </td><td>0.5675677  </td><td>-0.01144965</td><td>       NA  </td></tr>\n",
       "\t<tr><th scope=row>Test set</th><td>-8.864959  </td><td>24.00003   </td><td>20.82885   </td><td>-3.4205697 </td><td>6.943263   </td><td>0.7739871  </td><td> 0.05833164</td><td>0.7228049  </td></tr>\n",
       "</tbody>\n",
       "</table>\n"
      ],
      "text/latex": [
       "\\begin{tabular}{r|llllllll}\n",
       "  & ME & RMSE & MAE & MPE & MAPE & MASE & ACF1 & Theil's U\\\\\n",
       "\\hline\n",
       "\tTraining set &  1.024471   & 19.89423    & 15.27388    & -0.2002356  & 6.621737    & 0.5675677   & -0.01144965 &        NA  \\\\\n",
       "\tTest set & -8.864959   & 24.00003    & 20.82885    & -3.4205697  & 6.943263    & 0.7739871   &  0.05833164 & 0.7228049  \\\\\n",
       "\\end{tabular}\n"
      ],
      "text/markdown": [
       "\n",
       "| <!--/--> | ME | RMSE | MAE | MPE | MAPE | MASE | ACF1 | Theil's U | \n",
       "|---|---|\n",
       "| Training set |  1.024471   | 19.89423    | 15.27388    | -0.2002356  | 6.621737    | 0.5675677   | -0.01144965 |        NA   | \n",
       "| Test set | -8.864959   | 24.00003    | 20.82885    | -3.4205697  | 6.943263    | 0.7739871   |  0.05833164 | 0.7228049   | \n",
       "\n",
       "\n"
      ],
      "text/plain": [
       "             ME        RMSE     MAE      MPE        MAPE     MASE     \n",
       "Training set  1.024471 19.89423 15.27388 -0.2002356 6.621737 0.5675677\n",
       "Test set     -8.864959 24.00003 20.82885 -3.4205697 6.943263 0.7739871\n",
       "             ACF1        Theil's U\n",
       "Training set -0.01144965        NA\n",
       "Test set      0.05833164 0.7228049"
      ]
     },
     "metadata": {},
     "output_type": "display_data"
    },
    {
     "data": {
      "image/png": "[encoded data removed]",
      "text/plain": [
       "Plot with title \"Forecasts from STL +  ARIMA(0,1,1)\""
      ]
     },
     "metadata": {},
     "output_type": "display_data"
    }
   ],
   "source": [
    "#Accuracy and plot\n",
    "accuracy(forecast_decomposed_suicide_series, suicide_series_test)\n",
    "plot(forecast_decomposed_suicide_series)\n",
    "lines(suicide_1998_2017)"
   ]
  },
  {
   "cell_type": "markdown",
   "metadata": {},
   "source": [
    "##### Forecasting with Holt-Winters Exponential Smoothing"
   ]
  },
  {
   "cell_type": "markdown",
   "metadata": {},
   "source": [
    "If you have a time series that can be described using an additive model with increasing or decreasing trend and\n",
    "seasonality, you can use Holt-Winters exponential smoothing to make short-term forecasts."
   ]
  },
  {
   "cell_type": "code",
   "execution_count": 506,
   "metadata": {
    "scrolled": true
   },
   "outputs": [
    {
     "data": {
      "text/plain": [
       "Holt-Winters exponential smoothing with trend and additive seasonal component.\n",
       "\n",
       "Call:\n",
       "HoltWinters(x = suicide_series_train)\n",
       "\n",
       "Smoothing parameters:\n",
       " alpha: 0.4094368\n",
       " beta : 0.006114559\n",
       " gamma: 0.3334522\n",
       "\n",
       "Coefficients:\n",
       "           [,1]\n",
       "a   309.1665554\n",
       "b     0.1756057\n",
       "s1    5.7093781\n",
       "s2  -22.1624680\n",
       "s3   30.8767563\n",
       "s4    7.2282819\n",
       "s5   31.5845167\n",
       "s6   36.7446667\n",
       "s7   33.2842689\n",
       "s8   10.7927082\n",
       "s9   13.5906965\n",
       "s10 -12.9284466\n",
       "s11 -38.0492814\n",
       "s12 -24.9869868"
      ]
     },
     "metadata": {},
     "output_type": "display_data"
    }
   ],
   "source": [
    "suicide_series_hw_forecasts  <- HoltWinters(suicide_series_train)\n",
    "suicide_series_hw_forecasts"
   ]
  },
  {
   "cell_type": "markdown",
   "metadata": {},
   "source": [
    "The estimated values of alpha, beta and gamma are 0.40, 0.00, and 0.33, respectively. The value of alpha is relatively low, indicating that the estimate of the level at the current time point is based upon both recent observations and some observations in the more distant past. The value of beta is 0.00, indicating that the estimate of the slope b of the trend component is not updated over the time series, and instead is set equal to its initial value.\n",
    "This makes good intuitive sense, as the level changes quite a bit over the time series, but the slope b of the trend\n",
    "component remains roughly the same. The value of gamma (0.30) is low, indicating that the seasonal component don't change to much over time.\n"
   ]
  },
  {
   "cell_type": "markdown",
   "metadata": {},
   "source": [
    "The observed values are plotted with the black line and the fitted values with the red one."
   ]
  },
  {
   "cell_type": "code",
   "execution_count": 507,
   "metadata": {
    "scrolled": true
   },
   "outputs": [
    {
     "data": {
      "image/png": "[encoded data removed]",
      "text/plain": [
       "Plot with title \"Forecasts from HoltWinters\""
      ]
     },
     "metadata": {},
     "output_type": "display_data"
    }
   ],
   "source": [
    "suicide_series_hw_future_forecasts <- forecast(suicide_series_hw_forecasts, h = 48)\n",
    "plot(suicide_series_hw_future_forecasts)"
   ]
  },
  {
   "cell_type": "markdown",
   "metadata": {},
   "source": [
    "*The forecasts are shown as a blue line, and the blue and grey shaded areas show 80% and 95% prediction\n",
    "intervals, respectively.*"
   ]
  },
  {
   "cell_type": "markdown",
   "metadata": {},
   "source": [
    "We can investigate whether the predictive model can be improved upon by checking whether the in-sample forecast\n",
    "errors show non-zero autocorrelations at lags 1-12, by making a correlogram and carrying out the Ljung-Box test.\n",
    "\n",
    "What is desired in time series is to build a model such that after extracting the trend and seasonality it can be certain that the waste is very similar to a white Gaussian noise. This assures us that we obtained all possible information from the data and that we can no longer know much more about the series in the errors. This also allows us to trust that the model is good and that its predictions therefore must be good."
   ]
  },
  {
   "cell_type": "code",
   "execution_count": 508,
   "metadata": {},
   "outputs": [
    {
     "data": {
      "text/plain": [
       "\n",
       "\tBox-Ljung test\n",
       "\n",
       "data:  suicide_series_hw_future_forecasts_residuals\n",
       "X-squared = 15.731, df = 12, p-value = 0.2039\n"
      ]
     },
     "metadata": {},
     "output_type": "display_data"
    },
    {
     "data": {
      "image/png": "[encoded data removed]",
      "text/plain": [
       "Plot with title \"Normal Q-Q Plot\""
      ]
     },
     "metadata": {},
     "output_type": "display_data"
    }
   ],
   "source": [
    "options(repr.plot.width=7, repr.plot.height=7)\n",
    "\n",
    "#Ljung-Box test\n",
    "suicide_series_hw_future_forecasts_residuals  <- residuals(suicide_series_hw_future_forecasts)\n",
    "Box.test(suicide_series_hw_future_forecasts_residuals, lag=12, type = 'Ljung-Box')\n",
    "\n",
    "#Graphic analysis\n",
    "par (mfrow = c(2,2))\n",
    "plot (suicide_series_hw_future_forecasts_residuals, ylab = 'Residuals')\n",
    "abline (h=0, lty=2, col=\"2\")\n",
    "##Correlogram\n",
    "acf (suicide_series_hw_future_forecasts_residuals, 12, na.action = na.pass, main = 'Residuals Series', ylab = 'ACF' )\n",
    "##Histogram\n",
    "hist(suicide_series_hw_future_forecasts_residuals, prob = T, col=\"6\", main = 'Histogram of residuals', xlab = 'Residuals')\n",
    "lines(density (na.omit(suicide_series_hw_future_forecasts_residuals)), col=\"4\")\n",
    "##Q-Q plot\n",
    "qqnorm (suicide_series_hw_future_forecasts_residuals)\n",
    "qqline (suicide_series_hw_future_forecasts_residuals,col=\"2\")"
   ]
  },
  {
   "cell_type": "markdown",
   "metadata": {},
   "source": [
    "The Ljung-Box test shows that the null hypothesis is accepted, that is, that the residuals behave like a white noise (zero mean, constant variance/homocedasticity and not correlated).\n",
    "\n",
    "Checking the graphical analysis and the hypothesis test, **it is concluded that the model is not bad and that the residues behave similar to a white Gaussian noise.** Therefore, it can be considered that the predictions obtained from the model are good."
   ]
  },
  {
   "cell_type": "markdown",
   "metadata": {},
   "source": [
    "- Evaluating the forecasts"
   ]
  },
  {
   "cell_type": "code",
   "execution_count": 509,
   "metadata": {
    "scrolled": true
   },
   "outputs": [
    {
     "data": {
      "text/html": [
       "<table>\n",
       "<thead><tr><th></th><th scope=col>ME</th><th scope=col>RMSE</th><th scope=col>MAE</th><th scope=col>MPE</th><th scope=col>MAPE</th><th scope=col>MASE</th><th scope=col>ACF1</th><th scope=col>Theil's U</th></tr></thead>\n",
       "<tbody>\n",
       "\t<tr><th scope=row>Training set</th><td>  2.022322</td><td>23.76371  </td><td>17.61132  </td><td> 0.0889481</td><td>7.552774  </td><td>0.6544255 </td><td>0.01031651</td><td>       NA </td></tr>\n",
       "\t<tr><th scope=row>Test set</th><td>-11.942568</td><td>26.37736  </td><td>22.57345  </td><td>-4.4423405</td><td>7.551316  </td><td>0.8388151 </td><td>0.09975748</td><td>0.7933364 </td></tr>\n",
       "</tbody>\n",
       "</table>\n"
      ],
      "text/latex": [
       "\\begin{tabular}{r|llllllll}\n",
       "  & ME & RMSE & MAE & MPE & MAPE & MASE & ACF1 & Theil's U\\\\\n",
       "\\hline\n",
       "\tTraining set &   2.022322 & 23.76371   & 17.61132   &  0.0889481 & 7.552774   & 0.6544255  & 0.01031651 &        NA \\\\\n",
       "\tTest set & -11.942568 & 26.37736   & 22.57345   & -4.4423405 & 7.551316   & 0.8388151  & 0.09975748 & 0.7933364 \\\\\n",
       "\\end{tabular}\n"
      ],
      "text/markdown": [
       "\n",
       "| <!--/--> | ME | RMSE | MAE | MPE | MAPE | MASE | ACF1 | Theil's U | \n",
       "|---|---|\n",
       "| Training set |   2.022322 | 23.76371   | 17.61132   |  0.0889481 | 7.552774   | 0.6544255  | 0.01031651 |        NA  | \n",
       "| Test set | -11.942568 | 26.37736   | 22.57345   | -4.4423405 | 7.551316   | 0.8388151  | 0.09975748 | 0.7933364  | \n",
       "\n",
       "\n"
      ],
      "text/plain": [
       "             ME         RMSE     MAE      MPE        MAPE     MASE     \n",
       "Training set   2.022322 23.76371 17.61132  0.0889481 7.552774 0.6544255\n",
       "Test set     -11.942568 26.37736 22.57345 -4.4423405 7.551316 0.8388151\n",
       "             ACF1       Theil's U\n",
       "Training set 0.01031651        NA\n",
       "Test set     0.09975748 0.7933364"
      ]
     },
     "metadata": {},
     "output_type": "display_data"
    },
    {
     "data": {
      "image/png": "[encoded data removed]",
      "text/plain": [
       "Plot with title \"Forecasts from HoltWinters\""
      ]
     },
     "metadata": {},
     "output_type": "display_data"
    }
   ],
   "source": [
    "#Accuracy and plot\n",
    "accuracy(suicide_series_hw_future_forecasts, suicide_series_test)\n",
    "plot(suicide_series_hw_future_forecasts)\n",
    "#lines(suicide_1998_2017)\n",
    "lines(suicide_series_test)"
   ]
  },
  {
   "cell_type": "markdown",
   "metadata": {},
   "source": [
    "If we want to apply other models like Arima we have to have in mind that most of the time series models work on the assumption that the time series is stationary.  Also, the theories related to stationary series are more mature and easier to implement as compared to non-stationary series."
   ]
  },
  {
   "cell_type": "markdown",
   "metadata": {},
   "source": [
    "### 3.2. Stationarity Testing"
   ]
  },
  {
   "cell_type": "markdown",
   "metadata": {},
   "source": [
    "We can assume the series to be stationary if it has these following statistical properties over time:\n",
    "\n",
    "- Constant mean\n",
    "- Constant variance\n",
    "- An autocovariance that does not depend on time.\n",
    "\n",
    "To test these conditions we will use the following methods:\n",
    "- In the first one we'll see how their 'moving' statistics behave.\n",
    "- In the second one we are going to observe the summary statistics.\n",
    "- And in the last one we're going to use statistical tests."
   ]
  },
  {
   "cell_type": "markdown",
   "metadata": {},
   "source": [
    "#### 3.2.1. Moving statistics"
   ]
  },
  {
   "cell_type": "markdown",
   "metadata": {},
   "source": [
    "We can plot the moving average and see if it varies with time, this is a smoothing method. By moving average We mean that at any instant ‘t’, we’ll take the average of the last year (in our case). We are going to plot it against the original time series and take a look at it."
   ]
  },
  {
   "cell_type": "code",
   "execution_count": 510,
   "metadata": {},
   "outputs": [
    {
     "data": {},
     "metadata": {},
     "output_type": "display_data"
    },
    {
     "data": {
      "image/png": "[encoded data removed]",
      "text/plain": [
       "plot without title"
      ]
     },
     "metadata": {},
     "output_type": "display_data"
    }
   ],
   "source": [
    "moving_mean_vs_OG <- function (OriginalTimeSeries, ylabel){\n",
    "    MovingMean  <- SMA (OriginalTimeSeries, 12)\n",
    "    Moving_mean_vs_OG  <- cbind(OriginalTimeSeries, MovingMean)\n",
    "    options(repr.plot.width=8, repr.plot.height=3)\n",
    "    autoplot(Moving_mean_vs_OG, ylab = ylabel)}\n",
    "\n",
    "moving_mean_vs_OG(suicide_series_train, 'Number of Suicides')\n",
    "\n"
   ]
  },
  {
   "cell_type": "markdown",
   "metadata": {},
   "source": [
    "The data smoothed with a simple moving average of order 12 gives a clearer picture of the trend component, and\n",
    "we can see that **the number of suicides in Spain seems to have increased from about less than 200 cases to about almost 300\n",
    "cases during 2005, and and since then the number of suicides has not diminished much, in fact, it has grown to exceed 300 in 2013.**\n"
   ]
  },
  {
   "cell_type": "markdown",
   "metadata": {},
   "source": [
    "The mean is clearly non constant over time. It seems that the series is **non stationary** but we are going to keep checking."
   ]
  },
  {
   "cell_type": "markdown",
   "metadata": {},
   "source": [
    "#### 3.2.2. Summary Statistics"
   ]
  },
  {
   "cell_type": "markdown",
   "metadata": {},
   "source": [
    "We are going to split suicide time series into two partitions and compare the mean and variance of each group. If they differ and the difference is statistically significant, the time series is likely non-stationary."
   ]
  },
  {
   "cell_type": "code",
   "execution_count": 511,
   "metadata": {},
   "outputs": [
    {
     "name": "stdout",
     "output_type": "stream",
     "text": [
      "[1] \"Mean of the first partition = 207.833333333333\"\n",
      "[1] \"Mean of the second partition = 282.340206185567\"\n",
      "[1] \"Variance of the first partition = 1626.47719298246\"\n",
      "[1] \"Variance of the second partition = 1170.24763745704\"\n"
     ]
    }
   ],
   "source": [
    "Stationarity_descriptive_test <- function (timeseries){\n",
    "    split  <-  length(timeseries) / 2\n",
    "    X1 <-  timeseries[0:split]\n",
    "    X2  <- timeseries[split: length(timeseries)]\n",
    "    print (paste('Mean of the first partition =', mean(X1)))\n",
    "    print (paste('Mean of the second partition =', mean(X2)))\n",
    "    print (paste('Variance of the first partition =', var(X1)))\n",
    "    print (paste('Variance of the second partition =', var(X2)))}\n",
    "\n",
    "Stationarity_descriptive_test (suicide_series_train)"
   ]
  },
  {
   "cell_type": "markdown",
   "metadata": {},
   "source": [
    "Running the code above, we can see the mean and variance look very different over time. It seems that we have a **non-stationary** time series."
   ]
  },
  {
   "cell_type": "markdown",
   "metadata": {},
   "source": [
    "#### 3.2.3. Statistical Tests"
   ]
  },
  {
   "cell_type": "markdown",
   "metadata": {},
   "source": [
    "The ADF test has an alternate hypothesis of linear or difference stationary, while the KPSS test identifies trend-stationarity in a series.\n",
    "\n",
    "ADF:\n",
    "- Null Hypothesis (H0): If failed to be rejected, it suggests the time series has a unit root, meaning it is non-stationary. It has some time dependent structure. Alternate Hypothesis (H1): The null hypothesis is rejected; it suggests the time series does not have a unit root, meaning it is stationary. It does not have time-dependent structure.\n",
    "\n",
    "KPSS"
   ]
  },
  {
   "cell_type": "code",
   "execution_count": 512,
   "metadata": {},
   "outputs": [
    {
     "name": "stderr",
     "output_type": "stream",
     "text": [
      "Warning message in adf.test(timeseries):\n",
      "\"p-value smaller than printed p-value\""
     ]
    },
    {
     "name": "stdout",
     "output_type": "stream",
     "text": [
      "\n",
      "\tAugmented Dickey-Fuller Test\n",
      "\n",
      "data:  timeseries\n",
      "Dickey-Fuller = -4.4033, Lag order = 5, p-value = 0.01\n",
      "alternative hypothesis: stationary\n",
      "\n"
     ]
    },
    {
     "name": "stderr",
     "output_type": "stream",
     "text": [
      "Warning message in kpss.test(timeseries):\n",
      "\"p-value smaller than printed p-value\""
     ]
    },
    {
     "name": "stdout",
     "output_type": "stream",
     "text": [
      "\n",
      "\tKPSS Test for Level Stationarity\n",
      "\n",
      "data:  timeseries\n",
      "KPSS Level = 2.558, Truncation lag parameter = 4, p-value = 0.01\n",
      "\n"
     ]
    }
   ],
   "source": [
    "Stationarity_statistical_tests <- function(timeseries){\n",
    "    print(adf.test (timeseries))\n",
    "    print(kpss.test (timeseries))}\n",
    "    \n",
    "Stationarity_statistical_tests(suicide_series_train)"
   ]
  },
  {
   "cell_type": "markdown",
   "metadata": {},
   "source": [
    "In the Dickey Fuller test the p-value is lower than 0.05 so it's stationary.\n",
    "\n",
    "However, in the Kpss test the p-value is lower than 0.05 so the null hypothesis of stationarity is rejected."
   ]
  },
  {
   "cell_type": "markdown",
   "metadata": {},
   "source": [
    "We aren't very sure about the stationarity of our series although it seems a non stationary one."
   ]
  },
  {
   "cell_type": "markdown",
   "metadata": {},
   "source": [
    "## 4. Forecasting with ARIMA"
   ]
  },
  {
   "cell_type": "markdown",
   "metadata": {},
   "source": [
    "ARIMA stands for AutoRegressive Integrated Moving Average. Automatic Regression (AR) is the term that refers to the delays of the differentiated series, Moving Average (MA) refers to the delays of the errors and the integration (I) is the number of differences used to make the series of times is stationary.\n",
    "\n",
    "As we said before, there are some necessary conditions for the ARIMA Model:\n",
    "\n",
    "- The data must be stationary, this means that the properties of the series do not depend on the moment in which they are captured. A series of white noise and series with cyclic behavior can also be considered as stationary series.\n",
    "\n",
    "- The data must be univariate, ARIMA works in a single variable. Automatic regression has to do with the regression of past values.\n"
   ]
  },
  {
   "cell_type": "markdown",
   "metadata": {},
   "source": [
    "The first thing we are going to do is eliminate the non-stationary part of our series. To facilitate the analysis here, we will also eliminate the seasonal part of the data. The seasonal part can be removed from the analysis and added later, or it can be treated in the ARIMA model itself."
   ]
  },
  {
   "cell_type": "markdown",
   "metadata": {},
   "source": [
    "### 4.1.  Conversion to Stationary"
   ]
  },
  {
   "cell_type": "markdown",
   "metadata": {},
   "source": [
    "This consists of modeling or estimating the trend and seasonality in the series and eliminating them from the series to obtain a stationary series. Then statistical forecasting techniques can be implemented in this series."
   ]
  },
  {
   "cell_type": "markdown",
   "metadata": {},
   "source": [
    "#### 4.1.1.  Smoothing\n",
    "\n",
    "First of all, we are going to reduce trend by applying Box Cox transformation."
   ]
  },
  {
   "cell_type": "code",
   "execution_count": 513,
   "metadata": {},
   "outputs": [
    {
     "data": {
      "image/png": "[encoded data removed]",
      "text/plain": [
       "Plot with title \"Suicide Series Box Cox\""
      ]
     },
     "metadata": {},
     "output_type": "display_data"
    }
   ],
   "source": [
    "suicide_series_BoxCox <- BoxCox(suicide_series_train, lambda = 0)\n",
    "\n",
    "options(repr.plot.width=8, repr.plot.height=3)\n",
    "plot(suicide_series_BoxCox, ylab = 'Suicide', main = 'Suicide Series Box Cox')"
   ]
  },
  {
   "cell_type": "markdown",
   "metadata": {},
   "source": [
    "#### 4.1.2. Differencing\n",
    "Transformations such as logarithms or Box Cox can help to stabilise the variance of a time series. Differencing can help stabilise the mean of a time series by removing changes in the level of a time series, and therefore eliminating (or reducing) trend and seasonality."
   ]
  },
  {
   "cell_type": "code",
   "execution_count": 514,
   "metadata": {},
   "outputs": [
    {
     "data": {
      "image/png": "[encoded data removed]",
      "text/plain": [
       "Plot with title \"Suicide Series after Differencing\""
      ]
     },
     "metadata": {},
     "output_type": "display_data"
    },
    {
     "data": {
      "image/png": "[encoded data removed]",
      "text/plain": [
       "Plot with title \"Suicide Series Box Cox transformated after Differencing\""
      ]
     },
     "metadata": {},
     "output_type": "display_data"
    }
   ],
   "source": [
    "suicide_series_diff <- diff(suicide_series_train)\n",
    "suicide_series_diff_BoxCox <- diff(suicide_series_BoxCox)\n",
    "\n",
    "options(repr.plot.width=8, repr.plot.height=3)\n",
    "plot(suicide_series_diff, ylab = 'Values', main = 'Suicide Series after Differencing')\n",
    "plot(suicide_series_diff_BoxCox, ylab = 'Values', main = 'Suicide Series Box Cox transformated after Differencing')"
   ]
  },
  {
   "cell_type": "markdown",
   "metadata": {},
   "source": [
    "The Box Cox transformated series looks better to me, we are going to choose it to keep working with."
   ]
  },
  {
   "cell_type": "markdown",
   "metadata": {},
   "source": [
    "Now we are going to test the resulting series **after the transformation.**\n",
    "We are going to use the sationarity tests that we did before."
   ]
  },
  {
   "cell_type": "code",
   "execution_count": 515,
   "metadata": {},
   "outputs": [
    {
     "data": {},
     "metadata": {},
     "output_type": "display_data"
    },
    {
     "data": {
      "image/png": "[encoded data removed]",
      "text/plain": [
       "plot without title"
      ]
     },
     "metadata": {},
     "output_type": "display_data"
    }
   ],
   "source": [
    "#Visual test with moving mean\n",
    "moving_mean_vs_OG(suicide_series_diff_BoxCox, 'Suicides')"
   ]
  },
  {
   "cell_type": "markdown",
   "metadata": {},
   "source": [
    "The mean keeps constant over time. Seems that now we have a stationary series."
   ]
  },
  {
   "cell_type": "code",
   "execution_count": 516,
   "metadata": {},
   "outputs": [
    {
     "name": "stdout",
     "output_type": "stream",
     "text": [
      "[1] \"Mean of the first partition = 0.00122908576584883\"\n",
      "[1] \"Mean of the second partition = 0.00123696617475356\"\n",
      "[1] \"Variance of the first partition = 0.0308838033766116\"\n",
      "[1] \"Variance of the second partition = 0.0143837443879929\"\n"
     ]
    }
   ],
   "source": [
    "#Numerical test contrasting mean and variance at different time points\n",
    "Stationarity_descriptive_test(suicide_series_diff_BoxCox)"
   ]
  },
  {
   "cell_type": "markdown",
   "metadata": {},
   "source": [
    "Both mean and variance don't change almost anything over time."
   ]
  },
  {
   "cell_type": "code",
   "execution_count": 517,
   "metadata": {},
   "outputs": [
    {
     "name": "stderr",
     "output_type": "stream",
     "text": [
      "Warning message in adf.test(timeseries):\n",
      "\"p-value smaller than printed p-value\""
     ]
    },
    {
     "name": "stdout",
     "output_type": "stream",
     "text": [
      "\n",
      "\tAugmented Dickey-Fuller Test\n",
      "\n",
      "data:  timeseries\n",
      "Dickey-Fuller = -7.767, Lag order = 5, p-value = 0.01\n",
      "alternative hypothesis: stationary\n",
      "\n"
     ]
    },
    {
     "name": "stderr",
     "output_type": "stream",
     "text": [
      "Warning message in kpss.test(timeseries):\n",
      "\"p-value greater than printed p-value\""
     ]
    },
    {
     "name": "stdout",
     "output_type": "stream",
     "text": [
      "\n",
      "\tKPSS Test for Level Stationarity\n",
      "\n",
      "data:  timeseries\n",
      "KPSS Level = 0.019277, Truncation lag parameter = 4, p-value = 0.1\n",
      "\n"
     ]
    }
   ],
   "source": [
    "#KPSS and ADF hypothesis tests for stationarity\n",
    "Stationarity_statistical_tests(suicide_series_diff_BoxCox)"
   ]
  },
  {
   "cell_type": "markdown",
   "metadata": {},
   "source": [
    "Our new time series passed the tests with 1 difference. We have a **stationary time series**"
   ]
  },
  {
   "cell_type": "markdown",
   "metadata": {},
   "source": [
    "Also we can use 'ndiffs' function to see the number of differences required for our time series to pass the stationarity statistical tests. We are going to check this out for the 'kpss', 'adf' and 'pp' tests."
   ]
  },
  {
   "cell_type": "code",
   "execution_count": 518,
   "metadata": {
    "scrolled": true
   },
   "outputs": [
    {
     "data": {
      "text/html": [
       "1"
      ],
      "text/latex": [
       "1"
      ],
      "text/markdown": [
       "1"
      ],
      "text/plain": [
       "[1] 1"
      ]
     },
     "metadata": {},
     "output_type": "display_data"
    }
   ],
   "source": [
    "ndiffs(suicide_series_train, test= 'kpss')"
   ]
  },
  {
   "cell_type": "code",
   "execution_count": 519,
   "metadata": {},
   "outputs": [
    {
     "data": {
      "text/html": [
       "1"
      ],
      "text/latex": [
       "1"
      ],
      "text/markdown": [
       "1"
      ],
      "text/plain": [
       "[1] 1"
      ]
     },
     "metadata": {},
     "output_type": "display_data"
    }
   ],
   "source": [
    "ndiffs(suicide_series_train, test= 'adf')"
   ]
  },
  {
   "cell_type": "code",
   "execution_count": 520,
   "metadata": {},
   "outputs": [
    {
     "data": {
      "text/html": [
       "0"
      ],
      "text/latex": [
       "0"
      ],
      "text/markdown": [
       "0"
      ],
      "text/plain": [
       "[1] 0"
      ]
     },
     "metadata": {},
     "output_type": "display_data"
    }
   ],
   "source": [
    "ndiffs(suicide_series_train, test='pp')"
   ]
  },
  {
   "cell_type": "markdown",
   "metadata": {},
   "source": [
    "##### *We can definitely assume that our time series needs a differentiation of order 1 to become stationary*"
   ]
  },
  {
   "cell_type": "markdown",
   "metadata": {},
   "source": [
    "We have converted the data into stationary but we have seen that there is a seasonal component in our time series.\n",
    "\n",
    "We are going to take a look at the seasonal component to see if one order differencing is enough to get rid of it:"
   ]
  },
  {
   "cell_type": "code",
   "execution_count": 521,
   "metadata": {},
   "outputs": [
    {
     "data": {
      "text/plain": [
       "              Jan          Feb          Mar          Apr          May\n",
       "1998              -0.005710004  0.176525928 -0.189598257  0.171724265\n",
       "1999  0.080264248 -0.007633069  0.175318017 -0.185159892  0.169387705\n",
       "2000  0.085565483 -0.009554451  0.174116543 -0.180710335  0.167067168\n",
       "2001  0.090886353 -0.014762500  0.173485422 -0.172303929  0.161896579\n",
       "2002  0.099314489 -0.019939237  0.172892254 -0.163852929  0.156773620\n",
       "2003  0.107775808 -0.027899549  0.167640801 -0.145130164  0.146877917\n",
       "2004  0.130273207 -0.035904560  0.162340317 -0.126460762  0.136941466\n",
       "2005  0.152810414 -0.045591427  0.157099507 -0.106147851  0.128986416\n",
       "2006  0.164675289 -0.055425652  0.151747195 -0.085910584  0.120997207\n",
       "2007  0.176714163 -0.068408093  0.159787342 -0.077342846  0.111020176\n",
       "2008  0.168640876 -0.081543605  0.167692295 -0.068892424  0.100940549\n",
       "2009  0.160607958 -0.086431854  0.170231692 -0.070156401  0.096495402\n",
       "2010  0.157764611 -0.091311437  0.172742082 -0.071487060  0.091947421\n",
       "2011  0.154660602 -0.093058590  0.173202717 -0.071978326  0.090285629\n",
       "2012  0.152676107 -0.094561133  0.173897255 -0.072246399  0.088821048\n",
       "2013  0.150688993 -0.095491242  0.174329421 -0.072465632  0.087677580\n",
       "              Jun          Jul          Aug          Sep          Oct\n",
       "1998  0.020369928 -0.088311602 -0.046780289  0.075788995 -0.206870084\n",
       "1999  0.022439892 -0.090498901 -0.044325222  0.073469241 -0.205254783\n",
       "2000  0.024530712 -0.092663402 -0.041845415  0.071175096 -0.203613006\n",
       "2001  0.028959731 -0.095769754 -0.038674213  0.068905728 -0.200873954\n",
       "2002  0.033439417 -0.098829687 -0.035460838  0.066675428 -0.198098939\n",
       "2003  0.044923366 -0.110122708 -0.023132453  0.057165220 -0.188918127\n",
       "2004  0.056379181 -0.121425762 -0.010795999  0.047675883 -0.179703645\n",
       "2005  0.047685842 -0.103989545 -0.011264715  0.021741487 -0.149047421\n",
       "2006  0.038999832 -0.086497974 -0.011630050 -0.004055421 -0.118219600\n",
       "2007  0.024005469 -0.062356033 -0.021800135 -0.013491009 -0.097216662\n",
       "2008  0.008923231 -0.038283182 -0.032020527 -0.022955720 -0.076221665\n",
       "2009  0.007505412 -0.030637639 -0.039220269 -0.020053776 -0.075070701\n",
       "2010  0.005948608 -0.023165202 -0.046627240 -0.017384686 -0.074178218\n",
       "2011  0.004742759 -0.020181369 -0.049226149 -0.016460248 -0.073414634\n",
       "2012  0.003708140 -0.017058022 -0.051717261 -0.015457694 -0.072602618\n",
       "2013  0.002777118 -0.014928138 -0.053307111 -0.014733706 -0.072365525\n",
       "              Nov          Dec\n",
       "1998 -0.026725508  0.040189853\n",
       "1999 -0.029379785  0.037093520\n",
       "2000 -0.032008730  0.034021373\n",
       "2001 -0.036108102  0.027316917\n",
       "2002 -0.040171576  0.020648293\n",
       "2003 -0.052359819  0.003472719\n",
       "2004 -0.064508924 -0.013658251\n",
       "2005 -0.075139500 -0.025114173\n",
       "2006 -0.085591537 -0.036384615\n",
       "2007 -0.093110882 -0.024942361\n",
       "2008 -0.100620524 -0.013472762\n",
       "2009 -0.101858879 -0.004038909\n",
       "2010 -0.103363671  0.005120553\n",
       "2011 -0.103501906  0.008133146\n",
       "2012 -0.103612426  0.011152740\n",
       "2013 -0.103559612  0.014055280"
      ]
     },
     "metadata": {},
     "output_type": "display_data"
    }
   ],
   "source": [
    "STL_suicide_diff_BoxCox_components <- mstl(suicide_series_diff_BoxCox)\n",
    "seasonal(STL_suicide_diff_BoxCox_components)"
   ]
  },
  {
   "cell_type": "markdown",
   "metadata": {},
   "source": [
    "First order differencing seems enough to get what we need. The values are close to zero and have clearly changed since the original series seasonal component."
   ]
  },
  {
   "cell_type": "markdown",
   "metadata": {},
   "source": [
    "### 4.2. Best ARIMA model"
   ]
  },
  {
   "cell_type": "markdown",
   "metadata": {},
   "source": [
    "We already have the data that meet the conditions Arima asks us for. With this data we would pass on to calculate the appropriate parameters (p, d, q and P, D, Q) to choose the model that best fits with the values of acf and pcf function applied to our transformated and differenced time series.\n",
    "\n",
    "However, we have chosen to use the 'auto.arima' function that facilitates our work choosing the best parameters.\n",
    "\n",
    "The 'auto.arima' function returns the best ARIMA model according to either AIC, AICc or BIC value. The function conducts a search over possible model within the order constraints provided."
   ]
  },
  {
   "cell_type": "markdown",
   "metadata": {},
   "source": [
    "#### 4.2.1. Estimating"
   ]
  },
  {
   "cell_type": "markdown",
   "metadata": {},
   "source": [
    "Throughout the analysis we have arrived at a series of conclusions that we are going to include in the model parameters:\n",
    "\n",
    "- We know that our original time series is non stationary.\n",
    "- We know that our original time series has a seasonal component.\n",
    "- Also, we know that we only need a differencing of first order to make the data stationary (d=1) and we don't need another differencing to deal with seasonality (D=0) so we will be more efficient and we will introduce the parameters d and D in the function."
   ]
  },
  {
   "cell_type": "code",
   "execution_count": 522,
   "metadata": {},
   "outputs": [
    {
     "name": "stdout",
     "output_type": "stream",
     "text": [
      "\n",
      " Fitting models using approximations to speed things up...\n",
      "\n",
      " ARIMA(2,1,2)(1,0,1)[12] with drift         : Inf\n",
      " ARIMA(0,1,0)            with drift         : -175.7923\n",
      " ARIMA(1,1,0)(1,0,0)[12] with drift         : -256.7385\n",
      " ARIMA(0,1,1)(0,0,1)[12] with drift         : -251.0288\n",
      " ARIMA(0,1,0)                               : -177.8177\n",
      " ARIMA(1,1,0)            with drift         : -214.9726\n",
      " ARIMA(1,1,0)(2,0,0)[12] with drift         : -269.5226\n",
      " ARIMA(1,1,0)(2,0,1)[12] with drift         : Inf\n",
      " ARIMA(0,1,0)(2,0,0)[12] with drift         : -227.1203\n",
      " ARIMA(2,1,0)(2,0,0)[12] with drift         : -283.742\n",
      " ARIMA(2,1,1)(2,0,0)[12] with drift         : -284.0654\n",
      " ARIMA(3,1,2)(2,0,0)[12] with drift         : -282.7405\n",
      " ARIMA(2,1,1)(2,0,0)[12]                    : -286.0115\n",
      " ARIMA(2,1,1)(1,0,0)[12]                    : -272.487\n",
      " ARIMA(2,1,1)(2,0,1)[12]                    : Inf\n",
      " ARIMA(1,1,1)(2,0,0)[12]                    : -279.9769\n",
      " ARIMA(3,1,1)(2,0,0)[12]                    : -286.1123\n",
      " ARIMA(3,1,0)(2,0,0)[12]                    : -283.4468\n",
      " ARIMA(3,1,2)(2,0,0)[12]                    : -284.83\n",
      " ARIMA(2,1,0)(2,0,0)[12]                    : -285.7503\n",
      " ARIMA(4,1,2)(2,0,0)[12]                    : -289.3532\n",
      " ARIMA(4,1,2)(2,0,0)[12] with drift         : -287.3951\n",
      " ARIMA(4,1,2)(1,0,0)[12]                    : -271.0752\n",
      " ARIMA(4,1,2)(2,0,1)[12]                    : Inf\n",
      " ARIMA(5,1,2)(2,0,0)[12]                    : -283.4129\n",
      " ARIMA(4,1,1)(2,0,0)[12]                    : -284.9781\n",
      " ARIMA(4,1,3)(2,0,0)[12]                    : -287.1538\n",
      " ARIMA(5,1,3)(2,0,0)[12]                    : Inf\n",
      "\n",
      " Now re-fitting the best model(s) without approximations...\n",
      "\n",
      " ARIMA(4,1,2)(2,0,0)[12]                    : -286.0354\n",
      "\n",
      " Best model: ARIMA(4,1,2)(2,0,0)[12]                    \n",
      "\n"
     ]
    }
   ],
   "source": [
    "suicide_series_best_arima <- auto.arima(suicide_series_train, d = 1, D = 0, trace = TRUE, stationary = FALSE, seasonal = TRUE, lambda = 0)"
   ]
  },
  {
   "cell_type": "markdown",
   "metadata": {},
   "source": [
    "The arima model that best fits is this: ARIMA(4,1,2)(2,0,0)[12] with drift.\n",
    "\n",
    "To check if it is valid we will observe how its residuals behave as we did in the Holt-Winters model."
   ]
  },
  {
   "cell_type": "code",
   "execution_count": 523,
   "metadata": {},
   "outputs": [
    {
     "data": {
      "image/png": "[encoded data removed]",
      "text/plain": [
       "Plot with title \"Arima Residuals\""
      ]
     },
     "metadata": {},
     "output_type": "display_data"
    },
    {
     "data": {
      "image/png": "[encoded data removed]",
      "text/plain": [
       "Plot with title \"Ljung-Box Q Test\""
      ]
     },
     "metadata": {},
     "output_type": "display_data"
    }
   ],
   "source": [
    "suicide_series_best_arima_residuals  <-  residuals(suicide_series_best_arima)\n",
    "#Autocorrelation\n",
    "acf(suicide_series_best_arima_residuals, main = 'Arima Residuals', lag.max = 140)\n",
    "box_test_suicide_series_best_arima <- LjungBoxTest (suicide_series_best_arima_residuals)\n",
    "plot(box_test_suicide_series_best_arima[,3],main= \"Ljung-Box Q Test\", ylab= \"P-values\", xlab= \"Lag\")"
   ]
  },
  {
   "cell_type": "code",
   "execution_count": 524,
   "metadata": {},
   "outputs": [
    {
     "data": {
      "text/html": [
       "<table>\n",
       "<thead><tr><th></th><th scope=col>m</th><th scope=col>Qm</th><th scope=col>pvalue</th></tr></thead>\n",
       "<tbody>\n",
       "\t<tr><th scope=row></th><td> 1       </td><td> 0.03    </td><td>0.8732711</td></tr>\n",
       "\t<tr><th scope=row></th><td> 2       </td><td> 0.04    </td><td>0.9808435</td></tr>\n",
       "\t<tr><th scope=row></th><td> 3       </td><td> 0.08    </td><td>0.9946302</td></tr>\n",
       "\t<tr><th scope=row></th><td> 4       </td><td> 0.59    </td><td>0.9641393</td></tr>\n",
       "\t<tr><th scope=row></th><td> 5       </td><td> 1.84    </td><td>0.8709012</td></tr>\n",
       "\t<tr><th scope=row></th><td> 6       </td><td> 2.24    </td><td>0.8966763</td></tr>\n",
       "\t<tr><th scope=row></th><td> 7       </td><td> 3.34    </td><td>0.8523778</td></tr>\n",
       "\t<tr><th scope=row></th><td> 8       </td><td> 3.71    </td><td>0.8821051</td></tr>\n",
       "\t<tr><th scope=row></th><td> 9       </td><td> 3.74    </td><td>0.9274603</td></tr>\n",
       "\t<tr><th scope=row></th><td>10       </td><td> 4.44    </td><td>0.9254703</td></tr>\n",
       "\t<tr><th scope=row></th><td>11       </td><td> 5.36    </td><td>0.9123358</td></tr>\n",
       "\t<tr><th scope=row></th><td>12       </td><td> 6.42    </td><td>0.8931806</td></tr>\n",
       "\t<tr><th scope=row></th><td>13       </td><td>12.04    </td><td>0.5239969</td></tr>\n",
       "\t<tr><th scope=row></th><td>14       </td><td>13.01    </td><td>0.5258340</td></tr>\n",
       "\t<tr><th scope=row></th><td>15       </td><td>13.01    </td><td>0.6014302</td></tr>\n",
       "\t<tr><th scope=row></th><td>16       </td><td>13.67    </td><td>0.6229463</td></tr>\n",
       "\t<tr><th scope=row></th><td>17       </td><td>13.72    </td><td>0.6870673</td></tr>\n",
       "\t<tr><th scope=row></th><td>18       </td><td>13.83    </td><td>0.7402454</td></tr>\n",
       "\t<tr><th scope=row></th><td>19       </td><td>15.11    </td><td>0.7156893</td></tr>\n",
       "\t<tr><th scope=row></th><td>20       </td><td>16.22    </td><td>0.7028948</td></tr>\n",
       "\t<tr><th scope=row></th><td>21       </td><td>17.58    </td><td>0.6756549</td></tr>\n",
       "\t<tr><th scope=row></th><td>22       </td><td>18.78    </td><td>0.6586803</td></tr>\n",
       "\t<tr><th scope=row></th><td>23       </td><td>20.79    </td><td>0.5939261</td></tr>\n",
       "\t<tr><th scope=row></th><td>24       </td><td>22.99    </td><td>0.5202426</td></tr>\n",
       "\t<tr><th scope=row></th><td>25       </td><td>22.99    </td><td>0.5779190</td></tr>\n",
       "\t<tr><th scope=row></th><td>26       </td><td>23.31    </td><td>0.6156132</td></tr>\n",
       "\t<tr><th scope=row></th><td>27       </td><td>23.67    </td><td>0.6483786</td></tr>\n",
       "\t<tr><th scope=row></th><td>28       </td><td>26.26    </td><td>0.5584843</td></tr>\n",
       "\t<tr><th scope=row></th><td>29       </td><td>28.88    </td><td>0.4715494</td></tr>\n",
       "\t<tr><th scope=row></th><td>30       </td><td>28.88    </td><td>0.5240859</td></tr>\n",
       "</tbody>\n",
       "</table>\n"
      ],
      "text/latex": [
       "\\begin{tabular}{r|lll}\n",
       "  & m & Qm & pvalue\\\\\n",
       "\\hline\n",
       "\t &  1        &  0.03     & 0.8732711\\\\\n",
       "\t &  2        &  0.04     & 0.9808435\\\\\n",
       "\t &  3        &  0.08     & 0.9946302\\\\\n",
       "\t &  4        &  0.59     & 0.9641393\\\\\n",
       "\t &  5        &  1.84     & 0.8709012\\\\\n",
       "\t &  6        &  2.24     & 0.8966763\\\\\n",
       "\t &  7        &  3.34     & 0.8523778\\\\\n",
       "\t &  8        &  3.71     & 0.8821051\\\\\n",
       "\t &  9        &  3.74     & 0.9274603\\\\\n",
       "\t & 10        &  4.44     & 0.9254703\\\\\n",
       "\t & 11        &  5.36     & 0.9123358\\\\\n",
       "\t & 12        &  6.42     & 0.8931806\\\\\n",
       "\t & 13        & 12.04     & 0.5239969\\\\\n",
       "\t & 14        & 13.01     & 0.5258340\\\\\n",
       "\t & 15        & 13.01     & 0.6014302\\\\\n",
       "\t & 16        & 13.67     & 0.6229463\\\\\n",
       "\t & 17        & 13.72     & 0.6870673\\\\\n",
       "\t & 18        & 13.83     & 0.7402454\\\\\n",
       "\t & 19        & 15.11     & 0.7156893\\\\\n",
       "\t & 20        & 16.22     & 0.7028948\\\\\n",
       "\t & 21        & 17.58     & 0.6756549\\\\\n",
       "\t & 22        & 18.78     & 0.6586803\\\\\n",
       "\t & 23        & 20.79     & 0.5939261\\\\\n",
       "\t & 24        & 22.99     & 0.5202426\\\\\n",
       "\t & 25        & 22.99     & 0.5779190\\\\\n",
       "\t & 26        & 23.31     & 0.6156132\\\\\n",
       "\t & 27        & 23.67     & 0.6483786\\\\\n",
       "\t & 28        & 26.26     & 0.5584843\\\\\n",
       "\t & 29        & 28.88     & 0.4715494\\\\\n",
       "\t & 30        & 28.88     & 0.5240859\\\\\n",
       "\\end{tabular}\n"
      ],
      "text/markdown": [
       "\n",
       "| <!--/--> | m | Qm | pvalue | \n",
       "|---|---|---|---|---|---|---|---|---|---|---|---|---|---|---|---|---|---|---|---|---|---|---|---|---|---|---|---|---|---|\n",
       "|  |  1        |  0.03     | 0.8732711 | \n",
       "|  |  2        |  0.04     | 0.9808435 | \n",
       "|  |  3        |  0.08     | 0.9946302 | \n",
       "|  |  4        |  0.59     | 0.9641393 | \n",
       "|  |  5        |  1.84     | 0.8709012 | \n",
       "|  |  6        |  2.24     | 0.8966763 | \n",
       "|  |  7        |  3.34     | 0.8523778 | \n",
       "|  |  8        |  3.71     | 0.8821051 | \n",
       "|  |  9        |  3.74     | 0.9274603 | \n",
       "|  | 10        |  4.44     | 0.9254703 | \n",
       "|  | 11        |  5.36     | 0.9123358 | \n",
       "|  | 12        |  6.42     | 0.8931806 | \n",
       "|  | 13        | 12.04     | 0.5239969 | \n",
       "|  | 14        | 13.01     | 0.5258340 | \n",
       "|  | 15        | 13.01     | 0.6014302 | \n",
       "|  | 16        | 13.67     | 0.6229463 | \n",
       "|  | 17        | 13.72     | 0.6870673 | \n",
       "|  | 18        | 13.83     | 0.7402454 | \n",
       "|  | 19        | 15.11     | 0.7156893 | \n",
       "|  | 20        | 16.22     | 0.7028948 | \n",
       "|  | 21        | 17.58     | 0.6756549 | \n",
       "|  | 22        | 18.78     | 0.6586803 | \n",
       "|  | 23        | 20.79     | 0.5939261 | \n",
       "|  | 24        | 22.99     | 0.5202426 | \n",
       "|  | 25        | 22.99     | 0.5779190 | \n",
       "|  | 26        | 23.31     | 0.6156132 | \n",
       "|  | 27        | 23.67     | 0.6483786 | \n",
       "|  | 28        | 26.26     | 0.5584843 | \n",
       "|  | 29        | 28.88     | 0.4715494 | \n",
       "|  | 30        | 28.88     | 0.5240859 | \n",
       "\n",
       "\n"
      ],
      "text/plain": [
       " m  Qm    pvalue   \n",
       "  1  0.03 0.8732711\n",
       "  2  0.04 0.9808435\n",
       "  3  0.08 0.9946302\n",
       "  4  0.59 0.9641393\n",
       "  5  1.84 0.8709012\n",
       "  6  2.24 0.8966763\n",
       "  7  3.34 0.8523778\n",
       "  8  3.71 0.8821051\n",
       "  9  3.74 0.9274603\n",
       " 10  4.44 0.9254703\n",
       " 11  5.36 0.9123358\n",
       " 12  6.42 0.8931806\n",
       " 13 12.04 0.5239969\n",
       " 14 13.01 0.5258340\n",
       " 15 13.01 0.6014302\n",
       " 16 13.67 0.6229463\n",
       " 17 13.72 0.6870673\n",
       " 18 13.83 0.7402454\n",
       " 19 15.11 0.7156893\n",
       " 20 16.22 0.7028948\n",
       " 21 17.58 0.6756549\n",
       " 22 18.78 0.6586803\n",
       " 23 20.79 0.5939261\n",
       " 24 22.99 0.5202426\n",
       " 25 22.99 0.5779190\n",
       " 26 23.31 0.6156132\n",
       " 27 23.67 0.6483786\n",
       " 28 26.26 0.5584843\n",
       " 29 28.88 0.4715494\n",
       " 30 28.88 0.5240859"
      ]
     },
     "metadata": {},
     "output_type": "display_data"
    }
   ],
   "source": [
    "box_test_suicide_series_best_arima"
   ]
  },
  {
   "cell_type": "markdown",
   "metadata": {},
   "source": [
    "*The ACF of the residuals shows non-significant autocorrelations.*\n",
    "*Also, all the values of p for the Ljung-Box Q test are above 0.05, which indicates that the data is not dependent.*"
   ]
  },
  {
   "cell_type": "code",
   "execution_count": 525,
   "metadata": {},
   "outputs": [
    {
     "data": {
      "image/png": "[encoded data removed]",
      "text/plain": [
       "Plot with title \"Normal Q-Q Plot\""
      ]
     },
     "metadata": {},
     "output_type": "display_data"
    },
    {
     "data": {
      "image/png": "[encoded data removed]",
      "text/plain": [
       "Plot with title \"Histogram of residuals\""
      ]
     },
     "metadata": {},
     "output_type": "display_data"
    }
   ],
   "source": [
    "#Normal Q-Q plot\n",
    "qqnorm(suicide_series_best_arima_residuals)\n",
    "qqline(suicide_series_best_arima_residuals)\n",
    "\n",
    "#Histogram\n",
    "hist(suicide_series_best_arima_residuals, prob = T, col=\"6\", main = 'Histogram of residuals', xlab = 'Residuals')\n",
    "lines(density (na.omit(suicide_series_best_arima_residuals)), col=\"4\")"
   ]
  },
  {
   "cell_type": "markdown",
   "metadata": {},
   "source": [
    "*The values are normal since they rest on a line and aren't everywhere.*"
   ]
  },
  {
   "cell_type": "markdown",
   "metadata": {},
   "source": [
    "As the graphs support the assumption that there is no pattern in the residuals, we can go ahead and calculate the forecast."
   ]
  },
  {
   "cell_type": "markdown",
   "metadata": {},
   "source": [
    "#### 4.2.2.  Forecasting"
   ]
  },
  {
   "cell_type": "markdown",
   "metadata": {},
   "source": [
    "The following is the plot of the next two years forectasts (blue line). The shadowed blue is the 80% of confidence and the shadowed grey is the 95%."
   ]
  },
  {
   "cell_type": "code",
   "execution_count": 526,
   "metadata": {},
   "outputs": [
    {
     "data": {
      "image/png": "[encoded data removed]",
      "text/plain": [
       "Plot with title \"Suicide Forecasts from ARIMA\""
      ]
     },
     "metadata": {},
     "output_type": "display_data"
    }
   ],
   "source": [
    "options(repr.plot.width=8, repr.plot.height=4)\n",
    "suicide_series_best_arima_forecast <- forecast(suicide_series_best_arima, h = 48)\n",
    "plot(suicide_series_best_arima_forecast, main= 'Suicide Forecasts from ARIMA')"
   ]
  },
  {
   "cell_type": "code",
   "execution_count": 527,
   "metadata": {},
   "outputs": [
    {
     "data": {
      "text/plain": [
       "         Point Forecast    Lo 80    Hi 80    Lo 95    Hi 95\n",
       "Jan 2014       315.3111 273.9026 362.9796 254.2313 391.0654\n",
       "Feb 2014       296.6094 255.2995 344.6036 235.8141 373.0785\n",
       "Mar 2014       336.8512 286.9657 395.4087 263.6220 430.4221\n",
       "Apr 2014       329.2213 276.5247 391.9601 252.1344 429.8764\n",
       "May 2014       342.2605 286.0146 409.5673 260.0843 450.4010\n",
       "Jun 2014       346.8664 288.5884 416.9133 261.8129 459.5508\n",
       "Jul 2014       348.1607 288.4545 420.2254 261.1119 464.2298\n",
       "Aug 2014       322.6810 266.3977 390.8556 240.6935 432.5960\n",
       "Sep 2014       323.7929 266.1091 393.9805 239.8577 437.1001\n",
       "Oct 2014       299.8351 244.9772 366.9774 220.1253 408.4087\n",
       "Nov 2014       280.7847 227.7631 346.1492 203.8774 386.7031\n",
       "Dec 2014       298.1849 239.8208 370.7527 213.7024 416.0656\n",
       "Jan 2015       319.8768 251.3646 407.0626 221.2538 462.4605\n",
       "Feb 2015       305.9616 237.4466 394.2467 207.6261 450.8708\n",
       "Mar 2015       337.0462 258.5400 439.3908 224.6803 505.6079\n",
       "Apr 2015       331.3375 251.3928 436.7053 217.2061 505.4394\n",
       "May 2015       340.1778 256.1806 451.7161 220.4700 524.8828\n",
       "Jun 2015       348.4732 260.8140 465.5945 223.7257 542.7786\n",
       "Jul 2015       346.5372 257.9637 465.5230 220.6471 544.2539\n",
       "Aug 2015       325.9701 241.4440 440.0877 205.9715 515.8796\n",
       "Sep 2015       331.3841 244.1358 449.8128 207.6750 528.7849\n",
       "Oct 2015       311.7753 228.2789 425.8118 193.5540 502.2055\n",
       "Nov 2015       294.0507 213.7752 404.4707 180.5754 478.8351\n",
       "Dec 2015       304.6997 219.7396 422.5088 184.8236 502.3274\n",
       "Jan 2016       317.8435 224.5495 449.8986 186.8227 540.7505\n",
       "Feb 2016       311.1141 217.1561 445.7255 179.5198 539.1717\n",
       "Mar 2016       330.9902 228.3198 479.8291 187.5736 584.0614\n",
       "Apr 2016       330.0820 225.0618 484.1076 183.7627 592.9068\n",
       "May 2016       337.3336 228.0260 499.0394 185.3327 613.9983\n",
       "Jun 2016       341.7221 229.2588 509.3544 185.5930 629.1939\n",
       "Jul 2016       341.5191 227.5691 512.5268 183.5629 635.3968\n",
       "Aug 2016       329.2432 218.0149 497.2188 175.2722 618.4730\n",
       "Sep 2016       329.4950 216.7669 500.8465 173.6698 625.1343\n",
       "Oct 2016       316.7803 206.9352 484.9331 165.1740 607.5395\n",
       "Nov 2016       305.7155 198.1579 471.6539 157.5173 593.3440\n",
       "Dec 2016       311.9705 200.4901 485.4383 158.6512 613.4562\n",
       "Jan 2017       320.3676 203.1035 505.3355 159.5655 643.2182\n",
       "Feb 2017       315.7858 198.0775 503.4426 154.7418 644.4325\n",
       "Mar 2017       329.2609 204.3805 530.4456 158.7841 682.7683\n",
       "Apr 2017       329.0335 202.1791 535.4811 156.2330 692.9590\n",
       "May 2017       334.1938 203.6013 548.5499 156.6214 713.0921\n",
       "Jun 2017       338.0812 204.3870 559.2277 156.5852 729.9471\n",
       "Jul 2017       337.9710 202.8757 563.0265 154.8445 737.6714\n",
       "Aug 2017       329.8380 196.6769 553.1565 149.5840 727.3043\n",
       "Sep 2017       330.4624 195.7343 557.9267 148.3404 736.1810\n",
       "Oct 2017       321.5832 189.1515 546.7351 142.8233 724.0818\n",
       "Nov 2017       313.4257 182.9940 536.8247 137.6336 713.7476\n",
       "Dec 2017       316.9944 183.6246 547.2331 137.5329 730.6284"
      ]
     },
     "metadata": {},
     "output_type": "display_data"
    }
   ],
   "source": [
    "suicide_series_best_arima_forecast"
   ]
  },
  {
   "cell_type": "markdown",
   "metadata": {},
   "source": [
    "- Evaluating the forecasts"
   ]
  },
  {
   "cell_type": "code",
   "execution_count": 528,
   "metadata": {},
   "outputs": [
    {
     "data": {
      "text/html": [
       "<table>\n",
       "<thead><tr><th></th><th scope=col>ME</th><th scope=col>RMSE</th><th scope=col>MAE</th><th scope=col>MPE</th><th scope=col>MAPE</th><th scope=col>MASE</th><th scope=col>ACF1</th><th scope=col>Theil's U</th></tr></thead>\n",
       "<tbody>\n",
       "\t<tr><th scope=row>Training set</th><td>  1.476404 </td><td>24.66054   </td><td>19.33544   </td><td>-0.2741215 </td><td>8.324654   </td><td>0.7184928  </td><td>0.005345451</td><td>       NA  </td></tr>\n",
       "\t<tr><th scope=row>Test set</th><td>-16.638663 </td><td>30.16646   </td><td>25.66083   </td><td>-6.2342488 </td><td>8.824320   </td><td>0.9535404  </td><td>0.228991819</td><td>0.9258698  </td></tr>\n",
       "</tbody>\n",
       "</table>\n"
      ],
      "text/latex": [
       "\\begin{tabular}{r|llllllll}\n",
       "  & ME & RMSE & MAE & MPE & MAPE & MASE & ACF1 & Theil's U\\\\\n",
       "\\hline\n",
       "\tTraining set &   1.476404  & 24.66054    & 19.33544    & -0.2741215  & 8.324654    & 0.7184928   & 0.005345451 &        NA  \\\\\n",
       "\tTest set & -16.638663  & 30.16646    & 25.66083    & -6.2342488  & 8.824320    & 0.9535404   & 0.228991819 & 0.9258698  \\\\\n",
       "\\end{tabular}\n"
      ],
      "text/markdown": [
       "\n",
       "| <!--/--> | ME | RMSE | MAE | MPE | MAPE | MASE | ACF1 | Theil's U | \n",
       "|---|---|\n",
       "| Training set |   1.476404  | 24.66054    | 19.33544    | -0.2741215  | 8.324654    | 0.7184928   | 0.005345451 |        NA   | \n",
       "| Test set | -16.638663  | 30.16646    | 25.66083    | -6.2342488  | 8.824320    | 0.9535404   | 0.228991819 | 0.9258698   | \n",
       "\n",
       "\n"
      ],
      "text/plain": [
       "             ME         RMSE     MAE      MPE        MAPE     MASE     \n",
       "Training set   1.476404 24.66054 19.33544 -0.2741215 8.324654 0.7184928\n",
       "Test set     -16.638663 30.16646 25.66083 -6.2342488 8.824320 0.9535404\n",
       "             ACF1        Theil's U\n",
       "Training set 0.005345451        NA\n",
       "Test set     0.228991819 0.9258698"
      ]
     },
     "metadata": {},
     "output_type": "display_data"
    },
    {
     "data": {
      "image/png": "[encoded data removed]",
      "text/plain": [
       "Plot with title \"Forecasts from ARIMA(4,1,2)(2,0,0)[12]\""
      ]
     },
     "metadata": {},
     "output_type": "display_data"
    }
   ],
   "source": [
    "#Accuracy and plot\n",
    "accuracy(suicide_series_best_arima_forecast, suicide_series_test)\n",
    "plot(suicide_series_best_arima_forecast)\n",
    "lines(suicide_1998_2017)"
   ]
  },
  {
   "cell_type": "markdown",
   "metadata": {},
   "source": [
    "#### *Comparison of predictive models carried out throughout the project on suicide in Spain.*"
   ]
  },
  {
   "cell_type": "code",
   "execution_count": 529,
   "metadata": {},
   "outputs": [
    {
     "data": {
      "text/html": [
       "<table>\n",
       "<thead><tr><th></th><th scope=col>ME</th><th scope=col>RMSE</th><th scope=col>MAE</th><th scope=col>MPE</th><th scope=col>MAPE</th><th scope=col>MASE</th><th scope=col>ACF1</th><th scope=col>Theil's U</th></tr></thead>\n",
       "<tbody>\n",
       "\t<tr><th scope=row>Training set</th><td> 1.024471  </td><td>19.89423   </td><td>15.27388   </td><td>-0.2002356 </td><td>6.621737   </td><td>0.5675677  </td><td>-0.01144965</td><td>       NA  </td></tr>\n",
       "\t<tr><th scope=row>Test set</th><td>-8.864959  </td><td>24.00003   </td><td>20.82885   </td><td>-3.4205697 </td><td>6.943263   </td><td>0.7739871  </td><td> 0.05833164</td><td>0.7228049  </td></tr>\n",
       "</tbody>\n",
       "</table>\n"
      ],
      "text/latex": [
       "\\begin{tabular}{r|llllllll}\n",
       "  & ME & RMSE & MAE & MPE & MAPE & MASE & ACF1 & Theil's U\\\\\n",
       "\\hline\n",
       "\tTraining set &  1.024471   & 19.89423    & 15.27388    & -0.2002356  & 6.621737    & 0.5675677   & -0.01144965 &        NA  \\\\\n",
       "\tTest set & -8.864959   & 24.00003    & 20.82885    & -3.4205697  & 6.943263    & 0.7739871   &  0.05833164 & 0.7228049  \\\\\n",
       "\\end{tabular}\n"
      ],
      "text/markdown": [
       "\n",
       "| <!--/--> | ME | RMSE | MAE | MPE | MAPE | MASE | ACF1 | Theil's U | \n",
       "|---|---|\n",
       "| Training set |  1.024471   | 19.89423    | 15.27388    | -0.2002356  | 6.621737    | 0.5675677   | -0.01144965 |        NA   | \n",
       "| Test set | -8.864959   | 24.00003    | 20.82885    | -3.4205697  | 6.943263    | 0.7739871   |  0.05833164 | 0.7228049   | \n",
       "\n",
       "\n"
      ],
      "text/plain": [
       "             ME        RMSE     MAE      MPE        MAPE     MASE     \n",
       "Training set  1.024471 19.89423 15.27388 -0.2002356 6.621737 0.5675677\n",
       "Test set     -8.864959 24.00003 20.82885 -3.4205697 6.943263 0.7739871\n",
       "             ACF1        Theil's U\n",
       "Training set -0.01144965        NA\n",
       "Test set      0.05833164 0.7228049"
      ]
     },
     "metadata": {},
     "output_type": "display_data"
    },
    {
     "data": {
      "text/html": [
       "<table>\n",
       "<thead><tr><th></th><th scope=col>ME</th><th scope=col>RMSE</th><th scope=col>MAE</th><th scope=col>MPE</th><th scope=col>MAPE</th><th scope=col>MASE</th><th scope=col>ACF1</th><th scope=col>Theil's U</th></tr></thead>\n",
       "<tbody>\n",
       "\t<tr><th scope=row>Training set</th><td>  2.022322</td><td>23.76371  </td><td>17.61132  </td><td> 0.0889481</td><td>7.552774  </td><td>0.6544255 </td><td>0.01031651</td><td>       NA </td></tr>\n",
       "\t<tr><th scope=row>Test set</th><td>-11.942568</td><td>26.37736  </td><td>22.57345  </td><td>-4.4423405</td><td>7.551316  </td><td>0.8388151 </td><td>0.09975748</td><td>0.7933364 </td></tr>\n",
       "</tbody>\n",
       "</table>\n"
      ],
      "text/latex": [
       "\\begin{tabular}{r|llllllll}\n",
       "  & ME & RMSE & MAE & MPE & MAPE & MASE & ACF1 & Theil's U\\\\\n",
       "\\hline\n",
       "\tTraining set &   2.022322 & 23.76371   & 17.61132   &  0.0889481 & 7.552774   & 0.6544255  & 0.01031651 &        NA \\\\\n",
       "\tTest set & -11.942568 & 26.37736   & 22.57345   & -4.4423405 & 7.551316   & 0.8388151  & 0.09975748 & 0.7933364 \\\\\n",
       "\\end{tabular}\n"
      ],
      "text/markdown": [
       "\n",
       "| <!--/--> | ME | RMSE | MAE | MPE | MAPE | MASE | ACF1 | Theil's U | \n",
       "|---|---|\n",
       "| Training set |   2.022322 | 23.76371   | 17.61132   |  0.0889481 | 7.552774   | 0.6544255  | 0.01031651 |        NA  | \n",
       "| Test set | -11.942568 | 26.37736   | 22.57345   | -4.4423405 | 7.551316   | 0.8388151  | 0.09975748 | 0.7933364  | \n",
       "\n",
       "\n"
      ],
      "text/plain": [
       "             ME         RMSE     MAE      MPE        MAPE     MASE     \n",
       "Training set   2.022322 23.76371 17.61132  0.0889481 7.552774 0.6544255\n",
       "Test set     -11.942568 26.37736 22.57345 -4.4423405 7.551316 0.8388151\n",
       "             ACF1       Theil's U\n",
       "Training set 0.01031651        NA\n",
       "Test set     0.09975748 0.7933364"
      ]
     },
     "metadata": {},
     "output_type": "display_data"
    },
    {
     "data": {
      "text/html": [
       "<table>\n",
       "<thead><tr><th></th><th scope=col>ME</th><th scope=col>RMSE</th><th scope=col>MAE</th><th scope=col>MPE</th><th scope=col>MAPE</th><th scope=col>MASE</th><th scope=col>ACF1</th><th scope=col>Theil's U</th></tr></thead>\n",
       "<tbody>\n",
       "\t<tr><th scope=row>Training set</th><td>  1.476404 </td><td>24.66054   </td><td>19.33544   </td><td>-0.2741215 </td><td>8.324654   </td><td>0.7184928  </td><td>0.005345451</td><td>       NA  </td></tr>\n",
       "\t<tr><th scope=row>Test set</th><td>-16.638663 </td><td>30.16646   </td><td>25.66083   </td><td>-6.2342488 </td><td>8.824320   </td><td>0.9535404  </td><td>0.228991819</td><td>0.9258698  </td></tr>\n",
       "</tbody>\n",
       "</table>\n"
      ],
      "text/latex": [
       "\\begin{tabular}{r|llllllll}\n",
       "  & ME & RMSE & MAE & MPE & MAPE & MASE & ACF1 & Theil's U\\\\\n",
       "\\hline\n",
       "\tTraining set &   1.476404  & 24.66054    & 19.33544    & -0.2741215  & 8.324654    & 0.7184928   & 0.005345451 &        NA  \\\\\n",
       "\tTest set & -16.638663  & 30.16646    & 25.66083    & -6.2342488  & 8.824320    & 0.9535404   & 0.228991819 & 0.9258698  \\\\\n",
       "\\end{tabular}\n"
      ],
      "text/markdown": [
       "\n",
       "| <!--/--> | ME | RMSE | MAE | MPE | MAPE | MASE | ACF1 | Theil's U | \n",
       "|---|---|\n",
       "| Training set |   1.476404  | 24.66054    | 19.33544    | -0.2741215  | 8.324654    | 0.7184928   | 0.005345451 |        NA   | \n",
       "| Test set | -16.638663  | 30.16646    | 25.66083    | -6.2342488  | 8.824320    | 0.9535404   | 0.228991819 | 0.9258698   | \n",
       "\n",
       "\n"
      ],
      "text/plain": [
       "             ME         RMSE     MAE      MPE        MAPE     MASE     \n",
       "Training set   1.476404 24.66054 19.33544 -0.2741215 8.324654 0.7184928\n",
       "Test set     -16.638663 30.16646 25.66083 -6.2342488 8.824320 0.9535404\n",
       "             ACF1        Theil's U\n",
       "Training set 0.005345451        NA\n",
       "Test set     0.228991819 0.9258698"
      ]
     },
     "metadata": {},
     "output_type": "display_data"
    }
   ],
   "source": [
    "accuracy(forecast_decomposed_suicide_series_train, suicide_series_test)\n",
    "accuracy(suicide_series_hw_future_forecasts, suicide_series_test)\n",
    "accuracy(suicide_series_best_arima_forecast, suicide_series_test)"
   ]
  },
  {
   "cell_type": "markdown",
   "metadata": {},
   "source": [
    "Seems that the two ARIMAs give us best results than the Holt Winters model.  The most generalizable model is the ARIMA calculated at the begining with the stl decomposition. There doesn't seem to be overfitting."
   ]
  },
  {
   "cell_type": "markdown",
   "metadata": {},
   "source": [
    "Our predictions have a lot of dispersion but, as we said at the beginning, we face a stochastic process and the characteristics of the object of study require much more information for more accurate predictions.\n",
    "\n",
    "Suicide is a complex social fact and this small analysis just wanted to get a little closer to this problem that needs much more dedication."
   ]
  },
  {
   "cell_type": "markdown",
   "metadata": {},
   "source": [
    "# Analysis of Unemployment Series"
   ]
  },
  {
   "cell_type": "markdown",
   "metadata": {},
   "source": [
    "## 1. Reading the Data"
   ]
  },
  {
   "cell_type": "code",
   "execution_count": 530,
   "metadata": {},
   "outputs": [
    {
     "data": {
      "text/html": [
       "<table>\n",
       "<thead><tr><th scope=col>Date</th><th scope=col>N_of_unemployed</th></tr></thead>\n",
       "<tbody>\n",
       "\t<tr><td>1998-01-31</td><td>2577189   </td></tr>\n",
       "\t<tr><td>1998-02-28</td><td>2553346   </td></tr>\n",
       "\t<tr><td>1998-03-31</td><td>2524004   </td></tr>\n",
       "\t<tr><td>1998-04-30</td><td>2442803   </td></tr>\n",
       "\t<tr><td>1998-05-31</td><td>2369889   </td></tr>\n",
       "\t<tr><td>1998-06-30</td><td>2332016   </td></tr>\n",
       "\t<tr><td>1998-07-31</td><td>2250015   </td></tr>\n",
       "\t<tr><td>1998-08-31</td><td>2235296   </td></tr>\n",
       "\t<tr><td>1998-09-30</td><td>2256328   </td></tr>\n",
       "\t<tr><td>1998-10-31</td><td>2267925   </td></tr>\n",
       "\t<tr><td>1998-11-30</td><td>2270240   </td></tr>\n",
       "\t<tr><td>1998-12-31</td><td>2233259   </td></tr>\n",
       "\t<tr><td>1999-01-31</td><td>2251728   </td></tr>\n",
       "\t<tr><td>1999-02-28</td><td>2233082   </td></tr>\n",
       "\t<tr><td>1999-03-31</td><td>2202337   </td></tr>\n",
       "\t<tr><td>1999-04-30</td><td>2144375   </td></tr>\n",
       "\t<tr><td>1999-05-31</td><td>2076942   </td></tr>\n",
       "\t<tr><td>1999-06-30</td><td>2045950   </td></tr>\n",
       "\t<tr><td>1999-07-31</td><td>1980957   </td></tr>\n",
       "\t<tr><td>1999-08-31</td><td>1980966   </td></tr>\n",
       "\t<tr><td>1999-09-30</td><td>2002552   </td></tr>\n",
       "\t<tr><td>1999-10-31</td><td>2019968   </td></tr>\n",
       "\t<tr><td>1999-11-30</td><td>2055809   </td></tr>\n",
       "\t<tr><td>1999-12-31</td><td>2027982   </td></tr>\n",
       "\t<tr><td>2000-01-31</td><td>2090035   </td></tr>\n",
       "\t<tr><td>2000-02-29</td><td>2079752   </td></tr>\n",
       "\t<tr><td>2000-03-31</td><td>2042332   </td></tr>\n",
       "\t<tr><td>2000-04-30</td><td>1983994   </td></tr>\n",
       "\t<tr><td>2000-05-31</td><td>1929028   </td></tr>\n",
       "\t<tr><td>2000-06-30</td><td>1903053   </td></tr>\n",
       "\t<tr><td>...</td><td>...</td></tr>\n",
       "\t<tr><td>2015-07-31</td><td>4046276   </td></tr>\n",
       "\t<tr><td>2015-08-31</td><td>4067955   </td></tr>\n",
       "\t<tr><td>2015-09-30</td><td>4094042   </td></tr>\n",
       "\t<tr><td>2015-10-31</td><td>4176369   </td></tr>\n",
       "\t<tr><td>2015-11-30</td><td>4149298   </td></tr>\n",
       "\t<tr><td>2015-12-31</td><td>4093508   </td></tr>\n",
       "\t<tr><td>2016-01-31</td><td>4150755   </td></tr>\n",
       "\t<tr><td>2016-02-29</td><td>4152986   </td></tr>\n",
       "\t<tr><td>2016-03-31</td><td>4094770   </td></tr>\n",
       "\t<tr><td>2016-04-30</td><td>4011171   </td></tr>\n",
       "\t<tr><td>2016-05-31</td><td>3891403   </td></tr>\n",
       "\t<tr><td>2016-06-30</td><td>3767054   </td></tr>\n",
       "\t<tr><td>2016-07-31</td><td>3683061   </td></tr>\n",
       "\t<tr><td>2016-08-31</td><td>3697496   </td></tr>\n",
       "\t<tr><td>2016-09-30</td><td>3720297   </td></tr>\n",
       "\t<tr><td>2016-10-31</td><td>3764982   </td></tr>\n",
       "\t<tr><td>2016-11-30</td><td>3789823   </td></tr>\n",
       "\t<tr><td>2016-12-31</td><td>3702974   </td></tr>\n",
       "\t<tr><td>2017-01-31</td><td>3760231   </td></tr>\n",
       "\t<tr><td>2017-02-28</td><td>3750876   </td></tr>\n",
       "\t<tr><td>2017-03-31</td><td>3702317   </td></tr>\n",
       "\t<tr><td>2017-04-30</td><td>3573036   </td></tr>\n",
       "\t<tr><td>2017-05-31</td><td>3461128   </td></tr>\n",
       "\t<tr><td>2017-06-30</td><td>3362811   </td></tr>\n",
       "\t<tr><td>2017-07-31</td><td>3335924   </td></tr>\n",
       "\t<tr><td>2017-08-31</td><td>3382324   </td></tr>\n",
       "\t<tr><td>2017-09-30</td><td>3410182   </td></tr>\n",
       "\t<tr><td>2017-10-31</td><td>3467026   </td></tr>\n",
       "\t<tr><td>2017-11-30</td><td>3474281   </td></tr>\n",
       "\t<tr><td>2017-12-31</td><td>3412781   </td></tr>\n",
       "</tbody>\n",
       "</table>\n"
      ],
      "text/latex": [
       "\\begin{tabular}{r|ll}\n",
       " Date & N\\_of\\_unemployed\\\\\n",
       "\\hline\n",
       "\t 1998-01-31 & 2577189   \\\\\n",
       "\t 1998-02-28 & 2553346   \\\\\n",
       "\t 1998-03-31 & 2524004   \\\\\n",
       "\t 1998-04-30 & 2442803   \\\\\n",
       "\t 1998-05-31 & 2369889   \\\\\n",
       "\t 1998-06-30 & 2332016   \\\\\n",
       "\t 1998-07-31 & 2250015   \\\\\n",
       "\t 1998-08-31 & 2235296   \\\\\n",
       "\t 1998-09-30 & 2256328   \\\\\n",
       "\t 1998-10-31 & 2267925   \\\\\n",
       "\t 1998-11-30 & 2270240   \\\\\n",
       "\t 1998-12-31 & 2233259   \\\\\n",
       "\t 1999-01-31 & 2251728   \\\\\n",
       "\t 1999-02-28 & 2233082   \\\\\n",
       "\t 1999-03-31 & 2202337   \\\\\n",
       "\t 1999-04-30 & 2144375   \\\\\n",
       "\t 1999-05-31 & 2076942   \\\\\n",
       "\t 1999-06-30 & 2045950   \\\\\n",
       "\t 1999-07-31 & 1980957   \\\\\n",
       "\t 1999-08-31 & 1980966   \\\\\n",
       "\t 1999-09-30 & 2002552   \\\\\n",
       "\t 1999-10-31 & 2019968   \\\\\n",
       "\t 1999-11-30 & 2055809   \\\\\n",
       "\t 1999-12-31 & 2027982   \\\\\n",
       "\t 2000-01-31 & 2090035   \\\\\n",
       "\t 2000-02-29 & 2079752   \\\\\n",
       "\t 2000-03-31 & 2042332   \\\\\n",
       "\t 2000-04-30 & 1983994   \\\\\n",
       "\t 2000-05-31 & 1929028   \\\\\n",
       "\t 2000-06-30 & 1903053   \\\\\n",
       "\t ... & ...\\\\\n",
       "\t 2015-07-31 & 4046276   \\\\\n",
       "\t 2015-08-31 & 4067955   \\\\\n",
       "\t 2015-09-30 & 4094042   \\\\\n",
       "\t 2015-10-31 & 4176369   \\\\\n",
       "\t 2015-11-30 & 4149298   \\\\\n",
       "\t 2015-12-31 & 4093508   \\\\\n",
       "\t 2016-01-31 & 4150755   \\\\\n",
       "\t 2016-02-29 & 4152986   \\\\\n",
       "\t 2016-03-31 & 4094770   \\\\\n",
       "\t 2016-04-30 & 4011171   \\\\\n",
       "\t 2016-05-31 & 3891403   \\\\\n",
       "\t 2016-06-30 & 3767054   \\\\\n",
       "\t 2016-07-31 & 3683061   \\\\\n",
       "\t 2016-08-31 & 3697496   \\\\\n",
       "\t 2016-09-30 & 3720297   \\\\\n",
       "\t 2016-10-31 & 3764982   \\\\\n",
       "\t 2016-11-30 & 3789823   \\\\\n",
       "\t 2016-12-31 & 3702974   \\\\\n",
       "\t 2017-01-31 & 3760231   \\\\\n",
       "\t 2017-02-28 & 3750876   \\\\\n",
       "\t 2017-03-31 & 3702317   \\\\\n",
       "\t 2017-04-30 & 3573036   \\\\\n",
       "\t 2017-05-31 & 3461128   \\\\\n",
       "\t 2017-06-30 & 3362811   \\\\\n",
       "\t 2017-07-31 & 3335924   \\\\\n",
       "\t 2017-08-31 & 3382324   \\\\\n",
       "\t 2017-09-30 & 3410182   \\\\\n",
       "\t 2017-10-31 & 3467026   \\\\\n",
       "\t 2017-11-30 & 3474281   \\\\\n",
       "\t 2017-12-31 & 3412781   \\\\\n",
       "\\end{tabular}\n"
      ],
      "text/markdown": [
       "\n",
       "Date | N_of_unemployed | \n",
       "|---|---|---|---|---|---|---|---|---|---|---|---|---|---|---|---|---|---|---|---|---|---|---|---|---|---|---|---|---|---|---|---|---|---|---|---|---|---|---|---|---|---|---|---|---|---|---|---|---|---|---|---|---|---|---|---|---|---|---|---|---|\n",
       "| 1998-01-31 | 2577189    | \n",
       "| 1998-02-28 | 2553346    | \n",
       "| 1998-03-31 | 2524004    | \n",
       "| 1998-04-30 | 2442803    | \n",
       "| 1998-05-31 | 2369889    | \n",
       "| 1998-06-30 | 2332016    | \n",
       "| 1998-07-31 | 2250015    | \n",
       "| 1998-08-31 | 2235296    | \n",
       "| 1998-09-30 | 2256328    | \n",
       "| 1998-10-31 | 2267925    | \n",
       "| 1998-11-30 | 2270240    | \n",
       "| 1998-12-31 | 2233259    | \n",
       "| 1999-01-31 | 2251728    | \n",
       "| 1999-02-28 | 2233082    | \n",
       "| 1999-03-31 | 2202337    | \n",
       "| 1999-04-30 | 2144375    | \n",
       "| 1999-05-31 | 2076942    | \n",
       "| 1999-06-30 | 2045950    | \n",
       "| 1999-07-31 | 1980957    | \n",
       "| 1999-08-31 | 1980966    | \n",
       "| 1999-09-30 | 2002552    | \n",
       "| 1999-10-31 | 2019968    | \n",
       "| 1999-11-30 | 2055809    | \n",
       "| 1999-12-31 | 2027982    | \n",
       "| 2000-01-31 | 2090035    | \n",
       "| 2000-02-29 | 2079752    | \n",
       "| 2000-03-31 | 2042332    | \n",
       "| 2000-04-30 | 1983994    | \n",
       "| 2000-05-31 | 1929028    | \n",
       "| 2000-06-30 | 1903053    | \n",
       "| ... | ... | \n",
       "| 2015-07-31 | 4046276    | \n",
       "| 2015-08-31 | 4067955    | \n",
       "| 2015-09-30 | 4094042    | \n",
       "| 2015-10-31 | 4176369    | \n",
       "| 2015-11-30 | 4149298    | \n",
       "| 2015-12-31 | 4093508    | \n",
       "| 2016-01-31 | 4150755    | \n",
       "| 2016-02-29 | 4152986    | \n",
       "| 2016-03-31 | 4094770    | \n",
       "| 2016-04-30 | 4011171    | \n",
       "| 2016-05-31 | 3891403    | \n",
       "| 2016-06-30 | 3767054    | \n",
       "| 2016-07-31 | 3683061    | \n",
       "| 2016-08-31 | 3697496    | \n",
       "| 2016-09-30 | 3720297    | \n",
       "| 2016-10-31 | 3764982    | \n",
       "| 2016-11-30 | 3789823    | \n",
       "| 2016-12-31 | 3702974    | \n",
       "| 2017-01-31 | 3760231    | \n",
       "| 2017-02-28 | 3750876    | \n",
       "| 2017-03-31 | 3702317    | \n",
       "| 2017-04-30 | 3573036    | \n",
       "| 2017-05-31 | 3461128    | \n",
       "| 2017-06-30 | 3362811    | \n",
       "| 2017-07-31 | 3335924    | \n",
       "| 2017-08-31 | 3382324    | \n",
       "| 2017-09-30 | 3410182    | \n",
       "| 2017-10-31 | 3467026    | \n",
       "| 2017-11-30 | 3474281    | \n",
       "| 2017-12-31 | 3412781    | \n",
       "\n",
       "\n"
      ],
      "text/plain": [
       "    Date       N_of_unemployed\n",
       "1   1998-01-31 2577189        \n",
       "2   1998-02-28 2553346        \n",
       "3   1998-03-31 2524004        \n",
       "4   1998-04-30 2442803        \n",
       "5   1998-05-31 2369889        \n",
       "6   1998-06-30 2332016        \n",
       "7   1998-07-31 2250015        \n",
       "8   1998-08-31 2235296        \n",
       "9   1998-09-30 2256328        \n",
       "10  1998-10-31 2267925        \n",
       "11  1998-11-30 2270240        \n",
       "12  1998-12-31 2233259        \n",
       "13  1999-01-31 2251728        \n",
       "14  1999-02-28 2233082        \n",
       "15  1999-03-31 2202337        \n",
       "16  1999-04-30 2144375        \n",
       "17  1999-05-31 2076942        \n",
       "18  1999-06-30 2045950        \n",
       "19  1999-07-31 1980957        \n",
       "20  1999-08-31 1980966        \n",
       "21  1999-09-30 2002552        \n",
       "22  1999-10-31 2019968        \n",
       "23  1999-11-30 2055809        \n",
       "24  1999-12-31 2027982        \n",
       "25  2000-01-31 2090035        \n",
       "26  2000-02-29 2079752        \n",
       "27  2000-03-31 2042332        \n",
       "28  2000-04-30 1983994        \n",
       "29  2000-05-31 1929028        \n",
       "30  2000-06-30 1903053        \n",
       "... ...        ...            \n",
       "211 2015-07-31 4046276        \n",
       "212 2015-08-31 4067955        \n",
       "213 2015-09-30 4094042        \n",
       "214 2015-10-31 4176369        \n",
       "215 2015-11-30 4149298        \n",
       "216 2015-12-31 4093508        \n",
       "217 2016-01-31 4150755        \n",
       "218 2016-02-29 4152986        \n",
       "219 2016-03-31 4094770        \n",
       "220 2016-04-30 4011171        \n",
       "221 2016-05-31 3891403        \n",
       "222 2016-06-30 3767054        \n",
       "223 2016-07-31 3683061        \n",
       "224 2016-08-31 3697496        \n",
       "225 2016-09-30 3720297        \n",
       "226 2016-10-31 3764982        \n",
       "227 2016-11-30 3789823        \n",
       "228 2016-12-31 3702974        \n",
       "229 2017-01-31 3760231        \n",
       "230 2017-02-28 3750876        \n",
       "231 2017-03-31 3702317        \n",
       "232 2017-04-30 3573036        \n",
       "233 2017-05-31 3461128        \n",
       "234 2017-06-30 3362811        \n",
       "235 2017-07-31 3335924        \n",
       "236 2017-08-31 3382324        \n",
       "237 2017-09-30 3410182        \n",
       "238 2017-10-31 3467026        \n",
       "239 2017-11-30 3474281        \n",
       "240 2017-12-31 3412781        "
      ]
     },
     "metadata": {},
     "output_type": "display_data"
    }
   ],
   "source": [
    "wkdir_and_path <- cbind(working_directory,'Data\\\\Monthly_unemployment_Spain_1998-2017.csv')\n",
    "unemployment_filepath <- str_c(wkdir_and_path, collapse = \"\\\\\")\n",
    "unemployment_1998_2017 <- read.csv(unemployment_filepath)\n",
    "unemployment_1998_2017"
   ]
  },
  {
   "cell_type": "markdown",
   "metadata": {},
   "source": [
    "Seems that our date index is not very useful in R code. It automatically converts our list of values into a time series if you give it start date and frequency."
   ]
  },
  {
   "cell_type": "markdown",
   "metadata": {},
   "source": [
    "## 2. Creating and exploring the Time Series"
   ]
  },
  {
   "cell_type": "code",
   "execution_count": 531,
   "metadata": {},
   "outputs": [
    {
     "data": {
      "text/html": [
       "'ts'"
      ],
      "text/latex": [
       "'ts'"
      ],
      "text/markdown": [
       "'ts'"
      ],
      "text/plain": [
       "[1] \"ts\""
      ]
     },
     "metadata": {},
     "output_type": "display_data"
    }
   ],
   "source": [
    "unemployment_1998_2017 <- ts (unemployment_1998_2017$N_of_unemployed, frequency = 12, start = c(1998,1))\n",
    "class(unemployment_1998_2017)"
   ]
  },
  {
   "cell_type": "code",
   "execution_count": 532,
   "metadata": {},
   "outputs": [
    {
     "data": {
      "text/html": [
       "<ol class=list-inline>\n",
       "\t<li>1998</li>\n",
       "\t<li>1</li>\n",
       "</ol>\n"
      ],
      "text/latex": [
       "\\begin{enumerate*}\n",
       "\\item 1998\n",
       "\\item 1\n",
       "\\end{enumerate*}\n"
      ],
      "text/markdown": [
       "1. 1998\n",
       "2. 1\n",
       "\n",
       "\n"
      ],
      "text/plain": [
       "[1] 1998    1"
      ]
     },
     "metadata": {},
     "output_type": "display_data"
    }
   ],
   "source": [
    "#Here we have the start of our time series\n",
    "start(unemployment_1998_2017)"
   ]
  },
  {
   "cell_type": "code",
   "execution_count": 533,
   "metadata": {},
   "outputs": [
    {
     "data": {
      "text/html": [
       "<ol class=list-inline>\n",
       "\t<li>2017</li>\n",
       "\t<li>12</li>\n",
       "</ol>\n"
      ],
      "text/latex": [
       "\\begin{enumerate*}\n",
       "\\item 2017\n",
       "\\item 12\n",
       "\\end{enumerate*}\n"
      ],
      "text/markdown": [
       "1. 2017\n",
       "2. 12\n",
       "\n",
       "\n"
      ],
      "text/plain": [
       "[1] 2017   12"
      ]
     },
     "metadata": {},
     "output_type": "display_data"
    }
   ],
   "source": [
    "#And the end\n",
    "end(unemployment_1998_2017)"
   ]
  },
  {
   "cell_type": "code",
   "execution_count": 534,
   "metadata": {},
   "outputs": [
    {
     "data": {
      "text/html": [
       "12"
      ],
      "text/latex": [
       "12"
      ],
      "text/markdown": [
       "12"
      ],
      "text/plain": [
       "[1] 12"
      ]
     },
     "metadata": {},
     "output_type": "display_data"
    }
   ],
   "source": [
    "#The cycle of this time series is 12 months in a year\n",
    "frequency(unemployment_1998_2017)"
   ]
  },
  {
   "cell_type": "code",
   "execution_count": 535,
   "metadata": {},
   "outputs": [
    {
     "data": {
      "text/plain": [
       "     Jan Feb Mar Apr May Jun Jul Aug Sep Oct Nov Dec\n",
       "1998   1   2   3   4   5   6   7   8   9  10  11  12\n",
       "1999   1   2   3   4   5   6   7   8   9  10  11  12\n",
       "2000   1   2   3   4   5   6   7   8   9  10  11  12\n",
       "2001   1   2   3   4   5   6   7   8   9  10  11  12\n",
       "2002   1   2   3   4   5   6   7   8   9  10  11  12\n",
       "2003   1   2   3   4   5   6   7   8   9  10  11  12\n",
       "2004   1   2   3   4   5   6   7   8   9  10  11  12\n",
       "2005   1   2   3   4   5   6   7   8   9  10  11  12\n",
       "2006   1   2   3   4   5   6   7   8   9  10  11  12\n",
       "2007   1   2   3   4   5   6   7   8   9  10  11  12\n",
       "2008   1   2   3   4   5   6   7   8   9  10  11  12\n",
       "2009   1   2   3   4   5   6   7   8   9  10  11  12\n",
       "2010   1   2   3   4   5   6   7   8   9  10  11  12\n",
       "2011   1   2   3   4   5   6   7   8   9  10  11  12\n",
       "2012   1   2   3   4   5   6   7   8   9  10  11  12\n",
       "2013   1   2   3   4   5   6   7   8   9  10  11  12\n",
       "2014   1   2   3   4   5   6   7   8   9  10  11  12\n",
       "2015   1   2   3   4   5   6   7   8   9  10  11  12\n",
       "2016   1   2   3   4   5   6   7   8   9  10  11  12\n",
       "2017   1   2   3   4   5   6   7   8   9  10  11  12"
      ]
     },
     "metadata": {},
     "output_type": "display_data"
    }
   ],
   "source": [
    "cycle(unemployment_1998_2017)"
   ]
  },
  {
   "cell_type": "code",
   "execution_count": 536,
   "metadata": {},
   "outputs": [
    {
     "data": {
      "text/plain": [
       "   Min. 1st Qu.  Median    Mean 3rd Qu.    Max. \n",
       "1835738 2050295 2361732 3049950 4112796 5040222 "
      ]
     },
     "metadata": {},
     "output_type": "display_data"
    }
   ],
   "source": [
    "#Here we have some descriptive statistics\n",
    "summary(unemployment_1998_2017)"
   ]
  },
  {
   "cell_type": "markdown",
   "metadata": {},
   "source": [
    "The first basic plot that we are going to use is a line graph with the values of the series in the ordinate and the temporal instants on the abscissa axis. Constructing this graph can be very useful to observe some characteristics of our time series."
   ]
  },
  {
   "cell_type": "code",
   "execution_count": 537,
   "metadata": {},
   "outputs": [
    {
     "data": {
      "image/png": "[encoded data removed]",
      "text/plain": [
       "plot without title"
      ]
     },
     "metadata": {},
     "output_type": "display_data"
    }
   ],
   "source": [
    "options(repr.plot.width=8, repr.plot.height=6)\n",
    "#The number of unemployed in Spain\n",
    "plot(unemployment_1998_2017, xlab = 'Years', ylab = 'Number of unemployed')\n",
    "\n",
    "#this will fit in a line\n",
    "abline(reg=lm(unemployment_1998_2017~time(unemployment_1998_2017)))"
   ]
  },
  {
   "cell_type": "markdown",
   "metadata": {},
   "source": [
    "It seems that the mean, the variance and the covariance are not constant over time. This makes us think that we are facing a **non-stationary series**, although this is something that we will analyze in more detail later."
   ]
  },
  {
   "cell_type": "code",
   "execution_count": 538,
   "metadata": {},
   "outputs": [
    {
     "data": {
      "image/png": "[encoded data removed]",
      "text/plain": [
       "Plot with title \"Year on year trend\""
      ]
     },
     "metadata": {},
     "output_type": "display_data"
    }
   ],
   "source": [
    "#In this plot we are going to aggregate the cycles and display a year on year trend\n",
    "options(repr.plot.width=5, repr.plot.height=5)\n",
    "plot(aggregate(unemployment_1998_2017,FUN=mean), xlab = \"Years\", ylab = \"Aggregated Unemployment by mean\", main = 'Year on year trend', col = 'blue')"
   ]
  },
  {
   "cell_type": "code",
   "execution_count": 539,
   "metadata": {},
   "outputs": [
    {
     "data": {
      "text/plain": [
       "Time Series:\n",
       "Start = 1998 \n",
       "End = 2017 \n",
       "Frequency = 1 \n",
       " [1] 2359359 2085221 1963462 1930157 2049607 2096887 2113718 2069854 2039414\n",
       "[10] 2039004 2539941 3644041 4060756 4257160 4720404 4845302 4575937 4232132\n",
       "[19] 3868898 3507743"
      ]
     },
     "metadata": {},
     "output_type": "display_data"
    }
   ],
   "source": [
    "aggregate(unemployment_1998_2017,FUN=mean)"
   ]
  },
  {
   "cell_type": "markdown",
   "metadata": {},
   "source": [
    "The year on year trend clearly shows that the **number of unemployed in Spain increased from 2007 to 2013 and decreased from 2013 to 2017 significantly.**"
   ]
  },
  {
   "cell_type": "code",
   "execution_count": 540,
   "metadata": {},
   "outputs": [
    {
     "data": {
      "image/png": "[encoded data removed]",
      "text/plain": [
       "Plot with title \"Box Plot across Months\""
      ]
     },
     "metadata": {},
     "output_type": "display_data"
    }
   ],
   "source": [
    "#Box plot across months will give us a sense on seasonal effect\n",
    "options(repr.plot.width=5, repr.plot.height=5)\n",
    "boxplot(unemployment_1998_2017~cycle(unemployment_1998_2017), xlab = 'Months', ylab = 'Number of unemployed', main = 'Box Plot across Months',col = 'purple')"
   ]
  },
  {
   "cell_type": "markdown",
   "metadata": {},
   "source": [
    "The mean value of unemployed in **the last months of the year is higher than rest of the months.** \n",
    "Also it shows a great variance due to the large peaks that make our distribution not behave in a very normal way."
   ]
  },
  {
   "cell_type": "code",
   "execution_count": 541,
   "metadata": {},
   "outputs": [
    {
     "data": {
      "image/png": "[encoded data removed]",
      "text/plain": [
       "Plot with title \"Normal Q-Q Plot\""
      ]
     },
     "metadata": {},
     "output_type": "display_data"
    }
   ],
   "source": [
    "date = make_date(year = 1998, month = 1)\n",
    "Date_range = seq(from = date, by = 'month', length.out = length(unemployment_1998_2017))\n",
    "\n",
    "options(repr.plot.width=10, repr.plot.height=8)\n",
    "\n",
    "par(mfrow=c(3,1)) \n",
    "\n",
    "#Scatter plot\n",
    "plot(unemployment_1998_2017, x = Date_range, xlab = 'Years', ylab = 'Number of unemployed', pch=20, cex=0.7, col = 'green')\n",
    "\n",
    "#histogram\n",
    "hist (unemployment_1998_2017, xlab = 'Number of unemployed', main = 'Histogram', col = 'brown')\n",
    "\n",
    "#Q-Q plot\n",
    "qqnorm(unemployment_1998_2017)\n",
    "qqline(unemployment_1998_2017)"
   ]
  },
  {
   "cell_type": "code",
   "execution_count": 542,
   "metadata": {},
   "outputs": [
    {
     "data": {
      "text/plain": [
       "\n",
       "\tOne-sample Kolmogorov-Smirnov test\n",
       "\n",
       "data:  unemployment_1998_2017\n",
       "D = 0.34527, p-value < 2.2e-16\n",
       "alternative hypothesis: two-sided\n"
      ]
     },
     "metadata": {},
     "output_type": "display_data"
    }
   ],
   "source": [
    "ks.test(unemployment_1998_2017, \"pnorm\", 3049949.785875, 3049949.785875)"
   ]
  },
  {
   "cell_type": "markdown",
   "metadata": {},
   "source": [
    "The graphs show us that it seems that in our distribution there are not very anomalous values and it's NOT close to a Gaussian distribution."
   ]
  },
  {
   "cell_type": "markdown",
   "metadata": {},
   "source": [
    "## 3. Time Series Components Analysis"
   ]
  },
  {
   "cell_type": "markdown",
   "metadata": {},
   "source": [
    "We are going to use the same methodology that we used for the suicide series. *So I will not repair so much in explaining the usefulness of each step*."
   ]
  },
  {
   "cell_type": "markdown",
   "metadata": {},
   "source": [
    "*Let's start to analyze each of its components with a little more detail, but first we are going to split our time series in a train and a test sets.*"
   ]
  },
  {
   "cell_type": "code",
   "execution_count": 543,
   "metadata": {},
   "outputs": [],
   "source": [
    "unemployment_series_test  <- tail(unemployment_1998_2017,48)\n",
    "unemployment_series_train  <- head(unemployment_1998_2017, 192)"
   ]
  },
  {
   "cell_type": "markdown",
   "metadata": {},
   "source": [
    "### 3.1. Decomposition methods"
   ]
  },
  {
   "cell_type": "markdown",
   "metadata": {},
   "source": [
    "#### 3.1.1. Moving Averages\n",
    "\n",
    "We present the methodology of moving averages because it's the first step in the classical decomposition and allows us to observe **the trend** of our time series represented in a smoothed way. It can be a good method to extract information in temporary series where there are no fluctuations due to trend or seasonality."
   ]
  },
  {
   "cell_type": "markdown",
   "metadata": {},
   "source": [
    "It is possible to apply a moving average to a moving average. One reason for doing this is to make an even-order moving average symmetric. It's recommended to use a 2x12 Moving averages to estimate the trend-cycle of monthly data:"
   ]
  },
  {
   "cell_type": "code",
   "execution_count": 544,
   "metadata": {
    "scrolled": true
   },
   "outputs": [
    {
     "name": "stderr",
     "output_type": "stream",
     "text": [
      "Warning message:\n",
      "\"Removed 1 rows containing missing values (geom_path).\"Warning message:\n",
      "\"Removed 12 rows containing missing values (geom_path).\""
     ]
    },
    {
     "data": {},
     "metadata": {},
     "output_type": "display_data"
    },
    {
     "data": {
      "image/png": "[encoded data removed]",
      "text/plain": [
       "plot without title"
      ]
     },
     "metadata": {},
     "output_type": "display_data"
    }
   ],
   "source": [
    "options(repr.plot.width=8, repr.plot.height=4)\n",
    "\n",
    "#Applying Moving Averages\n",
    "autoplot(unemployment_series_train) +\n",
    "    autolayer(ma(unemployment_series_train, order=2, centre=FALSE), series='2 MovingAverage')+\n",
    "    autolayer(ma(unemployment_series_train,12, centre = TRUE), series='2x12 Moving Average') +\n",
    "    xlab('Date') + ylab('Number of unemployed') +\n",
    "    ggtitle('Monthly Unemployment in Spain') +\n",
    "    guides(colour=guide_legend(title='series'))"
   ]
  },
  {
   "cell_type": "markdown",
   "metadata": {},
   "source": [
    "The moving average helps us to reduce the noise or short-term volatility in the movements of the data and in this way allows us to better evaluate the quality and direction of a trend."
   ]
  },
  {
   "cell_type": "markdown",
   "metadata": {},
   "source": [
    "Let's start with decomposition and seasonal adjustments"
   ]
  },
  {
   "cell_type": "markdown",
   "metadata": {},
   "source": [
    "#### 3.1.2. Classic Decomposition\n",
    "\n",
    "We are going to use decompose function to see the components of our time series in a classic decomposition method, jut to have a first look:"
   ]
  },
  {
   "cell_type": "code",
   "execution_count": 545,
   "metadata": {},
   "outputs": [
    {
     "data": {
      "image/png": "[encoded data removed]",
      "text/plain": [
       "Plot with title \"Unemployment\""
      ]
     },
     "metadata": {},
     "output_type": "display_data"
    }
   ],
   "source": [
    "unemployment_series_components  <- decompose(unemployment_series_train)\n",
    "plot(unemployment_series_train, main = 'Unemployment', ylab = 'Unemployed')"
   ]
  },
  {
   "cell_type": "markdown",
   "metadata": {},
   "source": [
    "The plot above shows the original time series (top), the estimated trend component (second from top), the estimated seasonal component (third from top), and the estimated irregular component (bottom). "
   ]
  },
  {
   "cell_type": "markdown",
   "metadata": {},
   "source": [
    "Just like with suicide series, it seems that we have to deal with a trend and a seasonal component. Let's confirm this plotting the autocorrelation function of our time series:"
   ]
  },
  {
   "cell_type": "code",
   "execution_count": 546,
   "metadata": {},
   "outputs": [
    {
     "data": {
      "image/png": "[encoded data removed]",
      "text/plain": [
       "Plot with title \"Unemployment Series\""
      ]
     },
     "metadata": {},
     "output_type": "display_data"
    }
   ],
   "source": [
    "acf(unemployment_series_train, main = 'Unemployment Series')"
   ]
  },
  {
   "cell_type": "markdown",
   "metadata": {},
   "source": [
    "As we see, clearly, **we have a important seasonal component**."
   ]
  },
  {
   "cell_type": "markdown",
   "metadata": {},
   "source": [
    "Classical decomposition methods are good but we want to see the variation of the seasonal component over the time. We are going to use STL method:"
   ]
  },
  {
   "cell_type": "markdown",
   "metadata": {},
   "source": [
    "#### 3.1.3. STL decomposition"
   ]
  },
  {
   "cell_type": "code",
   "execution_count": 547,
   "metadata": {},
   "outputs": [],
   "source": [
    "STL_unemployment_components <- mstl(unemployment_series_train)"
   ]
  },
  {
   "cell_type": "code",
   "execution_count": 548,
   "metadata": {},
   "outputs": [
    {
     "data": {},
     "metadata": {},
     "output_type": "display_data"
    },
    {
     "data": {
      "image/png": "[encoded data removed]",
      "text/plain": [
       "plot without title"
      ]
     },
     "metadata": {},
     "output_type": "display_data"
    }
   ],
   "source": [
    "options(repr.plot.width=8, repr.plot.height=4)\n",
    "autoplot(unemployment_series_train, series=\"Data\") +\n",
    "    autolayer(trendcycle(STL_unemployment_components), series=\"Trend\") +\n",
    "    autolayer(seasadj(STL_unemployment_components), series=\"Seasonally Adjusted\") +\n",
    "    xlab(\"Year\") + ylab(\"Number of unemployed\") +\n",
    "    ggtitle(\"Monthly Unemployment in Spain\") +\n",
    "    scale_colour_manual(values=c(\"black\",\"blue\",\"red\"),\n",
    "             breaks=c(\"Data\",\"Seasonally Adjusted\",\"Trend\"))"
   ]
  },
  {
   "cell_type": "code",
   "execution_count": 549,
   "metadata": {},
   "outputs": [
    {
     "data": {},
     "metadata": {},
     "output_type": "display_data"
    },
    {
     "data": {
      "image/png": "[encoded data removed]",
      "text/plain": [
       "plot without title"
      ]
     },
     "metadata": {},
     "output_type": "display_data"
    }
   ],
   "source": [
    "options(repr.plot.width=8, repr.plot.height=4)\n",
    "STL_unemployment_components %>% seasonal() %>% ggsubseriesplot() + ylab(\"Seasonal\")"
   ]
  },
  {
   "cell_type": "code",
   "execution_count": 550,
   "metadata": {},
   "outputs": [
    {
     "data": {
      "image/png": "[encoded data removed]",
      "text/plain": [
       "plot without title"
      ]
     },
     "metadata": {},
     "output_type": "display_data"
    }
   ],
   "source": [
    "options(repr.plot.width=12, repr.plot.height=6)\n",
    "plot(STL_unemployment_components, main = 'Unemployment Components STL')"
   ]
  },
  {
   "cell_type": "markdown",
   "metadata": {},
   "source": [
    "Here we can see a more smothed trend. But the most interesting thing that we can observe is that the seasonality component varies with time. In the original time series the largest seasonal factor was for June until 2010, after 2010 it changes and July turns into the largest seasonal factor. The lowest is always for November."
   ]
  },
  {
   "cell_type": "markdown",
   "metadata": {},
   "source": [
    "The seasonal component might not be relevant to explain the dynamics of the series. In order to see that, we can compare the variance of each component with respect to the variance of the original series."
   ]
  },
  {
   "cell_type": "code",
   "execution_count": 551,
   "metadata": {},
   "outputs": [
    {
     "data": {
      "text/html": [
       "<dl class=dl-horizontal>\n",
       "\t<dt>Data</dt>\n",
       "\t\t<dd>1</dd>\n",
       "\t<dt>Trend</dt>\n",
       "\t\t<dd>0.981421091462611</dd>\n",
       "\t<dt>Seasonal12</dt>\n",
       "\t\t<dd>0.00482070712169401</dd>\n",
       "\t<dt>Remainder</dt>\n",
       "\t\t<dd>0.00100080182794</dd>\n",
       "</dl>\n"
      ],
      "text/latex": [
       "\\begin{description*}\n",
       "\\item[Data] 1\n",
       "\\item[Trend] 0.981421091462611\n",
       "\\item[Seasonal12] 0.00482070712169401\n",
       "\\item[Remainder] 0.00100080182794\n",
       "\\end{description*}\n"
      ],
      "text/markdown": [
       "Data\n",
       ":   1Trend\n",
       ":   0.981421091462611Seasonal12\n",
       ":   0.00482070712169401Remainder\n",
       ":   0.00100080182794\n",
       "\n"
      ],
      "text/plain": [
       "       Data       Trend  Seasonal12   Remainder \n",
       "1.000000000 0.981421091 0.004820707 0.001000802 "
      ]
     },
     "metadata": {},
     "output_type": "display_data"
    }
   ],
   "source": [
    "apply(STL_unemployment_components,2, var) / var(c(unemployment_series_train))"
   ]
  },
  {
   "cell_type": "markdown",
   "metadata": {},
   "source": [
    "*We can see that it is the trend what explains most of the variance in the data.*"
   ]
  },
  {
   "cell_type": "code",
   "execution_count": 552,
   "metadata": {},
   "outputs": [
    {
     "data": {
      "text/plain": [
       "         Jan     Feb     Mar     Apr     May     Jun     Jul     Aug     Sep\n",
       "1998 2486920 2460881 2456719 2423714 2405742 2397598 2338610 2303999 2307655\n",
       "1999 2160988 2140263 2134939 2125002 2113172 2112141 2069575 2049211 2054330\n",
       "2000 1998786 1986542 1974785 1964302 1965598 1969811 1981278 1956116 1960283\n",
       "2001 1925458 1899559 1913461 1890474 1935462 1910502 1924184 1945291 1942137\n",
       "2002 1982267 2055576 2015476 2039750 2040678 2032081 2050150 2049802 2060515\n",
       "2003 2090332 2083665 2095383 2082926 2074933 2092857 2084682 2080618 2096138\n",
       "2004 2135253 2120231 2112759 2139620 2131779 2130362 2103961 2112538 2110864\n",
       "2005 2078345 2062320 2068323 2063884 2043532 2051088 2085217 2086911 2079048\n",
       "2006 2072466 2062245 2064330 2034418 2035851 2036209 2057217 2056929 2038063\n",
       "2007 1983560 1960519 1961696 1970375 1996022 2044660 2082954 2112510 2094298\n",
       "2008 2163771 2193374 2190008 2274437 2367808 2471351 2549540 2624656 2706674\n",
       "2009 3230155 3355881 3488662 3575508 3629836 3647098 3671115 3729324 3792915\n",
       "2010 3951976 4001202 4044634 4068170 4071646 4065967 4039930 4075242 4102957\n",
       "2011 4135361 4168635 4209478 4193040 4193422 4206143 4213465 4239203 4313090\n",
       "2012 4504573 4579860 4624145 4665583 4715990 4700162 4723381 4736439 4792613\n",
       "2013 4885881 4906753 4906523 4908784 4891404 4849128 4836601 4811715 4812496\n",
       "         Oct     Nov     Dec\n",
       "1998 2280261 2243226 2207329\n",
       "1999 2032690 2029081 2001812\n",
       "2000 1947157 1936253 1920716\n",
       "2001 1954596 1959795 1961804\n",
       "2002 2078819 2091493 2099605\n",
       "2003 2112853 2119067 2152368\n",
       "2004 2095265 2099932 2083985\n",
       "2005 2075850 2079106 2077678\n",
       "2006 2020262 2012453 2002314\n",
       "2007 2075025 2085066 2117885\n",
       "2008 2842729 2980302 3125307\n",
       "2009 3830967 3858599 3924599\n",
       "2010 4105900 4097805 4104835\n",
       "2011 4380356 4407840 4429035\n",
       "2012 4852286 4894883 4857121\n",
       "2013 4829630 4795703 4711148"
      ]
     },
     "metadata": {},
     "output_type": "display_data"
    }
   ],
   "source": [
    "seasadj(STL_unemployment_components)"
   ]
  },
  {
   "cell_type": "markdown",
   "metadata": {},
   "source": [
    "Seasadj function returns seasonally adjusted data constructed by removing the seasonal component. The seasonally adjusted time series now just contains the trend and the irregular component."
   ]
  },
  {
   "cell_type": "markdown",
   "metadata": {},
   "source": [
    "##### *Forecasting with Decomposition*\n",
    "\n",
    "While decomposition is primarily useful for studying time series data, and exploring historical changes over time, it can also be used in forecasting.\n",
    "\n",
    "We will use stlf function which decompose the time series using STL, forecast the seasonally adjusted series with arima, and return the reseasonalised forecasts."
   ]
  },
  {
   "cell_type": "code",
   "execution_count": 553,
   "metadata": {},
   "outputs": [
    {
     "data": {
      "image/png": "[encoded data removed]",
      "text/plain": [
       "Plot with title \"Forecasts from STL +  ARIMA(0,2,2)\""
      ]
     },
     "metadata": {},
     "output_type": "display_data"
    }
   ],
   "source": [
    "forecast_decomposed_unemployment_series <- stlf(unemployment_series_train, method='arima', h = 48)\n",
    "plot(forecast_decomposed_unemployment_series)"
   ]
  },
  {
   "cell_type": "markdown",
   "metadata": {},
   "source": [
    "- Evaluating the forecasts"
   ]
  },
  {
   "cell_type": "code",
   "execution_count": 554,
   "metadata": {},
   "outputs": [
    {
     "data": {
      "text/html": [
       "<table>\n",
       "<thead><tr><th></th><th scope=col>ME</th><th scope=col>RMSE</th><th scope=col>MAE</th><th scope=col>MPE</th><th scope=col>MAPE</th><th scope=col>MASE</th><th scope=col>ACF1</th><th scope=col>Theil's U</th></tr></thead>\n",
       "<tbody>\n",
       "\t<tr><th scope=row>Training set</th><td>  -237.377 </td><td> 24879.43  </td><td> 19067.31  </td><td>0.02890272 </td><td>0.7259244  </td><td>0.07881806 </td><td>-0.00131463</td><td>      NA   </td></tr>\n",
       "\t<tr><th scope=row>Test set</th><td>305160.613 </td><td>338260.77  </td><td>305160.61  </td><td>7.97975919 </td><td>7.9797592  </td><td>1.26143442 </td><td> 0.90775605</td><td>5.283993   </td></tr>\n",
       "</tbody>\n",
       "</table>\n"
      ],
      "text/latex": [
       "\\begin{tabular}{r|llllllll}\n",
       "  & ME & RMSE & MAE & MPE & MAPE & MASE & ACF1 & Theil's U\\\\\n",
       "\\hline\n",
       "\tTraining set &   -237.377  &  24879.43   &  19067.31   & 0.02890272  & 0.7259244   & 0.07881806  & -0.00131463 &       NA   \\\\\n",
       "\tTest set & 305160.613  & 338260.77   & 305160.61   & 7.97975919  & 7.9797592   & 1.26143442  &  0.90775605 & 5.283993   \\\\\n",
       "\\end{tabular}\n"
      ],
      "text/markdown": [
       "\n",
       "| <!--/--> | ME | RMSE | MAE | MPE | MAPE | MASE | ACF1 | Theil's U | \n",
       "|---|---|\n",
       "| Training set |   -237.377  |  24879.43   |  19067.31   | 0.02890272  | 0.7259244   | 0.07881806  | -0.00131463 |       NA    | \n",
       "| Test set | 305160.613  | 338260.77   | 305160.61   | 7.97975919  | 7.9797592   | 1.26143442  |  0.90775605 | 5.283993    | \n",
       "\n",
       "\n"
      ],
      "text/plain": [
       "             ME         RMSE      MAE       MPE        MAPE      MASE      \n",
       "Training set   -237.377  24879.43  19067.31 0.02890272 0.7259244 0.07881806\n",
       "Test set     305160.613 338260.77 305160.61 7.97975919 7.9797592 1.26143442\n",
       "             ACF1        Theil's U\n",
       "Training set -0.00131463       NA \n",
       "Test set      0.90775605 5.283993 "
      ]
     },
     "metadata": {},
     "output_type": "display_data"
    },
    {
     "data": {
      "image/png": "[encoded data removed]",
      "text/plain": [
       "Plot with title \"Forecasts from STL +  ARIMA(0,2,2)\""
      ]
     },
     "metadata": {},
     "output_type": "display_data"
    }
   ],
   "source": [
    "#Accuracy and plot\n",
    "accuracy(forecast_decomposed_unemployment_series, unemployment_series_test)\n",
    "plot(forecast_decomposed_unemployment_series)\n",
    "lines(unemployment_1998_2017)"
   ]
  },
  {
   "cell_type": "markdown",
   "metadata": {},
   "source": [
    "##### Forecasting with Holt-Winters Exponential Smoothing"
   ]
  },
  {
   "cell_type": "markdown",
   "metadata": {},
   "source": [
    "We are not sure if our series behave in a multiplicative way so we will use its logarithmic transformation to convert it into an additive and that can be used in this model."
   ]
  },
  {
   "cell_type": "code",
   "execution_count": 555,
   "metadata": {},
   "outputs": [],
   "source": [
    "unemployment_series_log <-  log(unemployment_series_train)"
   ]
  },
  {
   "cell_type": "code",
   "execution_count": 556,
   "metadata": {},
   "outputs": [
    {
     "data": {
      "text/plain": [
       "Holt-Winters exponential smoothing with trend and additive seasonal component.\n",
       "\n",
       "Call:\n",
       "HoltWinters(x = unemployment_series_log)\n",
       "\n",
       "Smoothing parameters:\n",
       " alpha: 0.9723862\n",
       " beta : 0.2511722\n",
       " gamma: 1\n",
       "\n",
       "Coefficients:\n",
       "            [,1]\n",
       "a   15.352014770\n",
       "b   -0.008774350\n",
       "s1   0.030985160\n",
       "s2   0.030811953\n",
       "s3   0.023844489\n",
       "s4   0.007869203\n",
       "s5  -0.015051176\n",
       "s6  -0.025022205\n",
       "s7  -0.035933154\n",
       "s8  -0.030812052\n",
       "s9  -0.017933890\n",
       "s10  0.003680888\n",
       "s11  0.016405506\n",
       "s12  0.011342937"
      ]
     },
     "metadata": {},
     "output_type": "display_data"
    }
   ],
   "source": [
    "unemployment_series_hw_forecasts  <- HoltWinters(unemployment_series_log)\n",
    "unemployment_series_hw_forecasts"
   ]
  },
  {
   "cell_type": "markdown",
   "metadata": {},
   "source": [
    "The estimated values of alpha, beta and gamma are 0.97, 0.25 and 1, respectively. The value of alpha (0.97)\n",
    "is high, indicating that the estimate of the level at the current time point is based upon both recent\n",
    "observations and some observations in the more distant past. The value of beta is 0.25, indicating that the estimate\n",
    "of the slope b of the trend component remains roughly the same. The value of gamma (1) is very high, indicating that the seasonal change to much over time.\n"
   ]
  },
  {
   "cell_type": "code",
   "execution_count": 557,
   "metadata": {
    "scrolled": true
   },
   "outputs": [
    {
     "data": {
      "image/png": "[encoded data removed]",
      "text/plain": [
       "Plot with title \"Holt-Winters filtering\""
      ]
     },
     "metadata": {},
     "output_type": "display_data"
    }
   ],
   "source": [
    "plot(unemployment_series_hw_forecasts)"
   ]
  },
  {
   "cell_type": "markdown",
   "metadata": {},
   "source": [
    "The observed values are plotted with the black line and the fitted values with the red one."
   ]
  },
  {
   "cell_type": "code",
   "execution_count": 558,
   "metadata": {},
   "outputs": [
    {
     "data": {
      "image/png": "[encoded data removed]",
      "text/plain": [
       "Plot with title \"Forecasts from HoltWinters\""
      ]
     },
     "metadata": {},
     "output_type": "display_data"
    }
   ],
   "source": [
    "unemployment_series_hw_future_forecasts <- forecast(unemployment_series_hw_forecasts, h = 48)\n",
    "plot(unemployment_series_hw_future_forecasts)"
   ]
  },
  {
   "cell_type": "markdown",
   "metadata": {},
   "source": [
    "*The forecasts are shown as a blue line, and the blue and grey shaded areas show 80% and 95% prediction\n",
    "intervals, respectively.*"
   ]
  },
  {
   "cell_type": "markdown",
   "metadata": {},
   "source": [
    "We can investigate whether the predictive model can be improved upon by checking whether the in-sample forecast\n",
    "errors show non-zero autocorrelations at lags 1-12, by making a correlogram and carrying out the Ljung-Box test.\n",
    "\n",
    "What is desired in time series is to build a model such that after extracting the trend and seasonality it can be certain that the waste is very similar to a white Gaussian noise. This assures us that we obtained all possible information from the data and that we can no longer know much more about the series in the errors. This also allows us to trust that the model is good and that its predictions therefore must be good."
   ]
  },
  {
   "cell_type": "code",
   "execution_count": 559,
   "metadata": {},
   "outputs": [
    {
     "data": {
      "text/html": [
       "<table>\n",
       "<thead><tr><th></th><th scope=col>m</th><th scope=col>Qm</th><th scope=col>pvalue</th></tr></thead>\n",
       "<tbody>\n",
       "\t<tr><th scope=row></th><td> 1          </td><td> 1.94       </td><td>1.641106e-01</td></tr>\n",
       "\t<tr><th scope=row></th><td> 2          </td><td> 2.54       </td><td>2.813260e-01</td></tr>\n",
       "\t<tr><th scope=row></th><td> 3          </td><td> 2.68       </td><td>4.434226e-01</td></tr>\n",
       "\t<tr><th scope=row></th><td> 4          </td><td> 3.78       </td><td>4.363974e-01</td></tr>\n",
       "\t<tr><th scope=row></th><td> 5          </td><td> 3.78       </td><td>5.811801e-01</td></tr>\n",
       "\t<tr><th scope=row></th><td> 6          </td><td> 8.61       </td><td>1.970183e-01</td></tr>\n",
       "\t<tr><th scope=row></th><td> 7          </td><td>10.15       </td><td>1.804480e-01</td></tr>\n",
       "\t<tr><th scope=row></th><td> 8          </td><td>13.03       </td><td>1.109511e-01</td></tr>\n",
       "\t<tr><th scope=row></th><td> 9          </td><td>13.26       </td><td>1.513976e-01</td></tr>\n",
       "\t<tr><th scope=row></th><td>10          </td><td>18.41       </td><td>4.837849e-02</td></tr>\n",
       "\t<tr><th scope=row></th><td>11          </td><td>20.24       </td><td>4.220546e-02</td></tr>\n",
       "\t<tr><th scope=row></th><td>12          </td><td>42.94       </td><td>2.315802e-05</td></tr>\n",
       "\t<tr><th scope=row></th><td>13          </td><td>46.05       </td><td>1.394989e-05</td></tr>\n",
       "\t<tr><th scope=row></th><td>14          </td><td>47.05       </td><td>1.883787e-05</td></tr>\n",
       "\t<tr><th scope=row></th><td>15          </td><td>47.87       </td><td>2.669870e-05</td></tr>\n",
       "\t<tr><th scope=row></th><td>16          </td><td>50.04       </td><td>2.255970e-05</td></tr>\n",
       "\t<tr><th scope=row></th><td>17          </td><td>51.57       </td><td>2.401986e-05</td></tr>\n",
       "\t<tr><th scope=row></th><td>18          </td><td>51.64       </td><td>4.249637e-05</td></tr>\n",
       "\t<tr><th scope=row></th><td>19          </td><td>51.95       </td><td>6.728931e-05</td></tr>\n",
       "\t<tr><th scope=row></th><td>20          </td><td>55.01       </td><td>4.089943e-05</td></tr>\n",
       "\t<tr><th scope=row></th><td>21          </td><td>56.11       </td><td>4.857133e-05</td></tr>\n",
       "\t<tr><th scope=row></th><td>22          </td><td>62.24       </td><td>1.034725e-05</td></tr>\n",
       "\t<tr><th scope=row></th><td>23          </td><td>62.26       </td><td>1.790246e-05</td></tr>\n",
       "\t<tr><th scope=row></th><td>24          </td><td>74.59       </td><td>4.317148e-07</td></tr>\n",
       "\t<tr><th scope=row></th><td>25          </td><td>78.64       </td><td>1.859259e-07</td></tr>\n",
       "\t<tr><th scope=row></th><td>26          </td><td>79.25       </td><td>2.738003e-07</td></tr>\n",
       "\t<tr><th scope=row></th><td>27          </td><td>79.25       </td><td>4.908020e-07</td></tr>\n",
       "\t<tr><th scope=row></th><td>28          </td><td>84.22       </td><td>1.547317e-07</td></tr>\n",
       "\t<tr><th scope=row></th><td>29          </td><td>84.36       </td><td>2.614412e-07</td></tr>\n",
       "\t<tr><th scope=row></th><td>30          </td><td>84.86       </td><td>3.860561e-07</td></tr>\n",
       "</tbody>\n",
       "</table>\n"
      ],
      "text/latex": [
       "\\begin{tabular}{r|lll}\n",
       "  & m & Qm & pvalue\\\\\n",
       "\\hline\n",
       "\t &  1           &  1.94        & 1.641106e-01\\\\\n",
       "\t &  2           &  2.54        & 2.813260e-01\\\\\n",
       "\t &  3           &  2.68        & 4.434226e-01\\\\\n",
       "\t &  4           &  3.78        & 4.363974e-01\\\\\n",
       "\t &  5           &  3.78        & 5.811801e-01\\\\\n",
       "\t &  6           &  8.61        & 1.970183e-01\\\\\n",
       "\t &  7           & 10.15        & 1.804480e-01\\\\\n",
       "\t &  8           & 13.03        & 1.109511e-01\\\\\n",
       "\t &  9           & 13.26        & 1.513976e-01\\\\\n",
       "\t & 10           & 18.41        & 4.837849e-02\\\\\n",
       "\t & 11           & 20.24        & 4.220546e-02\\\\\n",
       "\t & 12           & 42.94        & 2.315802e-05\\\\\n",
       "\t & 13           & 46.05        & 1.394989e-05\\\\\n",
       "\t & 14           & 47.05        & 1.883787e-05\\\\\n",
       "\t & 15           & 47.87        & 2.669870e-05\\\\\n",
       "\t & 16           & 50.04        & 2.255970e-05\\\\\n",
       "\t & 17           & 51.57        & 2.401986e-05\\\\\n",
       "\t & 18           & 51.64        & 4.249637e-05\\\\\n",
       "\t & 19           & 51.95        & 6.728931e-05\\\\\n",
       "\t & 20           & 55.01        & 4.089943e-05\\\\\n",
       "\t & 21           & 56.11        & 4.857133e-05\\\\\n",
       "\t & 22           & 62.24        & 1.034725e-05\\\\\n",
       "\t & 23           & 62.26        & 1.790246e-05\\\\\n",
       "\t & 24           & 74.59        & 4.317148e-07\\\\\n",
       "\t & 25           & 78.64        & 1.859259e-07\\\\\n",
       "\t & 26           & 79.25        & 2.738003e-07\\\\\n",
       "\t & 27           & 79.25        & 4.908020e-07\\\\\n",
       "\t & 28           & 84.22        & 1.547317e-07\\\\\n",
       "\t & 29           & 84.36        & 2.614412e-07\\\\\n",
       "\t & 30           & 84.86        & 3.860561e-07\\\\\n",
       "\\end{tabular}\n"
      ],
      "text/markdown": [
       "\n",
       "| <!--/--> | m | Qm | pvalue | \n",
       "|---|---|---|---|---|---|---|---|---|---|---|---|---|---|---|---|---|---|---|---|---|---|---|---|---|---|---|---|---|---|\n",
       "|  |  1           |  1.94        | 1.641106e-01 | \n",
       "|  |  2           |  2.54        | 2.813260e-01 | \n",
       "|  |  3           |  2.68        | 4.434226e-01 | \n",
       "|  |  4           |  3.78        | 4.363974e-01 | \n",
       "|  |  5           |  3.78        | 5.811801e-01 | \n",
       "|  |  6           |  8.61        | 1.970183e-01 | \n",
       "|  |  7           | 10.15        | 1.804480e-01 | \n",
       "|  |  8           | 13.03        | 1.109511e-01 | \n",
       "|  |  9           | 13.26        | 1.513976e-01 | \n",
       "|  | 10           | 18.41        | 4.837849e-02 | \n",
       "|  | 11           | 20.24        | 4.220546e-02 | \n",
       "|  | 12           | 42.94        | 2.315802e-05 | \n",
       "|  | 13           | 46.05        | 1.394989e-05 | \n",
       "|  | 14           | 47.05        | 1.883787e-05 | \n",
       "|  | 15           | 47.87        | 2.669870e-05 | \n",
       "|  | 16           | 50.04        | 2.255970e-05 | \n",
       "|  | 17           | 51.57        | 2.401986e-05 | \n",
       "|  | 18           | 51.64        | 4.249637e-05 | \n",
       "|  | 19           | 51.95        | 6.728931e-05 | \n",
       "|  | 20           | 55.01        | 4.089943e-05 | \n",
       "|  | 21           | 56.11        | 4.857133e-05 | \n",
       "|  | 22           | 62.24        | 1.034725e-05 | \n",
       "|  | 23           | 62.26        | 1.790246e-05 | \n",
       "|  | 24           | 74.59        | 4.317148e-07 | \n",
       "|  | 25           | 78.64        | 1.859259e-07 | \n",
       "|  | 26           | 79.25        | 2.738003e-07 | \n",
       "|  | 27           | 79.25        | 4.908020e-07 | \n",
       "|  | 28           | 84.22        | 1.547317e-07 | \n",
       "|  | 29           | 84.36        | 2.614412e-07 | \n",
       "|  | 30           | 84.86        | 3.860561e-07 | \n",
       "\n",
       "\n"
      ],
      "text/plain": [
       " m  Qm    pvalue      \n",
       "  1  1.94 1.641106e-01\n",
       "  2  2.54 2.813260e-01\n",
       "  3  2.68 4.434226e-01\n",
       "  4  3.78 4.363974e-01\n",
       "  5  3.78 5.811801e-01\n",
       "  6  8.61 1.970183e-01\n",
       "  7 10.15 1.804480e-01\n",
       "  8 13.03 1.109511e-01\n",
       "  9 13.26 1.513976e-01\n",
       " 10 18.41 4.837849e-02\n",
       " 11 20.24 4.220546e-02\n",
       " 12 42.94 2.315802e-05\n",
       " 13 46.05 1.394989e-05\n",
       " 14 47.05 1.883787e-05\n",
       " 15 47.87 2.669870e-05\n",
       " 16 50.04 2.255970e-05\n",
       " 17 51.57 2.401986e-05\n",
       " 18 51.64 4.249637e-05\n",
       " 19 51.95 6.728931e-05\n",
       " 20 55.01 4.089943e-05\n",
       " 21 56.11 4.857133e-05\n",
       " 22 62.24 1.034725e-05\n",
       " 23 62.26 1.790246e-05\n",
       " 24 74.59 4.317148e-07\n",
       " 25 78.64 1.859259e-07\n",
       " 26 79.25 2.738003e-07\n",
       " 27 79.25 4.908020e-07\n",
       " 28 84.22 1.547317e-07\n",
       " 29 84.36 2.614412e-07\n",
       " 30 84.86 3.860561e-07"
      ]
     },
     "metadata": {},
     "output_type": "display_data"
    },
    {
     "data": {
      "image/png": "[encoded data removed]",
      "text/plain": [
       "Plot with title \"Ljung-Box Q Test\""
      ]
     },
     "metadata": {},
     "output_type": "display_data"
    }
   ],
   "source": [
    "options(repr.plot.width=5, repr.plot.height=4)\n",
    "\n",
    "#Ljung-Box test\n",
    "unemployment_series_hw_future_forecasts_residuals  <- na.remove(residuals(unemployment_series_hw_future_forecasts))\n",
    "LjungBoxTest(unemployment_series_hw_future_forecasts_residuals)\n",
    "plot(LjungBoxTest(unemployment_series_hw_future_forecasts_residuals)[,3],main= \"Ljung-Box Q Test\", ylab= \"P-values\", xlab= \"Lag\")"
   ]
  },
  {
   "cell_type": "code",
   "execution_count": 560,
   "metadata": {},
   "outputs": [
    {
     "data": {
      "image/png": "[encoded data removed]",
      "text/plain": [
       "Plot with title \"Normal Q-Q Plot\""
      ]
     },
     "metadata": {},
     "output_type": "display_data"
    }
   ],
   "source": [
    "options(repr.plot.width=5, repr.plot.height=5)\n",
    "\n",
    "#Graphic analysis\n",
    "par (mfrow = c(2,2))\n",
    "plot (unemployment_series_hw_future_forecasts_residuals, ylab = 'Residuals')\n",
    "abline (h=0, lty=2, col=\"2\")\n",
    "##Correlogram\n",
    "acf (unemployment_series_hw_future_forecasts_residuals, 12, na.action = na.pass, main = 'Residuals Series', ylab = 'ACF' )\n",
    "##Histogram\n",
    "hist(unemployment_series_hw_future_forecasts_residuals, prob = T, col=\"6\", main = 'Histogram of residuals', xlab = 'Residuals')\n",
    "lines(density (na.omit(unemployment_series_hw_future_forecasts_residuals)), col=\"4\")\n",
    "##Q-Q plot\n",
    "qqnorm (unemployment_series_hw_future_forecasts_residuals)\n",
    "qqline (unemployment_series_hw_future_forecasts_residuals,col=\"2\")"
   ]
  },
  {
   "cell_type": "markdown",
   "metadata": {},
   "source": [
    "The p-value of Ljung-Box test shows that we can reject the null hypothesis. So we can assume that your values are showing dependence on each other with 95% of confidence.\n",
    "\n",
    "Therefore, there is evidence of autocorrelation for forecast errors, although forecast errors appear to be normally distributed with zero mean and constant variance over time. This suggests that the exponential adjustment of Holt-Winters does not provide an adequate predictive model. In addition, the assumptions on which the prediction intervals were based they probably aren't valid."
   ]
  },
  {
   "cell_type": "markdown",
   "metadata": {},
   "source": [
    "If we want to apply other models like Arima we have to have in mind that most of the time series models work on the assumption that the time series is stationary.  Also, the theories related to stationary series are more mature and easier to implement as compared to non-stationary series."
   ]
  },
  {
   "cell_type": "markdown",
   "metadata": {},
   "source": [
    "### 3.2. Stationarity Testing"
   ]
  },
  {
   "cell_type": "markdown",
   "metadata": {},
   "source": [
    "To test these conditions of the Unemployment series we will use the same methods that we used in the Suicide time series section."
   ]
  },
  {
   "cell_type": "markdown",
   "metadata": {},
   "source": [
    "#### 3.2.1. Moving statistics"
   ]
  },
  {
   "cell_type": "markdown",
   "metadata": {},
   "source": [
    "We can plot the moving average and see if it varies with time, this is a smoothing method. By moving average We mean that at any instant ‘t’, we’ll take the average of the last year (in our case). We are going to plot it against the original time series and take a look at it."
   ]
  },
  {
   "cell_type": "code",
   "execution_count": 561,
   "metadata": {},
   "outputs": [
    {
     "data": {},
     "metadata": {},
     "output_type": "display_data"
    },
    {
     "data": {
      "image/png": "[encoded data removed]",
      "text/plain": [
       "plot without title"
      ]
     },
     "metadata": {},
     "output_type": "display_data"
    }
   ],
   "source": [
    "moving_mean_vs_OG(unemployment_1998_2017, 'Number of Unemployed')"
   ]
  },
  {
   "cell_type": "markdown",
   "metadata": {},
   "source": [
    "The mean is clearly non constant over time. It seems that the series is **non stationary** but we are going to keep checking."
   ]
  },
  {
   "cell_type": "markdown",
   "metadata": {},
   "source": [
    "#### 3.2.2. Summary Statistics"
   ]
  },
  {
   "cell_type": "markdown",
   "metadata": {},
   "source": [
    "As we did with the Suicide time series we are going to split Unemployment time series into two partitions and compare the mean and variance of each group. If they differ and the difference is statistically significant, the time series is likely non-stationary."
   ]
  },
  {
   "cell_type": "code",
   "execution_count": 562,
   "metadata": {},
   "outputs": [
    {
     "name": "stdout",
     "output_type": "stream",
     "text": [
      "[1] \"Mean of the first partition = 2074668.23841667\"\n",
      "[1] \"Mean of the second partition = 4009564.52066116\"\n",
      "[1] \"Variance of the first partition = 18045819644.7617\"\n",
      "[1] \"Variance of the second partition = 474870785999.852\"\n"
     ]
    }
   ],
   "source": [
    "Stationarity_descriptive_test (unemployment_1998_2017)"
   ]
  },
  {
   "cell_type": "markdown",
   "metadata": {},
   "source": [
    "Running the code above, we can see the mean and variance look very different over time. It seems that we have a **non-stationary** time series."
   ]
  },
  {
   "cell_type": "markdown",
   "metadata": {},
   "source": [
    "#### 3.2.3. Statistical Tests"
   ]
  },
  {
   "cell_type": "code",
   "execution_count": 563,
   "metadata": {},
   "outputs": [
    {
     "name": "stdout",
     "output_type": "stream",
     "text": [
      "\n",
      "\tAugmented Dickey-Fuller Test\n",
      "\n",
      "data:  timeseries\n",
      "Dickey-Fuller = -0.62491, Lag order = 6, p-value = 0.9756\n",
      "alternative hypothesis: stationary\n",
      "\n"
     ]
    },
    {
     "name": "stderr",
     "output_type": "stream",
     "text": [
      "Warning message in kpss.test(timeseries):\n",
      "\"p-value smaller than printed p-value\""
     ]
    },
    {
     "name": "stdout",
     "output_type": "stream",
     "text": [
      "\n",
      "\tKPSS Test for Level Stationarity\n",
      "\n",
      "data:  timeseries\n",
      "KPSS Level = 3.7955, Truncation lag parameter = 4, p-value = 0.01\n",
      "\n"
     ]
    }
   ],
   "source": [
    "Stationarity_statistical_tests(unemployment_1998_2017)"
   ]
  },
  {
   "cell_type": "markdown",
   "metadata": {},
   "source": [
    "According to the test our Unemployment time series it's clearly **non stationary**."
   ]
  },
  {
   "cell_type": "markdown",
   "metadata": {},
   "source": [
    "## 4. Forecasting with ARIMA"
   ]
  },
  {
   "cell_type": "markdown",
   "metadata": {},
   "source": [
    "### 4.1.  Conversion to Stationary"
   ]
  },
  {
   "cell_type": "markdown",
   "metadata": {},
   "source": [
    "#### 4.1.1  Smoothing\n",
    "\n",
    "We are going to keep working with the Box Cox transformated series."
   ]
  },
  {
   "cell_type": "code",
   "execution_count": 564,
   "metadata": {},
   "outputs": [
    {
     "data": {
      "image/png": "[encoded data removed]",
      "text/plain": [
       "Plot with title \"Unemployment Series Box Cox\""
      ]
     },
     "metadata": {},
     "output_type": "display_data"
    }
   ],
   "source": [
    "options(repr.plot.width=8, repr.plot.height=3)\n",
    "\n",
    "unemployment_series_BoxCox  <- BoxCox(unemployment_1998_2017, lambda = 0)\n",
    "plot(unemployment_series_BoxCox, ylab = 'Unemployment', main = 'Unemployment Series Box Cox')"
   ]
  },
  {
   "cell_type": "markdown",
   "metadata": {},
   "source": [
    "#### 4.1.2. Differencing\n",
    "Differencing can help stabilise the mean of a time series by removing changes in the level of a time series, and therefore eliminating (or reducing) trend and seasonality."
   ]
  },
  {
   "cell_type": "code",
   "execution_count": 565,
   "metadata": {},
   "outputs": [
    {
     "data": {
      "image/png": "[encoded data removed]",
      "text/plain": [
       "Plot with title \"Unemployment Series Box Cox after Differencing\""
      ]
     },
     "metadata": {},
     "output_type": "display_data"
    }
   ],
   "source": [
    "unemployment_series_diff_BoxCox <- diff(unemployment_series_BoxCox)\n",
    "\n",
    "options(repr.plot.width=8, repr.plot.height=3)\n",
    "plot(unemployment_series_diff_BoxCox, ylab = 'Values', main = 'Unemployment Series Box Cox after Differencing')"
   ]
  },
  {
   "cell_type": "markdown",
   "metadata": {},
   "source": [
    "Now we are going to test the resulting series **after the transformation.**\n",
    "We are going to use the sationarity tests that we did before."
   ]
  },
  {
   "cell_type": "code",
   "execution_count": 566,
   "metadata": {},
   "outputs": [
    {
     "data": {},
     "metadata": {},
     "output_type": "display_data"
    },
    {
     "data": {
      "image/png": "[encoded data removed]",
      "text/plain": [
       "plot without title"
      ]
     },
     "metadata": {},
     "output_type": "display_data"
    }
   ],
   "source": [
    "#Visual test with moving mean\n",
    "moving_mean_vs_OG(unemployment_series_diff_BoxCox, 'Unemployment')"
   ]
  },
  {
   "cell_type": "markdown",
   "metadata": {},
   "source": [
    "The mean doesn't keep constant over time. But it's pretty much stabilized than the original. "
   ]
  },
  {
   "cell_type": "code",
   "execution_count": 567,
   "metadata": {},
   "outputs": [
    {
     "name": "stdout",
     "output_type": "stream",
     "text": [
      "[1] \"Mean of the first partition = -0.00160327747958431\"\n",
      "[1] \"Mean of the second partition = 0.00421737983930603\"\n",
      "[1] \"Variance of the first partition = 0.00038817693668656\"\n",
      "[1] \"Variance of the second partition = 0.00047045485779636\"\n"
     ]
    }
   ],
   "source": [
    "#Numerical test contrasting mean and variance at different time points\n",
    "Stationarity_descriptive_test(unemployment_series_diff_BoxCox)"
   ]
  },
  {
   "cell_type": "markdown",
   "metadata": {},
   "source": [
    "Both mean and variance don't change almost anything over time because of the transformation."
   ]
  },
  {
   "cell_type": "code",
   "execution_count": 568,
   "metadata": {},
   "outputs": [
    {
     "name": "stderr",
     "output_type": "stream",
     "text": [
      "Warning message in adf.test(timeseries):\n",
      "\"p-value smaller than printed p-value\""
     ]
    },
    {
     "name": "stdout",
     "output_type": "stream",
     "text": [
      "\n",
      "\tAugmented Dickey-Fuller Test\n",
      "\n",
      "data:  timeseries\n",
      "Dickey-Fuller = -5.6141, Lag order = 6, p-value = 0.01\n",
      "alternative hypothesis: stationary\n",
      "\n"
     ]
    },
    {
     "name": "stderr",
     "output_type": "stream",
     "text": [
      "Warning message in kpss.test(timeseries):\n",
      "\"p-value greater than printed p-value\""
     ]
    },
    {
     "name": "stdout",
     "output_type": "stream",
     "text": [
      "\n",
      "\tKPSS Test for Level Stationarity\n",
      "\n",
      "data:  timeseries\n",
      "KPSS Level = 0.32641, Truncation lag parameter = 4, p-value = 0.1\n",
      "\n"
     ]
    }
   ],
   "source": [
    "#KPSS and ADF hypothesis tests for stationarity\n",
    "Stationarity_statistical_tests(unemployment_series_diff_BoxCox)"
   ]
  },
  {
   "cell_type": "markdown",
   "metadata": {},
   "source": [
    "Our new time series passed both tests with 1 difference. **We have a stationary series now**."
   ]
  },
  {
   "cell_type": "markdown",
   "metadata": {},
   "source": [
    "Also we can use 'ndiffs' function to see the number of differences required for our time series to pass the stationarity statistical tests. We are going to check this out for the 'kpss', 'adf' and 'pp' tests."
   ]
  },
  {
   "cell_type": "code",
   "execution_count": 569,
   "metadata": {
    "scrolled": true
   },
   "outputs": [
    {
     "data": {
      "text/html": [
       "1"
      ],
      "text/latex": [
       "1"
      ],
      "text/markdown": [
       "1"
      ],
      "text/plain": [
       "[1] 1"
      ]
     },
     "metadata": {},
     "output_type": "display_data"
    }
   ],
   "source": [
    "ndiffs(unemployment_1998_2017, test= 'kpss')"
   ]
  },
  {
   "cell_type": "code",
   "execution_count": 570,
   "metadata": {},
   "outputs": [
    {
     "data": {
      "text/html": [
       "1"
      ],
      "text/latex": [
       "1"
      ],
      "text/markdown": [
       "1"
      ],
      "text/plain": [
       "[1] 1"
      ]
     },
     "metadata": {},
     "output_type": "display_data"
    }
   ],
   "source": [
    "ndiffs(unemployment_1998_2017, test= 'adf')"
   ]
  },
  {
   "cell_type": "code",
   "execution_count": 571,
   "metadata": {},
   "outputs": [
    {
     "data": {
      "text/html": [
       "1"
      ],
      "text/latex": [
       "1"
      ],
      "text/markdown": [
       "1"
      ],
      "text/plain": [
       "[1] 1"
      ]
     },
     "metadata": {},
     "output_type": "display_data"
    }
   ],
   "source": [
    "ndiffs(unemployment_1998_2017, test='pp')"
   ]
  },
  {
   "cell_type": "markdown",
   "metadata": {},
   "source": [
    "We have converted the data into stationary but we have seen that there is a seasonal component in our time series. We are going to take a look at the seasonal component to see if one order differencing is enough to get rid of it:"
   ]
  },
  {
   "cell_type": "code",
   "execution_count": 572,
   "metadata": {},
   "outputs": [
    {
     "data": {
      "text/plain": [
       "               Jan           Feb           Mar           Apr           May\n",
       "1998                1.007698e-03 -1.192873e-02 -2.301697e-02 -2.619057e-02\n",
       "1999  3.039738e-02  9.645888e-04 -1.202484e-02 -2.293702e-02 -2.650347e-02\n",
       "2000  3.044996e-02  9.234567e-04 -1.211858e-02 -2.285430e-02 -2.681292e-02\n",
       "2001  3.050911e-02  8.761629e-04 -1.232576e-02 -2.276228e-02 -2.724404e-02\n",
       "2002  3.073233e-02  8.104291e-04 -1.254808e-02 -2.268210e-02 -2.768113e-02\n",
       "2003  3.099979e-02  9.242556e-04 -1.329360e-02 -2.236461e-02 -2.895028e-02\n",
       "2004  3.114838e-02  9.920971e-04 -1.409894e-02 -2.212077e-02 -3.030982e-02\n",
       "2005  3.114002e-02  1.329473e-03 -1.286127e-02 -2.067698e-02 -3.074755e-02\n",
       "2006  3.092994e-02  1.856157e-03 -1.145678e-02 -1.908886e-02 -3.107658e-02\n",
       "2007  3.060097e-02  3.386974e-03 -9.118110e-03 -1.823811e-02 -2.955964e-02\n",
       "2008  3.052764e-02  5.035572e-03 -6.665742e-03 -1.727774e-02 -2.794522e-02\n",
       "2009  3.041595e-02  6.935389e-03 -5.128385e-03 -1.611004e-02 -2.580686e-02\n",
       "2010  2.949277e-02  8.823304e-03 -3.578475e-03 -1.490534e-02 -2.360547e-02\n",
       "2011  2.872256e-02  9.117960e-03 -2.863771e-03 -1.485269e-02 -2.269836e-02\n",
       "2012  2.781260e-02  9.286205e-03 -2.257246e-03 -1.488999e-02 -2.185358e-02\n",
       "2013  2.701642e-02  9.165167e-03 -2.268010e-03 -1.534605e-02 -2.170558e-02\n",
       "2014  2.675810e-02  8.966007e-03 -2.359840e-03 -1.588612e-02 -2.163770e-02\n",
       "2015  2.648586e-02  8.870258e-03 -2.376065e-03 -1.605975e-02 -2.155107e-02\n",
       "2016  2.634196e-02  8.769222e-03 -2.399447e-03 -1.624240e-02 -2.147435e-02\n",
       "2017  2.619829e-02  8.670508e-03 -2.445613e-03 -1.637434e-02 -2.141977e-02\n",
       "               Jun           Jul           Aug           Sep           Oct\n",
       "1998 -1.501012e-02 -1.127542e-02  1.016297e-02  8.459190e-03  1.897867e-02\n",
       "1999 -1.509140e-02 -1.097787e-02  1.041721e-02  8.026506e-03  1.898476e-02\n",
       "2000 -1.516854e-02 -1.067540e-02  1.067715e-02  7.600183e-03  1.899787e-02\n",
       "2001 -1.540226e-02 -1.002385e-02  1.112207e-02  6.788433e-03  1.902060e-02\n",
       "2002 -1.563611e-02 -9.364959e-03  1.158178e-02  5.999001e-03  1.907318e-02\n",
       "2003 -1.630646e-02 -7.811554e-03  1.285458e-02  3.813410e-03  1.933720e-02\n",
       "2004 -1.708396e-02 -6.381936e-03  1.398696e-02  1.475878e-03  1.943775e-02\n",
       "2005 -1.741551e-02 -7.758591e-03  1.403298e-02  7.822506e-04  1.900572e-02\n",
       "2006 -1.767398e-02 -9.101920e-03  1.407256e-02  4.830492e-05  1.849947e-02\n",
       "2007 -1.913372e-02 -1.055496e-02  1.313998e-02  9.415754e-04  1.827706e-02\n",
       "2008 -2.050811e-02 -1.193962e-02  1.225879e-02  1.866939e-03  1.806743e-02\n",
       "2009 -2.187938e-02 -1.325890e-02  1.044876e-02  3.938598e-03  1.885690e-02\n",
       "2010 -2.316161e-02 -1.446643e-02  8.773188e-03  6.158493e-03  1.980838e-02\n",
       "2011 -2.336224e-02 -1.401176e-02  8.492522e-03  7.947335e-03  2.056735e-02\n",
       "2012 -2.359756e-02 -1.356166e-02  8.237402e-03  9.787052e-03  2.140252e-02\n",
       "2013 -2.342530e-02 -1.281880e-02  8.750056e-03  1.037881e-02  2.158915e-02\n",
       "2014 -2.332928e-02 -1.214395e-02  9.202936e-03  1.092093e-02  2.173630e-02\n",
       "2015 -2.325486e-02 -1.180585e-02  9.337830e-03  1.113091e-02  2.184102e-02\n",
       "2016 -2.319124e-02 -1.147816e-02  9.462670e-03  1.133265e-02  2.193930e-02\n",
       "2017 -2.311345e-02 -1.122950e-02  9.580361e-03  1.147641e-02  2.202227e-02\n",
       "               Nov           Dec\n",
       "1998  1.921961e-02 -6.245102e-04\n",
       "1999  1.925231e-02 -3.857325e-04\n",
       "2000  1.929219e-02 -1.396406e-04\n",
       "2001  1.935281e-02  2.323119e-04\n",
       "2002  1.944909e-02  6.457434e-04\n",
       "2003  1.953361e-02  1.992663e-03\n",
       "2004  1.945210e-02  3.170980e-03\n",
       "2005  1.821764e-02  3.619548e-03\n",
       "2006  1.688859e-02  3.953146e-03\n",
       "2007  1.473448e-02  2.323618e-03\n",
       "2008  1.257513e-02  6.708159e-04\n",
       "2009  1.067943e-02 -1.602549e-03\n",
       "2010  8.947686e-03 -3.710024e-03\n",
       "2011  7.961936e-03 -5.597688e-03\n",
       "2012  7.068477e-03 -7.376976e-03\n",
       "2013  7.018145e-03 -8.226115e-03\n",
       "2014  6.937530e-03 -9.096329e-03\n",
       "2015  6.876056e-03 -9.453728e-03\n",
       "2016  6.810569e-03 -9.812721e-03\n",
       "2017  6.776886e-03 -1.004824e-02"
      ]
     },
     "metadata": {},
     "output_type": "display_data"
    }
   ],
   "source": [
    "STL_unemployment_diff_BoxCox_components <- mstl(unemployment_series_diff_BoxCox)\n",
    "seasonal(STL_unemployment_diff_BoxCox_components)"
   ]
  },
  {
   "cell_type": "markdown",
   "metadata": {},
   "source": [
    "First order differencing seems enough to get what we need. The values are close to zero and have clearly changed since the original series seasonal component."
   ]
  },
  {
   "cell_type": "markdown",
   "metadata": {},
   "source": [
    "### 4.2. Best ARIMA model"
   ]
  },
  {
   "cell_type": "markdown",
   "metadata": {},
   "source": [
    "We already have the data that meet the conditions Arima asks us for. With this data we would pass on to calculate the appropriate parameters (p, d, q and P, D, Q) to choose the model that best fits with the values of acf and pcf function applied to our transformated and differenced time series.\n",
    "\n",
    "However, we have chosen to use the 'auto.arima' function that facilitates our work choosing the best parameters.\n",
    "\n",
    "The 'auto.arima' function returns the best ARIMA model according to either AIC, AICc or BIC value. The function conducts a search over possible model within the order constraints provided."
   ]
  },
  {
   "cell_type": "markdown",
   "metadata": {},
   "source": [
    "#### 4.2.1. Estimating"
   ]
  },
  {
   "cell_type": "markdown",
   "metadata": {},
   "source": [
    "Throughout the analysis we have arrived at a series of conclusions that we are going to include in the model parameters:\n",
    "\n",
    "- We know that our original time series is non stationary.\n",
    "- We know that our original time series has a seasonal component.\n",
    "- We know that our series works better with a transformation; lambda = 0 will perform a BoxCox transformation.\n",
    "- Also, we know that we only need a differencing of first order to make the data stationary (d=1)so we will be more efficient and we will introduce the parameter d in the function."
   ]
  },
  {
   "cell_type": "code",
   "execution_count": 573,
   "metadata": {},
   "outputs": [
    {
     "name": "stdout",
     "output_type": "stream",
     "text": [
      "\n",
      " Fitting models using approximations to speed things up...\n",
      "\n",
      " ARIMA(2,1,2)(1,1,1)[12]                    : -1314.466\n",
      " ARIMA(0,1,0)(0,1,0)[12]                    : -1180.274\n",
      " ARIMA(1,1,0)(1,1,0)[12]                    : -1247.204\n",
      " ARIMA(0,1,1)(0,1,1)[12]                    : -1242.891\n",
      " ARIMA(2,1,2)(0,1,1)[12]                    : -1316.928\n",
      " ARIMA(2,1,2)(0,1,0)[12]                    : -1271.066\n",
      " ARIMA(2,1,2)(0,1,2)[12]                    : -1316.021\n",
      " ARIMA(2,1,2)(1,1,2)[12]                    : -1312.901\n",
      " ARIMA(1,1,2)(0,1,1)[12]                    : -1319.247\n",
      " ARIMA(1,1,1)(0,1,1)[12]                    : -1320.316\n",
      " ARIMA(0,1,0)(0,1,1)[12]                    : -1204.448\n",
      " ARIMA(1,1,1)(1,1,1)[12]                    : -1317.394\n",
      " ARIMA(1,1,1)(0,1,0)[12]                    : -1256.461\n",
      " ARIMA(1,1,1)(0,1,2)[12]                    : -1319.407\n",
      " ARIMA(1,1,1)(1,1,2)[12]                    : -1315.731\n",
      " ARIMA(2,1,1)(0,1,1)[12]                    : -1318.841\n",
      " ARIMA(1,1,0)(0,1,1)[12]                    : -1277.95\n",
      "\n",
      " Now re-fitting the best model(s) without approximations...\n",
      "\n",
      " ARIMA(1,1,1)(0,1,1)[12]                    : -1433.576\n",
      "\n",
      " Best model: ARIMA(1,1,1)(0,1,1)[12]                    \n",
      "\n"
     ]
    }
   ],
   "source": [
    "unemployment_series_best_arima <- auto.arima(unemployment_1998_2017, \n",
    "                                             d = 1, trace = TRUE, stationary = FALSE,\n",
    "                                             seasonal = TRUE, lambda = 0)"
   ]
  },
  {
   "cell_type": "markdown",
   "metadata": {},
   "source": [
    "The arima model that best fits is this: ARIMA(1,1,1)(0,1,1)[12]\n",
    "\n",
    "To check if it is valid we will observe how its residuals behave as we did in the Holt-Winters model."
   ]
  },
  {
   "cell_type": "code",
   "execution_count": 574,
   "metadata": {},
   "outputs": [
    {
     "data": {
      "image/png": "[encoded data removed]",
      "text/plain": [
       "Plot with title \"Arima Residuals\""
      ]
     },
     "metadata": {},
     "output_type": "display_data"
    },
    {
     "data": {
      "image/png": "[encoded data removed]",
      "text/plain": [
       "Plot with title \"Ljung-Box Q Test\""
      ]
     },
     "metadata": {},
     "output_type": "display_data"
    }
   ],
   "source": [
    "#Autocorrelation\n",
    "unemployment_series_best_arima_residuals  <- residuals(unemployment_series_best_arima)\n",
    "acf(unemployment_series_best_arima_residuals, main = 'Arima Residuals', lag.max = 140)\n",
    "box_test_unemployment_series_best_arima <- LjungBoxTest (unemployment_series_best_arima_residuals)\n",
    "plot(box_test_unemployment_series_best_arima[,3],main= \"Ljung-Box Q Test\", ylab= \"P-values\", xlab= \"Lag\")"
   ]
  },
  {
   "cell_type": "code",
   "execution_count": 575,
   "metadata": {},
   "outputs": [
    {
     "data": {
      "text/html": [
       "<table>\n",
       "<thead><tr><th></th><th scope=col>m</th><th scope=col>Qm</th><th scope=col>pvalue</th></tr></thead>\n",
       "<tbody>\n",
       "\t<tr><th scope=row></th><td> 1       </td><td> 0.07    </td><td>0.7938140</td></tr>\n",
       "\t<tr><th scope=row></th><td> 2       </td><td> 0.22    </td><td>0.8949671</td></tr>\n",
       "\t<tr><th scope=row></th><td> 3       </td><td> 0.74    </td><td>0.8645344</td></tr>\n",
       "\t<tr><th scope=row></th><td> 4       </td><td> 1.26    </td><td>0.8674812</td></tr>\n",
       "\t<tr><th scope=row></th><td> 5       </td><td> 2.65    </td><td>0.7540503</td></tr>\n",
       "\t<tr><th scope=row></th><td> 6       </td><td> 7.96    </td><td>0.2407405</td></tr>\n",
       "\t<tr><th scope=row></th><td> 7       </td><td>10.35    </td><td>0.1693534</td></tr>\n",
       "\t<tr><th scope=row></th><td> 8       </td><td>10.96    </td><td>0.2038301</td></tr>\n",
       "\t<tr><th scope=row></th><td> 9       </td><td>10.96    </td><td>0.2782812</td></tr>\n",
       "\t<tr><th scope=row></th><td>10       </td><td>12.50    </td><td>0.2531187</td></tr>\n",
       "\t<tr><th scope=row></th><td>11       </td><td>14.95    </td><td>0.1845805</td></tr>\n",
       "\t<tr><th scope=row></th><td>12       </td><td>14.99    </td><td>0.2422279</td></tr>\n",
       "\t<tr><th scope=row></th><td>13       </td><td>15.36    </td><td>0.2854739</td></tr>\n",
       "\t<tr><th scope=row></th><td>14       </td><td>15.77    </td><td>0.3278172</td></tr>\n",
       "\t<tr><th scope=row></th><td>15       </td><td>16.51    </td><td>0.3492411</td></tr>\n",
       "\t<tr><th scope=row></th><td>16       </td><td>16.66    </td><td>0.4081356</td></tr>\n",
       "\t<tr><th scope=row></th><td>17       </td><td>16.94    </td><td>0.4584271</td></tr>\n",
       "\t<tr><th scope=row></th><td>18       </td><td>18.87    </td><td>0.3998576</td></tr>\n",
       "\t<tr><th scope=row></th><td>19       </td><td>18.87    </td><td>0.4651837</td></tr>\n",
       "\t<tr><th scope=row></th><td>20       </td><td>19.20    </td><td>0.5085900</td></tr>\n",
       "\t<tr><th scope=row></th><td>21       </td><td>20.00    </td><td>0.5210325</td></tr>\n",
       "\t<tr><th scope=row></th><td>22       </td><td>20.25    </td><td>0.5671811</td></tr>\n",
       "\t<tr><th scope=row></th><td>23       </td><td>20.35    </td><td>0.6207927</td></tr>\n",
       "\t<tr><th scope=row></th><td>24       </td><td>20.68    </td><td>0.6576057</td></tr>\n",
       "\t<tr><th scope=row></th><td>25       </td><td>21.10    </td><td>0.6872108</td></tr>\n",
       "\t<tr><th scope=row></th><td>26       </td><td>21.74    </td><td>0.7027069</td></tr>\n",
       "\t<tr><th scope=row></th><td>27       </td><td>21.75    </td><td>0.7502192</td></tr>\n",
       "\t<tr><th scope=row></th><td>28       </td><td>21.95    </td><td>0.7836175</td></tr>\n",
       "\t<tr><th scope=row></th><td>29       </td><td>21.96    </td><td>0.8219078</td></tr>\n",
       "\t<tr><th scope=row></th><td>30       </td><td>25.68    </td><td>0.6913690</td></tr>\n",
       "</tbody>\n",
       "</table>\n"
      ],
      "text/latex": [
       "\\begin{tabular}{r|lll}\n",
       "  & m & Qm & pvalue\\\\\n",
       "\\hline\n",
       "\t &  1        &  0.07     & 0.7938140\\\\\n",
       "\t &  2        &  0.22     & 0.8949671\\\\\n",
       "\t &  3        &  0.74     & 0.8645344\\\\\n",
       "\t &  4        &  1.26     & 0.8674812\\\\\n",
       "\t &  5        &  2.65     & 0.7540503\\\\\n",
       "\t &  6        &  7.96     & 0.2407405\\\\\n",
       "\t &  7        & 10.35     & 0.1693534\\\\\n",
       "\t &  8        & 10.96     & 0.2038301\\\\\n",
       "\t &  9        & 10.96     & 0.2782812\\\\\n",
       "\t & 10        & 12.50     & 0.2531187\\\\\n",
       "\t & 11        & 14.95     & 0.1845805\\\\\n",
       "\t & 12        & 14.99     & 0.2422279\\\\\n",
       "\t & 13        & 15.36     & 0.2854739\\\\\n",
       "\t & 14        & 15.77     & 0.3278172\\\\\n",
       "\t & 15        & 16.51     & 0.3492411\\\\\n",
       "\t & 16        & 16.66     & 0.4081356\\\\\n",
       "\t & 17        & 16.94     & 0.4584271\\\\\n",
       "\t & 18        & 18.87     & 0.3998576\\\\\n",
       "\t & 19        & 18.87     & 0.4651837\\\\\n",
       "\t & 20        & 19.20     & 0.5085900\\\\\n",
       "\t & 21        & 20.00     & 0.5210325\\\\\n",
       "\t & 22        & 20.25     & 0.5671811\\\\\n",
       "\t & 23        & 20.35     & 0.6207927\\\\\n",
       "\t & 24        & 20.68     & 0.6576057\\\\\n",
       "\t & 25        & 21.10     & 0.6872108\\\\\n",
       "\t & 26        & 21.74     & 0.7027069\\\\\n",
       "\t & 27        & 21.75     & 0.7502192\\\\\n",
       "\t & 28        & 21.95     & 0.7836175\\\\\n",
       "\t & 29        & 21.96     & 0.8219078\\\\\n",
       "\t & 30        & 25.68     & 0.6913690\\\\\n",
       "\\end{tabular}\n"
      ],
      "text/markdown": [
       "\n",
       "| <!--/--> | m | Qm | pvalue | \n",
       "|---|---|---|---|---|---|---|---|---|---|---|---|---|---|---|---|---|---|---|---|---|---|---|---|---|---|---|---|---|---|\n",
       "|  |  1        |  0.07     | 0.7938140 | \n",
       "|  |  2        |  0.22     | 0.8949671 | \n",
       "|  |  3        |  0.74     | 0.8645344 | \n",
       "|  |  4        |  1.26     | 0.8674812 | \n",
       "|  |  5        |  2.65     | 0.7540503 | \n",
       "|  |  6        |  7.96     | 0.2407405 | \n",
       "|  |  7        | 10.35     | 0.1693534 | \n",
       "|  |  8        | 10.96     | 0.2038301 | \n",
       "|  |  9        | 10.96     | 0.2782812 | \n",
       "|  | 10        | 12.50     | 0.2531187 | \n",
       "|  | 11        | 14.95     | 0.1845805 | \n",
       "|  | 12        | 14.99     | 0.2422279 | \n",
       "|  | 13        | 15.36     | 0.2854739 | \n",
       "|  | 14        | 15.77     | 0.3278172 | \n",
       "|  | 15        | 16.51     | 0.3492411 | \n",
       "|  | 16        | 16.66     | 0.4081356 | \n",
       "|  | 17        | 16.94     | 0.4584271 | \n",
       "|  | 18        | 18.87     | 0.3998576 | \n",
       "|  | 19        | 18.87     | 0.4651837 | \n",
       "|  | 20        | 19.20     | 0.5085900 | \n",
       "|  | 21        | 20.00     | 0.5210325 | \n",
       "|  | 22        | 20.25     | 0.5671811 | \n",
       "|  | 23        | 20.35     | 0.6207927 | \n",
       "|  | 24        | 20.68     | 0.6576057 | \n",
       "|  | 25        | 21.10     | 0.6872108 | \n",
       "|  | 26        | 21.74     | 0.7027069 | \n",
       "|  | 27        | 21.75     | 0.7502192 | \n",
       "|  | 28        | 21.95     | 0.7836175 | \n",
       "|  | 29        | 21.96     | 0.8219078 | \n",
       "|  | 30        | 25.68     | 0.6913690 | \n",
       "\n",
       "\n"
      ],
      "text/plain": [
       " m  Qm    pvalue   \n",
       "  1  0.07 0.7938140\n",
       "  2  0.22 0.8949671\n",
       "  3  0.74 0.8645344\n",
       "  4  1.26 0.8674812\n",
       "  5  2.65 0.7540503\n",
       "  6  7.96 0.2407405\n",
       "  7 10.35 0.1693534\n",
       "  8 10.96 0.2038301\n",
       "  9 10.96 0.2782812\n",
       " 10 12.50 0.2531187\n",
       " 11 14.95 0.1845805\n",
       " 12 14.99 0.2422279\n",
       " 13 15.36 0.2854739\n",
       " 14 15.77 0.3278172\n",
       " 15 16.51 0.3492411\n",
       " 16 16.66 0.4081356\n",
       " 17 16.94 0.4584271\n",
       " 18 18.87 0.3998576\n",
       " 19 18.87 0.4651837\n",
       " 20 19.20 0.5085900\n",
       " 21 20.00 0.5210325\n",
       " 22 20.25 0.5671811\n",
       " 23 20.35 0.6207927\n",
       " 24 20.68 0.6576057\n",
       " 25 21.10 0.6872108\n",
       " 26 21.74 0.7027069\n",
       " 27 21.75 0.7502192\n",
       " 28 21.95 0.7836175\n",
       " 29 21.96 0.8219078\n",
       " 30 25.68 0.6913690"
      ]
     },
     "metadata": {},
     "output_type": "display_data"
    }
   ],
   "source": [
    "box_test_unemployment_series_best_arima"
   ]
  },
  {
   "cell_type": "markdown",
   "metadata": {},
   "source": [
    "*The ACF of the residuals shows non-significant autocorrelations.*\n",
    "*Also, all the values of p for the Ljung-Box Q test are above 0.05, which indicates that the data is not dependent.*"
   ]
  },
  {
   "cell_type": "code",
   "execution_count": 576,
   "metadata": {},
   "outputs": [
    {
     "data": {
      "image/png": "[encoded data removed]",
      "text/plain": [
       "Plot with title \"Normal Q-Q Plot\""
      ]
     },
     "metadata": {},
     "output_type": "display_data"
    },
    {
     "data": {
      "image/png": "[encoded data removed]",
      "text/plain": [
       "Plot with title \"Histogram of residuals\""
      ]
     },
     "metadata": {},
     "output_type": "display_data"
    }
   ],
   "source": [
    "#Normal Q-Q plot\n",
    "qqnorm(unemployment_series_best_arima_residuals)\n",
    "qqline(unemployment_series_best_arima_residuals)\n",
    "\n",
    "#Histogram\n",
    "hist(unemployment_series_best_arima_residuals, prob = T, col=\"6\", main = 'Histogram of residuals', xlab = 'Residuals')\n",
    "lines(density (na.omit(unemployment_series_best_arima_residuals)), col=\"4\")\n",
    "\n"
   ]
  },
  {
   "cell_type": "markdown",
   "metadata": {},
   "source": [
    "*The values are close to normal.*"
   ]
  },
  {
   "cell_type": "markdown",
   "metadata": {},
   "source": [
    "As the graphs support the assumption that there is no pattern in the residuals, we can go ahead and calculate the forecast."
   ]
  },
  {
   "cell_type": "markdown",
   "metadata": {},
   "source": [
    "#### 4.2.2  Forecasting"
   ]
  },
  {
   "cell_type": "markdown",
   "metadata": {},
   "source": [
    "The following is the plot of the next two years forectasts (blue line). The shadowed blue is the 80% of confidence and the shadowed grey is the 95%."
   ]
  },
  {
   "cell_type": "code",
   "execution_count": 577,
   "metadata": {},
   "outputs": [
    {
     "data": {
      "image/png": "[encoded data removed]",
      "text/plain": [
       "Plot with title \"Unemployment Forecasts from ARIMA\""
      ]
     },
     "metadata": {},
     "output_type": "display_data"
    }
   ],
   "source": [
    "options(repr.plot.width=8, repr.plot.height=4)\n",
    "unemployment_series_best_arima_forecast <- forecast(unemployment_series_best_arima)\n",
    "plot(unemployment_series_best_arima_forecast, main= 'Unemployment Forecasts from ARIMA')"
   ]
  },
  {
   "cell_type": "code",
   "execution_count": 578,
   "metadata": {},
   "outputs": [
    {
     "data": {
      "text/plain": [
       "         Point Forecast   Lo 80   Hi 80   Lo 95   Hi 95\n",
       "Jan 2018        3478558 3431554 3526205 3406930 3551692\n",
       "Feb 2018        3483087 3406358 3561545 3366426 3603791\n",
       "Mar 2018        3449172 3344144 3557498 3289846 3616213\n",
       "Apr 2018        3365110 3233823 3501727 3166410 3576279\n",
       "May 2018        3273154 3116888 3437254 3037209 3527429\n",
       "Jun 2018        3184333 3004081 3375400 2912829 3481144\n",
       "Jul 2018        3140472 2934551 3360843 2831067 3483692\n",
       "Aug 2018        3163932 2927911 3418979 2810182 3562212\n",
       "Sep 2018        3186760 2920174 3477684 2788201 3642291\n",
       "Oct 2018        3241707 2941162 3572963 2793512 3761810\n",
       "Nov 2018        3250023 2919350 3618151 2758147 3829617\n",
       "Dec 2018        3198128 2843994 3596358 2672689 3826866\n",
       "Jan 2019        3260794 2865804 3710225 2676463 3972698\n",
       "Feb 2019        3266011 2835947 3761293 2631707 4053197\n",
       "Mar 2019        3235118 2774770 3771839 2558219 4091122\n",
       "Apr 2019        3157111 2674287 3727105 2449346 4069392\n",
       "May 2019        3071608 2569277 3672153 2337523 4036229\n",
       "Jun 2019        2988964 2468628 3618976 2230919 4004586\n",
       "Jul 2019        2948454 2404344 3615698 2158220 4028033\n",
       "Aug 2019        2971107 2392086 3690285 2132757 4139000\n",
       "Sep 2019        2993142 2379256 3765420 2107029 4251910\n",
       "Oct 2019        3045324 2390068 3880224 2102366 4411219\n",
       "Nov 2019        3053680 2366343 3940663 2067533 4510188\n",
       "Dec 2019        3005426 2299632 3927840 1995817 4525760"
      ]
     },
     "metadata": {},
     "output_type": "display_data"
    }
   ],
   "source": [
    "unemployment_series_best_arima_forecast"
   ]
  },
  {
   "cell_type": "markdown",
   "metadata": {},
   "source": [
    "- Evaluating forecasts"
   ]
  },
  {
   "cell_type": "code",
   "execution_count": 579,
   "metadata": {},
   "outputs": [
    {
     "name": "stdout",
     "output_type": "stream",
     "text": [
      "\n",
      " Fitting models using approximations to speed things up...\n",
      "\n",
      " ARIMA(2,1,2)(1,1,1)[12]                    : -1147.128\n",
      " ARIMA(0,1,0)(0,1,0)[12]                    : -1027.28\n",
      " ARIMA(1,1,0)(1,1,0)[12]                    : -1088.309\n",
      " ARIMA(0,1,1)(0,1,1)[12]                    : -1084.348\n",
      " ARIMA(2,1,2)(0,1,1)[12]                    : -1150.361\n",
      " ARIMA(2,1,2)(0,1,0)[12]                    : -1112.564\n",
      " ARIMA(2,1,2)(0,1,2)[12]                    : -1149.432\n",
      " ARIMA(2,1,2)(1,1,2)[12]                    : -1145.425\n",
      " ARIMA(1,1,2)(0,1,1)[12]                    : -1153.049\n",
      " ARIMA(1,1,1)(0,1,1)[12]                    : -1154.034\n",
      " ARIMA(0,1,0)(0,1,1)[12]                    : -1048.468\n",
      " ARIMA(1,1,1)(1,1,1)[12]                    : -1150.189\n",
      " ARIMA(1,1,1)(0,1,0)[12]                    : -1098.221\n",
      " ARIMA(1,1,1)(0,1,2)[12]                    : -1153.072\n",
      " ARIMA(1,1,1)(1,1,2)[12]                    : -1148.459\n",
      " ARIMA(2,1,1)(0,1,1)[12]                    : -1152.539\n",
      " ARIMA(1,1,0)(0,1,1)[12]                    : -1116.065\n",
      "\n",
      " Now re-fitting the best model(s) without approximations...\n",
      "\n",
      " ARIMA(1,1,1)(0,1,1)[12]                    : -1265.387\n",
      "\n",
      " Best model: ARIMA(1,1,1)(0,1,1)[12]                    \n",
      "\n"
     ]
    },
    {
     "data": {
      "text/html": [
       "<table>\n",
       "<thead><tr><th></th><th scope=col>ME</th><th scope=col>RMSE</th><th scope=col>MAE</th><th scope=col>MPE</th><th scope=col>MAPE</th><th scope=col>MASE</th><th scope=col>ACF1</th><th scope=col>Theil's U</th></tr></thead>\n",
       "<tbody>\n",
       "\t<tr><th scope=row>Training set</th><td>  -1482.438</td><td> 29702.52  </td><td> 21547.36  </td><td>-0.00397718</td><td>0.7619887  </td><td>0.08635393 </td><td>0.1014751  </td><td>      NA   </td></tr>\n",
       "\t<tr><th scope=row>Test set</th><td>-167422.395</td><td>186596.63  </td><td>167422.39  </td><td>-4.69058925</td><td>4.6905892  </td><td>0.67096779 </td><td>0.8883942  </td><td>2.856588   </td></tr>\n",
       "</tbody>\n",
       "</table>\n"
      ],
      "text/latex": [
       "\\begin{tabular}{r|llllllll}\n",
       "  & ME & RMSE & MAE & MPE & MAPE & MASE & ACF1 & Theil's U\\\\\n",
       "\\hline\n",
       "\tTraining set &   -1482.438 &  29702.52   &  21547.36   & -0.00397718 & 0.7619887   & 0.08635393  & 0.1014751   &       NA   \\\\\n",
       "\tTest set & -167422.395 & 186596.63   & 167422.39   & -4.69058925 & 4.6905892   & 0.67096779  & 0.8883942   & 2.856588   \\\\\n",
       "\\end{tabular}\n"
      ],
      "text/markdown": [
       "\n",
       "| <!--/--> | ME | RMSE | MAE | MPE | MAPE | MASE | ACF1 | Theil's U | \n",
       "|---|---|\n",
       "| Training set |   -1482.438 |  29702.52   |  21547.36   | -0.00397718 | 0.7619887   | 0.08635393  | 0.1014751   |       NA    | \n",
       "| Test set | -167422.395 | 186596.63   | 167422.39   | -4.69058925 | 4.6905892   | 0.67096779  | 0.8883942   | 2.856588    | \n",
       "\n",
       "\n"
      ],
      "text/plain": [
       "             ME          RMSE      MAE       MPE         MAPE      MASE      \n",
       "Training set   -1482.438  29702.52  21547.36 -0.00397718 0.7619887 0.08635393\n",
       "Test set     -167422.395 186596.63 167422.39 -4.69058925 4.6905892 0.67096779\n",
       "             ACF1      Theil's U\n",
       "Training set 0.1014751       NA \n",
       "Test set     0.8883942 2.856588 "
      ]
     },
     "metadata": {},
     "output_type": "display_data"
    },
    {
     "data": {
      "image/png": "[encoded data removed]",
      "text/plain": [
       "Plot with title \"Forecasts from ARIMA(1,1,1)(0,1,1)[12]\""
      ]
     },
     "metadata": {},
     "output_type": "display_data"
    }
   ],
   "source": [
    "#Split train and test\n",
    "forecast_arima_unemployment_series_train <- forecast(auto.arima(head(unemployment_1998_2017, 216), \n",
    "                                             d = 1, trace = TRUE, stationary = FALSE,\n",
    "                                             seasonal = TRUE, lambda = 0), h = 24)\n",
    "\n",
    "#Accuracy and plot\n",
    "accuracy(forecast_arima_unemployment_series_train, unemployment_series_test)\n",
    "plot(forecast_arima_unemployment_series_train)\n",
    "lines(unemployment_1998_2017)"
   ]
  },
  {
   "cell_type": "markdown",
   "metadata": {},
   "source": [
    "#### *Comparison of predictive models carried out throughout the project on unemployment in Spain.*"
   ]
  },
  {
   "cell_type": "code",
   "execution_count": 580,
   "metadata": {},
   "outputs": [
    {
     "data": {
      "text/html": [
       "<table>\n",
       "<thead><tr><th></th><th scope=col>ME</th><th scope=col>RMSE</th><th scope=col>MAE</th><th scope=col>MPE</th><th scope=col>MAPE</th><th scope=col>MASE</th><th scope=col>ACF1</th><th scope=col>Theil's U</th></tr></thead>\n",
       "<tbody>\n",
       "\t<tr><th scope=row>Training set</th><td>  -237.377 </td><td> 24879.43  </td><td> 19067.31  </td><td>0.02890272 </td><td>0.7259244  </td><td>0.07881806 </td><td>-0.00131463</td><td>      NA   </td></tr>\n",
       "\t<tr><th scope=row>Test set</th><td>305160.613 </td><td>338260.77  </td><td>305160.61  </td><td>7.97975919 </td><td>7.9797592  </td><td>1.26143442 </td><td> 0.90775605</td><td>5.283993   </td></tr>\n",
       "</tbody>\n",
       "</table>\n"
      ],
      "text/latex": [
       "\\begin{tabular}{r|llllllll}\n",
       "  & ME & RMSE & MAE & MPE & MAPE & MASE & ACF1 & Theil's U\\\\\n",
       "\\hline\n",
       "\tTraining set &   -237.377  &  24879.43   &  19067.31   & 0.02890272  & 0.7259244   & 0.07881806  & -0.00131463 &       NA   \\\\\n",
       "\tTest set & 305160.613  & 338260.77   & 305160.61   & 7.97975919  & 7.9797592   & 1.26143442  &  0.90775605 & 5.283993   \\\\\n",
       "\\end{tabular}\n"
      ],
      "text/markdown": [
       "\n",
       "| <!--/--> | ME | RMSE | MAE | MPE | MAPE | MASE | ACF1 | Theil's U | \n",
       "|---|---|\n",
       "| Training set |   -237.377  |  24879.43   |  19067.31   | 0.02890272  | 0.7259244   | 0.07881806  | -0.00131463 |       NA    | \n",
       "| Test set | 305160.613  | 338260.77   | 305160.61   | 7.97975919  | 7.9797592   | 1.26143442  |  0.90775605 | 5.283993    | \n",
       "\n",
       "\n"
      ],
      "text/plain": [
       "             ME         RMSE      MAE       MPE        MAPE      MASE      \n",
       "Training set   -237.377  24879.43  19067.31 0.02890272 0.7259244 0.07881806\n",
       "Test set     305160.613 338260.77 305160.61 7.97975919 7.9797592 1.26143442\n",
       "             ACF1        Theil's U\n",
       "Training set -0.00131463       NA \n",
       "Test set      0.90775605 5.283993 "
      ]
     },
     "metadata": {},
     "output_type": "display_data"
    },
    {
     "data": {
      "text/html": [
       "<table>\n",
       "<thead><tr><th></th><th scope=col>ME</th><th scope=col>RMSE</th><th scope=col>MAE</th><th scope=col>MPE</th><th scope=col>MAPE</th><th scope=col>MASE</th><th scope=col>ACF1</th><th scope=col>Theil's U</th></tr></thead>\n",
       "<tbody>\n",
       "\t<tr><th scope=row>Training set</th><td>  -1482.438</td><td> 29702.52  </td><td> 21547.36  </td><td>-0.00397718</td><td>0.7619887  </td><td>0.08635393 </td><td>0.1014751  </td><td>      NA   </td></tr>\n",
       "\t<tr><th scope=row>Test set</th><td>-167422.395</td><td>186596.63  </td><td>167422.39  </td><td>-4.69058925</td><td>4.6905892  </td><td>0.67096779 </td><td>0.8883942  </td><td>2.856588   </td></tr>\n",
       "</tbody>\n",
       "</table>\n"
      ],
      "text/latex": [
       "\\begin{tabular}{r|llllllll}\n",
       "  & ME & RMSE & MAE & MPE & MAPE & MASE & ACF1 & Theil's U\\\\\n",
       "\\hline\n",
       "\tTraining set &   -1482.438 &  29702.52   &  21547.36   & -0.00397718 & 0.7619887   & 0.08635393  & 0.1014751   &       NA   \\\\\n",
       "\tTest set & -167422.395 & 186596.63   & 167422.39   & -4.69058925 & 4.6905892   & 0.67096779  & 0.8883942   & 2.856588   \\\\\n",
       "\\end{tabular}\n"
      ],
      "text/markdown": [
       "\n",
       "| <!--/--> | ME | RMSE | MAE | MPE | MAPE | MASE | ACF1 | Theil's U | \n",
       "|---|---|\n",
       "| Training set |   -1482.438 |  29702.52   |  21547.36   | -0.00397718 | 0.7619887   | 0.08635393  | 0.1014751   |       NA    | \n",
       "| Test set | -167422.395 | 186596.63   | 167422.39   | -4.69058925 | 4.6905892   | 0.67096779  | 0.8883942   | 2.856588    | \n",
       "\n",
       "\n"
      ],
      "text/plain": [
       "             ME          RMSE      MAE       MPE         MAPE      MASE      \n",
       "Training set   -1482.438  29702.52  21547.36 -0.00397718 0.7619887 0.08635393\n",
       "Test set     -167422.395 186596.63 167422.39 -4.69058925 4.6905892 0.67096779\n",
       "             ACF1      Theil's U\n",
       "Training set 0.1014751       NA \n",
       "Test set     0.8883942 2.856588 "
      ]
     },
     "metadata": {},
     "output_type": "display_data"
    }
   ],
   "source": [
    "accuracy (forecast_decomposed_unemployment_series_future, unemployment_series_test)\n",
    "accuracy (forecast_arima_unemployment_series_train, unemployment_series_test)"
   ]
  },
  {
   "cell_type": "markdown",
   "metadata": {},
   "source": [
    "None of the models offer us a good result, it is likely that we have to face the unemployment time series with other methods.\n",
    "\n",
    "That the numbers are so big and that they are not distributed in a normal way is not a great help either, even when they are transformed, they still give very dispersed results.\n",
    "\n",
    "Like suicide, unemployment is a stochastic process that has undergone many changes in Spain in recent years, difficult to predict with the information we had.\n",
    "\n",
    "We will have to study models that give more weight to the most recent values, non-parametric methods or, simply, procedures where which we have more variables than a univariate time series."
   ]
  },
  {
   "cell_type": "markdown",
   "metadata": {},
   "source": [
    "# Relation between Unemployment and Suicide in Spain"
   ]
  },
  {
   "cell_type": "markdown",
   "metadata": {},
   "source": [
    "In this section, we are going to analyze the statistical relationship of the time series of Suicide and Unemployment in Spain (1998-2017).\n",
    "\n",
    "\n",
    "For this we are going to use the proposals of Box and Jenkins (1970) for the calculation of the cross-correlation function and the subsequent identification of the potential transfer between two systems (two time series).\n",
    "\n",
    "\n",
    "In this approach the relationship between two time series is studied; relationship that does not pretend to be explanatory, but informs us about the strength and direction of the possible impact of a series 'input' to another series 'output'."
   ]
  },
  {
   "cell_type": "markdown",
   "metadata": {},
   "source": [
    "The point of this methodology and not calculate the cross correlation between the original time series is that when an input series is autocorrelated, the direct cross-correlation function between the input and response series gives a misleading indication of the relation between the input and response series.\n",
    "\n",
    "Is usually called prewhitening. You first fit an ARIMA model for the input series sufficient to reduce the residuals to white noise; then, filter the input series with this model to get the white noise residual series. You then filter the output series with the same model and cross-correlate the filtered response with the filtered input series."
   ]
  },
  {
   "cell_type": "markdown",
   "metadata": {},
   "source": [
    "## 1. Prewhitening Method and Cross Correlation"
   ]
  },
  {
   "cell_type": "markdown",
   "metadata": {},
   "source": [
    "## 1.1. Input series Arima\n",
    "\n",
    "The model must be valid and return residuals that behave like a white noise."
   ]
  },
  {
   "cell_type": "code",
   "execution_count": 581,
   "metadata": {},
   "outputs": [
    {
     "data": {
      "text/plain": [
       "Series: unemployment_1998_2017 \n",
       "ARIMA(1,1,1)(0,1,1)[12] \n",
       "Box Cox transformation: lambda= 0 \n",
       "\n",
       "Coefficients:\n",
       "         ar1      ma1     sma1\n",
       "      0.9447  -0.6481  -0.6937\n",
       "s.e.  0.0271   0.0561   0.0720\n",
       "\n",
       "sigma^2 estimated as 0.0001127:  log likelihood=720.88\n",
       "AIC=-1433.76   AICc=-1433.58   BIC=-1420.06"
      ]
     },
     "metadata": {},
     "output_type": "display_data"
    }
   ],
   "source": [
    "#We can take the model that we have calculated in the Unemployment series section\n",
    "unemployment_series_best_arima"
   ]
  },
  {
   "cell_type": "code",
   "execution_count": 582,
   "metadata": {},
   "outputs": [
    {
     "data": {
      "text/html": [
       "<table>\n",
       "<thead><tr><th></th><th scope=col>m</th><th scope=col>Qm</th><th scope=col>pvalue</th></tr></thead>\n",
       "<tbody>\n",
       "\t<tr><th scope=row></th><td> 1       </td><td> 0.07    </td><td>0.7938140</td></tr>\n",
       "\t<tr><th scope=row></th><td> 2       </td><td> 0.22    </td><td>0.8949671</td></tr>\n",
       "\t<tr><th scope=row></th><td> 3       </td><td> 0.74    </td><td>0.8645344</td></tr>\n",
       "\t<tr><th scope=row></th><td> 4       </td><td> 1.26    </td><td>0.8674812</td></tr>\n",
       "\t<tr><th scope=row></th><td> 5       </td><td> 2.65    </td><td>0.7540503</td></tr>\n",
       "\t<tr><th scope=row></th><td> 6       </td><td> 7.96    </td><td>0.2407405</td></tr>\n",
       "\t<tr><th scope=row></th><td> 7       </td><td>10.35    </td><td>0.1693534</td></tr>\n",
       "\t<tr><th scope=row></th><td> 8       </td><td>10.96    </td><td>0.2038301</td></tr>\n",
       "\t<tr><th scope=row></th><td> 9       </td><td>10.96    </td><td>0.2782812</td></tr>\n",
       "\t<tr><th scope=row></th><td>10       </td><td>12.50    </td><td>0.2531187</td></tr>\n",
       "\t<tr><th scope=row></th><td>11       </td><td>14.95    </td><td>0.1845805</td></tr>\n",
       "\t<tr><th scope=row></th><td>12       </td><td>14.99    </td><td>0.2422279</td></tr>\n",
       "\t<tr><th scope=row></th><td>13       </td><td>15.36    </td><td>0.2854739</td></tr>\n",
       "\t<tr><th scope=row></th><td>14       </td><td>15.77    </td><td>0.3278172</td></tr>\n",
       "\t<tr><th scope=row></th><td>15       </td><td>16.51    </td><td>0.3492411</td></tr>\n",
       "\t<tr><th scope=row></th><td>16       </td><td>16.66    </td><td>0.4081356</td></tr>\n",
       "\t<tr><th scope=row></th><td>17       </td><td>16.94    </td><td>0.4584271</td></tr>\n",
       "\t<tr><th scope=row></th><td>18       </td><td>18.87    </td><td>0.3998576</td></tr>\n",
       "\t<tr><th scope=row></th><td>19       </td><td>18.87    </td><td>0.4651837</td></tr>\n",
       "\t<tr><th scope=row></th><td>20       </td><td>19.20    </td><td>0.5085900</td></tr>\n",
       "\t<tr><th scope=row></th><td>21       </td><td>20.00    </td><td>0.5210325</td></tr>\n",
       "\t<tr><th scope=row></th><td>22       </td><td>20.25    </td><td>0.5671811</td></tr>\n",
       "\t<tr><th scope=row></th><td>23       </td><td>20.35    </td><td>0.6207927</td></tr>\n",
       "\t<tr><th scope=row></th><td>24       </td><td>20.68    </td><td>0.6576057</td></tr>\n",
       "\t<tr><th scope=row></th><td>25       </td><td>21.10    </td><td>0.6872108</td></tr>\n",
       "\t<tr><th scope=row></th><td>26       </td><td>21.74    </td><td>0.7027069</td></tr>\n",
       "\t<tr><th scope=row></th><td>27       </td><td>21.75    </td><td>0.7502192</td></tr>\n",
       "\t<tr><th scope=row></th><td>28       </td><td>21.95    </td><td>0.7836175</td></tr>\n",
       "\t<tr><th scope=row></th><td>29       </td><td>21.96    </td><td>0.8219078</td></tr>\n",
       "\t<tr><th scope=row></th><td>30       </td><td>25.68    </td><td>0.6913690</td></tr>\n",
       "</tbody>\n",
       "</table>\n"
      ],
      "text/latex": [
       "\\begin{tabular}{r|lll}\n",
       "  & m & Qm & pvalue\\\\\n",
       "\\hline\n",
       "\t &  1        &  0.07     & 0.7938140\\\\\n",
       "\t &  2        &  0.22     & 0.8949671\\\\\n",
       "\t &  3        &  0.74     & 0.8645344\\\\\n",
       "\t &  4        &  1.26     & 0.8674812\\\\\n",
       "\t &  5        &  2.65     & 0.7540503\\\\\n",
       "\t &  6        &  7.96     & 0.2407405\\\\\n",
       "\t &  7        & 10.35     & 0.1693534\\\\\n",
       "\t &  8        & 10.96     & 0.2038301\\\\\n",
       "\t &  9        & 10.96     & 0.2782812\\\\\n",
       "\t & 10        & 12.50     & 0.2531187\\\\\n",
       "\t & 11        & 14.95     & 0.1845805\\\\\n",
       "\t & 12        & 14.99     & 0.2422279\\\\\n",
       "\t & 13        & 15.36     & 0.2854739\\\\\n",
       "\t & 14        & 15.77     & 0.3278172\\\\\n",
       "\t & 15        & 16.51     & 0.3492411\\\\\n",
       "\t & 16        & 16.66     & 0.4081356\\\\\n",
       "\t & 17        & 16.94     & 0.4584271\\\\\n",
       "\t & 18        & 18.87     & 0.3998576\\\\\n",
       "\t & 19        & 18.87     & 0.4651837\\\\\n",
       "\t & 20        & 19.20     & 0.5085900\\\\\n",
       "\t & 21        & 20.00     & 0.5210325\\\\\n",
       "\t & 22        & 20.25     & 0.5671811\\\\\n",
       "\t & 23        & 20.35     & 0.6207927\\\\\n",
       "\t & 24        & 20.68     & 0.6576057\\\\\n",
       "\t & 25        & 21.10     & 0.6872108\\\\\n",
       "\t & 26        & 21.74     & 0.7027069\\\\\n",
       "\t & 27        & 21.75     & 0.7502192\\\\\n",
       "\t & 28        & 21.95     & 0.7836175\\\\\n",
       "\t & 29        & 21.96     & 0.8219078\\\\\n",
       "\t & 30        & 25.68     & 0.6913690\\\\\n",
       "\\end{tabular}\n"
      ],
      "text/markdown": [
       "\n",
       "| <!--/--> | m | Qm | pvalue | \n",
       "|---|---|---|---|---|---|---|---|---|---|---|---|---|---|---|---|---|---|---|---|---|---|---|---|---|---|---|---|---|---|\n",
       "|  |  1        |  0.07     | 0.7938140 | \n",
       "|  |  2        |  0.22     | 0.8949671 | \n",
       "|  |  3        |  0.74     | 0.8645344 | \n",
       "|  |  4        |  1.26     | 0.8674812 | \n",
       "|  |  5        |  2.65     | 0.7540503 | \n",
       "|  |  6        |  7.96     | 0.2407405 | \n",
       "|  |  7        | 10.35     | 0.1693534 | \n",
       "|  |  8        | 10.96     | 0.2038301 | \n",
       "|  |  9        | 10.96     | 0.2782812 | \n",
       "|  | 10        | 12.50     | 0.2531187 | \n",
       "|  | 11        | 14.95     | 0.1845805 | \n",
       "|  | 12        | 14.99     | 0.2422279 | \n",
       "|  | 13        | 15.36     | 0.2854739 | \n",
       "|  | 14        | 15.77     | 0.3278172 | \n",
       "|  | 15        | 16.51     | 0.3492411 | \n",
       "|  | 16        | 16.66     | 0.4081356 | \n",
       "|  | 17        | 16.94     | 0.4584271 | \n",
       "|  | 18        | 18.87     | 0.3998576 | \n",
       "|  | 19        | 18.87     | 0.4651837 | \n",
       "|  | 20        | 19.20     | 0.5085900 | \n",
       "|  | 21        | 20.00     | 0.5210325 | \n",
       "|  | 22        | 20.25     | 0.5671811 | \n",
       "|  | 23        | 20.35     | 0.6207927 | \n",
       "|  | 24        | 20.68     | 0.6576057 | \n",
       "|  | 25        | 21.10     | 0.6872108 | \n",
       "|  | 26        | 21.74     | 0.7027069 | \n",
       "|  | 27        | 21.75     | 0.7502192 | \n",
       "|  | 28        | 21.95     | 0.7836175 | \n",
       "|  | 29        | 21.96     | 0.8219078 | \n",
       "|  | 30        | 25.68     | 0.6913690 | \n",
       "\n",
       "\n"
      ],
      "text/plain": [
       " m  Qm    pvalue   \n",
       "  1  0.07 0.7938140\n",
       "  2  0.22 0.8949671\n",
       "  3  0.74 0.8645344\n",
       "  4  1.26 0.8674812\n",
       "  5  2.65 0.7540503\n",
       "  6  7.96 0.2407405\n",
       "  7 10.35 0.1693534\n",
       "  8 10.96 0.2038301\n",
       "  9 10.96 0.2782812\n",
       " 10 12.50 0.2531187\n",
       " 11 14.95 0.1845805\n",
       " 12 14.99 0.2422279\n",
       " 13 15.36 0.2854739\n",
       " 14 15.77 0.3278172\n",
       " 15 16.51 0.3492411\n",
       " 16 16.66 0.4081356\n",
       " 17 16.94 0.4584271\n",
       " 18 18.87 0.3998576\n",
       " 19 18.87 0.4651837\n",
       " 20 19.20 0.5085900\n",
       " 21 20.00 0.5210325\n",
       " 22 20.25 0.5671811\n",
       " 23 20.35 0.6207927\n",
       " 24 20.68 0.6576057\n",
       " 25 21.10 0.6872108\n",
       " 26 21.74 0.7027069\n",
       " 27 21.75 0.7502192\n",
       " 28 21.95 0.7836175\n",
       " 29 21.96 0.8219078\n",
       " 30 25.68 0.6913690"
      ]
     },
     "metadata": {},
     "output_type": "display_data"
    }
   ],
   "source": [
    "#As we saw before, the residuals of this model pass the Lunj Box test and don't have autocorrelation between them\n",
    "LjungBoxTest(unemployment_series_best_arima_residuals)"
   ]
  },
  {
   "cell_type": "markdown",
   "metadata": {},
   "source": [
    "## 1.2. Filtering the output series\n",
    "Pre-whiten the output series by applying the model of the input series to the output series. The same parameters must serve to make both models valid.\n",
    "\n"
   ]
  },
  {
   "cell_type": "code",
   "execution_count": 583,
   "metadata": {},
   "outputs": [],
   "source": [
    "#Applying the model\n",
    "prewhitening_filtered_suicide_series <-  arima(suicide_1998_2017,\n",
    "                                               order = c(1,1,1), \n",
    "                                               seasonal = list(order = c(0,1,1), period = 12))"
   ]
  },
  {
   "cell_type": "code",
   "execution_count": 584,
   "metadata": {},
   "outputs": [
    {
     "data": {
      "text/html": [
       "<table>\n",
       "<thead><tr><th></th><th scope=col>m</th><th scope=col>Qm</th><th scope=col>pvalue</th></tr></thead>\n",
       "<tbody>\n",
       "\t<tr><th scope=row></th><td> 1       </td><td> 0.01    </td><td>0.9160149</td></tr>\n",
       "\t<tr><th scope=row></th><td> 2       </td><td> 0.02    </td><td>0.9917069</td></tr>\n",
       "\t<tr><th scope=row></th><td> 3       </td><td> 0.90    </td><td>0.8248046</td></tr>\n",
       "\t<tr><th scope=row></th><td> 4       </td><td> 1.30    </td><td>0.8607666</td></tr>\n",
       "\t<tr><th scope=row></th><td> 5       </td><td> 3.55    </td><td>0.6159338</td></tr>\n",
       "\t<tr><th scope=row></th><td> 6       </td><td> 4.04    </td><td>0.6709002</td></tr>\n",
       "\t<tr><th scope=row></th><td> 7       </td><td> 5.17    </td><td>0.6394281</td></tr>\n",
       "\t<tr><th scope=row></th><td> 8       </td><td> 6.97    </td><td>0.5401642</td></tr>\n",
       "\t<tr><th scope=row></th><td> 9       </td><td>10.70    </td><td>0.2969654</td></tr>\n",
       "\t<tr><th scope=row></th><td>10       </td><td>11.12    </td><td>0.3478845</td></tr>\n",
       "\t<tr><th scope=row></th><td>11       </td><td>13.23    </td><td>0.2784821</td></tr>\n",
       "\t<tr><th scope=row></th><td>12       </td><td>13.23    </td><td>0.3523707</td></tr>\n",
       "\t<tr><th scope=row></th><td>13       </td><td>14.21    </td><td>0.3591131</td></tr>\n",
       "\t<tr><th scope=row></th><td>14       </td><td>14.46    </td><td>0.4163632</td></tr>\n",
       "\t<tr><th scope=row></th><td>15       </td><td>14.85    </td><td>0.4624771</td></tr>\n",
       "\t<tr><th scope=row></th><td>16       </td><td>14.99    </td><td>0.5252413</td></tr>\n",
       "\t<tr><th scope=row></th><td>17       </td><td>15.79    </td><td>0.5384422</td></tr>\n",
       "\t<tr><th scope=row></th><td>18       </td><td>16.26    </td><td>0.5747194</td></tr>\n",
       "\t<tr><th scope=row></th><td>19       </td><td>16.65    </td><td>0.6135351</td></tr>\n",
       "\t<tr><th scope=row></th><td>20       </td><td>21.27    </td><td>0.3815328</td></tr>\n",
       "\t<tr><th scope=row></th><td>21       </td><td>21.29    </td><td>0.4413586</td></tr>\n",
       "\t<tr><th scope=row></th><td>22       </td><td>24.75    </td><td>0.3089594</td></tr>\n",
       "\t<tr><th scope=row></th><td>23       </td><td>27.86    </td><td>0.2212287</td></tr>\n",
       "\t<tr><th scope=row></th><td>24       </td><td>27.89    </td><td>0.2645228</td></tr>\n",
       "\t<tr><th scope=row></th><td>25       </td><td>27.91    </td><td>0.3121522</td></tr>\n",
       "\t<tr><th scope=row></th><td>26       </td><td>29.27    </td><td>0.2988830</td></tr>\n",
       "\t<tr><th scope=row></th><td>27       </td><td>33.65    </td><td>0.1763203</td></tr>\n",
       "\t<tr><th scope=row></th><td>28       </td><td>36.15    </td><td>0.1387395</td></tr>\n",
       "\t<tr><th scope=row></th><td>29       </td><td>37.49    </td><td>0.1341584</td></tr>\n",
       "\t<tr><th scope=row></th><td>30       </td><td>37.92    </td><td>0.1518857</td></tr>\n",
       "</tbody>\n",
       "</table>\n"
      ],
      "text/latex": [
       "\\begin{tabular}{r|lll}\n",
       "  & m & Qm & pvalue\\\\\n",
       "\\hline\n",
       "\t &  1        &  0.01     & 0.9160149\\\\\n",
       "\t &  2        &  0.02     & 0.9917069\\\\\n",
       "\t &  3        &  0.90     & 0.8248046\\\\\n",
       "\t &  4        &  1.30     & 0.8607666\\\\\n",
       "\t &  5        &  3.55     & 0.6159338\\\\\n",
       "\t &  6        &  4.04     & 0.6709002\\\\\n",
       "\t &  7        &  5.17     & 0.6394281\\\\\n",
       "\t &  8        &  6.97     & 0.5401642\\\\\n",
       "\t &  9        & 10.70     & 0.2969654\\\\\n",
       "\t & 10        & 11.12     & 0.3478845\\\\\n",
       "\t & 11        & 13.23     & 0.2784821\\\\\n",
       "\t & 12        & 13.23     & 0.3523707\\\\\n",
       "\t & 13        & 14.21     & 0.3591131\\\\\n",
       "\t & 14        & 14.46     & 0.4163632\\\\\n",
       "\t & 15        & 14.85     & 0.4624771\\\\\n",
       "\t & 16        & 14.99     & 0.5252413\\\\\n",
       "\t & 17        & 15.79     & 0.5384422\\\\\n",
       "\t & 18        & 16.26     & 0.5747194\\\\\n",
       "\t & 19        & 16.65     & 0.6135351\\\\\n",
       "\t & 20        & 21.27     & 0.3815328\\\\\n",
       "\t & 21        & 21.29     & 0.4413586\\\\\n",
       "\t & 22        & 24.75     & 0.3089594\\\\\n",
       "\t & 23        & 27.86     & 0.2212287\\\\\n",
       "\t & 24        & 27.89     & 0.2645228\\\\\n",
       "\t & 25        & 27.91     & 0.3121522\\\\\n",
       "\t & 26        & 29.27     & 0.2988830\\\\\n",
       "\t & 27        & 33.65     & 0.1763203\\\\\n",
       "\t & 28        & 36.15     & 0.1387395\\\\\n",
       "\t & 29        & 37.49     & 0.1341584\\\\\n",
       "\t & 30        & 37.92     & 0.1518857\\\\\n",
       "\\end{tabular}\n"
      ],
      "text/markdown": [
       "\n",
       "| <!--/--> | m | Qm | pvalue | \n",
       "|---|---|---|---|---|---|---|---|---|---|---|---|---|---|---|---|---|---|---|---|---|---|---|---|---|---|---|---|---|---|\n",
       "|  |  1        |  0.01     | 0.9160149 | \n",
       "|  |  2        |  0.02     | 0.9917069 | \n",
       "|  |  3        |  0.90     | 0.8248046 | \n",
       "|  |  4        |  1.30     | 0.8607666 | \n",
       "|  |  5        |  3.55     | 0.6159338 | \n",
       "|  |  6        |  4.04     | 0.6709002 | \n",
       "|  |  7        |  5.17     | 0.6394281 | \n",
       "|  |  8        |  6.97     | 0.5401642 | \n",
       "|  |  9        | 10.70     | 0.2969654 | \n",
       "|  | 10        | 11.12     | 0.3478845 | \n",
       "|  | 11        | 13.23     | 0.2784821 | \n",
       "|  | 12        | 13.23     | 0.3523707 | \n",
       "|  | 13        | 14.21     | 0.3591131 | \n",
       "|  | 14        | 14.46     | 0.4163632 | \n",
       "|  | 15        | 14.85     | 0.4624771 | \n",
       "|  | 16        | 14.99     | 0.5252413 | \n",
       "|  | 17        | 15.79     | 0.5384422 | \n",
       "|  | 18        | 16.26     | 0.5747194 | \n",
       "|  | 19        | 16.65     | 0.6135351 | \n",
       "|  | 20        | 21.27     | 0.3815328 | \n",
       "|  | 21        | 21.29     | 0.4413586 | \n",
       "|  | 22        | 24.75     | 0.3089594 | \n",
       "|  | 23        | 27.86     | 0.2212287 | \n",
       "|  | 24        | 27.89     | 0.2645228 | \n",
       "|  | 25        | 27.91     | 0.3121522 | \n",
       "|  | 26        | 29.27     | 0.2988830 | \n",
       "|  | 27        | 33.65     | 0.1763203 | \n",
       "|  | 28        | 36.15     | 0.1387395 | \n",
       "|  | 29        | 37.49     | 0.1341584 | \n",
       "|  | 30        | 37.92     | 0.1518857 | \n",
       "\n",
       "\n"
      ],
      "text/plain": [
       " m  Qm    pvalue   \n",
       "  1  0.01 0.9160149\n",
       "  2  0.02 0.9917069\n",
       "  3  0.90 0.8248046\n",
       "  4  1.30 0.8607666\n",
       "  5  3.55 0.6159338\n",
       "  6  4.04 0.6709002\n",
       "  7  5.17 0.6394281\n",
       "  8  6.97 0.5401642\n",
       "  9 10.70 0.2969654\n",
       " 10 11.12 0.3478845\n",
       " 11 13.23 0.2784821\n",
       " 12 13.23 0.3523707\n",
       " 13 14.21 0.3591131\n",
       " 14 14.46 0.4163632\n",
       " 15 14.85 0.4624771\n",
       " 16 14.99 0.5252413\n",
       " 17 15.79 0.5384422\n",
       " 18 16.26 0.5747194\n",
       " 19 16.65 0.6135351\n",
       " 20 21.27 0.3815328\n",
       " 21 21.29 0.4413586\n",
       " 22 24.75 0.3089594\n",
       " 23 27.86 0.2212287\n",
       " 24 27.89 0.2645228\n",
       " 25 27.91 0.3121522\n",
       " 26 29.27 0.2988830\n",
       " 27 33.65 0.1763203\n",
       " 28 36.15 0.1387395\n",
       " 29 37.49 0.1341584\n",
       " 30 37.92 0.1518857"
      ]
     },
     "metadata": {},
     "output_type": "display_data"
    }
   ],
   "source": [
    "#Checking the residuals\n",
    "prewhitening_filtered_suicide_series_residuals <- residuals(prewhitening_filtered_suicide_series)\n",
    "LjungBoxTest(prewhitening_filtered_suicide_series_residuals)"
   ]
  },
  {
   "cell_type": "code",
   "execution_count": 585,
   "metadata": {},
   "outputs": [
    {
     "data": {
      "image/png": "[encoded data removed]",
      "text/plain": [
       "Plot with title \"Normal Q-Q Plot\""
      ]
     },
     "metadata": {},
     "output_type": "display_data"
    },
    {
     "data": {
      "image/png": "[encoded data removed]",
      "text/plain": [
       "Plot with title \"Histogram of residuals\""
      ]
     },
     "metadata": {},
     "output_type": "display_data"
    }
   ],
   "source": [
    "#Normal Q-Q plot\n",
    "qqnorm(prewhitening_filtered_suicide_series_residuals)\n",
    "qqline(prewhitening_filtered_suicide_series_residuals)\n",
    "\n",
    "#Histogram\n",
    "hist(prewhitening_filtered_suicide_series_residuals, prob = T, col=\"6\", main = 'Histogram of residuals', xlab = 'Residuals')\n",
    "lines(density (na.omit(prewhitening_filtered_suicide_series_residuals)), col=\"4\")"
   ]
  },
  {
   "cell_type": "markdown",
   "metadata": {},
   "source": [
    "They behave like white noise, we can go ahead and calculate the cross correlaion function."
   ]
  },
  {
   "cell_type": "markdown",
   "metadata": {},
   "source": [
    "## 1.3. Cross Correlation function\n",
    "Calculate the cross-correlation function between the residuals of both models and diagnose the transfer."
   ]
  },
  {
   "cell_type": "code",
   "execution_count": 586,
   "metadata": {},
   "outputs": [
    {
     "data": {
      "image/png": "[encoded data removed]",
      "text/plain": [
       "Plot with title \" Cross Correlation\""
      ]
     },
     "metadata": {},
     "output_type": "display_data"
    }
   ],
   "source": [
    "cross_correlation_after_prewhitening  <- ccf(unemployment_series_best_arima_residuals,\n",
    "                                             prewhitening_filtered_suicide_series_residuals,\n",
    "                                             lag = 12, xlab = 'k', ylab = '', main = ' Cross Correlation' )"
   ]
  },
  {
   "cell_type": "code",
   "execution_count": 587,
   "metadata": {},
   "outputs": [
    {
     "data": {
      "text/plain": [
       "\n",
       "Autocorrelations of series 'X', by lag\n",
       "\n",
       "-1.0000 -0.9167 -0.8333 -0.7500 -0.6667 -0.5833 -0.5000 -0.4167 -0.3333 -0.2500 \n",
       "  0.010  -0.018   0.084   0.023   0.108  -0.025  -0.072   0.009  -0.125  -0.028 \n",
       "-0.1667 -0.0833  0.0000  0.0833  0.1667  0.2500  0.3333  0.4167  0.5000  0.5833 \n",
       "  0.170  -0.052   0.039   0.041   0.026   0.076   0.020  -0.055   0.058  -0.055 \n",
       " 0.6667  0.7500  0.8333  0.9167  1.0000 \n",
       " -0.115   0.072   0.085  -0.015  -0.084 "
      ]
     },
     "metadata": {},
     "output_type": "display_data"
    }
   ],
   "source": [
    "cross_correlation_after_prewhitening"
   ]
  },
  {
   "cell_type": "markdown",
   "metadata": {},
   "source": [
    "#### *Diagnosis*\n",
    "\n",
    "The cross correlation function measures not only the strength of the relationship, but also its direction. This last property is useful to identify causal variables. \n",
    "\n",
    "For this reason, it is important to examine the cross correlation function for both the positive values of k and for the negatives. For negative values of k, the cross correlation function describes the linear influence of the past values of Y(time) over X(time). For positive values of k, the cross correlation function indicates the linear influence of the past values of xt on yt.\n",
    "\n",
    "Surprise!\n",
    "In our case the cross correlation function shows a significant correlation in a negative value of k, so it could be said that there is an impact from one series to another but in the opposite direction to what we thought. Suicide 'would explain', in some aspect, unemployment in Spain.\n",
    "\n",
    "A priori this does not make much sense, but it does lead us to other conclusions that bring us closer to understanding the phenomenon of suicide in Spain."
   ]
  }
 ],
 "metadata": {
  "kernelspec": {
   "display_name": "R",
   "language": "R",
   "name": "ir"
  },
  "language_info": {
   "codemirror_mode": "r",
   "file_extension": ".r",
   "mimetype": "text/x-r-source",
   "name": "R",
   "pygments_lexer": "r",
   "version": "3.5.1"
  }
 },
 "nbformat": 4,
 "nbformat_minor": 2
}
